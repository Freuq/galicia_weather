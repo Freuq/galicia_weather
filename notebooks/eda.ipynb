{
 "cells": [
  {
   "cell_type": "code",
   "execution_count": 1,
   "metadata": {},
   "outputs": [],
   "source": [
    "import numpy as np\n",
    "import pandas as pd\n",
    "import os\n",
    "import plotly.express as px\n",
    "import plotly.graph_objects as go\n",
    "import json"
   ]
  },
  {
   "cell_type": "code",
   "execution_count": 2,
   "metadata": {},
   "outputs": [
    {
     "name": "stdout",
     "output_type": "stream",
     "text": [
      "c:\\projects\\galizia_weather\n"
     ]
    }
   ],
   "source": [
    "# project directory\n",
    "current_directory = os.getcwd()\n",
    "folder = current_directory.split(\"\\\\\")[-1]\n",
    "if folder != 'galizia_weather':\n",
    "    os.chdir('..')\n",
    "    print(os.getcwd()) \n",
    "else:\n",
    "    print(os.getcwd())\n"
   ]
  },
  {
   "cell_type": "code",
   "execution_count": 3,
   "metadata": {},
   "outputs": [
    {
     "name": "stdout",
     "output_type": "stream",
     "text": [
      "(273, 5)\n"
     ]
    },
    {
     "data": {
      "text/html": [
       "<div>\n",
       "<style scoped>\n",
       "    .dataframe tbody tr th:only-of-type {\n",
       "        vertical-align: middle;\n",
       "    }\n",
       "\n",
       "    .dataframe tbody tr th {\n",
       "        vertical-align: top;\n",
       "    }\n",
       "\n",
       "    .dataframe thead th {\n",
       "        text-align: right;\n",
       "    }\n",
       "</style>\n",
       "<table border=\"1\" class=\"dataframe\">\n",
       "  <thead>\n",
       "    <tr style=\"text-align: right;\">\n",
       "      <th></th>\n",
       "      <th>Fecha</th>\n",
       "      <th>Variable</th>\n",
       "      <th>Valor</th>\n",
       "      <th>Código validación</th>\n",
       "      <th>Unidad</th>\n",
       "    </tr>\n",
       "  </thead>\n",
       "  <tbody>\n",
       "    <tr>\n",
       "      <th>0</th>\n",
       "      <td>01/01/2025</td>\n",
       "      <td>Lluvia</td>\n",
       "      <td>0.00</td>\n",
       "      <td>1</td>\n",
       "      <td>L/m2</td>\n",
       "    </tr>\n",
       "    <tr>\n",
       "      <th>1</th>\n",
       "      <td>01/01/2025</td>\n",
       "      <td>Humedad relativa media a 1.5m</td>\n",
       "      <td>73.00</td>\n",
       "      <td>1</td>\n",
       "      <td>%</td>\n",
       "    </tr>\n",
       "    <tr>\n",
       "      <th>2</th>\n",
       "      <td>01/01/2025</td>\n",
       "      <td>Temperatura media  atura a 1.5m</td>\n",
       "      <td>6.43</td>\n",
       "      <td>1</td>\n",
       "      <td>ºC</td>\n",
       "    </tr>\n",
       "    <tr>\n",
       "      <th>3</th>\n",
       "      <td>02/01/2025</td>\n",
       "      <td>Lluvia</td>\n",
       "      <td>0.00</td>\n",
       "      <td>1</td>\n",
       "      <td>L/m2</td>\n",
       "    </tr>\n",
       "    <tr>\n",
       "      <th>4</th>\n",
       "      <td>02/01/2025</td>\n",
       "      <td>Humedad relativa media a 1.5m</td>\n",
       "      <td>75.00</td>\n",
       "      <td>1</td>\n",
       "      <td>%</td>\n",
       "    </tr>\n",
       "  </tbody>\n",
       "</table>\n",
       "</div>"
      ],
      "text/plain": [
       "        Fecha                         Variable  Valor  Código validación  \\\n",
       "0  01/01/2025                           Lluvia   0.00                  1   \n",
       "1  01/01/2025    Humedad relativa media a 1.5m  73.00                  1   \n",
       "2  01/01/2025  Temperatura media  atura a 1.5m   6.43                  1   \n",
       "3  02/01/2025                           Lluvia   0.00                  1   \n",
       "4  02/01/2025    Humedad relativa media a 1.5m  75.00                  1   \n",
       "\n",
       "  Unidad  \n",
       "0   L/m2  \n",
       "1      %  \n",
       "2     ºC  \n",
       "3   L/m2  \n",
       "4      %  "
      ]
     },
     "execution_count": 3,
     "metadata": {},
     "output_type": "execute_result"
    }
   ],
   "source": [
    "path = \"data/raw/Santiago-EOAS_diaria_01-01-2025_to_01-04-2025.csv\"\n",
    "df = pd.read_csv(path, delimiter=\";\", skiprows=2)\n",
    "print(df.shape)\n",
    "df.head()"
   ]
  },
  {
   "cell_type": "code",
   "execution_count": 13,
   "metadata": {},
   "outputs": [
    {
     "name": "stdout",
     "output_type": "stream",
     "text": [
      "<class 'pandas.core.frame.DataFrame'>\n",
      "RangeIndex: 273 entries, 0 to 272\n",
      "Data columns (total 5 columns):\n",
      " #   Column             Non-Null Count  Dtype  \n",
      "---  ------             --------------  -----  \n",
      " 0   Fecha              273 non-null    object \n",
      " 1   Variable           273 non-null    object \n",
      " 2   Valor              273 non-null    float64\n",
      " 3   Código validación  273 non-null    int64  \n",
      " 4   Unidad             273 non-null    object \n",
      "dtypes: float64(1), int64(1), object(3)\n",
      "memory usage: 10.8+ KB\n"
     ]
    }
   ],
   "source": [
    "df.info()"
   ]
  },
  {
   "cell_type": "code",
   "execution_count": 26,
   "metadata": {},
   "outputs": [],
   "source": [
    "df[\"Fecha\"] = pd.to_datetime(df[\"Fecha\"], dayfirst=True)\n",
    "df[\"Valor\"] = pd.to_numeric(df[\"Valor\"], errors=\"coerce\")"
   ]
  },
  {
   "cell_type": "code",
   "execution_count": 27,
   "metadata": {},
   "outputs": [],
   "source": [
    "df_pivot = df.pivot_table(\n",
    "    index=\"Fecha\",\n",
    "    columns=\"Variable\",\n",
    "    values=\"Valor\",\n",
    "    aggfunc=\"first\"\n",
    ")"
   ]
  },
  {
   "cell_type": "code",
   "execution_count": 28,
   "metadata": {},
   "outputs": [
    {
     "data": {
      "text/html": [
       "<div>\n",
       "<style scoped>\n",
       "    .dataframe tbody tr th:only-of-type {\n",
       "        vertical-align: middle;\n",
       "    }\n",
       "\n",
       "    .dataframe tbody tr th {\n",
       "        vertical-align: top;\n",
       "    }\n",
       "\n",
       "    .dataframe thead th {\n",
       "        text-align: right;\n",
       "    }\n",
       "</style>\n",
       "<table border=\"1\" class=\"dataframe\">\n",
       "  <thead>\n",
       "    <tr style=\"text-align: right;\">\n",
       "      <th>Variable</th>\n",
       "      <th>Humedad relativa media a 1.5m</th>\n",
       "      <th>Lluvia</th>\n",
       "      <th>Temperatura media  atura a 1.5m</th>\n",
       "    </tr>\n",
       "    <tr>\n",
       "      <th>Fecha</th>\n",
       "      <th></th>\n",
       "      <th></th>\n",
       "      <th></th>\n",
       "    </tr>\n",
       "  </thead>\n",
       "  <tbody>\n",
       "    <tr>\n",
       "      <th>2025-01-01</th>\n",
       "      <td>73.0</td>\n",
       "      <td>0.0</td>\n",
       "      <td>6.43</td>\n",
       "    </tr>\n",
       "    <tr>\n",
       "      <th>2025-01-02</th>\n",
       "      <td>75.0</td>\n",
       "      <td>0.0</td>\n",
       "      <td>11.06</td>\n",
       "    </tr>\n",
       "    <tr>\n",
       "      <th>2025-01-03</th>\n",
       "      <td>95.0</td>\n",
       "      <td>27.3</td>\n",
       "      <td>12.00</td>\n",
       "    </tr>\n",
       "    <tr>\n",
       "      <th>2025-01-04</th>\n",
       "      <td>85.0</td>\n",
       "      <td>12.8</td>\n",
       "      <td>12.71</td>\n",
       "    </tr>\n",
       "    <tr>\n",
       "      <th>2025-01-05</th>\n",
       "      <td>92.0</td>\n",
       "      <td>46.8</td>\n",
       "      <td>12.69</td>\n",
       "    </tr>\n",
       "    <tr>\n",
       "      <th>...</th>\n",
       "      <td>...</td>\n",
       "      <td>...</td>\n",
       "      <td>...</td>\n",
       "    </tr>\n",
       "    <tr>\n",
       "      <th>2025-03-28</th>\n",
       "      <td>78.0</td>\n",
       "      <td>0.0</td>\n",
       "      <td>10.72</td>\n",
       "    </tr>\n",
       "    <tr>\n",
       "      <th>2025-03-29</th>\n",
       "      <td>73.0</td>\n",
       "      <td>0.0</td>\n",
       "      <td>11.74</td>\n",
       "    </tr>\n",
       "    <tr>\n",
       "      <th>2025-03-30</th>\n",
       "      <td>58.0</td>\n",
       "      <td>0.0</td>\n",
       "      <td>14.04</td>\n",
       "    </tr>\n",
       "    <tr>\n",
       "      <th>2025-03-31</th>\n",
       "      <td>53.0</td>\n",
       "      <td>0.0</td>\n",
       "      <td>17.21</td>\n",
       "    </tr>\n",
       "    <tr>\n",
       "      <th>2025-04-01</th>\n",
       "      <td>71.0</td>\n",
       "      <td>0.0</td>\n",
       "      <td>14.28</td>\n",
       "    </tr>\n",
       "  </tbody>\n",
       "</table>\n",
       "<p>91 rows × 3 columns</p>\n",
       "</div>"
      ],
      "text/plain": [
       "Variable    Humedad relativa media a 1.5m  Lluvia  \\\n",
       "Fecha                                               \n",
       "2025-01-01                           73.0     0.0   \n",
       "2025-01-02                           75.0     0.0   \n",
       "2025-01-03                           95.0    27.3   \n",
       "2025-01-04                           85.0    12.8   \n",
       "2025-01-05                           92.0    46.8   \n",
       "...                                   ...     ...   \n",
       "2025-03-28                           78.0     0.0   \n",
       "2025-03-29                           73.0     0.0   \n",
       "2025-03-30                           58.0     0.0   \n",
       "2025-03-31                           53.0     0.0   \n",
       "2025-04-01                           71.0     0.0   \n",
       "\n",
       "Variable    Temperatura media  atura a 1.5m  \n",
       "Fecha                                        \n",
       "2025-01-01                             6.43  \n",
       "2025-01-02                            11.06  \n",
       "2025-01-03                            12.00  \n",
       "2025-01-04                            12.71  \n",
       "2025-01-05                            12.69  \n",
       "...                                     ...  \n",
       "2025-03-28                            10.72  \n",
       "2025-03-29                            11.74  \n",
       "2025-03-30                            14.04  \n",
       "2025-03-31                            17.21  \n",
       "2025-04-01                            14.28  \n",
       "\n",
       "[91 rows x 3 columns]"
      ]
     },
     "execution_count": 28,
     "metadata": {},
     "output_type": "execute_result"
    }
   ],
   "source": [
    "df_pivot"
   ]
  },
  {
   "cell_type": "code",
   "execution_count": 29,
   "metadata": {},
   "outputs": [],
   "source": [
    "df_pivot.columns = [col.strip().split(\" \")[0].lower() for col in df_pivot.columns]\n",
    "df_pivot = df_pivot.rename(columns={\n",
    "    \"temperatura\": \"temperatura\",\n",
    "    \"humedad\": \"humedad\",\n",
    "    \"lluvia\": \"precipitacion\"\n",
    "})\n",
    "df_pivot = df_pivot.reset_index()\n",
    "df_pivot = df_pivot.rename(columns={\"Fecha\":\"fecha\"})"
   ]
  },
  {
   "cell_type": "code",
   "execution_count": 30,
   "metadata": {},
   "outputs": [
    {
     "name": "stdout",
     "output_type": "stream",
     "text": [
      "<class 'pandas.core.frame.DataFrame'>\n",
      "RangeIndex: 273 entries, 0 to 272\n",
      "Data columns (total 5 columns):\n",
      " #   Column             Non-Null Count  Dtype         \n",
      "---  ------             --------------  -----         \n",
      " 0   Fecha              273 non-null    datetime64[ns]\n",
      " 1   Variable           273 non-null    object        \n",
      " 2   Valor              273 non-null    float64       \n",
      " 3   Código validación  273 non-null    int64         \n",
      " 4   Unidad             273 non-null    object        \n",
      "dtypes: datetime64[ns](1), float64(1), int64(1), object(2)\n",
      "memory usage: 10.8+ KB\n",
      "None\n"
     ]
    },
    {
     "data": {
      "text/html": [
       "<div>\n",
       "<style scoped>\n",
       "    .dataframe tbody tr th:only-of-type {\n",
       "        vertical-align: middle;\n",
       "    }\n",
       "\n",
       "    .dataframe tbody tr th {\n",
       "        vertical-align: top;\n",
       "    }\n",
       "\n",
       "    .dataframe thead th {\n",
       "        text-align: right;\n",
       "    }\n",
       "</style>\n",
       "<table border=\"1\" class=\"dataframe\">\n",
       "  <thead>\n",
       "    <tr style=\"text-align: right;\">\n",
       "      <th></th>\n",
       "      <th>fecha</th>\n",
       "      <th>humedad</th>\n",
       "      <th>precipitacion</th>\n",
       "      <th>temperatura</th>\n",
       "    </tr>\n",
       "  </thead>\n",
       "  <tbody>\n",
       "    <tr>\n",
       "      <th>0</th>\n",
       "      <td>2025-01-01</td>\n",
       "      <td>73.0</td>\n",
       "      <td>0.0</td>\n",
       "      <td>6.43</td>\n",
       "    </tr>\n",
       "    <tr>\n",
       "      <th>1</th>\n",
       "      <td>2025-01-02</td>\n",
       "      <td>75.0</td>\n",
       "      <td>0.0</td>\n",
       "      <td>11.06</td>\n",
       "    </tr>\n",
       "    <tr>\n",
       "      <th>2</th>\n",
       "      <td>2025-01-03</td>\n",
       "      <td>95.0</td>\n",
       "      <td>27.3</td>\n",
       "      <td>12.00</td>\n",
       "    </tr>\n",
       "    <tr>\n",
       "      <th>3</th>\n",
       "      <td>2025-01-04</td>\n",
       "      <td>85.0</td>\n",
       "      <td>12.8</td>\n",
       "      <td>12.71</td>\n",
       "    </tr>\n",
       "    <tr>\n",
       "      <th>4</th>\n",
       "      <td>2025-01-05</td>\n",
       "      <td>92.0</td>\n",
       "      <td>46.8</td>\n",
       "      <td>12.69</td>\n",
       "    </tr>\n",
       "    <tr>\n",
       "      <th>...</th>\n",
       "      <td>...</td>\n",
       "      <td>...</td>\n",
       "      <td>...</td>\n",
       "      <td>...</td>\n",
       "    </tr>\n",
       "    <tr>\n",
       "      <th>86</th>\n",
       "      <td>2025-03-28</td>\n",
       "      <td>78.0</td>\n",
       "      <td>0.0</td>\n",
       "      <td>10.72</td>\n",
       "    </tr>\n",
       "    <tr>\n",
       "      <th>87</th>\n",
       "      <td>2025-03-29</td>\n",
       "      <td>73.0</td>\n",
       "      <td>0.0</td>\n",
       "      <td>11.74</td>\n",
       "    </tr>\n",
       "    <tr>\n",
       "      <th>88</th>\n",
       "      <td>2025-03-30</td>\n",
       "      <td>58.0</td>\n",
       "      <td>0.0</td>\n",
       "      <td>14.04</td>\n",
       "    </tr>\n",
       "    <tr>\n",
       "      <th>89</th>\n",
       "      <td>2025-03-31</td>\n",
       "      <td>53.0</td>\n",
       "      <td>0.0</td>\n",
       "      <td>17.21</td>\n",
       "    </tr>\n",
       "    <tr>\n",
       "      <th>90</th>\n",
       "      <td>2025-04-01</td>\n",
       "      <td>71.0</td>\n",
       "      <td>0.0</td>\n",
       "      <td>14.28</td>\n",
       "    </tr>\n",
       "  </tbody>\n",
       "</table>\n",
       "<p>91 rows × 4 columns</p>\n",
       "</div>"
      ],
      "text/plain": [
       "        fecha  humedad  precipitacion  temperatura\n",
       "0  2025-01-01     73.0            0.0         6.43\n",
       "1  2025-01-02     75.0            0.0        11.06\n",
       "2  2025-01-03     95.0           27.3        12.00\n",
       "3  2025-01-04     85.0           12.8        12.71\n",
       "4  2025-01-05     92.0           46.8        12.69\n",
       "..        ...      ...            ...          ...\n",
       "86 2025-03-28     78.0            0.0        10.72\n",
       "87 2025-03-29     73.0            0.0        11.74\n",
       "88 2025-03-30     58.0            0.0        14.04\n",
       "89 2025-03-31     53.0            0.0        17.21\n",
       "90 2025-04-01     71.0            0.0        14.28\n",
       "\n",
       "[91 rows x 4 columns]"
      ]
     },
     "execution_count": 30,
     "metadata": {},
     "output_type": "execute_result"
    }
   ],
   "source": [
    "print(df.info())\n",
    "df_pivot"
   ]
  },
  {
   "cell_type": "markdown",
   "metadata": {},
   "source": [
    "## GRÁFICAS EN PLOTLY"
   ]
  },
  {
   "cell_type": "code",
   "execution_count": 37,
   "metadata": {},
   "outputs": [
    {
     "data": {
      "application/vnd.plotly.v1+json": {
       "config": {
        "plotlyServerURL": "https://plot.ly"
       },
       "data": [
        {
         "hovertemplate": "fecha=%{x}<br>temperatura=%{y}<extra></extra>",
         "legendgroup": "",
         "line": {
          "color": "#636efa",
          "dash": "solid"
         },
         "marker": {
          "symbol": "circle"
         },
         "mode": "lines",
         "name": "",
         "orientation": "v",
         "showlegend": false,
         "type": "scatter",
         "x": [
          "2025-01-01T00:00:00.000000000",
          "2025-01-02T00:00:00.000000000",
          "2025-01-03T00:00:00.000000000",
          "2025-01-04T00:00:00.000000000",
          "2025-01-05T00:00:00.000000000",
          "2025-01-06T00:00:00.000000000",
          "2025-01-07T00:00:00.000000000",
          "2025-01-08T00:00:00.000000000",
          "2025-01-09T00:00:00.000000000",
          "2025-01-10T00:00:00.000000000",
          "2025-01-11T00:00:00.000000000",
          "2025-01-12T00:00:00.000000000",
          "2025-01-13T00:00:00.000000000",
          "2025-01-14T00:00:00.000000000",
          "2025-01-15T00:00:00.000000000",
          "2025-01-16T00:00:00.000000000",
          "2025-01-17T00:00:00.000000000",
          "2025-01-18T00:00:00.000000000",
          "2025-01-19T00:00:00.000000000",
          "2025-01-20T00:00:00.000000000",
          "2025-01-21T00:00:00.000000000",
          "2025-01-22T00:00:00.000000000",
          "2025-01-23T00:00:00.000000000",
          "2025-01-24T00:00:00.000000000",
          "2025-01-25T00:00:00.000000000",
          "2025-01-26T00:00:00.000000000",
          "2025-01-27T00:00:00.000000000",
          "2025-01-28T00:00:00.000000000",
          "2025-01-29T00:00:00.000000000",
          "2025-01-30T00:00:00.000000000",
          "2025-01-31T00:00:00.000000000",
          "2025-02-01T00:00:00.000000000",
          "2025-02-02T00:00:00.000000000",
          "2025-02-03T00:00:00.000000000",
          "2025-02-04T00:00:00.000000000",
          "2025-02-05T00:00:00.000000000",
          "2025-02-06T00:00:00.000000000",
          "2025-02-07T00:00:00.000000000",
          "2025-02-08T00:00:00.000000000",
          "2025-02-09T00:00:00.000000000",
          "2025-02-10T00:00:00.000000000",
          "2025-02-11T00:00:00.000000000",
          "2025-02-12T00:00:00.000000000",
          "2025-02-13T00:00:00.000000000",
          "2025-02-14T00:00:00.000000000",
          "2025-02-15T00:00:00.000000000",
          "2025-02-16T00:00:00.000000000",
          "2025-02-17T00:00:00.000000000",
          "2025-02-18T00:00:00.000000000",
          "2025-02-19T00:00:00.000000000",
          "2025-02-20T00:00:00.000000000",
          "2025-02-21T00:00:00.000000000",
          "2025-02-22T00:00:00.000000000",
          "2025-02-23T00:00:00.000000000",
          "2025-02-24T00:00:00.000000000",
          "2025-02-25T00:00:00.000000000",
          "2025-02-26T00:00:00.000000000",
          "2025-02-27T00:00:00.000000000",
          "2025-02-28T00:00:00.000000000",
          "2025-03-01T00:00:00.000000000",
          "2025-03-02T00:00:00.000000000",
          "2025-03-03T00:00:00.000000000",
          "2025-03-04T00:00:00.000000000",
          "2025-03-05T00:00:00.000000000",
          "2025-03-06T00:00:00.000000000",
          "2025-03-07T00:00:00.000000000",
          "2025-03-08T00:00:00.000000000",
          "2025-03-09T00:00:00.000000000",
          "2025-03-10T00:00:00.000000000",
          "2025-03-11T00:00:00.000000000",
          "2025-03-12T00:00:00.000000000",
          "2025-03-13T00:00:00.000000000",
          "2025-03-14T00:00:00.000000000",
          "2025-03-15T00:00:00.000000000",
          "2025-03-16T00:00:00.000000000",
          "2025-03-17T00:00:00.000000000",
          "2025-03-18T00:00:00.000000000",
          "2025-03-19T00:00:00.000000000",
          "2025-03-20T00:00:00.000000000",
          "2025-03-21T00:00:00.000000000",
          "2025-03-22T00:00:00.000000000",
          "2025-03-23T00:00:00.000000000",
          "2025-03-24T00:00:00.000000000",
          "2025-03-25T00:00:00.000000000",
          "2025-03-26T00:00:00.000000000",
          "2025-03-27T00:00:00.000000000",
          "2025-03-28T00:00:00.000000000",
          "2025-03-29T00:00:00.000000000",
          "2025-03-30T00:00:00.000000000",
          "2025-03-31T00:00:00.000000000",
          "2025-04-01T00:00:00.000000000"
         ],
         "xaxis": "x",
         "y": {
          "bdata": "uB6F61G4GUAfhetRuB4mQAAAAAAAAChA7FG4HoVrKUDhehSuR2EpQOF6FK5H4R9AzczMzMzMJkBI4XoUrkcqQMP1KFyPwipA7FG4HoXrK0CF61G4HoUrQPYoXI/C9SRAPQrXo3A9HUApXI/C9SgbQGZmZmZmZhdAAAAAAAAAHkC4HoXrUbgfQHsUrkfhehlAj8L1KFyPH0CkcD0K1yMlQFK4HoXrUSpAMzMzMzOzJUCamZmZmZkiQDMzMzMzsyZAPQrXo3A9JEDD9Shcj0IpQDMzMzMzMyFASOF6FK7HIUCPwvUoXA8hQHsUrkfheiBAw/UoXI/CH0A9CtejcD0lQD0K16NwPSJAuB6F61G4HkCkcD0K16MfQAAAAAAAgCNASOF6FK5HIUC4HoXrUbggQGZmZmZmZhFA9ihcj8J1KEAAAAAAAIAoQFyPwvUo3CNAuB6F61E4I0CuR+F6FC4oQOF6FK5H4ShA4XoUrkdhKUBmZmZmZmYmQMP1KFyPwiJAcT0K16NwKUCF61G4HoUoQGZmZmZmZilAH4XrUbgeKEC4HoXrUTgjQOxRuB6FayRAuB6F61E4KEAzMzMzMzMjQB+F61G4Hh9AMzMzMzMzJEAfhetRuJ4mQNejcD0KVyJAj8L1KFyPH0DD9Shcj8IkQOxRuB6F6ydASOF6FK5HJkDsUbgehWsmQHsUrkfh+iZArkfhehSuIUBxPQrXo3AiQM3MzMzMTCFASOF6FK7HJECuR+F6FK4gQD0K16NwPSBAhetRuB6FG0ApXI/C9SggQClcj8L1KB1ACtejcD0KIkCuR+F6FC4mQDMzMzMzMy1ASOF6FK5HK0B7FK5H4fojQPYoXI/C9R9AMzMzMzMzG0CamZmZmZkiQKRwPQrXoyZAPQrXo3A9JUCuR+F6FK4mQHE9CtejcCVAexSuR+F6J0AUrkfhehQsQPYoXI/CNTFAj8L1KFyPLEA=",
          "dtype": "f8"
         },
         "yaxis": "y"
        }
       ],
       "layout": {
        "legend": {
         "tracegroupgap": 0
        },
        "template": {
         "data": {
          "bar": [
           {
            "error_x": {
             "color": "#2a3f5f"
            },
            "error_y": {
             "color": "#2a3f5f"
            },
            "marker": {
             "line": {
              "color": "#E5ECF6",
              "width": 0.5
             },
             "pattern": {
              "fillmode": "overlay",
              "size": 10,
              "solidity": 0.2
             }
            },
            "type": "bar"
           }
          ],
          "barpolar": [
           {
            "marker": {
             "line": {
              "color": "#E5ECF6",
              "width": 0.5
             },
             "pattern": {
              "fillmode": "overlay",
              "size": 10,
              "solidity": 0.2
             }
            },
            "type": "barpolar"
           }
          ],
          "carpet": [
           {
            "aaxis": {
             "endlinecolor": "#2a3f5f",
             "gridcolor": "white",
             "linecolor": "white",
             "minorgridcolor": "white",
             "startlinecolor": "#2a3f5f"
            },
            "baxis": {
             "endlinecolor": "#2a3f5f",
             "gridcolor": "white",
             "linecolor": "white",
             "minorgridcolor": "white",
             "startlinecolor": "#2a3f5f"
            },
            "type": "carpet"
           }
          ],
          "choropleth": [
           {
            "colorbar": {
             "outlinewidth": 0,
             "ticks": ""
            },
            "type": "choropleth"
           }
          ],
          "contour": [
           {
            "colorbar": {
             "outlinewidth": 0,
             "ticks": ""
            },
            "colorscale": [
             [
              0,
              "#0d0887"
             ],
             [
              0.1111111111111111,
              "#46039f"
             ],
             [
              0.2222222222222222,
              "#7201a8"
             ],
             [
              0.3333333333333333,
              "#9c179e"
             ],
             [
              0.4444444444444444,
              "#bd3786"
             ],
             [
              0.5555555555555556,
              "#d8576b"
             ],
             [
              0.6666666666666666,
              "#ed7953"
             ],
             [
              0.7777777777777778,
              "#fb9f3a"
             ],
             [
              0.8888888888888888,
              "#fdca26"
             ],
             [
              1,
              "#f0f921"
             ]
            ],
            "type": "contour"
           }
          ],
          "contourcarpet": [
           {
            "colorbar": {
             "outlinewidth": 0,
             "ticks": ""
            },
            "type": "contourcarpet"
           }
          ],
          "heatmap": [
           {
            "colorbar": {
             "outlinewidth": 0,
             "ticks": ""
            },
            "colorscale": [
             [
              0,
              "#0d0887"
             ],
             [
              0.1111111111111111,
              "#46039f"
             ],
             [
              0.2222222222222222,
              "#7201a8"
             ],
             [
              0.3333333333333333,
              "#9c179e"
             ],
             [
              0.4444444444444444,
              "#bd3786"
             ],
             [
              0.5555555555555556,
              "#d8576b"
             ],
             [
              0.6666666666666666,
              "#ed7953"
             ],
             [
              0.7777777777777778,
              "#fb9f3a"
             ],
             [
              0.8888888888888888,
              "#fdca26"
             ],
             [
              1,
              "#f0f921"
             ]
            ],
            "type": "heatmap"
           }
          ],
          "histogram": [
           {
            "marker": {
             "pattern": {
              "fillmode": "overlay",
              "size": 10,
              "solidity": 0.2
             }
            },
            "type": "histogram"
           }
          ],
          "histogram2d": [
           {
            "colorbar": {
             "outlinewidth": 0,
             "ticks": ""
            },
            "colorscale": [
             [
              0,
              "#0d0887"
             ],
             [
              0.1111111111111111,
              "#46039f"
             ],
             [
              0.2222222222222222,
              "#7201a8"
             ],
             [
              0.3333333333333333,
              "#9c179e"
             ],
             [
              0.4444444444444444,
              "#bd3786"
             ],
             [
              0.5555555555555556,
              "#d8576b"
             ],
             [
              0.6666666666666666,
              "#ed7953"
             ],
             [
              0.7777777777777778,
              "#fb9f3a"
             ],
             [
              0.8888888888888888,
              "#fdca26"
             ],
             [
              1,
              "#f0f921"
             ]
            ],
            "type": "histogram2d"
           }
          ],
          "histogram2dcontour": [
           {
            "colorbar": {
             "outlinewidth": 0,
             "ticks": ""
            },
            "colorscale": [
             [
              0,
              "#0d0887"
             ],
             [
              0.1111111111111111,
              "#46039f"
             ],
             [
              0.2222222222222222,
              "#7201a8"
             ],
             [
              0.3333333333333333,
              "#9c179e"
             ],
             [
              0.4444444444444444,
              "#bd3786"
             ],
             [
              0.5555555555555556,
              "#d8576b"
             ],
             [
              0.6666666666666666,
              "#ed7953"
             ],
             [
              0.7777777777777778,
              "#fb9f3a"
             ],
             [
              0.8888888888888888,
              "#fdca26"
             ],
             [
              1,
              "#f0f921"
             ]
            ],
            "type": "histogram2dcontour"
           }
          ],
          "mesh3d": [
           {
            "colorbar": {
             "outlinewidth": 0,
             "ticks": ""
            },
            "type": "mesh3d"
           }
          ],
          "parcoords": [
           {
            "line": {
             "colorbar": {
              "outlinewidth": 0,
              "ticks": ""
             }
            },
            "type": "parcoords"
           }
          ],
          "pie": [
           {
            "automargin": true,
            "type": "pie"
           }
          ],
          "scatter": [
           {
            "fillpattern": {
             "fillmode": "overlay",
             "size": 10,
             "solidity": 0.2
            },
            "type": "scatter"
           }
          ],
          "scatter3d": [
           {
            "line": {
             "colorbar": {
              "outlinewidth": 0,
              "ticks": ""
             }
            },
            "marker": {
             "colorbar": {
              "outlinewidth": 0,
              "ticks": ""
             }
            },
            "type": "scatter3d"
           }
          ],
          "scattercarpet": [
           {
            "marker": {
             "colorbar": {
              "outlinewidth": 0,
              "ticks": ""
             }
            },
            "type": "scattercarpet"
           }
          ],
          "scattergeo": [
           {
            "marker": {
             "colorbar": {
              "outlinewidth": 0,
              "ticks": ""
             }
            },
            "type": "scattergeo"
           }
          ],
          "scattergl": [
           {
            "marker": {
             "colorbar": {
              "outlinewidth": 0,
              "ticks": ""
             }
            },
            "type": "scattergl"
           }
          ],
          "scattermap": [
           {
            "marker": {
             "colorbar": {
              "outlinewidth": 0,
              "ticks": ""
             }
            },
            "type": "scattermap"
           }
          ],
          "scattermapbox": [
           {
            "marker": {
             "colorbar": {
              "outlinewidth": 0,
              "ticks": ""
             }
            },
            "type": "scattermapbox"
           }
          ],
          "scatterpolar": [
           {
            "marker": {
             "colorbar": {
              "outlinewidth": 0,
              "ticks": ""
             }
            },
            "type": "scatterpolar"
           }
          ],
          "scatterpolargl": [
           {
            "marker": {
             "colorbar": {
              "outlinewidth": 0,
              "ticks": ""
             }
            },
            "type": "scatterpolargl"
           }
          ],
          "scatterternary": [
           {
            "marker": {
             "colorbar": {
              "outlinewidth": 0,
              "ticks": ""
             }
            },
            "type": "scatterternary"
           }
          ],
          "surface": [
           {
            "colorbar": {
             "outlinewidth": 0,
             "ticks": ""
            },
            "colorscale": [
             [
              0,
              "#0d0887"
             ],
             [
              0.1111111111111111,
              "#46039f"
             ],
             [
              0.2222222222222222,
              "#7201a8"
             ],
             [
              0.3333333333333333,
              "#9c179e"
             ],
             [
              0.4444444444444444,
              "#bd3786"
             ],
             [
              0.5555555555555556,
              "#d8576b"
             ],
             [
              0.6666666666666666,
              "#ed7953"
             ],
             [
              0.7777777777777778,
              "#fb9f3a"
             ],
             [
              0.8888888888888888,
              "#fdca26"
             ],
             [
              1,
              "#f0f921"
             ]
            ],
            "type": "surface"
           }
          ],
          "table": [
           {
            "cells": {
             "fill": {
              "color": "#EBF0F8"
             },
             "line": {
              "color": "white"
             }
            },
            "header": {
             "fill": {
              "color": "#C8D4E3"
             },
             "line": {
              "color": "white"
             }
            },
            "type": "table"
           }
          ]
         },
         "layout": {
          "annotationdefaults": {
           "arrowcolor": "#2a3f5f",
           "arrowhead": 0,
           "arrowwidth": 1
          },
          "autotypenumbers": "strict",
          "coloraxis": {
           "colorbar": {
            "outlinewidth": 0,
            "ticks": ""
           }
          },
          "colorscale": {
           "diverging": [
            [
             0,
             "#8e0152"
            ],
            [
             0.1,
             "#c51b7d"
            ],
            [
             0.2,
             "#de77ae"
            ],
            [
             0.3,
             "#f1b6da"
            ],
            [
             0.4,
             "#fde0ef"
            ],
            [
             0.5,
             "#f7f7f7"
            ],
            [
             0.6,
             "#e6f5d0"
            ],
            [
             0.7,
             "#b8e186"
            ],
            [
             0.8,
             "#7fbc41"
            ],
            [
             0.9,
             "#4d9221"
            ],
            [
             1,
             "#276419"
            ]
           ],
           "sequential": [
            [
             0,
             "#0d0887"
            ],
            [
             0.1111111111111111,
             "#46039f"
            ],
            [
             0.2222222222222222,
             "#7201a8"
            ],
            [
             0.3333333333333333,
             "#9c179e"
            ],
            [
             0.4444444444444444,
             "#bd3786"
            ],
            [
             0.5555555555555556,
             "#d8576b"
            ],
            [
             0.6666666666666666,
             "#ed7953"
            ],
            [
             0.7777777777777778,
             "#fb9f3a"
            ],
            [
             0.8888888888888888,
             "#fdca26"
            ],
            [
             1,
             "#f0f921"
            ]
           ],
           "sequentialminus": [
            [
             0,
             "#0d0887"
            ],
            [
             0.1111111111111111,
             "#46039f"
            ],
            [
             0.2222222222222222,
             "#7201a8"
            ],
            [
             0.3333333333333333,
             "#9c179e"
            ],
            [
             0.4444444444444444,
             "#bd3786"
            ],
            [
             0.5555555555555556,
             "#d8576b"
            ],
            [
             0.6666666666666666,
             "#ed7953"
            ],
            [
             0.7777777777777778,
             "#fb9f3a"
            ],
            [
             0.8888888888888888,
             "#fdca26"
            ],
            [
             1,
             "#f0f921"
            ]
           ]
          },
          "colorway": [
           "#636efa",
           "#EF553B",
           "#00cc96",
           "#ab63fa",
           "#FFA15A",
           "#19d3f3",
           "#FF6692",
           "#B6E880",
           "#FF97FF",
           "#FECB52"
          ],
          "font": {
           "color": "#2a3f5f"
          },
          "geo": {
           "bgcolor": "white",
           "lakecolor": "white",
           "landcolor": "#E5ECF6",
           "showlakes": true,
           "showland": true,
           "subunitcolor": "white"
          },
          "hoverlabel": {
           "align": "left"
          },
          "hovermode": "closest",
          "mapbox": {
           "style": "light"
          },
          "paper_bgcolor": "white",
          "plot_bgcolor": "#E5ECF6",
          "polar": {
           "angularaxis": {
            "gridcolor": "white",
            "linecolor": "white",
            "ticks": ""
           },
           "bgcolor": "#E5ECF6",
           "radialaxis": {
            "gridcolor": "white",
            "linecolor": "white",
            "ticks": ""
           }
          },
          "scene": {
           "xaxis": {
            "backgroundcolor": "#E5ECF6",
            "gridcolor": "white",
            "gridwidth": 2,
            "linecolor": "white",
            "showbackground": true,
            "ticks": "",
            "zerolinecolor": "white"
           },
           "yaxis": {
            "backgroundcolor": "#E5ECF6",
            "gridcolor": "white",
            "gridwidth": 2,
            "linecolor": "white",
            "showbackground": true,
            "ticks": "",
            "zerolinecolor": "white"
           },
           "zaxis": {
            "backgroundcolor": "#E5ECF6",
            "gridcolor": "white",
            "gridwidth": 2,
            "linecolor": "white",
            "showbackground": true,
            "ticks": "",
            "zerolinecolor": "white"
           }
          },
          "shapedefaults": {
           "line": {
            "color": "#2a3f5f"
           }
          },
          "ternary": {
           "aaxis": {
            "gridcolor": "white",
            "linecolor": "white",
            "ticks": ""
           },
           "baxis": {
            "gridcolor": "white",
            "linecolor": "white",
            "ticks": ""
           },
           "bgcolor": "#E5ECF6",
           "caxis": {
            "gridcolor": "white",
            "linecolor": "white",
            "ticks": ""
           }
          },
          "title": {
           "x": 0.05
          },
          "xaxis": {
           "automargin": true,
           "gridcolor": "white",
           "linecolor": "white",
           "ticks": "",
           "title": {
            "standoff": 15
           },
           "zerolinecolor": "white",
           "zerolinewidth": 2
          },
          "yaxis": {
           "automargin": true,
           "gridcolor": "white",
           "linecolor": "white",
           "ticks": "",
           "title": {
            "standoff": 15
           },
           "zerolinecolor": "white",
           "zerolinewidth": 2
          }
         }
        },
        "title": {
         "text": "Temperatura media diaria en Santiago"
        },
        "xaxis": {
         "anchor": "y",
         "domain": [
          0,
          1
         ],
         "title": {
          "text": "fecha"
         }
        },
        "yaxis": {
         "anchor": "x",
         "domain": [
          0,
          1
         ],
         "title": {
          "text": "temperatura"
         }
        }
       }
      }
     },
     "metadata": {},
     "output_type": "display_data"
    },
    {
     "data": {
      "application/vnd.plotly.v1+json": {
       "config": {
        "plotlyServerURL": "https://plot.ly"
       },
       "data": [
        {
         "hovertemplate": "fecha=%{x}<br>precipitacion=%{y}<extra></extra>",
         "legendgroup": "",
         "marker": {
          "color": "#636efa",
          "pattern": {
           "shape": ""
          }
         },
         "name": "",
         "orientation": "v",
         "showlegend": false,
         "textposition": "auto",
         "type": "bar",
         "x": [
          "2025-01-01T00:00:00.000000000",
          "2025-01-02T00:00:00.000000000",
          "2025-01-03T00:00:00.000000000",
          "2025-01-04T00:00:00.000000000",
          "2025-01-05T00:00:00.000000000",
          "2025-01-06T00:00:00.000000000",
          "2025-01-07T00:00:00.000000000",
          "2025-01-08T00:00:00.000000000",
          "2025-01-09T00:00:00.000000000",
          "2025-01-10T00:00:00.000000000",
          "2025-01-11T00:00:00.000000000",
          "2025-01-12T00:00:00.000000000",
          "2025-01-13T00:00:00.000000000",
          "2025-01-14T00:00:00.000000000",
          "2025-01-15T00:00:00.000000000",
          "2025-01-16T00:00:00.000000000",
          "2025-01-17T00:00:00.000000000",
          "2025-01-18T00:00:00.000000000",
          "2025-01-19T00:00:00.000000000",
          "2025-01-20T00:00:00.000000000",
          "2025-01-21T00:00:00.000000000",
          "2025-01-22T00:00:00.000000000",
          "2025-01-23T00:00:00.000000000",
          "2025-01-24T00:00:00.000000000",
          "2025-01-25T00:00:00.000000000",
          "2025-01-26T00:00:00.000000000",
          "2025-01-27T00:00:00.000000000",
          "2025-01-28T00:00:00.000000000",
          "2025-01-29T00:00:00.000000000",
          "2025-01-30T00:00:00.000000000",
          "2025-01-31T00:00:00.000000000",
          "2025-02-01T00:00:00.000000000",
          "2025-02-02T00:00:00.000000000",
          "2025-02-03T00:00:00.000000000",
          "2025-02-04T00:00:00.000000000",
          "2025-02-05T00:00:00.000000000",
          "2025-02-06T00:00:00.000000000",
          "2025-02-07T00:00:00.000000000",
          "2025-02-08T00:00:00.000000000",
          "2025-02-09T00:00:00.000000000",
          "2025-02-10T00:00:00.000000000",
          "2025-02-11T00:00:00.000000000",
          "2025-02-12T00:00:00.000000000",
          "2025-02-13T00:00:00.000000000",
          "2025-02-14T00:00:00.000000000",
          "2025-02-15T00:00:00.000000000",
          "2025-02-16T00:00:00.000000000",
          "2025-02-17T00:00:00.000000000",
          "2025-02-18T00:00:00.000000000",
          "2025-02-19T00:00:00.000000000",
          "2025-02-20T00:00:00.000000000",
          "2025-02-21T00:00:00.000000000",
          "2025-02-22T00:00:00.000000000",
          "2025-02-23T00:00:00.000000000",
          "2025-02-24T00:00:00.000000000",
          "2025-02-25T00:00:00.000000000",
          "2025-02-26T00:00:00.000000000",
          "2025-02-27T00:00:00.000000000",
          "2025-02-28T00:00:00.000000000",
          "2025-03-01T00:00:00.000000000",
          "2025-03-02T00:00:00.000000000",
          "2025-03-03T00:00:00.000000000",
          "2025-03-04T00:00:00.000000000",
          "2025-03-05T00:00:00.000000000",
          "2025-03-06T00:00:00.000000000",
          "2025-03-07T00:00:00.000000000",
          "2025-03-08T00:00:00.000000000",
          "2025-03-09T00:00:00.000000000",
          "2025-03-10T00:00:00.000000000",
          "2025-03-11T00:00:00.000000000",
          "2025-03-12T00:00:00.000000000",
          "2025-03-13T00:00:00.000000000",
          "2025-03-14T00:00:00.000000000",
          "2025-03-15T00:00:00.000000000",
          "2025-03-16T00:00:00.000000000",
          "2025-03-17T00:00:00.000000000",
          "2025-03-18T00:00:00.000000000",
          "2025-03-19T00:00:00.000000000",
          "2025-03-20T00:00:00.000000000",
          "2025-03-21T00:00:00.000000000",
          "2025-03-22T00:00:00.000000000",
          "2025-03-23T00:00:00.000000000",
          "2025-03-24T00:00:00.000000000",
          "2025-03-25T00:00:00.000000000",
          "2025-03-26T00:00:00.000000000",
          "2025-03-27T00:00:00.000000000",
          "2025-03-28T00:00:00.000000000",
          "2025-03-29T00:00:00.000000000",
          "2025-03-30T00:00:00.000000000",
          "2025-03-31T00:00:00.000000000",
          "2025-04-01T00:00:00.000000000"
         ],
         "xaxis": "x",
         "y": {
          "bdata": "AAAAAAAAAAAAAAAAAAAAAM3MzMzMTDtAmpmZmZmZKUBmZmZmZmZHQM3MzMzMzBZAMzMzMzOzQUDNzMzMzAxPQDMzMzMzMxNAZmZmZmbmNUBmZmZmZmb+PwAAAAAAAAAAAAAAAAAAAAAAAAAAAAAAAAAAAAAAAAAAAAAAAAAAAAAAAAAAAAAAAAAAAAAAAAAAMzMzMzMzLUBmZmZmZmYaQDMzMzMzMyVAZmZmZmZmPUAAAAAAAAAAAJqZmZmZmUZAmpmZmZmZIUAAAAAAAKBYQAAAAAAAADdAAAAAAAAAJUAAAAAAAMBHQDMzMzMzM+M/AAAAAAAAAADNzMzMzMz0P83MzMzMzABAAAAAAAAAAAAAAAAAAAAAAAAAAAAAAAAAAAAAAAAA8D8zMzMzMzMgQJqZmZmZmfE/AAAAAAAAKEAAAAAAAAAUQM3MzMzMzC1AzczMzMzM9D8AAAAAAAAeQAAAAAAAAAAAAAAAAAAAAADNzMzMzMwYQAAAAAAAAAAAAAAAAAAAAAAzMzMzMzPTPzMzMzMzM+M/AAAAAAAAO0CamZmZmZkJQAAAAAAAAAAAmpmZmZkZSEAAAAAAAAAAAAAAAAAAAAAAAAAAAAAAAAAAAAAAAAAAAAAAAAAAAAAAAAAAAAAAAAAAAAAAAAAAAAAAAAAAAAAAmpmZmZmZDUCamZmZmZkfQGZmZmZmZiFAMzMzMzMzJ0AzMzMzMzMmQJqZmZmZmSVAAAAAAAAAAAAAAAAAAAAAAAAAAAAAAAAAAAAAAAAAAAAAAAAAAAAAAAAAAAAAAAAAAAAAAAAAAAAzMzMzMzPjPwAAAAAAAAAAmpmZmZmZAUBmZmZmZiZCQJqZmZmZmTFAAAAAAAAA+D8AAAAAAADwPwAAAAAAAAAAAAAAAAAAAAAAAAAAAAAAAAAAAAAAAAAAAAAAAAAAAAAAAAAAAAAAAAAAAAAAAAAAAAAAAAAAAAA=",
          "dtype": "f8"
         },
         "yaxis": "y"
        }
       ],
       "layout": {
        "barmode": "relative",
        "legend": {
         "tracegroupgap": 0
        },
        "template": {
         "data": {
          "bar": [
           {
            "error_x": {
             "color": "#2a3f5f"
            },
            "error_y": {
             "color": "#2a3f5f"
            },
            "marker": {
             "line": {
              "color": "#E5ECF6",
              "width": 0.5
             },
             "pattern": {
              "fillmode": "overlay",
              "size": 10,
              "solidity": 0.2
             }
            },
            "type": "bar"
           }
          ],
          "barpolar": [
           {
            "marker": {
             "line": {
              "color": "#E5ECF6",
              "width": 0.5
             },
             "pattern": {
              "fillmode": "overlay",
              "size": 10,
              "solidity": 0.2
             }
            },
            "type": "barpolar"
           }
          ],
          "carpet": [
           {
            "aaxis": {
             "endlinecolor": "#2a3f5f",
             "gridcolor": "white",
             "linecolor": "white",
             "minorgridcolor": "white",
             "startlinecolor": "#2a3f5f"
            },
            "baxis": {
             "endlinecolor": "#2a3f5f",
             "gridcolor": "white",
             "linecolor": "white",
             "minorgridcolor": "white",
             "startlinecolor": "#2a3f5f"
            },
            "type": "carpet"
           }
          ],
          "choropleth": [
           {
            "colorbar": {
             "outlinewidth": 0,
             "ticks": ""
            },
            "type": "choropleth"
           }
          ],
          "contour": [
           {
            "colorbar": {
             "outlinewidth": 0,
             "ticks": ""
            },
            "colorscale": [
             [
              0,
              "#0d0887"
             ],
             [
              0.1111111111111111,
              "#46039f"
             ],
             [
              0.2222222222222222,
              "#7201a8"
             ],
             [
              0.3333333333333333,
              "#9c179e"
             ],
             [
              0.4444444444444444,
              "#bd3786"
             ],
             [
              0.5555555555555556,
              "#d8576b"
             ],
             [
              0.6666666666666666,
              "#ed7953"
             ],
             [
              0.7777777777777778,
              "#fb9f3a"
             ],
             [
              0.8888888888888888,
              "#fdca26"
             ],
             [
              1,
              "#f0f921"
             ]
            ],
            "type": "contour"
           }
          ],
          "contourcarpet": [
           {
            "colorbar": {
             "outlinewidth": 0,
             "ticks": ""
            },
            "type": "contourcarpet"
           }
          ],
          "heatmap": [
           {
            "colorbar": {
             "outlinewidth": 0,
             "ticks": ""
            },
            "colorscale": [
             [
              0,
              "#0d0887"
             ],
             [
              0.1111111111111111,
              "#46039f"
             ],
             [
              0.2222222222222222,
              "#7201a8"
             ],
             [
              0.3333333333333333,
              "#9c179e"
             ],
             [
              0.4444444444444444,
              "#bd3786"
             ],
             [
              0.5555555555555556,
              "#d8576b"
             ],
             [
              0.6666666666666666,
              "#ed7953"
             ],
             [
              0.7777777777777778,
              "#fb9f3a"
             ],
             [
              0.8888888888888888,
              "#fdca26"
             ],
             [
              1,
              "#f0f921"
             ]
            ],
            "type": "heatmap"
           }
          ],
          "histogram": [
           {
            "marker": {
             "pattern": {
              "fillmode": "overlay",
              "size": 10,
              "solidity": 0.2
             }
            },
            "type": "histogram"
           }
          ],
          "histogram2d": [
           {
            "colorbar": {
             "outlinewidth": 0,
             "ticks": ""
            },
            "colorscale": [
             [
              0,
              "#0d0887"
             ],
             [
              0.1111111111111111,
              "#46039f"
             ],
             [
              0.2222222222222222,
              "#7201a8"
             ],
             [
              0.3333333333333333,
              "#9c179e"
             ],
             [
              0.4444444444444444,
              "#bd3786"
             ],
             [
              0.5555555555555556,
              "#d8576b"
             ],
             [
              0.6666666666666666,
              "#ed7953"
             ],
             [
              0.7777777777777778,
              "#fb9f3a"
             ],
             [
              0.8888888888888888,
              "#fdca26"
             ],
             [
              1,
              "#f0f921"
             ]
            ],
            "type": "histogram2d"
           }
          ],
          "histogram2dcontour": [
           {
            "colorbar": {
             "outlinewidth": 0,
             "ticks": ""
            },
            "colorscale": [
             [
              0,
              "#0d0887"
             ],
             [
              0.1111111111111111,
              "#46039f"
             ],
             [
              0.2222222222222222,
              "#7201a8"
             ],
             [
              0.3333333333333333,
              "#9c179e"
             ],
             [
              0.4444444444444444,
              "#bd3786"
             ],
             [
              0.5555555555555556,
              "#d8576b"
             ],
             [
              0.6666666666666666,
              "#ed7953"
             ],
             [
              0.7777777777777778,
              "#fb9f3a"
             ],
             [
              0.8888888888888888,
              "#fdca26"
             ],
             [
              1,
              "#f0f921"
             ]
            ],
            "type": "histogram2dcontour"
           }
          ],
          "mesh3d": [
           {
            "colorbar": {
             "outlinewidth": 0,
             "ticks": ""
            },
            "type": "mesh3d"
           }
          ],
          "parcoords": [
           {
            "line": {
             "colorbar": {
              "outlinewidth": 0,
              "ticks": ""
             }
            },
            "type": "parcoords"
           }
          ],
          "pie": [
           {
            "automargin": true,
            "type": "pie"
           }
          ],
          "scatter": [
           {
            "fillpattern": {
             "fillmode": "overlay",
             "size": 10,
             "solidity": 0.2
            },
            "type": "scatter"
           }
          ],
          "scatter3d": [
           {
            "line": {
             "colorbar": {
              "outlinewidth": 0,
              "ticks": ""
             }
            },
            "marker": {
             "colorbar": {
              "outlinewidth": 0,
              "ticks": ""
             }
            },
            "type": "scatter3d"
           }
          ],
          "scattercarpet": [
           {
            "marker": {
             "colorbar": {
              "outlinewidth": 0,
              "ticks": ""
             }
            },
            "type": "scattercarpet"
           }
          ],
          "scattergeo": [
           {
            "marker": {
             "colorbar": {
              "outlinewidth": 0,
              "ticks": ""
             }
            },
            "type": "scattergeo"
           }
          ],
          "scattergl": [
           {
            "marker": {
             "colorbar": {
              "outlinewidth": 0,
              "ticks": ""
             }
            },
            "type": "scattergl"
           }
          ],
          "scattermap": [
           {
            "marker": {
             "colorbar": {
              "outlinewidth": 0,
              "ticks": ""
             }
            },
            "type": "scattermap"
           }
          ],
          "scattermapbox": [
           {
            "marker": {
             "colorbar": {
              "outlinewidth": 0,
              "ticks": ""
             }
            },
            "type": "scattermapbox"
           }
          ],
          "scatterpolar": [
           {
            "marker": {
             "colorbar": {
              "outlinewidth": 0,
              "ticks": ""
             }
            },
            "type": "scatterpolar"
           }
          ],
          "scatterpolargl": [
           {
            "marker": {
             "colorbar": {
              "outlinewidth": 0,
              "ticks": ""
             }
            },
            "type": "scatterpolargl"
           }
          ],
          "scatterternary": [
           {
            "marker": {
             "colorbar": {
              "outlinewidth": 0,
              "ticks": ""
             }
            },
            "type": "scatterternary"
           }
          ],
          "surface": [
           {
            "colorbar": {
             "outlinewidth": 0,
             "ticks": ""
            },
            "colorscale": [
             [
              0,
              "#0d0887"
             ],
             [
              0.1111111111111111,
              "#46039f"
             ],
             [
              0.2222222222222222,
              "#7201a8"
             ],
             [
              0.3333333333333333,
              "#9c179e"
             ],
             [
              0.4444444444444444,
              "#bd3786"
             ],
             [
              0.5555555555555556,
              "#d8576b"
             ],
             [
              0.6666666666666666,
              "#ed7953"
             ],
             [
              0.7777777777777778,
              "#fb9f3a"
             ],
             [
              0.8888888888888888,
              "#fdca26"
             ],
             [
              1,
              "#f0f921"
             ]
            ],
            "type": "surface"
           }
          ],
          "table": [
           {
            "cells": {
             "fill": {
              "color": "#EBF0F8"
             },
             "line": {
              "color": "white"
             }
            },
            "header": {
             "fill": {
              "color": "#C8D4E3"
             },
             "line": {
              "color": "white"
             }
            },
            "type": "table"
           }
          ]
         },
         "layout": {
          "annotationdefaults": {
           "arrowcolor": "#2a3f5f",
           "arrowhead": 0,
           "arrowwidth": 1
          },
          "autotypenumbers": "strict",
          "coloraxis": {
           "colorbar": {
            "outlinewidth": 0,
            "ticks": ""
           }
          },
          "colorscale": {
           "diverging": [
            [
             0,
             "#8e0152"
            ],
            [
             0.1,
             "#c51b7d"
            ],
            [
             0.2,
             "#de77ae"
            ],
            [
             0.3,
             "#f1b6da"
            ],
            [
             0.4,
             "#fde0ef"
            ],
            [
             0.5,
             "#f7f7f7"
            ],
            [
             0.6,
             "#e6f5d0"
            ],
            [
             0.7,
             "#b8e186"
            ],
            [
             0.8,
             "#7fbc41"
            ],
            [
             0.9,
             "#4d9221"
            ],
            [
             1,
             "#276419"
            ]
           ],
           "sequential": [
            [
             0,
             "#0d0887"
            ],
            [
             0.1111111111111111,
             "#46039f"
            ],
            [
             0.2222222222222222,
             "#7201a8"
            ],
            [
             0.3333333333333333,
             "#9c179e"
            ],
            [
             0.4444444444444444,
             "#bd3786"
            ],
            [
             0.5555555555555556,
             "#d8576b"
            ],
            [
             0.6666666666666666,
             "#ed7953"
            ],
            [
             0.7777777777777778,
             "#fb9f3a"
            ],
            [
             0.8888888888888888,
             "#fdca26"
            ],
            [
             1,
             "#f0f921"
            ]
           ],
           "sequentialminus": [
            [
             0,
             "#0d0887"
            ],
            [
             0.1111111111111111,
             "#46039f"
            ],
            [
             0.2222222222222222,
             "#7201a8"
            ],
            [
             0.3333333333333333,
             "#9c179e"
            ],
            [
             0.4444444444444444,
             "#bd3786"
            ],
            [
             0.5555555555555556,
             "#d8576b"
            ],
            [
             0.6666666666666666,
             "#ed7953"
            ],
            [
             0.7777777777777778,
             "#fb9f3a"
            ],
            [
             0.8888888888888888,
             "#fdca26"
            ],
            [
             1,
             "#f0f921"
            ]
           ]
          },
          "colorway": [
           "#636efa",
           "#EF553B",
           "#00cc96",
           "#ab63fa",
           "#FFA15A",
           "#19d3f3",
           "#FF6692",
           "#B6E880",
           "#FF97FF",
           "#FECB52"
          ],
          "font": {
           "color": "#2a3f5f"
          },
          "geo": {
           "bgcolor": "white",
           "lakecolor": "white",
           "landcolor": "#E5ECF6",
           "showlakes": true,
           "showland": true,
           "subunitcolor": "white"
          },
          "hoverlabel": {
           "align": "left"
          },
          "hovermode": "closest",
          "mapbox": {
           "style": "light"
          },
          "paper_bgcolor": "white",
          "plot_bgcolor": "#E5ECF6",
          "polar": {
           "angularaxis": {
            "gridcolor": "white",
            "linecolor": "white",
            "ticks": ""
           },
           "bgcolor": "#E5ECF6",
           "radialaxis": {
            "gridcolor": "white",
            "linecolor": "white",
            "ticks": ""
           }
          },
          "scene": {
           "xaxis": {
            "backgroundcolor": "#E5ECF6",
            "gridcolor": "white",
            "gridwidth": 2,
            "linecolor": "white",
            "showbackground": true,
            "ticks": "",
            "zerolinecolor": "white"
           },
           "yaxis": {
            "backgroundcolor": "#E5ECF6",
            "gridcolor": "white",
            "gridwidth": 2,
            "linecolor": "white",
            "showbackground": true,
            "ticks": "",
            "zerolinecolor": "white"
           },
           "zaxis": {
            "backgroundcolor": "#E5ECF6",
            "gridcolor": "white",
            "gridwidth": 2,
            "linecolor": "white",
            "showbackground": true,
            "ticks": "",
            "zerolinecolor": "white"
           }
          },
          "shapedefaults": {
           "line": {
            "color": "#2a3f5f"
           }
          },
          "ternary": {
           "aaxis": {
            "gridcolor": "white",
            "linecolor": "white",
            "ticks": ""
           },
           "baxis": {
            "gridcolor": "white",
            "linecolor": "white",
            "ticks": ""
           },
           "bgcolor": "#E5ECF6",
           "caxis": {
            "gridcolor": "white",
            "linecolor": "white",
            "ticks": ""
           }
          },
          "title": {
           "x": 0.05
          },
          "xaxis": {
           "automargin": true,
           "gridcolor": "white",
           "linecolor": "white",
           "ticks": "",
           "title": {
            "standoff": 15
           },
           "zerolinecolor": "white",
           "zerolinewidth": 2
          },
          "yaxis": {
           "automargin": true,
           "gridcolor": "white",
           "linecolor": "white",
           "ticks": "",
           "title": {
            "standoff": 15
           },
           "zerolinecolor": "white",
           "zerolinewidth": 2
          }
         }
        },
        "title": {
         "text": "Lluvia diaria en Santiago"
        },
        "xaxis": {
         "anchor": "y",
         "domain": [
          0,
          1
         ],
         "title": {
          "text": "fecha"
         }
        },
        "yaxis": {
         "anchor": "x",
         "domain": [
          0,
          1
         ],
         "title": {
          "text": "precipitacion"
         }
        }
       }
      }
     },
     "metadata": {},
     "output_type": "display_data"
    },
    {
     "data": {
      "application/vnd.plotly.v1+json": {
       "config": {
        "plotlyServerURL": "https://plot.ly"
       },
       "data": [
        {
         "marker": {
          "color": "rgba(0,0,255,0.4)"
         },
         "name": "Lluvia (mm)",
         "type": "bar",
         "x": [
          "2025-01-01T00:00:00.000000000",
          "2025-01-02T00:00:00.000000000",
          "2025-01-03T00:00:00.000000000",
          "2025-01-04T00:00:00.000000000",
          "2025-01-05T00:00:00.000000000",
          "2025-01-06T00:00:00.000000000",
          "2025-01-07T00:00:00.000000000",
          "2025-01-08T00:00:00.000000000",
          "2025-01-09T00:00:00.000000000",
          "2025-01-10T00:00:00.000000000",
          "2025-01-11T00:00:00.000000000",
          "2025-01-12T00:00:00.000000000",
          "2025-01-13T00:00:00.000000000",
          "2025-01-14T00:00:00.000000000",
          "2025-01-15T00:00:00.000000000",
          "2025-01-16T00:00:00.000000000",
          "2025-01-17T00:00:00.000000000",
          "2025-01-18T00:00:00.000000000",
          "2025-01-19T00:00:00.000000000",
          "2025-01-20T00:00:00.000000000",
          "2025-01-21T00:00:00.000000000",
          "2025-01-22T00:00:00.000000000",
          "2025-01-23T00:00:00.000000000",
          "2025-01-24T00:00:00.000000000",
          "2025-01-25T00:00:00.000000000",
          "2025-01-26T00:00:00.000000000",
          "2025-01-27T00:00:00.000000000",
          "2025-01-28T00:00:00.000000000",
          "2025-01-29T00:00:00.000000000",
          "2025-01-30T00:00:00.000000000",
          "2025-01-31T00:00:00.000000000",
          "2025-02-01T00:00:00.000000000",
          "2025-02-02T00:00:00.000000000",
          "2025-02-03T00:00:00.000000000",
          "2025-02-04T00:00:00.000000000",
          "2025-02-05T00:00:00.000000000",
          "2025-02-06T00:00:00.000000000",
          "2025-02-07T00:00:00.000000000",
          "2025-02-08T00:00:00.000000000",
          "2025-02-09T00:00:00.000000000",
          "2025-02-10T00:00:00.000000000",
          "2025-02-11T00:00:00.000000000",
          "2025-02-12T00:00:00.000000000",
          "2025-02-13T00:00:00.000000000",
          "2025-02-14T00:00:00.000000000",
          "2025-02-15T00:00:00.000000000",
          "2025-02-16T00:00:00.000000000",
          "2025-02-17T00:00:00.000000000",
          "2025-02-18T00:00:00.000000000",
          "2025-02-19T00:00:00.000000000",
          "2025-02-20T00:00:00.000000000",
          "2025-02-21T00:00:00.000000000",
          "2025-02-22T00:00:00.000000000",
          "2025-02-23T00:00:00.000000000",
          "2025-02-24T00:00:00.000000000",
          "2025-02-25T00:00:00.000000000",
          "2025-02-26T00:00:00.000000000",
          "2025-02-27T00:00:00.000000000",
          "2025-02-28T00:00:00.000000000",
          "2025-03-01T00:00:00.000000000",
          "2025-03-02T00:00:00.000000000",
          "2025-03-03T00:00:00.000000000",
          "2025-03-04T00:00:00.000000000",
          "2025-03-05T00:00:00.000000000",
          "2025-03-06T00:00:00.000000000",
          "2025-03-07T00:00:00.000000000",
          "2025-03-08T00:00:00.000000000",
          "2025-03-09T00:00:00.000000000",
          "2025-03-10T00:00:00.000000000",
          "2025-03-11T00:00:00.000000000",
          "2025-03-12T00:00:00.000000000",
          "2025-03-13T00:00:00.000000000",
          "2025-03-14T00:00:00.000000000",
          "2025-03-15T00:00:00.000000000",
          "2025-03-16T00:00:00.000000000",
          "2025-03-17T00:00:00.000000000",
          "2025-03-18T00:00:00.000000000",
          "2025-03-19T00:00:00.000000000",
          "2025-03-20T00:00:00.000000000",
          "2025-03-21T00:00:00.000000000",
          "2025-03-22T00:00:00.000000000",
          "2025-03-23T00:00:00.000000000",
          "2025-03-24T00:00:00.000000000",
          "2025-03-25T00:00:00.000000000",
          "2025-03-26T00:00:00.000000000",
          "2025-03-27T00:00:00.000000000",
          "2025-03-28T00:00:00.000000000",
          "2025-03-29T00:00:00.000000000",
          "2025-03-30T00:00:00.000000000",
          "2025-03-31T00:00:00.000000000",
          "2025-04-01T00:00:00.000000000"
         ],
         "y": {
          "bdata": "AAAAAAAAAAAAAAAAAAAAAM3MzMzMTDtAmpmZmZmZKUBmZmZmZmZHQM3MzMzMzBZAMzMzMzOzQUDNzMzMzAxPQDMzMzMzMxNAZmZmZmbmNUBmZmZmZmb+PwAAAAAAAAAAAAAAAAAAAAAAAAAAAAAAAAAAAAAAAAAAAAAAAAAAAAAAAAAAAAAAAAAAAAAAAAAAMzMzMzMzLUBmZmZmZmYaQDMzMzMzMyVAZmZmZmZmPUAAAAAAAAAAAJqZmZmZmUZAmpmZmZmZIUAAAAAAAKBYQAAAAAAAADdAAAAAAAAAJUAAAAAAAMBHQDMzMzMzM+M/AAAAAAAAAADNzMzMzMz0P83MzMzMzABAAAAAAAAAAAAAAAAAAAAAAAAAAAAAAAAAAAAAAAAA8D8zMzMzMzMgQJqZmZmZmfE/AAAAAAAAKEAAAAAAAAAUQM3MzMzMzC1AzczMzMzM9D8AAAAAAAAeQAAAAAAAAAAAAAAAAAAAAADNzMzMzMwYQAAAAAAAAAAAAAAAAAAAAAAzMzMzMzPTPzMzMzMzM+M/AAAAAAAAO0CamZmZmZkJQAAAAAAAAAAAmpmZmZkZSEAAAAAAAAAAAAAAAAAAAAAAAAAAAAAAAAAAAAAAAAAAAAAAAAAAAAAAAAAAAAAAAAAAAAAAAAAAAAAAAAAAAAAAmpmZmZmZDUCamZmZmZkfQGZmZmZmZiFAMzMzMzMzJ0AzMzMzMzMmQJqZmZmZmSVAAAAAAAAAAAAAAAAAAAAAAAAAAAAAAAAAAAAAAAAAAAAAAAAAAAAAAAAAAAAAAAAAAAAAAAAAAAAzMzMzMzPjPwAAAAAAAAAAmpmZmZmZAUBmZmZmZiZCQJqZmZmZmTFAAAAAAAAA+D8AAAAAAADwPwAAAAAAAAAAAAAAAAAAAAAAAAAAAAAAAAAAAAAAAAAAAAAAAAAAAAAAAAAAAAAAAAAAAAAAAAAAAAAAAAAAAAA=",
          "dtype": "f8"
         },
         "yaxis": "y"
        },
        {
         "line": {
          "color": "red"
         },
         "mode": "lines",
         "name": "Temperatura (°C)",
         "type": "scatter",
         "x": [
          "2025-01-01T00:00:00.000000000",
          "2025-01-02T00:00:00.000000000",
          "2025-01-03T00:00:00.000000000",
          "2025-01-04T00:00:00.000000000",
          "2025-01-05T00:00:00.000000000",
          "2025-01-06T00:00:00.000000000",
          "2025-01-07T00:00:00.000000000",
          "2025-01-08T00:00:00.000000000",
          "2025-01-09T00:00:00.000000000",
          "2025-01-10T00:00:00.000000000",
          "2025-01-11T00:00:00.000000000",
          "2025-01-12T00:00:00.000000000",
          "2025-01-13T00:00:00.000000000",
          "2025-01-14T00:00:00.000000000",
          "2025-01-15T00:00:00.000000000",
          "2025-01-16T00:00:00.000000000",
          "2025-01-17T00:00:00.000000000",
          "2025-01-18T00:00:00.000000000",
          "2025-01-19T00:00:00.000000000",
          "2025-01-20T00:00:00.000000000",
          "2025-01-21T00:00:00.000000000",
          "2025-01-22T00:00:00.000000000",
          "2025-01-23T00:00:00.000000000",
          "2025-01-24T00:00:00.000000000",
          "2025-01-25T00:00:00.000000000",
          "2025-01-26T00:00:00.000000000",
          "2025-01-27T00:00:00.000000000",
          "2025-01-28T00:00:00.000000000",
          "2025-01-29T00:00:00.000000000",
          "2025-01-30T00:00:00.000000000",
          "2025-01-31T00:00:00.000000000",
          "2025-02-01T00:00:00.000000000",
          "2025-02-02T00:00:00.000000000",
          "2025-02-03T00:00:00.000000000",
          "2025-02-04T00:00:00.000000000",
          "2025-02-05T00:00:00.000000000",
          "2025-02-06T00:00:00.000000000",
          "2025-02-07T00:00:00.000000000",
          "2025-02-08T00:00:00.000000000",
          "2025-02-09T00:00:00.000000000",
          "2025-02-10T00:00:00.000000000",
          "2025-02-11T00:00:00.000000000",
          "2025-02-12T00:00:00.000000000",
          "2025-02-13T00:00:00.000000000",
          "2025-02-14T00:00:00.000000000",
          "2025-02-15T00:00:00.000000000",
          "2025-02-16T00:00:00.000000000",
          "2025-02-17T00:00:00.000000000",
          "2025-02-18T00:00:00.000000000",
          "2025-02-19T00:00:00.000000000",
          "2025-02-20T00:00:00.000000000",
          "2025-02-21T00:00:00.000000000",
          "2025-02-22T00:00:00.000000000",
          "2025-02-23T00:00:00.000000000",
          "2025-02-24T00:00:00.000000000",
          "2025-02-25T00:00:00.000000000",
          "2025-02-26T00:00:00.000000000",
          "2025-02-27T00:00:00.000000000",
          "2025-02-28T00:00:00.000000000",
          "2025-03-01T00:00:00.000000000",
          "2025-03-02T00:00:00.000000000",
          "2025-03-03T00:00:00.000000000",
          "2025-03-04T00:00:00.000000000",
          "2025-03-05T00:00:00.000000000",
          "2025-03-06T00:00:00.000000000",
          "2025-03-07T00:00:00.000000000",
          "2025-03-08T00:00:00.000000000",
          "2025-03-09T00:00:00.000000000",
          "2025-03-10T00:00:00.000000000",
          "2025-03-11T00:00:00.000000000",
          "2025-03-12T00:00:00.000000000",
          "2025-03-13T00:00:00.000000000",
          "2025-03-14T00:00:00.000000000",
          "2025-03-15T00:00:00.000000000",
          "2025-03-16T00:00:00.000000000",
          "2025-03-17T00:00:00.000000000",
          "2025-03-18T00:00:00.000000000",
          "2025-03-19T00:00:00.000000000",
          "2025-03-20T00:00:00.000000000",
          "2025-03-21T00:00:00.000000000",
          "2025-03-22T00:00:00.000000000",
          "2025-03-23T00:00:00.000000000",
          "2025-03-24T00:00:00.000000000",
          "2025-03-25T00:00:00.000000000",
          "2025-03-26T00:00:00.000000000",
          "2025-03-27T00:00:00.000000000",
          "2025-03-28T00:00:00.000000000",
          "2025-03-29T00:00:00.000000000",
          "2025-03-30T00:00:00.000000000",
          "2025-03-31T00:00:00.000000000",
          "2025-04-01T00:00:00.000000000"
         ],
         "y": {
          "bdata": "uB6F61G4GUAfhetRuB4mQAAAAAAAAChA7FG4HoVrKUDhehSuR2EpQOF6FK5H4R9AzczMzMzMJkBI4XoUrkcqQMP1KFyPwipA7FG4HoXrK0CF61G4HoUrQPYoXI/C9SRAPQrXo3A9HUApXI/C9SgbQGZmZmZmZhdAAAAAAAAAHkC4HoXrUbgfQHsUrkfhehlAj8L1KFyPH0CkcD0K1yMlQFK4HoXrUSpAMzMzMzOzJUCamZmZmZkiQDMzMzMzsyZAPQrXo3A9JEDD9Shcj0IpQDMzMzMzMyFASOF6FK7HIUCPwvUoXA8hQHsUrkfheiBAw/UoXI/CH0A9CtejcD0lQD0K16NwPSJAuB6F61G4HkCkcD0K16MfQAAAAAAAgCNASOF6FK5HIUC4HoXrUbggQGZmZmZmZhFA9ihcj8J1KEAAAAAAAIAoQFyPwvUo3CNAuB6F61E4I0CuR+F6FC4oQOF6FK5H4ShA4XoUrkdhKUBmZmZmZmYmQMP1KFyPwiJAcT0K16NwKUCF61G4HoUoQGZmZmZmZilAH4XrUbgeKEC4HoXrUTgjQOxRuB6FayRAuB6F61E4KEAzMzMzMzMjQB+F61G4Hh9AMzMzMzMzJEAfhetRuJ4mQNejcD0KVyJAj8L1KFyPH0DD9Shcj8IkQOxRuB6F6ydASOF6FK5HJkDsUbgehWsmQHsUrkfh+iZArkfhehSuIUBxPQrXo3AiQM3MzMzMTCFASOF6FK7HJECuR+F6FK4gQD0K16NwPSBAhetRuB6FG0ApXI/C9SggQClcj8L1KB1ACtejcD0KIkCuR+F6FC4mQDMzMzMzMy1ASOF6FK5HK0B7FK5H4fojQPYoXI/C9R9AMzMzMzMzG0CamZmZmZkiQKRwPQrXoyZAPQrXo3A9JUCuR+F6FK4mQHE9CtejcCVAexSuR+F6J0AUrkfhehQsQPYoXI/CNTFAj8L1KFyPLEA=",
          "dtype": "f8"
         },
         "yaxis": "y2"
        }
       ],
       "layout": {
        "height": 500,
        "legend": {
         "x": 0.01,
         "y": 0.99
        },
        "template": {
         "data": {
          "bar": [
           {
            "error_x": {
             "color": "#2a3f5f"
            },
            "error_y": {
             "color": "#2a3f5f"
            },
            "marker": {
             "line": {
              "color": "#E5ECF6",
              "width": 0.5
             },
             "pattern": {
              "fillmode": "overlay",
              "size": 10,
              "solidity": 0.2
             }
            },
            "type": "bar"
           }
          ],
          "barpolar": [
           {
            "marker": {
             "line": {
              "color": "#E5ECF6",
              "width": 0.5
             },
             "pattern": {
              "fillmode": "overlay",
              "size": 10,
              "solidity": 0.2
             }
            },
            "type": "barpolar"
           }
          ],
          "carpet": [
           {
            "aaxis": {
             "endlinecolor": "#2a3f5f",
             "gridcolor": "white",
             "linecolor": "white",
             "minorgridcolor": "white",
             "startlinecolor": "#2a3f5f"
            },
            "baxis": {
             "endlinecolor": "#2a3f5f",
             "gridcolor": "white",
             "linecolor": "white",
             "minorgridcolor": "white",
             "startlinecolor": "#2a3f5f"
            },
            "type": "carpet"
           }
          ],
          "choropleth": [
           {
            "colorbar": {
             "outlinewidth": 0,
             "ticks": ""
            },
            "type": "choropleth"
           }
          ],
          "contour": [
           {
            "colorbar": {
             "outlinewidth": 0,
             "ticks": ""
            },
            "colorscale": [
             [
              0,
              "#0d0887"
             ],
             [
              0.1111111111111111,
              "#46039f"
             ],
             [
              0.2222222222222222,
              "#7201a8"
             ],
             [
              0.3333333333333333,
              "#9c179e"
             ],
             [
              0.4444444444444444,
              "#bd3786"
             ],
             [
              0.5555555555555556,
              "#d8576b"
             ],
             [
              0.6666666666666666,
              "#ed7953"
             ],
             [
              0.7777777777777778,
              "#fb9f3a"
             ],
             [
              0.8888888888888888,
              "#fdca26"
             ],
             [
              1,
              "#f0f921"
             ]
            ],
            "type": "contour"
           }
          ],
          "contourcarpet": [
           {
            "colorbar": {
             "outlinewidth": 0,
             "ticks": ""
            },
            "type": "contourcarpet"
           }
          ],
          "heatmap": [
           {
            "colorbar": {
             "outlinewidth": 0,
             "ticks": ""
            },
            "colorscale": [
             [
              0,
              "#0d0887"
             ],
             [
              0.1111111111111111,
              "#46039f"
             ],
             [
              0.2222222222222222,
              "#7201a8"
             ],
             [
              0.3333333333333333,
              "#9c179e"
             ],
             [
              0.4444444444444444,
              "#bd3786"
             ],
             [
              0.5555555555555556,
              "#d8576b"
             ],
             [
              0.6666666666666666,
              "#ed7953"
             ],
             [
              0.7777777777777778,
              "#fb9f3a"
             ],
             [
              0.8888888888888888,
              "#fdca26"
             ],
             [
              1,
              "#f0f921"
             ]
            ],
            "type": "heatmap"
           }
          ],
          "histogram": [
           {
            "marker": {
             "pattern": {
              "fillmode": "overlay",
              "size": 10,
              "solidity": 0.2
             }
            },
            "type": "histogram"
           }
          ],
          "histogram2d": [
           {
            "colorbar": {
             "outlinewidth": 0,
             "ticks": ""
            },
            "colorscale": [
             [
              0,
              "#0d0887"
             ],
             [
              0.1111111111111111,
              "#46039f"
             ],
             [
              0.2222222222222222,
              "#7201a8"
             ],
             [
              0.3333333333333333,
              "#9c179e"
             ],
             [
              0.4444444444444444,
              "#bd3786"
             ],
             [
              0.5555555555555556,
              "#d8576b"
             ],
             [
              0.6666666666666666,
              "#ed7953"
             ],
             [
              0.7777777777777778,
              "#fb9f3a"
             ],
             [
              0.8888888888888888,
              "#fdca26"
             ],
             [
              1,
              "#f0f921"
             ]
            ],
            "type": "histogram2d"
           }
          ],
          "histogram2dcontour": [
           {
            "colorbar": {
             "outlinewidth": 0,
             "ticks": ""
            },
            "colorscale": [
             [
              0,
              "#0d0887"
             ],
             [
              0.1111111111111111,
              "#46039f"
             ],
             [
              0.2222222222222222,
              "#7201a8"
             ],
             [
              0.3333333333333333,
              "#9c179e"
             ],
             [
              0.4444444444444444,
              "#bd3786"
             ],
             [
              0.5555555555555556,
              "#d8576b"
             ],
             [
              0.6666666666666666,
              "#ed7953"
             ],
             [
              0.7777777777777778,
              "#fb9f3a"
             ],
             [
              0.8888888888888888,
              "#fdca26"
             ],
             [
              1,
              "#f0f921"
             ]
            ],
            "type": "histogram2dcontour"
           }
          ],
          "mesh3d": [
           {
            "colorbar": {
             "outlinewidth": 0,
             "ticks": ""
            },
            "type": "mesh3d"
           }
          ],
          "parcoords": [
           {
            "line": {
             "colorbar": {
              "outlinewidth": 0,
              "ticks": ""
             }
            },
            "type": "parcoords"
           }
          ],
          "pie": [
           {
            "automargin": true,
            "type": "pie"
           }
          ],
          "scatter": [
           {
            "fillpattern": {
             "fillmode": "overlay",
             "size": 10,
             "solidity": 0.2
            },
            "type": "scatter"
           }
          ],
          "scatter3d": [
           {
            "line": {
             "colorbar": {
              "outlinewidth": 0,
              "ticks": ""
             }
            },
            "marker": {
             "colorbar": {
              "outlinewidth": 0,
              "ticks": ""
             }
            },
            "type": "scatter3d"
           }
          ],
          "scattercarpet": [
           {
            "marker": {
             "colorbar": {
              "outlinewidth": 0,
              "ticks": ""
             }
            },
            "type": "scattercarpet"
           }
          ],
          "scattergeo": [
           {
            "marker": {
             "colorbar": {
              "outlinewidth": 0,
              "ticks": ""
             }
            },
            "type": "scattergeo"
           }
          ],
          "scattergl": [
           {
            "marker": {
             "colorbar": {
              "outlinewidth": 0,
              "ticks": ""
             }
            },
            "type": "scattergl"
           }
          ],
          "scattermap": [
           {
            "marker": {
             "colorbar": {
              "outlinewidth": 0,
              "ticks": ""
             }
            },
            "type": "scattermap"
           }
          ],
          "scattermapbox": [
           {
            "marker": {
             "colorbar": {
              "outlinewidth": 0,
              "ticks": ""
             }
            },
            "type": "scattermapbox"
           }
          ],
          "scatterpolar": [
           {
            "marker": {
             "colorbar": {
              "outlinewidth": 0,
              "ticks": ""
             }
            },
            "type": "scatterpolar"
           }
          ],
          "scatterpolargl": [
           {
            "marker": {
             "colorbar": {
              "outlinewidth": 0,
              "ticks": ""
             }
            },
            "type": "scatterpolargl"
           }
          ],
          "scatterternary": [
           {
            "marker": {
             "colorbar": {
              "outlinewidth": 0,
              "ticks": ""
             }
            },
            "type": "scatterternary"
           }
          ],
          "surface": [
           {
            "colorbar": {
             "outlinewidth": 0,
             "ticks": ""
            },
            "colorscale": [
             [
              0,
              "#0d0887"
             ],
             [
              0.1111111111111111,
              "#46039f"
             ],
             [
              0.2222222222222222,
              "#7201a8"
             ],
             [
              0.3333333333333333,
              "#9c179e"
             ],
             [
              0.4444444444444444,
              "#bd3786"
             ],
             [
              0.5555555555555556,
              "#d8576b"
             ],
             [
              0.6666666666666666,
              "#ed7953"
             ],
             [
              0.7777777777777778,
              "#fb9f3a"
             ],
             [
              0.8888888888888888,
              "#fdca26"
             ],
             [
              1,
              "#f0f921"
             ]
            ],
            "type": "surface"
           }
          ],
          "table": [
           {
            "cells": {
             "fill": {
              "color": "#EBF0F8"
             },
             "line": {
              "color": "white"
             }
            },
            "header": {
             "fill": {
              "color": "#C8D4E3"
             },
             "line": {
              "color": "white"
             }
            },
            "type": "table"
           }
          ]
         },
         "layout": {
          "annotationdefaults": {
           "arrowcolor": "#2a3f5f",
           "arrowhead": 0,
           "arrowwidth": 1
          },
          "autotypenumbers": "strict",
          "coloraxis": {
           "colorbar": {
            "outlinewidth": 0,
            "ticks": ""
           }
          },
          "colorscale": {
           "diverging": [
            [
             0,
             "#8e0152"
            ],
            [
             0.1,
             "#c51b7d"
            ],
            [
             0.2,
             "#de77ae"
            ],
            [
             0.3,
             "#f1b6da"
            ],
            [
             0.4,
             "#fde0ef"
            ],
            [
             0.5,
             "#f7f7f7"
            ],
            [
             0.6,
             "#e6f5d0"
            ],
            [
             0.7,
             "#b8e186"
            ],
            [
             0.8,
             "#7fbc41"
            ],
            [
             0.9,
             "#4d9221"
            ],
            [
             1,
             "#276419"
            ]
           ],
           "sequential": [
            [
             0,
             "#0d0887"
            ],
            [
             0.1111111111111111,
             "#46039f"
            ],
            [
             0.2222222222222222,
             "#7201a8"
            ],
            [
             0.3333333333333333,
             "#9c179e"
            ],
            [
             0.4444444444444444,
             "#bd3786"
            ],
            [
             0.5555555555555556,
             "#d8576b"
            ],
            [
             0.6666666666666666,
             "#ed7953"
            ],
            [
             0.7777777777777778,
             "#fb9f3a"
            ],
            [
             0.8888888888888888,
             "#fdca26"
            ],
            [
             1,
             "#f0f921"
            ]
           ],
           "sequentialminus": [
            [
             0,
             "#0d0887"
            ],
            [
             0.1111111111111111,
             "#46039f"
            ],
            [
             0.2222222222222222,
             "#7201a8"
            ],
            [
             0.3333333333333333,
             "#9c179e"
            ],
            [
             0.4444444444444444,
             "#bd3786"
            ],
            [
             0.5555555555555556,
             "#d8576b"
            ],
            [
             0.6666666666666666,
             "#ed7953"
            ],
            [
             0.7777777777777778,
             "#fb9f3a"
            ],
            [
             0.8888888888888888,
             "#fdca26"
            ],
            [
             1,
             "#f0f921"
            ]
           ]
          },
          "colorway": [
           "#636efa",
           "#EF553B",
           "#00cc96",
           "#ab63fa",
           "#FFA15A",
           "#19d3f3",
           "#FF6692",
           "#B6E880",
           "#FF97FF",
           "#FECB52"
          ],
          "font": {
           "color": "#2a3f5f"
          },
          "geo": {
           "bgcolor": "white",
           "lakecolor": "white",
           "landcolor": "#E5ECF6",
           "showlakes": true,
           "showland": true,
           "subunitcolor": "white"
          },
          "hoverlabel": {
           "align": "left"
          },
          "hovermode": "closest",
          "mapbox": {
           "style": "light"
          },
          "paper_bgcolor": "white",
          "plot_bgcolor": "#E5ECF6",
          "polar": {
           "angularaxis": {
            "gridcolor": "white",
            "linecolor": "white",
            "ticks": ""
           },
           "bgcolor": "#E5ECF6",
           "radialaxis": {
            "gridcolor": "white",
            "linecolor": "white",
            "ticks": ""
           }
          },
          "scene": {
           "xaxis": {
            "backgroundcolor": "#E5ECF6",
            "gridcolor": "white",
            "gridwidth": 2,
            "linecolor": "white",
            "showbackground": true,
            "ticks": "",
            "zerolinecolor": "white"
           },
           "yaxis": {
            "backgroundcolor": "#E5ECF6",
            "gridcolor": "white",
            "gridwidth": 2,
            "linecolor": "white",
            "showbackground": true,
            "ticks": "",
            "zerolinecolor": "white"
           },
           "zaxis": {
            "backgroundcolor": "#E5ECF6",
            "gridcolor": "white",
            "gridwidth": 2,
            "linecolor": "white",
            "showbackground": true,
            "ticks": "",
            "zerolinecolor": "white"
           }
          },
          "shapedefaults": {
           "line": {
            "color": "#2a3f5f"
           }
          },
          "ternary": {
           "aaxis": {
            "gridcolor": "white",
            "linecolor": "white",
            "ticks": ""
           },
           "baxis": {
            "gridcolor": "white",
            "linecolor": "white",
            "ticks": ""
           },
           "bgcolor": "#E5ECF6",
           "caxis": {
            "gridcolor": "white",
            "linecolor": "white",
            "ticks": ""
           }
          },
          "title": {
           "x": 0.05
          },
          "xaxis": {
           "automargin": true,
           "gridcolor": "white",
           "linecolor": "white",
           "ticks": "",
           "title": {
            "standoff": 15
           },
           "zerolinecolor": "white",
           "zerolinewidth": 2
          },
          "yaxis": {
           "automargin": true,
           "gridcolor": "white",
           "linecolor": "white",
           "ticks": "",
           "title": {
            "standoff": 15
           },
           "zerolinecolor": "white",
           "zerolinewidth": 2
          }
         }
        },
        "title": {
         "text": "Lluvia y Temperatura diarias en Santiago"
        },
        "yaxis": {
         "title": {
          "text": "Lluvia (mm)"
         }
        },
        "yaxis2": {
         "overlaying": "y",
         "side": "right",
         "title": {
          "text": "Temperatura (°C)"
         }
        }
       }
      }
     },
     "metadata": {},
     "output_type": "display_data"
    },
    {
     "data": {
      "application/vnd.plotly.v1+json": {
       "config": {
        "plotlyServerURL": "https://plot.ly"
       },
       "data": [
        {
         "hovertemplate": "mes=%{x}<br>precipitacion=%{y}<extra></extra>",
         "legendgroup": "",
         "marker": {
          "color": "#636efa",
          "pattern": {
           "shape": ""
          }
         },
         "name": "",
         "orientation": "v",
         "showlegend": false,
         "textposition": "auto",
         "type": "bar",
         "x": [
          "2025-01",
          "2025-02",
          "2025-03",
          "2025-04"
         ],
         "xaxis": "x",
         "y": {
          "bdata": "AAAAAAAQgECamZmZmXlhQAAAAAAAQFxAAAAAAAAAAAA=",
          "dtype": "f8"
         },
         "yaxis": "y"
        }
       ],
       "layout": {
        "barmode": "relative",
        "legend": {
         "tracegroupgap": 0
        },
        "template": {
         "data": {
          "bar": [
           {
            "error_x": {
             "color": "#2a3f5f"
            },
            "error_y": {
             "color": "#2a3f5f"
            },
            "marker": {
             "line": {
              "color": "#E5ECF6",
              "width": 0.5
             },
             "pattern": {
              "fillmode": "overlay",
              "size": 10,
              "solidity": 0.2
             }
            },
            "type": "bar"
           }
          ],
          "barpolar": [
           {
            "marker": {
             "line": {
              "color": "#E5ECF6",
              "width": 0.5
             },
             "pattern": {
              "fillmode": "overlay",
              "size": 10,
              "solidity": 0.2
             }
            },
            "type": "barpolar"
           }
          ],
          "carpet": [
           {
            "aaxis": {
             "endlinecolor": "#2a3f5f",
             "gridcolor": "white",
             "linecolor": "white",
             "minorgridcolor": "white",
             "startlinecolor": "#2a3f5f"
            },
            "baxis": {
             "endlinecolor": "#2a3f5f",
             "gridcolor": "white",
             "linecolor": "white",
             "minorgridcolor": "white",
             "startlinecolor": "#2a3f5f"
            },
            "type": "carpet"
           }
          ],
          "choropleth": [
           {
            "colorbar": {
             "outlinewidth": 0,
             "ticks": ""
            },
            "type": "choropleth"
           }
          ],
          "contour": [
           {
            "colorbar": {
             "outlinewidth": 0,
             "ticks": ""
            },
            "colorscale": [
             [
              0,
              "#0d0887"
             ],
             [
              0.1111111111111111,
              "#46039f"
             ],
             [
              0.2222222222222222,
              "#7201a8"
             ],
             [
              0.3333333333333333,
              "#9c179e"
             ],
             [
              0.4444444444444444,
              "#bd3786"
             ],
             [
              0.5555555555555556,
              "#d8576b"
             ],
             [
              0.6666666666666666,
              "#ed7953"
             ],
             [
              0.7777777777777778,
              "#fb9f3a"
             ],
             [
              0.8888888888888888,
              "#fdca26"
             ],
             [
              1,
              "#f0f921"
             ]
            ],
            "type": "contour"
           }
          ],
          "contourcarpet": [
           {
            "colorbar": {
             "outlinewidth": 0,
             "ticks": ""
            },
            "type": "contourcarpet"
           }
          ],
          "heatmap": [
           {
            "colorbar": {
             "outlinewidth": 0,
             "ticks": ""
            },
            "colorscale": [
             [
              0,
              "#0d0887"
             ],
             [
              0.1111111111111111,
              "#46039f"
             ],
             [
              0.2222222222222222,
              "#7201a8"
             ],
             [
              0.3333333333333333,
              "#9c179e"
             ],
             [
              0.4444444444444444,
              "#bd3786"
             ],
             [
              0.5555555555555556,
              "#d8576b"
             ],
             [
              0.6666666666666666,
              "#ed7953"
             ],
             [
              0.7777777777777778,
              "#fb9f3a"
             ],
             [
              0.8888888888888888,
              "#fdca26"
             ],
             [
              1,
              "#f0f921"
             ]
            ],
            "type": "heatmap"
           }
          ],
          "histogram": [
           {
            "marker": {
             "pattern": {
              "fillmode": "overlay",
              "size": 10,
              "solidity": 0.2
             }
            },
            "type": "histogram"
           }
          ],
          "histogram2d": [
           {
            "colorbar": {
             "outlinewidth": 0,
             "ticks": ""
            },
            "colorscale": [
             [
              0,
              "#0d0887"
             ],
             [
              0.1111111111111111,
              "#46039f"
             ],
             [
              0.2222222222222222,
              "#7201a8"
             ],
             [
              0.3333333333333333,
              "#9c179e"
             ],
             [
              0.4444444444444444,
              "#bd3786"
             ],
             [
              0.5555555555555556,
              "#d8576b"
             ],
             [
              0.6666666666666666,
              "#ed7953"
             ],
             [
              0.7777777777777778,
              "#fb9f3a"
             ],
             [
              0.8888888888888888,
              "#fdca26"
             ],
             [
              1,
              "#f0f921"
             ]
            ],
            "type": "histogram2d"
           }
          ],
          "histogram2dcontour": [
           {
            "colorbar": {
             "outlinewidth": 0,
             "ticks": ""
            },
            "colorscale": [
             [
              0,
              "#0d0887"
             ],
             [
              0.1111111111111111,
              "#46039f"
             ],
             [
              0.2222222222222222,
              "#7201a8"
             ],
             [
              0.3333333333333333,
              "#9c179e"
             ],
             [
              0.4444444444444444,
              "#bd3786"
             ],
             [
              0.5555555555555556,
              "#d8576b"
             ],
             [
              0.6666666666666666,
              "#ed7953"
             ],
             [
              0.7777777777777778,
              "#fb9f3a"
             ],
             [
              0.8888888888888888,
              "#fdca26"
             ],
             [
              1,
              "#f0f921"
             ]
            ],
            "type": "histogram2dcontour"
           }
          ],
          "mesh3d": [
           {
            "colorbar": {
             "outlinewidth": 0,
             "ticks": ""
            },
            "type": "mesh3d"
           }
          ],
          "parcoords": [
           {
            "line": {
             "colorbar": {
              "outlinewidth": 0,
              "ticks": ""
             }
            },
            "type": "parcoords"
           }
          ],
          "pie": [
           {
            "automargin": true,
            "type": "pie"
           }
          ],
          "scatter": [
           {
            "fillpattern": {
             "fillmode": "overlay",
             "size": 10,
             "solidity": 0.2
            },
            "type": "scatter"
           }
          ],
          "scatter3d": [
           {
            "line": {
             "colorbar": {
              "outlinewidth": 0,
              "ticks": ""
             }
            },
            "marker": {
             "colorbar": {
              "outlinewidth": 0,
              "ticks": ""
             }
            },
            "type": "scatter3d"
           }
          ],
          "scattercarpet": [
           {
            "marker": {
             "colorbar": {
              "outlinewidth": 0,
              "ticks": ""
             }
            },
            "type": "scattercarpet"
           }
          ],
          "scattergeo": [
           {
            "marker": {
             "colorbar": {
              "outlinewidth": 0,
              "ticks": ""
             }
            },
            "type": "scattergeo"
           }
          ],
          "scattergl": [
           {
            "marker": {
             "colorbar": {
              "outlinewidth": 0,
              "ticks": ""
             }
            },
            "type": "scattergl"
           }
          ],
          "scattermap": [
           {
            "marker": {
             "colorbar": {
              "outlinewidth": 0,
              "ticks": ""
             }
            },
            "type": "scattermap"
           }
          ],
          "scattermapbox": [
           {
            "marker": {
             "colorbar": {
              "outlinewidth": 0,
              "ticks": ""
             }
            },
            "type": "scattermapbox"
           }
          ],
          "scatterpolar": [
           {
            "marker": {
             "colorbar": {
              "outlinewidth": 0,
              "ticks": ""
             }
            },
            "type": "scatterpolar"
           }
          ],
          "scatterpolargl": [
           {
            "marker": {
             "colorbar": {
              "outlinewidth": 0,
              "ticks": ""
             }
            },
            "type": "scatterpolargl"
           }
          ],
          "scatterternary": [
           {
            "marker": {
             "colorbar": {
              "outlinewidth": 0,
              "ticks": ""
             }
            },
            "type": "scatterternary"
           }
          ],
          "surface": [
           {
            "colorbar": {
             "outlinewidth": 0,
             "ticks": ""
            },
            "colorscale": [
             [
              0,
              "#0d0887"
             ],
             [
              0.1111111111111111,
              "#46039f"
             ],
             [
              0.2222222222222222,
              "#7201a8"
             ],
             [
              0.3333333333333333,
              "#9c179e"
             ],
             [
              0.4444444444444444,
              "#bd3786"
             ],
             [
              0.5555555555555556,
              "#d8576b"
             ],
             [
              0.6666666666666666,
              "#ed7953"
             ],
             [
              0.7777777777777778,
              "#fb9f3a"
             ],
             [
              0.8888888888888888,
              "#fdca26"
             ],
             [
              1,
              "#f0f921"
             ]
            ],
            "type": "surface"
           }
          ],
          "table": [
           {
            "cells": {
             "fill": {
              "color": "#EBF0F8"
             },
             "line": {
              "color": "white"
             }
            },
            "header": {
             "fill": {
              "color": "#C8D4E3"
             },
             "line": {
              "color": "white"
             }
            },
            "type": "table"
           }
          ]
         },
         "layout": {
          "annotationdefaults": {
           "arrowcolor": "#2a3f5f",
           "arrowhead": 0,
           "arrowwidth": 1
          },
          "autotypenumbers": "strict",
          "coloraxis": {
           "colorbar": {
            "outlinewidth": 0,
            "ticks": ""
           }
          },
          "colorscale": {
           "diverging": [
            [
             0,
             "#8e0152"
            ],
            [
             0.1,
             "#c51b7d"
            ],
            [
             0.2,
             "#de77ae"
            ],
            [
             0.3,
             "#f1b6da"
            ],
            [
             0.4,
             "#fde0ef"
            ],
            [
             0.5,
             "#f7f7f7"
            ],
            [
             0.6,
             "#e6f5d0"
            ],
            [
             0.7,
             "#b8e186"
            ],
            [
             0.8,
             "#7fbc41"
            ],
            [
             0.9,
             "#4d9221"
            ],
            [
             1,
             "#276419"
            ]
           ],
           "sequential": [
            [
             0,
             "#0d0887"
            ],
            [
             0.1111111111111111,
             "#46039f"
            ],
            [
             0.2222222222222222,
             "#7201a8"
            ],
            [
             0.3333333333333333,
             "#9c179e"
            ],
            [
             0.4444444444444444,
             "#bd3786"
            ],
            [
             0.5555555555555556,
             "#d8576b"
            ],
            [
             0.6666666666666666,
             "#ed7953"
            ],
            [
             0.7777777777777778,
             "#fb9f3a"
            ],
            [
             0.8888888888888888,
             "#fdca26"
            ],
            [
             1,
             "#f0f921"
            ]
           ],
           "sequentialminus": [
            [
             0,
             "#0d0887"
            ],
            [
             0.1111111111111111,
             "#46039f"
            ],
            [
             0.2222222222222222,
             "#7201a8"
            ],
            [
             0.3333333333333333,
             "#9c179e"
            ],
            [
             0.4444444444444444,
             "#bd3786"
            ],
            [
             0.5555555555555556,
             "#d8576b"
            ],
            [
             0.6666666666666666,
             "#ed7953"
            ],
            [
             0.7777777777777778,
             "#fb9f3a"
            ],
            [
             0.8888888888888888,
             "#fdca26"
            ],
            [
             1,
             "#f0f921"
            ]
           ]
          },
          "colorway": [
           "#636efa",
           "#EF553B",
           "#00cc96",
           "#ab63fa",
           "#FFA15A",
           "#19d3f3",
           "#FF6692",
           "#B6E880",
           "#FF97FF",
           "#FECB52"
          ],
          "font": {
           "color": "#2a3f5f"
          },
          "geo": {
           "bgcolor": "white",
           "lakecolor": "white",
           "landcolor": "#E5ECF6",
           "showlakes": true,
           "showland": true,
           "subunitcolor": "white"
          },
          "hoverlabel": {
           "align": "left"
          },
          "hovermode": "closest",
          "mapbox": {
           "style": "light"
          },
          "paper_bgcolor": "white",
          "plot_bgcolor": "#E5ECF6",
          "polar": {
           "angularaxis": {
            "gridcolor": "white",
            "linecolor": "white",
            "ticks": ""
           },
           "bgcolor": "#E5ECF6",
           "radialaxis": {
            "gridcolor": "white",
            "linecolor": "white",
            "ticks": ""
           }
          },
          "scene": {
           "xaxis": {
            "backgroundcolor": "#E5ECF6",
            "gridcolor": "white",
            "gridwidth": 2,
            "linecolor": "white",
            "showbackground": true,
            "ticks": "",
            "zerolinecolor": "white"
           },
           "yaxis": {
            "backgroundcolor": "#E5ECF6",
            "gridcolor": "white",
            "gridwidth": 2,
            "linecolor": "white",
            "showbackground": true,
            "ticks": "",
            "zerolinecolor": "white"
           },
           "zaxis": {
            "backgroundcolor": "#E5ECF6",
            "gridcolor": "white",
            "gridwidth": 2,
            "linecolor": "white",
            "showbackground": true,
            "ticks": "",
            "zerolinecolor": "white"
           }
          },
          "shapedefaults": {
           "line": {
            "color": "#2a3f5f"
           }
          },
          "ternary": {
           "aaxis": {
            "gridcolor": "white",
            "linecolor": "white",
            "ticks": ""
           },
           "baxis": {
            "gridcolor": "white",
            "linecolor": "white",
            "ticks": ""
           },
           "bgcolor": "#E5ECF6",
           "caxis": {
            "gridcolor": "white",
            "linecolor": "white",
            "ticks": ""
           }
          },
          "title": {
           "x": 0.05
          },
          "xaxis": {
           "automargin": true,
           "gridcolor": "white",
           "linecolor": "white",
           "ticks": "",
           "title": {
            "standoff": 15
           },
           "zerolinecolor": "white",
           "zerolinewidth": 2
          },
          "yaxis": {
           "automargin": true,
           "gridcolor": "white",
           "linecolor": "white",
           "ticks": "",
           "title": {
            "standoff": 15
           },
           "zerolinecolor": "white",
           "zerolinewidth": 2
          }
         }
        },
        "title": {
         "text": "Lluvia acumulada por mes"
        },
        "xaxis": {
         "anchor": "y",
         "domain": [
          0,
          1
         ],
         "dtick": "M1",
         "tickformat": "%b %Y",
         "title": {
          "text": "mes"
         }
        },
        "yaxis": {
         "anchor": "x",
         "domain": [
          0,
          1
         ],
         "title": {
          "text": "precipitacion"
         }
        }
       }
      }
     },
     "metadata": {},
     "output_type": "display_data"
    },
    {
     "data": {
      "application/vnd.plotly.v1+json": {
       "config": {
        "plotlyServerURL": "https://plot.ly"
       },
       "data": [
        {
         "hovertemplate": "mes=%{x}<br>temperatura=%{y}<extra></extra>",
         "legendgroup": "",
         "line": {
          "color": "#636efa",
          "dash": "solid"
         },
         "marker": {
          "symbol": "circle"
         },
         "mode": "lines",
         "name": "",
         "orientation": "v",
         "showlegend": false,
         "type": "scatter",
         "x": [
          "2025-01",
          "2025-02",
          "2025-03",
          "2025-04"
         ],
         "xaxis": "x",
         "y": {
          "bdata": "7OPCPi7sI0Ba3hjBRJ8kQAxEvkDkiyRAj8L1KFyPLEA=",
          "dtype": "f8"
         },
         "yaxis": "y"
        }
       ],
       "layout": {
        "legend": {
         "tracegroupgap": 0
        },
        "template": {
         "data": {
          "bar": [
           {
            "error_x": {
             "color": "#2a3f5f"
            },
            "error_y": {
             "color": "#2a3f5f"
            },
            "marker": {
             "line": {
              "color": "#E5ECF6",
              "width": 0.5
             },
             "pattern": {
              "fillmode": "overlay",
              "size": 10,
              "solidity": 0.2
             }
            },
            "type": "bar"
           }
          ],
          "barpolar": [
           {
            "marker": {
             "line": {
              "color": "#E5ECF6",
              "width": 0.5
             },
             "pattern": {
              "fillmode": "overlay",
              "size": 10,
              "solidity": 0.2
             }
            },
            "type": "barpolar"
           }
          ],
          "carpet": [
           {
            "aaxis": {
             "endlinecolor": "#2a3f5f",
             "gridcolor": "white",
             "linecolor": "white",
             "minorgridcolor": "white",
             "startlinecolor": "#2a3f5f"
            },
            "baxis": {
             "endlinecolor": "#2a3f5f",
             "gridcolor": "white",
             "linecolor": "white",
             "minorgridcolor": "white",
             "startlinecolor": "#2a3f5f"
            },
            "type": "carpet"
           }
          ],
          "choropleth": [
           {
            "colorbar": {
             "outlinewidth": 0,
             "ticks": ""
            },
            "type": "choropleth"
           }
          ],
          "contour": [
           {
            "colorbar": {
             "outlinewidth": 0,
             "ticks": ""
            },
            "colorscale": [
             [
              0,
              "#0d0887"
             ],
             [
              0.1111111111111111,
              "#46039f"
             ],
             [
              0.2222222222222222,
              "#7201a8"
             ],
             [
              0.3333333333333333,
              "#9c179e"
             ],
             [
              0.4444444444444444,
              "#bd3786"
             ],
             [
              0.5555555555555556,
              "#d8576b"
             ],
             [
              0.6666666666666666,
              "#ed7953"
             ],
             [
              0.7777777777777778,
              "#fb9f3a"
             ],
             [
              0.8888888888888888,
              "#fdca26"
             ],
             [
              1,
              "#f0f921"
             ]
            ],
            "type": "contour"
           }
          ],
          "contourcarpet": [
           {
            "colorbar": {
             "outlinewidth": 0,
             "ticks": ""
            },
            "type": "contourcarpet"
           }
          ],
          "heatmap": [
           {
            "colorbar": {
             "outlinewidth": 0,
             "ticks": ""
            },
            "colorscale": [
             [
              0,
              "#0d0887"
             ],
             [
              0.1111111111111111,
              "#46039f"
             ],
             [
              0.2222222222222222,
              "#7201a8"
             ],
             [
              0.3333333333333333,
              "#9c179e"
             ],
             [
              0.4444444444444444,
              "#bd3786"
             ],
             [
              0.5555555555555556,
              "#d8576b"
             ],
             [
              0.6666666666666666,
              "#ed7953"
             ],
             [
              0.7777777777777778,
              "#fb9f3a"
             ],
             [
              0.8888888888888888,
              "#fdca26"
             ],
             [
              1,
              "#f0f921"
             ]
            ],
            "type": "heatmap"
           }
          ],
          "histogram": [
           {
            "marker": {
             "pattern": {
              "fillmode": "overlay",
              "size": 10,
              "solidity": 0.2
             }
            },
            "type": "histogram"
           }
          ],
          "histogram2d": [
           {
            "colorbar": {
             "outlinewidth": 0,
             "ticks": ""
            },
            "colorscale": [
             [
              0,
              "#0d0887"
             ],
             [
              0.1111111111111111,
              "#46039f"
             ],
             [
              0.2222222222222222,
              "#7201a8"
             ],
             [
              0.3333333333333333,
              "#9c179e"
             ],
             [
              0.4444444444444444,
              "#bd3786"
             ],
             [
              0.5555555555555556,
              "#d8576b"
             ],
             [
              0.6666666666666666,
              "#ed7953"
             ],
             [
              0.7777777777777778,
              "#fb9f3a"
             ],
             [
              0.8888888888888888,
              "#fdca26"
             ],
             [
              1,
              "#f0f921"
             ]
            ],
            "type": "histogram2d"
           }
          ],
          "histogram2dcontour": [
           {
            "colorbar": {
             "outlinewidth": 0,
             "ticks": ""
            },
            "colorscale": [
             [
              0,
              "#0d0887"
             ],
             [
              0.1111111111111111,
              "#46039f"
             ],
             [
              0.2222222222222222,
              "#7201a8"
             ],
             [
              0.3333333333333333,
              "#9c179e"
             ],
             [
              0.4444444444444444,
              "#bd3786"
             ],
             [
              0.5555555555555556,
              "#d8576b"
             ],
             [
              0.6666666666666666,
              "#ed7953"
             ],
             [
              0.7777777777777778,
              "#fb9f3a"
             ],
             [
              0.8888888888888888,
              "#fdca26"
             ],
             [
              1,
              "#f0f921"
             ]
            ],
            "type": "histogram2dcontour"
           }
          ],
          "mesh3d": [
           {
            "colorbar": {
             "outlinewidth": 0,
             "ticks": ""
            },
            "type": "mesh3d"
           }
          ],
          "parcoords": [
           {
            "line": {
             "colorbar": {
              "outlinewidth": 0,
              "ticks": ""
             }
            },
            "type": "parcoords"
           }
          ],
          "pie": [
           {
            "automargin": true,
            "type": "pie"
           }
          ],
          "scatter": [
           {
            "fillpattern": {
             "fillmode": "overlay",
             "size": 10,
             "solidity": 0.2
            },
            "type": "scatter"
           }
          ],
          "scatter3d": [
           {
            "line": {
             "colorbar": {
              "outlinewidth": 0,
              "ticks": ""
             }
            },
            "marker": {
             "colorbar": {
              "outlinewidth": 0,
              "ticks": ""
             }
            },
            "type": "scatter3d"
           }
          ],
          "scattercarpet": [
           {
            "marker": {
             "colorbar": {
              "outlinewidth": 0,
              "ticks": ""
             }
            },
            "type": "scattercarpet"
           }
          ],
          "scattergeo": [
           {
            "marker": {
             "colorbar": {
              "outlinewidth": 0,
              "ticks": ""
             }
            },
            "type": "scattergeo"
           }
          ],
          "scattergl": [
           {
            "marker": {
             "colorbar": {
              "outlinewidth": 0,
              "ticks": ""
             }
            },
            "type": "scattergl"
           }
          ],
          "scattermap": [
           {
            "marker": {
             "colorbar": {
              "outlinewidth": 0,
              "ticks": ""
             }
            },
            "type": "scattermap"
           }
          ],
          "scattermapbox": [
           {
            "marker": {
             "colorbar": {
              "outlinewidth": 0,
              "ticks": ""
             }
            },
            "type": "scattermapbox"
           }
          ],
          "scatterpolar": [
           {
            "marker": {
             "colorbar": {
              "outlinewidth": 0,
              "ticks": ""
             }
            },
            "type": "scatterpolar"
           }
          ],
          "scatterpolargl": [
           {
            "marker": {
             "colorbar": {
              "outlinewidth": 0,
              "ticks": ""
             }
            },
            "type": "scatterpolargl"
           }
          ],
          "scatterternary": [
           {
            "marker": {
             "colorbar": {
              "outlinewidth": 0,
              "ticks": ""
             }
            },
            "type": "scatterternary"
           }
          ],
          "surface": [
           {
            "colorbar": {
             "outlinewidth": 0,
             "ticks": ""
            },
            "colorscale": [
             [
              0,
              "#0d0887"
             ],
             [
              0.1111111111111111,
              "#46039f"
             ],
             [
              0.2222222222222222,
              "#7201a8"
             ],
             [
              0.3333333333333333,
              "#9c179e"
             ],
             [
              0.4444444444444444,
              "#bd3786"
             ],
             [
              0.5555555555555556,
              "#d8576b"
             ],
             [
              0.6666666666666666,
              "#ed7953"
             ],
             [
              0.7777777777777778,
              "#fb9f3a"
             ],
             [
              0.8888888888888888,
              "#fdca26"
             ],
             [
              1,
              "#f0f921"
             ]
            ],
            "type": "surface"
           }
          ],
          "table": [
           {
            "cells": {
             "fill": {
              "color": "#EBF0F8"
             },
             "line": {
              "color": "white"
             }
            },
            "header": {
             "fill": {
              "color": "#C8D4E3"
             },
             "line": {
              "color": "white"
             }
            },
            "type": "table"
           }
          ]
         },
         "layout": {
          "annotationdefaults": {
           "arrowcolor": "#2a3f5f",
           "arrowhead": 0,
           "arrowwidth": 1
          },
          "autotypenumbers": "strict",
          "coloraxis": {
           "colorbar": {
            "outlinewidth": 0,
            "ticks": ""
           }
          },
          "colorscale": {
           "diverging": [
            [
             0,
             "#8e0152"
            ],
            [
             0.1,
             "#c51b7d"
            ],
            [
             0.2,
             "#de77ae"
            ],
            [
             0.3,
             "#f1b6da"
            ],
            [
             0.4,
             "#fde0ef"
            ],
            [
             0.5,
             "#f7f7f7"
            ],
            [
             0.6,
             "#e6f5d0"
            ],
            [
             0.7,
             "#b8e186"
            ],
            [
             0.8,
             "#7fbc41"
            ],
            [
             0.9,
             "#4d9221"
            ],
            [
             1,
             "#276419"
            ]
           ],
           "sequential": [
            [
             0,
             "#0d0887"
            ],
            [
             0.1111111111111111,
             "#46039f"
            ],
            [
             0.2222222222222222,
             "#7201a8"
            ],
            [
             0.3333333333333333,
             "#9c179e"
            ],
            [
             0.4444444444444444,
             "#bd3786"
            ],
            [
             0.5555555555555556,
             "#d8576b"
            ],
            [
             0.6666666666666666,
             "#ed7953"
            ],
            [
             0.7777777777777778,
             "#fb9f3a"
            ],
            [
             0.8888888888888888,
             "#fdca26"
            ],
            [
             1,
             "#f0f921"
            ]
           ],
           "sequentialminus": [
            [
             0,
             "#0d0887"
            ],
            [
             0.1111111111111111,
             "#46039f"
            ],
            [
             0.2222222222222222,
             "#7201a8"
            ],
            [
             0.3333333333333333,
             "#9c179e"
            ],
            [
             0.4444444444444444,
             "#bd3786"
            ],
            [
             0.5555555555555556,
             "#d8576b"
            ],
            [
             0.6666666666666666,
             "#ed7953"
            ],
            [
             0.7777777777777778,
             "#fb9f3a"
            ],
            [
             0.8888888888888888,
             "#fdca26"
            ],
            [
             1,
             "#f0f921"
            ]
           ]
          },
          "colorway": [
           "#636efa",
           "#EF553B",
           "#00cc96",
           "#ab63fa",
           "#FFA15A",
           "#19d3f3",
           "#FF6692",
           "#B6E880",
           "#FF97FF",
           "#FECB52"
          ],
          "font": {
           "color": "#2a3f5f"
          },
          "geo": {
           "bgcolor": "white",
           "lakecolor": "white",
           "landcolor": "#E5ECF6",
           "showlakes": true,
           "showland": true,
           "subunitcolor": "white"
          },
          "hoverlabel": {
           "align": "left"
          },
          "hovermode": "closest",
          "mapbox": {
           "style": "light"
          },
          "paper_bgcolor": "white",
          "plot_bgcolor": "#E5ECF6",
          "polar": {
           "angularaxis": {
            "gridcolor": "white",
            "linecolor": "white",
            "ticks": ""
           },
           "bgcolor": "#E5ECF6",
           "radialaxis": {
            "gridcolor": "white",
            "linecolor": "white",
            "ticks": ""
           }
          },
          "scene": {
           "xaxis": {
            "backgroundcolor": "#E5ECF6",
            "gridcolor": "white",
            "gridwidth": 2,
            "linecolor": "white",
            "showbackground": true,
            "ticks": "",
            "zerolinecolor": "white"
           },
           "yaxis": {
            "backgroundcolor": "#E5ECF6",
            "gridcolor": "white",
            "gridwidth": 2,
            "linecolor": "white",
            "showbackground": true,
            "ticks": "",
            "zerolinecolor": "white"
           },
           "zaxis": {
            "backgroundcolor": "#E5ECF6",
            "gridcolor": "white",
            "gridwidth": 2,
            "linecolor": "white",
            "showbackground": true,
            "ticks": "",
            "zerolinecolor": "white"
           }
          },
          "shapedefaults": {
           "line": {
            "color": "#2a3f5f"
           }
          },
          "ternary": {
           "aaxis": {
            "gridcolor": "white",
            "linecolor": "white",
            "ticks": ""
           },
           "baxis": {
            "gridcolor": "white",
            "linecolor": "white",
            "ticks": ""
           },
           "bgcolor": "#E5ECF6",
           "caxis": {
            "gridcolor": "white",
            "linecolor": "white",
            "ticks": ""
           }
          },
          "title": {
           "x": 0.05
          },
          "xaxis": {
           "automargin": true,
           "gridcolor": "white",
           "linecolor": "white",
           "ticks": "",
           "title": {
            "standoff": 15
           },
           "zerolinecolor": "white",
           "zerolinewidth": 2
          },
          "yaxis": {
           "automargin": true,
           "gridcolor": "white",
           "linecolor": "white",
           "ticks": "",
           "title": {
            "standoff": 15
           },
           "zerolinecolor": "white",
           "zerolinewidth": 2
          }
         }
        },
        "title": {
         "text": "Temperatura media mensual"
        },
        "xaxis": {
         "anchor": "y",
         "domain": [
          0,
          1
         ],
         "dtick": "M1",
         "tickformat": "%b %Y",
         "title": {
          "text": "mes"
         }
        },
        "yaxis": {
         "anchor": "x",
         "domain": [
          0,
          1
         ],
         "title": {
          "text": "temperatura"
         }
        }
       }
      }
     },
     "metadata": {},
     "output_type": "display_data"
    },
    {
     "data": {
      "application/vnd.plotly.v1+json": {
       "config": {
        "plotlyServerURL": "https://plot.ly"
       },
       "data": [
        {
         "bingroup": "x",
         "hovertemplate": "temperatura=%{x}<br>count=%{y}<extra></extra>",
         "legendgroup": "",
         "marker": {
          "color": "#636efa",
          "pattern": {
           "shape": ""
          }
         },
         "name": "",
         "nbinsx": 30,
         "orientation": "v",
         "showlegend": false,
         "type": "histogram",
         "x": {
          "bdata": "uB6F61G4GUAfhetRuB4mQAAAAAAAAChA7FG4HoVrKUDhehSuR2EpQOF6FK5H4R9AzczMzMzMJkBI4XoUrkcqQMP1KFyPwipA7FG4HoXrK0CF61G4HoUrQPYoXI/C9SRAPQrXo3A9HUApXI/C9SgbQGZmZmZmZhdAAAAAAAAAHkC4HoXrUbgfQHsUrkfhehlAj8L1KFyPH0CkcD0K1yMlQFK4HoXrUSpAMzMzMzOzJUCamZmZmZkiQDMzMzMzsyZAPQrXo3A9JEDD9Shcj0IpQDMzMzMzMyFASOF6FK7HIUCPwvUoXA8hQHsUrkfheiBAw/UoXI/CH0A9CtejcD0lQD0K16NwPSJAuB6F61G4HkCkcD0K16MfQAAAAAAAgCNASOF6FK5HIUC4HoXrUbggQGZmZmZmZhFA9ihcj8J1KEAAAAAAAIAoQFyPwvUo3CNAuB6F61E4I0CuR+F6FC4oQOF6FK5H4ShA4XoUrkdhKUBmZmZmZmYmQMP1KFyPwiJAcT0K16NwKUCF61G4HoUoQGZmZmZmZilAH4XrUbgeKEC4HoXrUTgjQOxRuB6FayRAuB6F61E4KEAzMzMzMzMjQB+F61G4Hh9AMzMzMzMzJEAfhetRuJ4mQNejcD0KVyJAj8L1KFyPH0DD9Shcj8IkQOxRuB6F6ydASOF6FK5HJkDsUbgehWsmQHsUrkfh+iZArkfhehSuIUBxPQrXo3AiQM3MzMzMTCFASOF6FK7HJECuR+F6FK4gQD0K16NwPSBAhetRuB6FG0ApXI/C9SggQClcj8L1KB1ACtejcD0KIkCuR+F6FC4mQDMzMzMzMy1ASOF6FK5HK0B7FK5H4fojQPYoXI/C9R9AMzMzMzMzG0CamZmZmZkiQKRwPQrXoyZAPQrXo3A9JUCuR+F6FK4mQHE9CtejcCVAexSuR+F6J0AUrkfhehQsQPYoXI/CNTFAj8L1KFyPLEA=",
          "dtype": "f8"
         },
         "xaxis": "x",
         "yaxis": "y"
        }
       ],
       "layout": {
        "barmode": "relative",
        "legend": {
         "tracegroupgap": 0
        },
        "template": {
         "data": {
          "bar": [
           {
            "error_x": {
             "color": "#2a3f5f"
            },
            "error_y": {
             "color": "#2a3f5f"
            },
            "marker": {
             "line": {
              "color": "#E5ECF6",
              "width": 0.5
             },
             "pattern": {
              "fillmode": "overlay",
              "size": 10,
              "solidity": 0.2
             }
            },
            "type": "bar"
           }
          ],
          "barpolar": [
           {
            "marker": {
             "line": {
              "color": "#E5ECF6",
              "width": 0.5
             },
             "pattern": {
              "fillmode": "overlay",
              "size": 10,
              "solidity": 0.2
             }
            },
            "type": "barpolar"
           }
          ],
          "carpet": [
           {
            "aaxis": {
             "endlinecolor": "#2a3f5f",
             "gridcolor": "white",
             "linecolor": "white",
             "minorgridcolor": "white",
             "startlinecolor": "#2a3f5f"
            },
            "baxis": {
             "endlinecolor": "#2a3f5f",
             "gridcolor": "white",
             "linecolor": "white",
             "minorgridcolor": "white",
             "startlinecolor": "#2a3f5f"
            },
            "type": "carpet"
           }
          ],
          "choropleth": [
           {
            "colorbar": {
             "outlinewidth": 0,
             "ticks": ""
            },
            "type": "choropleth"
           }
          ],
          "contour": [
           {
            "colorbar": {
             "outlinewidth": 0,
             "ticks": ""
            },
            "colorscale": [
             [
              0,
              "#0d0887"
             ],
             [
              0.1111111111111111,
              "#46039f"
             ],
             [
              0.2222222222222222,
              "#7201a8"
             ],
             [
              0.3333333333333333,
              "#9c179e"
             ],
             [
              0.4444444444444444,
              "#bd3786"
             ],
             [
              0.5555555555555556,
              "#d8576b"
             ],
             [
              0.6666666666666666,
              "#ed7953"
             ],
             [
              0.7777777777777778,
              "#fb9f3a"
             ],
             [
              0.8888888888888888,
              "#fdca26"
             ],
             [
              1,
              "#f0f921"
             ]
            ],
            "type": "contour"
           }
          ],
          "contourcarpet": [
           {
            "colorbar": {
             "outlinewidth": 0,
             "ticks": ""
            },
            "type": "contourcarpet"
           }
          ],
          "heatmap": [
           {
            "colorbar": {
             "outlinewidth": 0,
             "ticks": ""
            },
            "colorscale": [
             [
              0,
              "#0d0887"
             ],
             [
              0.1111111111111111,
              "#46039f"
             ],
             [
              0.2222222222222222,
              "#7201a8"
             ],
             [
              0.3333333333333333,
              "#9c179e"
             ],
             [
              0.4444444444444444,
              "#bd3786"
             ],
             [
              0.5555555555555556,
              "#d8576b"
             ],
             [
              0.6666666666666666,
              "#ed7953"
             ],
             [
              0.7777777777777778,
              "#fb9f3a"
             ],
             [
              0.8888888888888888,
              "#fdca26"
             ],
             [
              1,
              "#f0f921"
             ]
            ],
            "type": "heatmap"
           }
          ],
          "histogram": [
           {
            "marker": {
             "pattern": {
              "fillmode": "overlay",
              "size": 10,
              "solidity": 0.2
             }
            },
            "type": "histogram"
           }
          ],
          "histogram2d": [
           {
            "colorbar": {
             "outlinewidth": 0,
             "ticks": ""
            },
            "colorscale": [
             [
              0,
              "#0d0887"
             ],
             [
              0.1111111111111111,
              "#46039f"
             ],
             [
              0.2222222222222222,
              "#7201a8"
             ],
             [
              0.3333333333333333,
              "#9c179e"
             ],
             [
              0.4444444444444444,
              "#bd3786"
             ],
             [
              0.5555555555555556,
              "#d8576b"
             ],
             [
              0.6666666666666666,
              "#ed7953"
             ],
             [
              0.7777777777777778,
              "#fb9f3a"
             ],
             [
              0.8888888888888888,
              "#fdca26"
             ],
             [
              1,
              "#f0f921"
             ]
            ],
            "type": "histogram2d"
           }
          ],
          "histogram2dcontour": [
           {
            "colorbar": {
             "outlinewidth": 0,
             "ticks": ""
            },
            "colorscale": [
             [
              0,
              "#0d0887"
             ],
             [
              0.1111111111111111,
              "#46039f"
             ],
             [
              0.2222222222222222,
              "#7201a8"
             ],
             [
              0.3333333333333333,
              "#9c179e"
             ],
             [
              0.4444444444444444,
              "#bd3786"
             ],
             [
              0.5555555555555556,
              "#d8576b"
             ],
             [
              0.6666666666666666,
              "#ed7953"
             ],
             [
              0.7777777777777778,
              "#fb9f3a"
             ],
             [
              0.8888888888888888,
              "#fdca26"
             ],
             [
              1,
              "#f0f921"
             ]
            ],
            "type": "histogram2dcontour"
           }
          ],
          "mesh3d": [
           {
            "colorbar": {
             "outlinewidth": 0,
             "ticks": ""
            },
            "type": "mesh3d"
           }
          ],
          "parcoords": [
           {
            "line": {
             "colorbar": {
              "outlinewidth": 0,
              "ticks": ""
             }
            },
            "type": "parcoords"
           }
          ],
          "pie": [
           {
            "automargin": true,
            "type": "pie"
           }
          ],
          "scatter": [
           {
            "fillpattern": {
             "fillmode": "overlay",
             "size": 10,
             "solidity": 0.2
            },
            "type": "scatter"
           }
          ],
          "scatter3d": [
           {
            "line": {
             "colorbar": {
              "outlinewidth": 0,
              "ticks": ""
             }
            },
            "marker": {
             "colorbar": {
              "outlinewidth": 0,
              "ticks": ""
             }
            },
            "type": "scatter3d"
           }
          ],
          "scattercarpet": [
           {
            "marker": {
             "colorbar": {
              "outlinewidth": 0,
              "ticks": ""
             }
            },
            "type": "scattercarpet"
           }
          ],
          "scattergeo": [
           {
            "marker": {
             "colorbar": {
              "outlinewidth": 0,
              "ticks": ""
             }
            },
            "type": "scattergeo"
           }
          ],
          "scattergl": [
           {
            "marker": {
             "colorbar": {
              "outlinewidth": 0,
              "ticks": ""
             }
            },
            "type": "scattergl"
           }
          ],
          "scattermap": [
           {
            "marker": {
             "colorbar": {
              "outlinewidth": 0,
              "ticks": ""
             }
            },
            "type": "scattermap"
           }
          ],
          "scattermapbox": [
           {
            "marker": {
             "colorbar": {
              "outlinewidth": 0,
              "ticks": ""
             }
            },
            "type": "scattermapbox"
           }
          ],
          "scatterpolar": [
           {
            "marker": {
             "colorbar": {
              "outlinewidth": 0,
              "ticks": ""
             }
            },
            "type": "scatterpolar"
           }
          ],
          "scatterpolargl": [
           {
            "marker": {
             "colorbar": {
              "outlinewidth": 0,
              "ticks": ""
             }
            },
            "type": "scatterpolargl"
           }
          ],
          "scatterternary": [
           {
            "marker": {
             "colorbar": {
              "outlinewidth": 0,
              "ticks": ""
             }
            },
            "type": "scatterternary"
           }
          ],
          "surface": [
           {
            "colorbar": {
             "outlinewidth": 0,
             "ticks": ""
            },
            "colorscale": [
             [
              0,
              "#0d0887"
             ],
             [
              0.1111111111111111,
              "#46039f"
             ],
             [
              0.2222222222222222,
              "#7201a8"
             ],
             [
              0.3333333333333333,
              "#9c179e"
             ],
             [
              0.4444444444444444,
              "#bd3786"
             ],
             [
              0.5555555555555556,
              "#d8576b"
             ],
             [
              0.6666666666666666,
              "#ed7953"
             ],
             [
              0.7777777777777778,
              "#fb9f3a"
             ],
             [
              0.8888888888888888,
              "#fdca26"
             ],
             [
              1,
              "#f0f921"
             ]
            ],
            "type": "surface"
           }
          ],
          "table": [
           {
            "cells": {
             "fill": {
              "color": "#EBF0F8"
             },
             "line": {
              "color": "white"
             }
            },
            "header": {
             "fill": {
              "color": "#C8D4E3"
             },
             "line": {
              "color": "white"
             }
            },
            "type": "table"
           }
          ]
         },
         "layout": {
          "annotationdefaults": {
           "arrowcolor": "#2a3f5f",
           "arrowhead": 0,
           "arrowwidth": 1
          },
          "autotypenumbers": "strict",
          "coloraxis": {
           "colorbar": {
            "outlinewidth": 0,
            "ticks": ""
           }
          },
          "colorscale": {
           "diverging": [
            [
             0,
             "#8e0152"
            ],
            [
             0.1,
             "#c51b7d"
            ],
            [
             0.2,
             "#de77ae"
            ],
            [
             0.3,
             "#f1b6da"
            ],
            [
             0.4,
             "#fde0ef"
            ],
            [
             0.5,
             "#f7f7f7"
            ],
            [
             0.6,
             "#e6f5d0"
            ],
            [
             0.7,
             "#b8e186"
            ],
            [
             0.8,
             "#7fbc41"
            ],
            [
             0.9,
             "#4d9221"
            ],
            [
             1,
             "#276419"
            ]
           ],
           "sequential": [
            [
             0,
             "#0d0887"
            ],
            [
             0.1111111111111111,
             "#46039f"
            ],
            [
             0.2222222222222222,
             "#7201a8"
            ],
            [
             0.3333333333333333,
             "#9c179e"
            ],
            [
             0.4444444444444444,
             "#bd3786"
            ],
            [
             0.5555555555555556,
             "#d8576b"
            ],
            [
             0.6666666666666666,
             "#ed7953"
            ],
            [
             0.7777777777777778,
             "#fb9f3a"
            ],
            [
             0.8888888888888888,
             "#fdca26"
            ],
            [
             1,
             "#f0f921"
            ]
           ],
           "sequentialminus": [
            [
             0,
             "#0d0887"
            ],
            [
             0.1111111111111111,
             "#46039f"
            ],
            [
             0.2222222222222222,
             "#7201a8"
            ],
            [
             0.3333333333333333,
             "#9c179e"
            ],
            [
             0.4444444444444444,
             "#bd3786"
            ],
            [
             0.5555555555555556,
             "#d8576b"
            ],
            [
             0.6666666666666666,
             "#ed7953"
            ],
            [
             0.7777777777777778,
             "#fb9f3a"
            ],
            [
             0.8888888888888888,
             "#fdca26"
            ],
            [
             1,
             "#f0f921"
            ]
           ]
          },
          "colorway": [
           "#636efa",
           "#EF553B",
           "#00cc96",
           "#ab63fa",
           "#FFA15A",
           "#19d3f3",
           "#FF6692",
           "#B6E880",
           "#FF97FF",
           "#FECB52"
          ],
          "font": {
           "color": "#2a3f5f"
          },
          "geo": {
           "bgcolor": "white",
           "lakecolor": "white",
           "landcolor": "#E5ECF6",
           "showlakes": true,
           "showland": true,
           "subunitcolor": "white"
          },
          "hoverlabel": {
           "align": "left"
          },
          "hovermode": "closest",
          "mapbox": {
           "style": "light"
          },
          "paper_bgcolor": "white",
          "plot_bgcolor": "#E5ECF6",
          "polar": {
           "angularaxis": {
            "gridcolor": "white",
            "linecolor": "white",
            "ticks": ""
           },
           "bgcolor": "#E5ECF6",
           "radialaxis": {
            "gridcolor": "white",
            "linecolor": "white",
            "ticks": ""
           }
          },
          "scene": {
           "xaxis": {
            "backgroundcolor": "#E5ECF6",
            "gridcolor": "white",
            "gridwidth": 2,
            "linecolor": "white",
            "showbackground": true,
            "ticks": "",
            "zerolinecolor": "white"
           },
           "yaxis": {
            "backgroundcolor": "#E5ECF6",
            "gridcolor": "white",
            "gridwidth": 2,
            "linecolor": "white",
            "showbackground": true,
            "ticks": "",
            "zerolinecolor": "white"
           },
           "zaxis": {
            "backgroundcolor": "#E5ECF6",
            "gridcolor": "white",
            "gridwidth": 2,
            "linecolor": "white",
            "showbackground": true,
            "ticks": "",
            "zerolinecolor": "white"
           }
          },
          "shapedefaults": {
           "line": {
            "color": "#2a3f5f"
           }
          },
          "ternary": {
           "aaxis": {
            "gridcolor": "white",
            "linecolor": "white",
            "ticks": ""
           },
           "baxis": {
            "gridcolor": "white",
            "linecolor": "white",
            "ticks": ""
           },
           "bgcolor": "#E5ECF6",
           "caxis": {
            "gridcolor": "white",
            "linecolor": "white",
            "ticks": ""
           }
          },
          "title": {
           "x": 0.05
          },
          "xaxis": {
           "automargin": true,
           "gridcolor": "white",
           "linecolor": "white",
           "ticks": "",
           "title": {
            "standoff": 15
           },
           "zerolinecolor": "white",
           "zerolinewidth": 2
          },
          "yaxis": {
           "automargin": true,
           "gridcolor": "white",
           "linecolor": "white",
           "ticks": "",
           "title": {
            "standoff": 15
           },
           "zerolinecolor": "white",
           "zerolinewidth": 2
          }
         }
        },
        "title": {
         "text": "Distribución de temperaturas"
        },
        "xaxis": {
         "anchor": "y",
         "domain": [
          0,
          1
         ],
         "dtick": "M1",
         "tickformat": "%b %Y",
         "title": {
          "text": "temperatura"
         }
        },
        "yaxis": {
         "anchor": "x",
         "domain": [
          0,
          1
         ],
         "title": {
          "text": "count"
         }
        }
       }
      }
     },
     "metadata": {},
     "output_type": "display_data"
    },
    {
     "data": {
      "application/vnd.plotly.v1+json": {
       "config": {
        "plotlyServerURL": "https://plot.ly"
       },
       "data": [
        {
         "alignmentgroup": "True",
         "hovertemplate": "mes=%{x}<br>temperatura=%{y}<extra></extra>",
         "legendgroup": "",
         "marker": {
          "color": "#636efa"
         },
         "name": "",
         "notched": false,
         "offsetgroup": "",
         "orientation": "v",
         "showlegend": false,
         "type": "box",
         "x": [
          "2025-01",
          "2025-01",
          "2025-01",
          "2025-01",
          "2025-01",
          "2025-01",
          "2025-01",
          "2025-01",
          "2025-01",
          "2025-01",
          "2025-01",
          "2025-01",
          "2025-01",
          "2025-01",
          "2025-01",
          "2025-01",
          "2025-01",
          "2025-01",
          "2025-01",
          "2025-01",
          "2025-01",
          "2025-01",
          "2025-01",
          "2025-01",
          "2025-01",
          "2025-01",
          "2025-01",
          "2025-01",
          "2025-01",
          "2025-01",
          "2025-01",
          "2025-02",
          "2025-02",
          "2025-02",
          "2025-02",
          "2025-02",
          "2025-02",
          "2025-02",
          "2025-02",
          "2025-02",
          "2025-02",
          "2025-02",
          "2025-02",
          "2025-02",
          "2025-02",
          "2025-02",
          "2025-02",
          "2025-02",
          "2025-02",
          "2025-02",
          "2025-02",
          "2025-02",
          "2025-02",
          "2025-02",
          "2025-02",
          "2025-02",
          "2025-02",
          "2025-02",
          "2025-02",
          "2025-03",
          "2025-03",
          "2025-03",
          "2025-03",
          "2025-03",
          "2025-03",
          "2025-03",
          "2025-03",
          "2025-03",
          "2025-03",
          "2025-03",
          "2025-03",
          "2025-03",
          "2025-03",
          "2025-03",
          "2025-03",
          "2025-03",
          "2025-03",
          "2025-03",
          "2025-03",
          "2025-03",
          "2025-03",
          "2025-03",
          "2025-03",
          "2025-03",
          "2025-03",
          "2025-03",
          "2025-03",
          "2025-03",
          "2025-03",
          "2025-03",
          "2025-04"
         ],
         "x0": " ",
         "xaxis": "x",
         "y": {
          "bdata": "uB6F61G4GUAfhetRuB4mQAAAAAAAAChA7FG4HoVrKUDhehSuR2EpQOF6FK5H4R9AzczMzMzMJkBI4XoUrkcqQMP1KFyPwipA7FG4HoXrK0CF61G4HoUrQPYoXI/C9SRAPQrXo3A9HUApXI/C9SgbQGZmZmZmZhdAAAAAAAAAHkC4HoXrUbgfQHsUrkfhehlAj8L1KFyPH0CkcD0K1yMlQFK4HoXrUSpAMzMzMzOzJUCamZmZmZkiQDMzMzMzsyZAPQrXo3A9JEDD9Shcj0IpQDMzMzMzMyFASOF6FK7HIUCPwvUoXA8hQHsUrkfheiBAw/UoXI/CH0A9CtejcD0lQD0K16NwPSJAuB6F61G4HkCkcD0K16MfQAAAAAAAgCNASOF6FK5HIUC4HoXrUbggQGZmZmZmZhFA9ihcj8J1KEAAAAAAAIAoQFyPwvUo3CNAuB6F61E4I0CuR+F6FC4oQOF6FK5H4ShA4XoUrkdhKUBmZmZmZmYmQMP1KFyPwiJAcT0K16NwKUCF61G4HoUoQGZmZmZmZilAH4XrUbgeKEC4HoXrUTgjQOxRuB6FayRAuB6F61E4KEAzMzMzMzMjQB+F61G4Hh9AMzMzMzMzJEAfhetRuJ4mQNejcD0KVyJAj8L1KFyPH0DD9Shcj8IkQOxRuB6F6ydASOF6FK5HJkDsUbgehWsmQHsUrkfh+iZArkfhehSuIUBxPQrXo3AiQM3MzMzMTCFASOF6FK7HJECuR+F6FK4gQD0K16NwPSBAhetRuB6FG0ApXI/C9SggQClcj8L1KB1ACtejcD0KIkCuR+F6FC4mQDMzMzMzMy1ASOF6FK5HK0B7FK5H4fojQPYoXI/C9R9AMzMzMzMzG0CamZmZmZkiQKRwPQrXoyZAPQrXo3A9JUCuR+F6FK4mQHE9CtejcCVAexSuR+F6J0AUrkfhehQsQPYoXI/CNTFAj8L1KFyPLEA=",
          "dtype": "f8"
         },
         "y0": " ",
         "yaxis": "y"
        }
       ],
       "layout": {
        "boxmode": "group",
        "legend": {
         "tracegroupgap": 0
        },
        "template": {
         "data": {
          "bar": [
           {
            "error_x": {
             "color": "#2a3f5f"
            },
            "error_y": {
             "color": "#2a3f5f"
            },
            "marker": {
             "line": {
              "color": "#E5ECF6",
              "width": 0.5
             },
             "pattern": {
              "fillmode": "overlay",
              "size": 10,
              "solidity": 0.2
             }
            },
            "type": "bar"
           }
          ],
          "barpolar": [
           {
            "marker": {
             "line": {
              "color": "#E5ECF6",
              "width": 0.5
             },
             "pattern": {
              "fillmode": "overlay",
              "size": 10,
              "solidity": 0.2
             }
            },
            "type": "barpolar"
           }
          ],
          "carpet": [
           {
            "aaxis": {
             "endlinecolor": "#2a3f5f",
             "gridcolor": "white",
             "linecolor": "white",
             "minorgridcolor": "white",
             "startlinecolor": "#2a3f5f"
            },
            "baxis": {
             "endlinecolor": "#2a3f5f",
             "gridcolor": "white",
             "linecolor": "white",
             "minorgridcolor": "white",
             "startlinecolor": "#2a3f5f"
            },
            "type": "carpet"
           }
          ],
          "choropleth": [
           {
            "colorbar": {
             "outlinewidth": 0,
             "ticks": ""
            },
            "type": "choropleth"
           }
          ],
          "contour": [
           {
            "colorbar": {
             "outlinewidth": 0,
             "ticks": ""
            },
            "colorscale": [
             [
              0,
              "#0d0887"
             ],
             [
              0.1111111111111111,
              "#46039f"
             ],
             [
              0.2222222222222222,
              "#7201a8"
             ],
             [
              0.3333333333333333,
              "#9c179e"
             ],
             [
              0.4444444444444444,
              "#bd3786"
             ],
             [
              0.5555555555555556,
              "#d8576b"
             ],
             [
              0.6666666666666666,
              "#ed7953"
             ],
             [
              0.7777777777777778,
              "#fb9f3a"
             ],
             [
              0.8888888888888888,
              "#fdca26"
             ],
             [
              1,
              "#f0f921"
             ]
            ],
            "type": "contour"
           }
          ],
          "contourcarpet": [
           {
            "colorbar": {
             "outlinewidth": 0,
             "ticks": ""
            },
            "type": "contourcarpet"
           }
          ],
          "heatmap": [
           {
            "colorbar": {
             "outlinewidth": 0,
             "ticks": ""
            },
            "colorscale": [
             [
              0,
              "#0d0887"
             ],
             [
              0.1111111111111111,
              "#46039f"
             ],
             [
              0.2222222222222222,
              "#7201a8"
             ],
             [
              0.3333333333333333,
              "#9c179e"
             ],
             [
              0.4444444444444444,
              "#bd3786"
             ],
             [
              0.5555555555555556,
              "#d8576b"
             ],
             [
              0.6666666666666666,
              "#ed7953"
             ],
             [
              0.7777777777777778,
              "#fb9f3a"
             ],
             [
              0.8888888888888888,
              "#fdca26"
             ],
             [
              1,
              "#f0f921"
             ]
            ],
            "type": "heatmap"
           }
          ],
          "histogram": [
           {
            "marker": {
             "pattern": {
              "fillmode": "overlay",
              "size": 10,
              "solidity": 0.2
             }
            },
            "type": "histogram"
           }
          ],
          "histogram2d": [
           {
            "colorbar": {
             "outlinewidth": 0,
             "ticks": ""
            },
            "colorscale": [
             [
              0,
              "#0d0887"
             ],
             [
              0.1111111111111111,
              "#46039f"
             ],
             [
              0.2222222222222222,
              "#7201a8"
             ],
             [
              0.3333333333333333,
              "#9c179e"
             ],
             [
              0.4444444444444444,
              "#bd3786"
             ],
             [
              0.5555555555555556,
              "#d8576b"
             ],
             [
              0.6666666666666666,
              "#ed7953"
             ],
             [
              0.7777777777777778,
              "#fb9f3a"
             ],
             [
              0.8888888888888888,
              "#fdca26"
             ],
             [
              1,
              "#f0f921"
             ]
            ],
            "type": "histogram2d"
           }
          ],
          "histogram2dcontour": [
           {
            "colorbar": {
             "outlinewidth": 0,
             "ticks": ""
            },
            "colorscale": [
             [
              0,
              "#0d0887"
             ],
             [
              0.1111111111111111,
              "#46039f"
             ],
             [
              0.2222222222222222,
              "#7201a8"
             ],
             [
              0.3333333333333333,
              "#9c179e"
             ],
             [
              0.4444444444444444,
              "#bd3786"
             ],
             [
              0.5555555555555556,
              "#d8576b"
             ],
             [
              0.6666666666666666,
              "#ed7953"
             ],
             [
              0.7777777777777778,
              "#fb9f3a"
             ],
             [
              0.8888888888888888,
              "#fdca26"
             ],
             [
              1,
              "#f0f921"
             ]
            ],
            "type": "histogram2dcontour"
           }
          ],
          "mesh3d": [
           {
            "colorbar": {
             "outlinewidth": 0,
             "ticks": ""
            },
            "type": "mesh3d"
           }
          ],
          "parcoords": [
           {
            "line": {
             "colorbar": {
              "outlinewidth": 0,
              "ticks": ""
             }
            },
            "type": "parcoords"
           }
          ],
          "pie": [
           {
            "automargin": true,
            "type": "pie"
           }
          ],
          "scatter": [
           {
            "fillpattern": {
             "fillmode": "overlay",
             "size": 10,
             "solidity": 0.2
            },
            "type": "scatter"
           }
          ],
          "scatter3d": [
           {
            "line": {
             "colorbar": {
              "outlinewidth": 0,
              "ticks": ""
             }
            },
            "marker": {
             "colorbar": {
              "outlinewidth": 0,
              "ticks": ""
             }
            },
            "type": "scatter3d"
           }
          ],
          "scattercarpet": [
           {
            "marker": {
             "colorbar": {
              "outlinewidth": 0,
              "ticks": ""
             }
            },
            "type": "scattercarpet"
           }
          ],
          "scattergeo": [
           {
            "marker": {
             "colorbar": {
              "outlinewidth": 0,
              "ticks": ""
             }
            },
            "type": "scattergeo"
           }
          ],
          "scattergl": [
           {
            "marker": {
             "colorbar": {
              "outlinewidth": 0,
              "ticks": ""
             }
            },
            "type": "scattergl"
           }
          ],
          "scattermap": [
           {
            "marker": {
             "colorbar": {
              "outlinewidth": 0,
              "ticks": ""
             }
            },
            "type": "scattermap"
           }
          ],
          "scattermapbox": [
           {
            "marker": {
             "colorbar": {
              "outlinewidth": 0,
              "ticks": ""
             }
            },
            "type": "scattermapbox"
           }
          ],
          "scatterpolar": [
           {
            "marker": {
             "colorbar": {
              "outlinewidth": 0,
              "ticks": ""
             }
            },
            "type": "scatterpolar"
           }
          ],
          "scatterpolargl": [
           {
            "marker": {
             "colorbar": {
              "outlinewidth": 0,
              "ticks": ""
             }
            },
            "type": "scatterpolargl"
           }
          ],
          "scatterternary": [
           {
            "marker": {
             "colorbar": {
              "outlinewidth": 0,
              "ticks": ""
             }
            },
            "type": "scatterternary"
           }
          ],
          "surface": [
           {
            "colorbar": {
             "outlinewidth": 0,
             "ticks": ""
            },
            "colorscale": [
             [
              0,
              "#0d0887"
             ],
             [
              0.1111111111111111,
              "#46039f"
             ],
             [
              0.2222222222222222,
              "#7201a8"
             ],
             [
              0.3333333333333333,
              "#9c179e"
             ],
             [
              0.4444444444444444,
              "#bd3786"
             ],
             [
              0.5555555555555556,
              "#d8576b"
             ],
             [
              0.6666666666666666,
              "#ed7953"
             ],
             [
              0.7777777777777778,
              "#fb9f3a"
             ],
             [
              0.8888888888888888,
              "#fdca26"
             ],
             [
              1,
              "#f0f921"
             ]
            ],
            "type": "surface"
           }
          ],
          "table": [
           {
            "cells": {
             "fill": {
              "color": "#EBF0F8"
             },
             "line": {
              "color": "white"
             }
            },
            "header": {
             "fill": {
              "color": "#C8D4E3"
             },
             "line": {
              "color": "white"
             }
            },
            "type": "table"
           }
          ]
         },
         "layout": {
          "annotationdefaults": {
           "arrowcolor": "#2a3f5f",
           "arrowhead": 0,
           "arrowwidth": 1
          },
          "autotypenumbers": "strict",
          "coloraxis": {
           "colorbar": {
            "outlinewidth": 0,
            "ticks": ""
           }
          },
          "colorscale": {
           "diverging": [
            [
             0,
             "#8e0152"
            ],
            [
             0.1,
             "#c51b7d"
            ],
            [
             0.2,
             "#de77ae"
            ],
            [
             0.3,
             "#f1b6da"
            ],
            [
             0.4,
             "#fde0ef"
            ],
            [
             0.5,
             "#f7f7f7"
            ],
            [
             0.6,
             "#e6f5d0"
            ],
            [
             0.7,
             "#b8e186"
            ],
            [
             0.8,
             "#7fbc41"
            ],
            [
             0.9,
             "#4d9221"
            ],
            [
             1,
             "#276419"
            ]
           ],
           "sequential": [
            [
             0,
             "#0d0887"
            ],
            [
             0.1111111111111111,
             "#46039f"
            ],
            [
             0.2222222222222222,
             "#7201a8"
            ],
            [
             0.3333333333333333,
             "#9c179e"
            ],
            [
             0.4444444444444444,
             "#bd3786"
            ],
            [
             0.5555555555555556,
             "#d8576b"
            ],
            [
             0.6666666666666666,
             "#ed7953"
            ],
            [
             0.7777777777777778,
             "#fb9f3a"
            ],
            [
             0.8888888888888888,
             "#fdca26"
            ],
            [
             1,
             "#f0f921"
            ]
           ],
           "sequentialminus": [
            [
             0,
             "#0d0887"
            ],
            [
             0.1111111111111111,
             "#46039f"
            ],
            [
             0.2222222222222222,
             "#7201a8"
            ],
            [
             0.3333333333333333,
             "#9c179e"
            ],
            [
             0.4444444444444444,
             "#bd3786"
            ],
            [
             0.5555555555555556,
             "#d8576b"
            ],
            [
             0.6666666666666666,
             "#ed7953"
            ],
            [
             0.7777777777777778,
             "#fb9f3a"
            ],
            [
             0.8888888888888888,
             "#fdca26"
            ],
            [
             1,
             "#f0f921"
            ]
           ]
          },
          "colorway": [
           "#636efa",
           "#EF553B",
           "#00cc96",
           "#ab63fa",
           "#FFA15A",
           "#19d3f3",
           "#FF6692",
           "#B6E880",
           "#FF97FF",
           "#FECB52"
          ],
          "font": {
           "color": "#2a3f5f"
          },
          "geo": {
           "bgcolor": "white",
           "lakecolor": "white",
           "landcolor": "#E5ECF6",
           "showlakes": true,
           "showland": true,
           "subunitcolor": "white"
          },
          "hoverlabel": {
           "align": "left"
          },
          "hovermode": "closest",
          "mapbox": {
           "style": "light"
          },
          "paper_bgcolor": "white",
          "plot_bgcolor": "#E5ECF6",
          "polar": {
           "angularaxis": {
            "gridcolor": "white",
            "linecolor": "white",
            "ticks": ""
           },
           "bgcolor": "#E5ECF6",
           "radialaxis": {
            "gridcolor": "white",
            "linecolor": "white",
            "ticks": ""
           }
          },
          "scene": {
           "xaxis": {
            "backgroundcolor": "#E5ECF6",
            "gridcolor": "white",
            "gridwidth": 2,
            "linecolor": "white",
            "showbackground": true,
            "ticks": "",
            "zerolinecolor": "white"
           },
           "yaxis": {
            "backgroundcolor": "#E5ECF6",
            "gridcolor": "white",
            "gridwidth": 2,
            "linecolor": "white",
            "showbackground": true,
            "ticks": "",
            "zerolinecolor": "white"
           },
           "zaxis": {
            "backgroundcolor": "#E5ECF6",
            "gridcolor": "white",
            "gridwidth": 2,
            "linecolor": "white",
            "showbackground": true,
            "ticks": "",
            "zerolinecolor": "white"
           }
          },
          "shapedefaults": {
           "line": {
            "color": "#2a3f5f"
           }
          },
          "ternary": {
           "aaxis": {
            "gridcolor": "white",
            "linecolor": "white",
            "ticks": ""
           },
           "baxis": {
            "gridcolor": "white",
            "linecolor": "white",
            "ticks": ""
           },
           "bgcolor": "#E5ECF6",
           "caxis": {
            "gridcolor": "white",
            "linecolor": "white",
            "ticks": ""
           }
          },
          "title": {
           "x": 0.05
          },
          "xaxis": {
           "automargin": true,
           "gridcolor": "white",
           "linecolor": "white",
           "ticks": "",
           "title": {
            "standoff": 15
           },
           "zerolinecolor": "white",
           "zerolinewidth": 2
          },
          "yaxis": {
           "automargin": true,
           "gridcolor": "white",
           "linecolor": "white",
           "ticks": "",
           "title": {
            "standoff": 15
           },
           "zerolinecolor": "white",
           "zerolinewidth": 2
          }
         }
        },
        "title": {
         "text": "Boxplot mensual de temperatura"
        },
        "xaxis": {
         "anchor": "y",
         "domain": [
          0,
          1
         ],
         "dtick": "M1",
         "tickformat": "%b %Y",
         "title": {
          "text": "mes"
         }
        },
        "yaxis": {
         "anchor": "x",
         "domain": [
          0,
          1
         ],
         "title": {
          "text": "temperatura"
         }
        }
       }
      }
     },
     "metadata": {},
     "output_type": "display_data"
    }
   ],
   "source": [
    "# 2. Visualizaciones\n",
    "\n",
    "# Temperatura diaria\n",
    "fig_temp = px.line(df_pivot, x=\"fecha\", y=\"temperatura\", title=\"Temperatura media diaria en Santiago\")\n",
    "fig_temp.show()\n",
    "\n",
    "# Lluvia diaria\n",
    "fig_rain = px.bar(df_pivot, x=\"fecha\", y=\"precipitacion\", title=\"Lluvia diaria en Santiago\")\n",
    "fig_rain.show()\n",
    "\n",
    "# Temperatura + lluvia juntas\n",
    "fig_combo = go.Figure()\n",
    "fig_combo.add_trace(go.Bar(x=df_pivot[\"fecha\"], y=df_pivot[\"precipitacion\"], name=\"Lluvia (mm)\", yaxis=\"y\", marker_color=\"rgba(0,0,255,0.4)\"))\n",
    "fig_combo.add_trace(go.Scatter(x=df_pivot[\"fecha\"], y=df_pivot[\"temperatura\"], name=\"Temperatura (°C)\", yaxis=\"y2\", mode='lines', line=dict(color=\"red\")))\n",
    "\n",
    "fig_combo.update_layout(\n",
    "    title=\"Lluvia y Temperatura diarias en Santiago\",\n",
    "    yaxis=dict(title=\"Lluvia (mm)\"),\n",
    "    yaxis2=dict(title=\"Temperatura (°C)\", overlaying=\"y\", side=\"right\"),\n",
    "    legend=dict(x=0.01, y=0.99),\n",
    "    height=500\n",
    ")\n",
    "fig_combo.show()\n",
    "\n",
    "# Lluvia mensual\n",
    "df_pivot[\"mes\"] = df_pivot[\"fecha\"].dt.to_period(\"M\").astype(str)\n",
    "rain_monthly = df_pivot.groupby(\"mes\")[\"precipitacion\"].sum().reset_index()\n",
    "fig_rain_month = px.bar(rain_monthly, x=\"mes\", y=\"precipitacion\", title=\"Lluvia acumulada por mes\")\n",
    "fig_rain_month.update_xaxes(dtick=\"M1\", tickformat=\"%b %Y\")\n",
    "fig_rain_month.show()\n",
    "\n",
    "# Temperatura mensual\n",
    "temp_monthly = df_pivot.groupby(\"mes\")[\"temperatura\"].mean().reset_index()\n",
    "fig_temp_month = px.line(temp_monthly, x=\"mes\", y=\"temperatura\", title=\"Temperatura media mensual\")\n",
    "fig_temp_month.update_xaxes(dtick=\"M1\", tickformat=\"%b %Y\")\n",
    "fig_temp_month.show()\n",
    "\n",
    "# Histograma\n",
    "fig_hist = px.histogram(df_pivot, x=\"temperatura\", nbins=30, title=\"Distribución de temperaturas\")\n",
    "fig_hist.update_xaxes(dtick=\"M1\", tickformat=\"%b %Y\")\n",
    "fig_hist.show()\n",
    "\n",
    "# Boxplot por mes\n",
    "fig_box = px.box(df_pivot, x=\"mes\", y=\"temperatura\", title=\"Boxplot mensual de temperatura\")\n",
    "fig_box.update_xaxes(dtick=\"M1\", tickformat=\"%b %Y\")\n",
    "fig_box.show()"
   ]
  },
  {
   "cell_type": "code",
   "execution_count": 34,
   "metadata": {},
   "outputs": [],
   "source": [
    "df_pivot.to_csv('data/processed/weather_santiago.csv')"
   ]
  },
  {
   "cell_type": "code",
   "execution_count": 43,
   "metadata": {},
   "outputs": [
    {
     "data": {
      "text/html": [
       "<div>\n",
       "<style scoped>\n",
       "    .dataframe tbody tr th:only-of-type {\n",
       "        vertical-align: middle;\n",
       "    }\n",
       "\n",
       "    .dataframe tbody tr th {\n",
       "        vertical-align: top;\n",
       "    }\n",
       "\n",
       "    .dataframe thead th {\n",
       "        text-align: right;\n",
       "    }\n",
       "</style>\n",
       "<table border=\"1\" class=\"dataframe\">\n",
       "  <thead>\n",
       "    <tr style=\"text-align: right;\">\n",
       "      <th></th>\n",
       "      <th>Fecha</th>\n",
       "      <th>humedad_media</th>\n",
       "      <th>lluvia</th>\n",
       "      <th>temperatura_media</th>\n",
       "      <th>Mes</th>\n",
       "    </tr>\n",
       "  </thead>\n",
       "  <tbody>\n",
       "    <tr>\n",
       "      <th>0</th>\n",
       "      <td>2025-01-01</td>\n",
       "      <td>73.0</td>\n",
       "      <td>0.0</td>\n",
       "      <td>6.43</td>\n",
       "      <td>2025-01</td>\n",
       "    </tr>\n",
       "    <tr>\n",
       "      <th>1</th>\n",
       "      <td>2025-01-02</td>\n",
       "      <td>75.0</td>\n",
       "      <td>0.0</td>\n",
       "      <td>11.06</td>\n",
       "      <td>2025-01</td>\n",
       "    </tr>\n",
       "    <tr>\n",
       "      <th>2</th>\n",
       "      <td>2025-01-03</td>\n",
       "      <td>95.0</td>\n",
       "      <td>27.3</td>\n",
       "      <td>12.00</td>\n",
       "      <td>2025-01</td>\n",
       "    </tr>\n",
       "    <tr>\n",
       "      <th>3</th>\n",
       "      <td>2025-01-04</td>\n",
       "      <td>85.0</td>\n",
       "      <td>12.8</td>\n",
       "      <td>12.71</td>\n",
       "      <td>2025-01</td>\n",
       "    </tr>\n",
       "    <tr>\n",
       "      <th>4</th>\n",
       "      <td>2025-01-05</td>\n",
       "      <td>92.0</td>\n",
       "      <td>46.8</td>\n",
       "      <td>12.69</td>\n",
       "      <td>2025-01</td>\n",
       "    </tr>\n",
       "    <tr>\n",
       "      <th>...</th>\n",
       "      <td>...</td>\n",
       "      <td>...</td>\n",
       "      <td>...</td>\n",
       "      <td>...</td>\n",
       "      <td>...</td>\n",
       "    </tr>\n",
       "    <tr>\n",
       "      <th>86</th>\n",
       "      <td>2025-03-28</td>\n",
       "      <td>78.0</td>\n",
       "      <td>0.0</td>\n",
       "      <td>10.72</td>\n",
       "      <td>2025-03</td>\n",
       "    </tr>\n",
       "    <tr>\n",
       "      <th>87</th>\n",
       "      <td>2025-03-29</td>\n",
       "      <td>73.0</td>\n",
       "      <td>0.0</td>\n",
       "      <td>11.74</td>\n",
       "      <td>2025-03</td>\n",
       "    </tr>\n",
       "    <tr>\n",
       "      <th>88</th>\n",
       "      <td>2025-03-30</td>\n",
       "      <td>58.0</td>\n",
       "      <td>0.0</td>\n",
       "      <td>14.04</td>\n",
       "      <td>2025-03</td>\n",
       "    </tr>\n",
       "    <tr>\n",
       "      <th>89</th>\n",
       "      <td>2025-03-31</td>\n",
       "      <td>53.0</td>\n",
       "      <td>0.0</td>\n",
       "      <td>17.21</td>\n",
       "      <td>2025-03</td>\n",
       "    </tr>\n",
       "    <tr>\n",
       "      <th>90</th>\n",
       "      <td>2025-04-01</td>\n",
       "      <td>71.0</td>\n",
       "      <td>0.0</td>\n",
       "      <td>14.28</td>\n",
       "      <td>2025-04</td>\n",
       "    </tr>\n",
       "  </tbody>\n",
       "</table>\n",
       "<p>91 rows × 5 columns</p>\n",
       "</div>"
      ],
      "text/plain": [
       "        Fecha  humedad_media  lluvia  temperatura_media      Mes\n",
       "0  2025-01-01           73.0     0.0               6.43  2025-01\n",
       "1  2025-01-02           75.0     0.0              11.06  2025-01\n",
       "2  2025-01-03           95.0    27.3              12.00  2025-01\n",
       "3  2025-01-04           85.0    12.8              12.71  2025-01\n",
       "4  2025-01-05           92.0    46.8              12.69  2025-01\n",
       "..        ...            ...     ...                ...      ...\n",
       "86 2025-03-28           78.0     0.0              10.72  2025-03\n",
       "87 2025-03-29           73.0     0.0              11.74  2025-03\n",
       "88 2025-03-30           58.0     0.0              14.04  2025-03\n",
       "89 2025-03-31           53.0     0.0              17.21  2025-03\n",
       "90 2025-04-01           71.0     0.0              14.28  2025-04\n",
       "\n",
       "[91 rows x 5 columns]"
      ]
     },
     "execution_count": 43,
     "metadata": {},
     "output_type": "execute_result"
    }
   ],
   "source": [
    "df_pivot"
   ]
  },
  {
   "cell_type": "code",
   "execution_count": 47,
   "metadata": {},
   "outputs": [
    {
     "data": {
      "application/vnd.plotly.v1+json": {
       "config": {
        "plotlyServerURL": "https://plot.ly"
       },
       "data": [
        {
         "domain": {
          "x": [
           0,
           1
          ],
          "y": [
           0,
           1
          ]
         },
         "hole": 0.4,
         "hovertemplate": "Tipo de día=%{label}<br>Cantidad=%{value}<extra></extra>",
         "labels": [
          "Día con lluvia",
          "Día sin lluvia"
         ],
         "legendgroup": "",
         "name": "",
         "showlegend": true,
         "textinfo": "percent+label",
         "type": "pie",
         "values": {
          "bdata": "MCs=",
          "dtype": "i1"
         }
        }
       ],
       "layout": {
        "legend": {
         "tracegroupgap": 0
        },
        "template": {
         "data": {
          "bar": [
           {
            "error_x": {
             "color": "#2a3f5f"
            },
            "error_y": {
             "color": "#2a3f5f"
            },
            "marker": {
             "line": {
              "color": "#E5ECF6",
              "width": 0.5
             },
             "pattern": {
              "fillmode": "overlay",
              "size": 10,
              "solidity": 0.2
             }
            },
            "type": "bar"
           }
          ],
          "barpolar": [
           {
            "marker": {
             "line": {
              "color": "#E5ECF6",
              "width": 0.5
             },
             "pattern": {
              "fillmode": "overlay",
              "size": 10,
              "solidity": 0.2
             }
            },
            "type": "barpolar"
           }
          ],
          "carpet": [
           {
            "aaxis": {
             "endlinecolor": "#2a3f5f",
             "gridcolor": "white",
             "linecolor": "white",
             "minorgridcolor": "white",
             "startlinecolor": "#2a3f5f"
            },
            "baxis": {
             "endlinecolor": "#2a3f5f",
             "gridcolor": "white",
             "linecolor": "white",
             "minorgridcolor": "white",
             "startlinecolor": "#2a3f5f"
            },
            "type": "carpet"
           }
          ],
          "choropleth": [
           {
            "colorbar": {
             "outlinewidth": 0,
             "ticks": ""
            },
            "type": "choropleth"
           }
          ],
          "contour": [
           {
            "colorbar": {
             "outlinewidth": 0,
             "ticks": ""
            },
            "colorscale": [
             [
              0,
              "#0d0887"
             ],
             [
              0.1111111111111111,
              "#46039f"
             ],
             [
              0.2222222222222222,
              "#7201a8"
             ],
             [
              0.3333333333333333,
              "#9c179e"
             ],
             [
              0.4444444444444444,
              "#bd3786"
             ],
             [
              0.5555555555555556,
              "#d8576b"
             ],
             [
              0.6666666666666666,
              "#ed7953"
             ],
             [
              0.7777777777777778,
              "#fb9f3a"
             ],
             [
              0.8888888888888888,
              "#fdca26"
             ],
             [
              1,
              "#f0f921"
             ]
            ],
            "type": "contour"
           }
          ],
          "contourcarpet": [
           {
            "colorbar": {
             "outlinewidth": 0,
             "ticks": ""
            },
            "type": "contourcarpet"
           }
          ],
          "heatmap": [
           {
            "colorbar": {
             "outlinewidth": 0,
             "ticks": ""
            },
            "colorscale": [
             [
              0,
              "#0d0887"
             ],
             [
              0.1111111111111111,
              "#46039f"
             ],
             [
              0.2222222222222222,
              "#7201a8"
             ],
             [
              0.3333333333333333,
              "#9c179e"
             ],
             [
              0.4444444444444444,
              "#bd3786"
             ],
             [
              0.5555555555555556,
              "#d8576b"
             ],
             [
              0.6666666666666666,
              "#ed7953"
             ],
             [
              0.7777777777777778,
              "#fb9f3a"
             ],
             [
              0.8888888888888888,
              "#fdca26"
             ],
             [
              1,
              "#f0f921"
             ]
            ],
            "type": "heatmap"
           }
          ],
          "histogram": [
           {
            "marker": {
             "pattern": {
              "fillmode": "overlay",
              "size": 10,
              "solidity": 0.2
             }
            },
            "type": "histogram"
           }
          ],
          "histogram2d": [
           {
            "colorbar": {
             "outlinewidth": 0,
             "ticks": ""
            },
            "colorscale": [
             [
              0,
              "#0d0887"
             ],
             [
              0.1111111111111111,
              "#46039f"
             ],
             [
              0.2222222222222222,
              "#7201a8"
             ],
             [
              0.3333333333333333,
              "#9c179e"
             ],
             [
              0.4444444444444444,
              "#bd3786"
             ],
             [
              0.5555555555555556,
              "#d8576b"
             ],
             [
              0.6666666666666666,
              "#ed7953"
             ],
             [
              0.7777777777777778,
              "#fb9f3a"
             ],
             [
              0.8888888888888888,
              "#fdca26"
             ],
             [
              1,
              "#f0f921"
             ]
            ],
            "type": "histogram2d"
           }
          ],
          "histogram2dcontour": [
           {
            "colorbar": {
             "outlinewidth": 0,
             "ticks": ""
            },
            "colorscale": [
             [
              0,
              "#0d0887"
             ],
             [
              0.1111111111111111,
              "#46039f"
             ],
             [
              0.2222222222222222,
              "#7201a8"
             ],
             [
              0.3333333333333333,
              "#9c179e"
             ],
             [
              0.4444444444444444,
              "#bd3786"
             ],
             [
              0.5555555555555556,
              "#d8576b"
             ],
             [
              0.6666666666666666,
              "#ed7953"
             ],
             [
              0.7777777777777778,
              "#fb9f3a"
             ],
             [
              0.8888888888888888,
              "#fdca26"
             ],
             [
              1,
              "#f0f921"
             ]
            ],
            "type": "histogram2dcontour"
           }
          ],
          "mesh3d": [
           {
            "colorbar": {
             "outlinewidth": 0,
             "ticks": ""
            },
            "type": "mesh3d"
           }
          ],
          "parcoords": [
           {
            "line": {
             "colorbar": {
              "outlinewidth": 0,
              "ticks": ""
             }
            },
            "type": "parcoords"
           }
          ],
          "pie": [
           {
            "automargin": true,
            "type": "pie"
           }
          ],
          "scatter": [
           {
            "fillpattern": {
             "fillmode": "overlay",
             "size": 10,
             "solidity": 0.2
            },
            "type": "scatter"
           }
          ],
          "scatter3d": [
           {
            "line": {
             "colorbar": {
              "outlinewidth": 0,
              "ticks": ""
             }
            },
            "marker": {
             "colorbar": {
              "outlinewidth": 0,
              "ticks": ""
             }
            },
            "type": "scatter3d"
           }
          ],
          "scattercarpet": [
           {
            "marker": {
             "colorbar": {
              "outlinewidth": 0,
              "ticks": ""
             }
            },
            "type": "scattercarpet"
           }
          ],
          "scattergeo": [
           {
            "marker": {
             "colorbar": {
              "outlinewidth": 0,
              "ticks": ""
             }
            },
            "type": "scattergeo"
           }
          ],
          "scattergl": [
           {
            "marker": {
             "colorbar": {
              "outlinewidth": 0,
              "ticks": ""
             }
            },
            "type": "scattergl"
           }
          ],
          "scattermap": [
           {
            "marker": {
             "colorbar": {
              "outlinewidth": 0,
              "ticks": ""
             }
            },
            "type": "scattermap"
           }
          ],
          "scattermapbox": [
           {
            "marker": {
             "colorbar": {
              "outlinewidth": 0,
              "ticks": ""
             }
            },
            "type": "scattermapbox"
           }
          ],
          "scatterpolar": [
           {
            "marker": {
             "colorbar": {
              "outlinewidth": 0,
              "ticks": ""
             }
            },
            "type": "scatterpolar"
           }
          ],
          "scatterpolargl": [
           {
            "marker": {
             "colorbar": {
              "outlinewidth": 0,
              "ticks": ""
             }
            },
            "type": "scatterpolargl"
           }
          ],
          "scatterternary": [
           {
            "marker": {
             "colorbar": {
              "outlinewidth": 0,
              "ticks": ""
             }
            },
            "type": "scatterternary"
           }
          ],
          "surface": [
           {
            "colorbar": {
             "outlinewidth": 0,
             "ticks": ""
            },
            "colorscale": [
             [
              0,
              "#0d0887"
             ],
             [
              0.1111111111111111,
              "#46039f"
             ],
             [
              0.2222222222222222,
              "#7201a8"
             ],
             [
              0.3333333333333333,
              "#9c179e"
             ],
             [
              0.4444444444444444,
              "#bd3786"
             ],
             [
              0.5555555555555556,
              "#d8576b"
             ],
             [
              0.6666666666666666,
              "#ed7953"
             ],
             [
              0.7777777777777778,
              "#fb9f3a"
             ],
             [
              0.8888888888888888,
              "#fdca26"
             ],
             [
              1,
              "#f0f921"
             ]
            ],
            "type": "surface"
           }
          ],
          "table": [
           {
            "cells": {
             "fill": {
              "color": "#EBF0F8"
             },
             "line": {
              "color": "white"
             }
            },
            "header": {
             "fill": {
              "color": "#C8D4E3"
             },
             "line": {
              "color": "white"
             }
            },
            "type": "table"
           }
          ]
         },
         "layout": {
          "annotationdefaults": {
           "arrowcolor": "#2a3f5f",
           "arrowhead": 0,
           "arrowwidth": 1
          },
          "autotypenumbers": "strict",
          "coloraxis": {
           "colorbar": {
            "outlinewidth": 0,
            "ticks": ""
           }
          },
          "colorscale": {
           "diverging": [
            [
             0,
             "#8e0152"
            ],
            [
             0.1,
             "#c51b7d"
            ],
            [
             0.2,
             "#de77ae"
            ],
            [
             0.3,
             "#f1b6da"
            ],
            [
             0.4,
             "#fde0ef"
            ],
            [
             0.5,
             "#f7f7f7"
            ],
            [
             0.6,
             "#e6f5d0"
            ],
            [
             0.7,
             "#b8e186"
            ],
            [
             0.8,
             "#7fbc41"
            ],
            [
             0.9,
             "#4d9221"
            ],
            [
             1,
             "#276419"
            ]
           ],
           "sequential": [
            [
             0,
             "#0d0887"
            ],
            [
             0.1111111111111111,
             "#46039f"
            ],
            [
             0.2222222222222222,
             "#7201a8"
            ],
            [
             0.3333333333333333,
             "#9c179e"
            ],
            [
             0.4444444444444444,
             "#bd3786"
            ],
            [
             0.5555555555555556,
             "#d8576b"
            ],
            [
             0.6666666666666666,
             "#ed7953"
            ],
            [
             0.7777777777777778,
             "#fb9f3a"
            ],
            [
             0.8888888888888888,
             "#fdca26"
            ],
            [
             1,
             "#f0f921"
            ]
           ],
           "sequentialminus": [
            [
             0,
             "#0d0887"
            ],
            [
             0.1111111111111111,
             "#46039f"
            ],
            [
             0.2222222222222222,
             "#7201a8"
            ],
            [
             0.3333333333333333,
             "#9c179e"
            ],
            [
             0.4444444444444444,
             "#bd3786"
            ],
            [
             0.5555555555555556,
             "#d8576b"
            ],
            [
             0.6666666666666666,
             "#ed7953"
            ],
            [
             0.7777777777777778,
             "#fb9f3a"
            ],
            [
             0.8888888888888888,
             "#fdca26"
            ],
            [
             1,
             "#f0f921"
            ]
           ]
          },
          "colorway": [
           "#636efa",
           "#EF553B",
           "#00cc96",
           "#ab63fa",
           "#FFA15A",
           "#19d3f3",
           "#FF6692",
           "#B6E880",
           "#FF97FF",
           "#FECB52"
          ],
          "font": {
           "color": "#2a3f5f"
          },
          "geo": {
           "bgcolor": "white",
           "lakecolor": "white",
           "landcolor": "#E5ECF6",
           "showlakes": true,
           "showland": true,
           "subunitcolor": "white"
          },
          "hoverlabel": {
           "align": "left"
          },
          "hovermode": "closest",
          "mapbox": {
           "style": "light"
          },
          "paper_bgcolor": "white",
          "plot_bgcolor": "#E5ECF6",
          "polar": {
           "angularaxis": {
            "gridcolor": "white",
            "linecolor": "white",
            "ticks": ""
           },
           "bgcolor": "#E5ECF6",
           "radialaxis": {
            "gridcolor": "white",
            "linecolor": "white",
            "ticks": ""
           }
          },
          "scene": {
           "xaxis": {
            "backgroundcolor": "#E5ECF6",
            "gridcolor": "white",
            "gridwidth": 2,
            "linecolor": "white",
            "showbackground": true,
            "ticks": "",
            "zerolinecolor": "white"
           },
           "yaxis": {
            "backgroundcolor": "#E5ECF6",
            "gridcolor": "white",
            "gridwidth": 2,
            "linecolor": "white",
            "showbackground": true,
            "ticks": "",
            "zerolinecolor": "white"
           },
           "zaxis": {
            "backgroundcolor": "#E5ECF6",
            "gridcolor": "white",
            "gridwidth": 2,
            "linecolor": "white",
            "showbackground": true,
            "ticks": "",
            "zerolinecolor": "white"
           }
          },
          "shapedefaults": {
           "line": {
            "color": "#2a3f5f"
           }
          },
          "ternary": {
           "aaxis": {
            "gridcolor": "white",
            "linecolor": "white",
            "ticks": ""
           },
           "baxis": {
            "gridcolor": "white",
            "linecolor": "white",
            "ticks": ""
           },
           "bgcolor": "#E5ECF6",
           "caxis": {
            "gridcolor": "white",
            "linecolor": "white",
            "ticks": ""
           }
          },
          "title": {
           "x": 0.05
          },
          "xaxis": {
           "automargin": true,
           "gridcolor": "white",
           "linecolor": "white",
           "ticks": "",
           "title": {
            "standoff": 15
           },
           "zerolinecolor": "white",
           "zerolinewidth": 2
          },
          "yaxis": {
           "automargin": true,
           "gridcolor": "white",
           "linecolor": "white",
           "ticks": "",
           "title": {
            "standoff": 15
           },
           "zerolinecolor": "white",
           "zerolinewidth": 2
          }
         }
        },
        "title": {
         "text": "Porcentaje de días con lluvia vs sin lluvia"
        }
       }
      }
     },
     "metadata": {},
     "output_type": "display_data"
    }
   ],
   "source": [
    "# Definir si llovió o no\n",
    "df_pivot[\"llovio\"] = df_pivot[\"lluvia\"] > 0\n",
    "\n",
    "# Contar días con y sin lluvia\n",
    "dias_lluvia = df_pivot[\"llovio\"].value_counts().rename({True: \"Día con lluvia\", False: \"Día sin lluvia\"}).reset_index()\n",
    "dias_lluvia.columns = [\"Tipo de día\", \"Cantidad\"]\n",
    "\n",
    "# Pie chart\n",
    "fig_pie = px.pie(\n",
    "    dias_lluvia,\n",
    "    names=\"Tipo de día\",\n",
    "    values=\"Cantidad\",\n",
    "    title=\"Porcentaje de días con lluvia vs sin lluvia\",\n",
    "    hole=0.4  # para hacerlo tipo donut\n",
    ")\n",
    "fig_pie.update_traces(textinfo=\"percent+label\")\n",
    "fig_pie.show()\n"
   ]
  },
  {
   "cell_type": "code",
   "execution_count": 48,
   "metadata": {},
   "outputs": [
    {
     "name": "stdout",
     "output_type": "stream",
     "text": [
      "Días con lluvia: 48 de 91 (52.7%)\n"
     ]
    }
   ],
   "source": [
    "dias_con_lluvia = (df_pivot[\"lluvia\"] > 0).sum()\n",
    "total_dias = len(df_pivot)\n",
    "\n",
    "print(f\"Días con lluvia: {dias_con_lluvia} de {total_dias} ({dias_con_lluvia / total_dias:.1%})\")\n"
   ]
  },
  {
   "cell_type": "code",
   "execution_count": null,
   "metadata": {},
   "outputs": [
    {
     "name": "stdout",
     "output_type": "stream",
     "text": [
      "       Mes  Días con lluvia\n",
      "0  2025-01               20\n",
      "1  2025-02               16\n",
      "2  2025-03               12\n"
     ]
    },
    {
     "data": {
      "application/vnd.plotly.v1+json": {
       "config": {
        "plotlyServerURL": "https://plot.ly"
       },
       "data": [
        {
         "hovertemplate": "Mes=%{x}<br>Días con lluvia=%{y}<extra></extra>",
         "legendgroup": "",
         "marker": {
          "color": "#636efa",
          "pattern": {
           "shape": ""
          }
         },
         "name": "",
         "orientation": "v",
         "showlegend": false,
         "textposition": "auto",
         "type": "bar",
         "x": [
          "2025-01",
          "2025-02",
          "2025-03"
         ],
         "xaxis": "x",
         "y": {
          "bdata": "FBAM",
          "dtype": "i1"
         },
         "yaxis": "y"
        }
       ],
       "layout": {
        "barmode": "relative",
        "legend": {
         "tracegroupgap": 0
        },
        "template": {
         "data": {
          "bar": [
           {
            "error_x": {
             "color": "#2a3f5f"
            },
            "error_y": {
             "color": "#2a3f5f"
            },
            "marker": {
             "line": {
              "color": "#E5ECF6",
              "width": 0.5
             },
             "pattern": {
              "fillmode": "overlay",
              "size": 10,
              "solidity": 0.2
             }
            },
            "type": "bar"
           }
          ],
          "barpolar": [
           {
            "marker": {
             "line": {
              "color": "#E5ECF6",
              "width": 0.5
             },
             "pattern": {
              "fillmode": "overlay",
              "size": 10,
              "solidity": 0.2
             }
            },
            "type": "barpolar"
           }
          ],
          "carpet": [
           {
            "aaxis": {
             "endlinecolor": "#2a3f5f",
             "gridcolor": "white",
             "linecolor": "white",
             "minorgridcolor": "white",
             "startlinecolor": "#2a3f5f"
            },
            "baxis": {
             "endlinecolor": "#2a3f5f",
             "gridcolor": "white",
             "linecolor": "white",
             "minorgridcolor": "white",
             "startlinecolor": "#2a3f5f"
            },
            "type": "carpet"
           }
          ],
          "choropleth": [
           {
            "colorbar": {
             "outlinewidth": 0,
             "ticks": ""
            },
            "type": "choropleth"
           }
          ],
          "contour": [
           {
            "colorbar": {
             "outlinewidth": 0,
             "ticks": ""
            },
            "colorscale": [
             [
              0,
              "#0d0887"
             ],
             [
              0.1111111111111111,
              "#46039f"
             ],
             [
              0.2222222222222222,
              "#7201a8"
             ],
             [
              0.3333333333333333,
              "#9c179e"
             ],
             [
              0.4444444444444444,
              "#bd3786"
             ],
             [
              0.5555555555555556,
              "#d8576b"
             ],
             [
              0.6666666666666666,
              "#ed7953"
             ],
             [
              0.7777777777777778,
              "#fb9f3a"
             ],
             [
              0.8888888888888888,
              "#fdca26"
             ],
             [
              1,
              "#f0f921"
             ]
            ],
            "type": "contour"
           }
          ],
          "contourcarpet": [
           {
            "colorbar": {
             "outlinewidth": 0,
             "ticks": ""
            },
            "type": "contourcarpet"
           }
          ],
          "heatmap": [
           {
            "colorbar": {
             "outlinewidth": 0,
             "ticks": ""
            },
            "colorscale": [
             [
              0,
              "#0d0887"
             ],
             [
              0.1111111111111111,
              "#46039f"
             ],
             [
              0.2222222222222222,
              "#7201a8"
             ],
             [
              0.3333333333333333,
              "#9c179e"
             ],
             [
              0.4444444444444444,
              "#bd3786"
             ],
             [
              0.5555555555555556,
              "#d8576b"
             ],
             [
              0.6666666666666666,
              "#ed7953"
             ],
             [
              0.7777777777777778,
              "#fb9f3a"
             ],
             [
              0.8888888888888888,
              "#fdca26"
             ],
             [
              1,
              "#f0f921"
             ]
            ],
            "type": "heatmap"
           }
          ],
          "histogram": [
           {
            "marker": {
             "pattern": {
              "fillmode": "overlay",
              "size": 10,
              "solidity": 0.2
             }
            },
            "type": "histogram"
           }
          ],
          "histogram2d": [
           {
            "colorbar": {
             "outlinewidth": 0,
             "ticks": ""
            },
            "colorscale": [
             [
              0,
              "#0d0887"
             ],
             [
              0.1111111111111111,
              "#46039f"
             ],
             [
              0.2222222222222222,
              "#7201a8"
             ],
             [
              0.3333333333333333,
              "#9c179e"
             ],
             [
              0.4444444444444444,
              "#bd3786"
             ],
             [
              0.5555555555555556,
              "#d8576b"
             ],
             [
              0.6666666666666666,
              "#ed7953"
             ],
             [
              0.7777777777777778,
              "#fb9f3a"
             ],
             [
              0.8888888888888888,
              "#fdca26"
             ],
             [
              1,
              "#f0f921"
             ]
            ],
            "type": "histogram2d"
           }
          ],
          "histogram2dcontour": [
           {
            "colorbar": {
             "outlinewidth": 0,
             "ticks": ""
            },
            "colorscale": [
             [
              0,
              "#0d0887"
             ],
             [
              0.1111111111111111,
              "#46039f"
             ],
             [
              0.2222222222222222,
              "#7201a8"
             ],
             [
              0.3333333333333333,
              "#9c179e"
             ],
             [
              0.4444444444444444,
              "#bd3786"
             ],
             [
              0.5555555555555556,
              "#d8576b"
             ],
             [
              0.6666666666666666,
              "#ed7953"
             ],
             [
              0.7777777777777778,
              "#fb9f3a"
             ],
             [
              0.8888888888888888,
              "#fdca26"
             ],
             [
              1,
              "#f0f921"
             ]
            ],
            "type": "histogram2dcontour"
           }
          ],
          "mesh3d": [
           {
            "colorbar": {
             "outlinewidth": 0,
             "ticks": ""
            },
            "type": "mesh3d"
           }
          ],
          "parcoords": [
           {
            "line": {
             "colorbar": {
              "outlinewidth": 0,
              "ticks": ""
             }
            },
            "type": "parcoords"
           }
          ],
          "pie": [
           {
            "automargin": true,
            "type": "pie"
           }
          ],
          "scatter": [
           {
            "fillpattern": {
             "fillmode": "overlay",
             "size": 10,
             "solidity": 0.2
            },
            "type": "scatter"
           }
          ],
          "scatter3d": [
           {
            "line": {
             "colorbar": {
              "outlinewidth": 0,
              "ticks": ""
             }
            },
            "marker": {
             "colorbar": {
              "outlinewidth": 0,
              "ticks": ""
             }
            },
            "type": "scatter3d"
           }
          ],
          "scattercarpet": [
           {
            "marker": {
             "colorbar": {
              "outlinewidth": 0,
              "ticks": ""
             }
            },
            "type": "scattercarpet"
           }
          ],
          "scattergeo": [
           {
            "marker": {
             "colorbar": {
              "outlinewidth": 0,
              "ticks": ""
             }
            },
            "type": "scattergeo"
           }
          ],
          "scattergl": [
           {
            "marker": {
             "colorbar": {
              "outlinewidth": 0,
              "ticks": ""
             }
            },
            "type": "scattergl"
           }
          ],
          "scattermap": [
           {
            "marker": {
             "colorbar": {
              "outlinewidth": 0,
              "ticks": ""
             }
            },
            "type": "scattermap"
           }
          ],
          "scattermapbox": [
           {
            "marker": {
             "colorbar": {
              "outlinewidth": 0,
              "ticks": ""
             }
            },
            "type": "scattermapbox"
           }
          ],
          "scatterpolar": [
           {
            "marker": {
             "colorbar": {
              "outlinewidth": 0,
              "ticks": ""
             }
            },
            "type": "scatterpolar"
           }
          ],
          "scatterpolargl": [
           {
            "marker": {
             "colorbar": {
              "outlinewidth": 0,
              "ticks": ""
             }
            },
            "type": "scatterpolargl"
           }
          ],
          "scatterternary": [
           {
            "marker": {
             "colorbar": {
              "outlinewidth": 0,
              "ticks": ""
             }
            },
            "type": "scatterternary"
           }
          ],
          "surface": [
           {
            "colorbar": {
             "outlinewidth": 0,
             "ticks": ""
            },
            "colorscale": [
             [
              0,
              "#0d0887"
             ],
             [
              0.1111111111111111,
              "#46039f"
             ],
             [
              0.2222222222222222,
              "#7201a8"
             ],
             [
              0.3333333333333333,
              "#9c179e"
             ],
             [
              0.4444444444444444,
              "#bd3786"
             ],
             [
              0.5555555555555556,
              "#d8576b"
             ],
             [
              0.6666666666666666,
              "#ed7953"
             ],
             [
              0.7777777777777778,
              "#fb9f3a"
             ],
             [
              0.8888888888888888,
              "#fdca26"
             ],
             [
              1,
              "#f0f921"
             ]
            ],
            "type": "surface"
           }
          ],
          "table": [
           {
            "cells": {
             "fill": {
              "color": "#EBF0F8"
             },
             "line": {
              "color": "white"
             }
            },
            "header": {
             "fill": {
              "color": "#C8D4E3"
             },
             "line": {
              "color": "white"
             }
            },
            "type": "table"
           }
          ]
         },
         "layout": {
          "annotationdefaults": {
           "arrowcolor": "#2a3f5f",
           "arrowhead": 0,
           "arrowwidth": 1
          },
          "autotypenumbers": "strict",
          "coloraxis": {
           "colorbar": {
            "outlinewidth": 0,
            "ticks": ""
           }
          },
          "colorscale": {
           "diverging": [
            [
             0,
             "#8e0152"
            ],
            [
             0.1,
             "#c51b7d"
            ],
            [
             0.2,
             "#de77ae"
            ],
            [
             0.3,
             "#f1b6da"
            ],
            [
             0.4,
             "#fde0ef"
            ],
            [
             0.5,
             "#f7f7f7"
            ],
            [
             0.6,
             "#e6f5d0"
            ],
            [
             0.7,
             "#b8e186"
            ],
            [
             0.8,
             "#7fbc41"
            ],
            [
             0.9,
             "#4d9221"
            ],
            [
             1,
             "#276419"
            ]
           ],
           "sequential": [
            [
             0,
             "#0d0887"
            ],
            [
             0.1111111111111111,
             "#46039f"
            ],
            [
             0.2222222222222222,
             "#7201a8"
            ],
            [
             0.3333333333333333,
             "#9c179e"
            ],
            [
             0.4444444444444444,
             "#bd3786"
            ],
            [
             0.5555555555555556,
             "#d8576b"
            ],
            [
             0.6666666666666666,
             "#ed7953"
            ],
            [
             0.7777777777777778,
             "#fb9f3a"
            ],
            [
             0.8888888888888888,
             "#fdca26"
            ],
            [
             1,
             "#f0f921"
            ]
           ],
           "sequentialminus": [
            [
             0,
             "#0d0887"
            ],
            [
             0.1111111111111111,
             "#46039f"
            ],
            [
             0.2222222222222222,
             "#7201a8"
            ],
            [
             0.3333333333333333,
             "#9c179e"
            ],
            [
             0.4444444444444444,
             "#bd3786"
            ],
            [
             0.5555555555555556,
             "#d8576b"
            ],
            [
             0.6666666666666666,
             "#ed7953"
            ],
            [
             0.7777777777777778,
             "#fb9f3a"
            ],
            [
             0.8888888888888888,
             "#fdca26"
            ],
            [
             1,
             "#f0f921"
            ]
           ]
          },
          "colorway": [
           "#636efa",
           "#EF553B",
           "#00cc96",
           "#ab63fa",
           "#FFA15A",
           "#19d3f3",
           "#FF6692",
           "#B6E880",
           "#FF97FF",
           "#FECB52"
          ],
          "font": {
           "color": "#2a3f5f"
          },
          "geo": {
           "bgcolor": "white",
           "lakecolor": "white",
           "landcolor": "#E5ECF6",
           "showlakes": true,
           "showland": true,
           "subunitcolor": "white"
          },
          "hoverlabel": {
           "align": "left"
          },
          "hovermode": "closest",
          "mapbox": {
           "style": "light"
          },
          "paper_bgcolor": "white",
          "plot_bgcolor": "#E5ECF6",
          "polar": {
           "angularaxis": {
            "gridcolor": "white",
            "linecolor": "white",
            "ticks": ""
           },
           "bgcolor": "#E5ECF6",
           "radialaxis": {
            "gridcolor": "white",
            "linecolor": "white",
            "ticks": ""
           }
          },
          "scene": {
           "xaxis": {
            "backgroundcolor": "#E5ECF6",
            "gridcolor": "white",
            "gridwidth": 2,
            "linecolor": "white",
            "showbackground": true,
            "ticks": "",
            "zerolinecolor": "white"
           },
           "yaxis": {
            "backgroundcolor": "#E5ECF6",
            "gridcolor": "white",
            "gridwidth": 2,
            "linecolor": "white",
            "showbackground": true,
            "ticks": "",
            "zerolinecolor": "white"
           },
           "zaxis": {
            "backgroundcolor": "#E5ECF6",
            "gridcolor": "white",
            "gridwidth": 2,
            "linecolor": "white",
            "showbackground": true,
            "ticks": "",
            "zerolinecolor": "white"
           }
          },
          "shapedefaults": {
           "line": {
            "color": "#2a3f5f"
           }
          },
          "ternary": {
           "aaxis": {
            "gridcolor": "white",
            "linecolor": "white",
            "ticks": ""
           },
           "baxis": {
            "gridcolor": "white",
            "linecolor": "white",
            "ticks": ""
           },
           "bgcolor": "#E5ECF6",
           "caxis": {
            "gridcolor": "white",
            "linecolor": "white",
            "ticks": ""
           }
          },
          "title": {
           "x": 0.05
          },
          "xaxis": {
           "automargin": true,
           "gridcolor": "white",
           "linecolor": "white",
           "ticks": "",
           "title": {
            "standoff": 15
           },
           "zerolinecolor": "white",
           "zerolinewidth": 2
          },
          "yaxis": {
           "automargin": true,
           "gridcolor": "white",
           "linecolor": "white",
           "ticks": "",
           "title": {
            "standoff": 15
           },
           "zerolinecolor": "white",
           "zerolinewidth": 2
          }
         }
        },
        "title": {
         "text": "Cantidad de días con lluvia por mes"
        },
        "xaxis": {
         "anchor": "y",
         "domain": [
          0,
          1
         ],
         "title": {
          "text": "Mes"
         },
         "type": "category"
        },
        "yaxis": {
         "anchor": "x",
         "domain": [
          0,
          1
         ],
         "title": {
          "text": "Días con lluvia"
         }
        }
       }
      }
     },
     "metadata": {},
     "output_type": "display_data"
    }
   ],
   "source": [
    "# Contar días con lluvia por mes\n",
    "dias_lluviosos_por_mes = df_pivot[df_pivot[\"lluvia\"] > 0].groupby(\"Mes\").size().reset_index(name=\"Días con lluvia\")\n",
    "\n",
    "# Ordenar para ver el mes con más días de lluvia\n",
    "dias_lluviosos_por_mes = dias_lluviosos_por_mes.sort_values(by=\"Días con lluvia\", ascending=False)\n",
    "\n",
    "# Mostrar tabla\n",
    "print(dias_lluviosos_por_mes)\n",
    "\n",
    "fig_dias_lluvia = px.bar(\n",
    "    dias_lluviosos_por_mes,\n",
    "    x=\"Mes\",\n",
    "    y=\"Días con lluvia\",\n",
    "    title=\"Cantidad de días con lluvia por mes\"\n",
    ")\n",
    "fig_dias_lluvia.update_xaxes(type=\"category\")\n",
    "fig_dias_lluvia.show()"
   ]
  },
  {
   "cell_type": "code",
   "execution_count": 50,
   "metadata": {},
   "outputs": [
    {
     "name": "stdout",
     "output_type": "stream",
     "text": [
      "       Mes  Lluvia total (mm)\n",
      "0  2025-01              514.0\n",
      "1  2025-02              139.8\n",
      "2  2025-03              113.0\n",
      "3  2025-04                0.0\n"
     ]
    },
    {
     "data": {
      "application/vnd.plotly.v1+json": {
       "config": {
        "plotlyServerURL": "https://plot.ly"
       },
       "data": [
        {
         "hovertemplate": "Mes=%{x}<br>Lluvia total (mm)=%{y}<extra></extra>",
         "legendgroup": "",
         "marker": {
          "color": "#636efa",
          "pattern": {
           "shape": ""
          }
         },
         "name": "",
         "orientation": "v",
         "showlegend": false,
         "textposition": "auto",
         "type": "bar",
         "x": [
          "2025-01",
          "2025-02",
          "2025-03",
          "2025-04"
         ],
         "xaxis": "x",
         "y": {
          "bdata": "AAAAAAAQgECamZmZmXlhQAAAAAAAQFxAAAAAAAAAAAA=",
          "dtype": "f8"
         },
         "yaxis": "y"
        }
       ],
       "layout": {
        "barmode": "relative",
        "legend": {
         "tracegroupgap": 0
        },
        "template": {
         "data": {
          "bar": [
           {
            "error_x": {
             "color": "#2a3f5f"
            },
            "error_y": {
             "color": "#2a3f5f"
            },
            "marker": {
             "line": {
              "color": "#E5ECF6",
              "width": 0.5
             },
             "pattern": {
              "fillmode": "overlay",
              "size": 10,
              "solidity": 0.2
             }
            },
            "type": "bar"
           }
          ],
          "barpolar": [
           {
            "marker": {
             "line": {
              "color": "#E5ECF6",
              "width": 0.5
             },
             "pattern": {
              "fillmode": "overlay",
              "size": 10,
              "solidity": 0.2
             }
            },
            "type": "barpolar"
           }
          ],
          "carpet": [
           {
            "aaxis": {
             "endlinecolor": "#2a3f5f",
             "gridcolor": "white",
             "linecolor": "white",
             "minorgridcolor": "white",
             "startlinecolor": "#2a3f5f"
            },
            "baxis": {
             "endlinecolor": "#2a3f5f",
             "gridcolor": "white",
             "linecolor": "white",
             "minorgridcolor": "white",
             "startlinecolor": "#2a3f5f"
            },
            "type": "carpet"
           }
          ],
          "choropleth": [
           {
            "colorbar": {
             "outlinewidth": 0,
             "ticks": ""
            },
            "type": "choropleth"
           }
          ],
          "contour": [
           {
            "colorbar": {
             "outlinewidth": 0,
             "ticks": ""
            },
            "colorscale": [
             [
              0,
              "#0d0887"
             ],
             [
              0.1111111111111111,
              "#46039f"
             ],
             [
              0.2222222222222222,
              "#7201a8"
             ],
             [
              0.3333333333333333,
              "#9c179e"
             ],
             [
              0.4444444444444444,
              "#bd3786"
             ],
             [
              0.5555555555555556,
              "#d8576b"
             ],
             [
              0.6666666666666666,
              "#ed7953"
             ],
             [
              0.7777777777777778,
              "#fb9f3a"
             ],
             [
              0.8888888888888888,
              "#fdca26"
             ],
             [
              1,
              "#f0f921"
             ]
            ],
            "type": "contour"
           }
          ],
          "contourcarpet": [
           {
            "colorbar": {
             "outlinewidth": 0,
             "ticks": ""
            },
            "type": "contourcarpet"
           }
          ],
          "heatmap": [
           {
            "colorbar": {
             "outlinewidth": 0,
             "ticks": ""
            },
            "colorscale": [
             [
              0,
              "#0d0887"
             ],
             [
              0.1111111111111111,
              "#46039f"
             ],
             [
              0.2222222222222222,
              "#7201a8"
             ],
             [
              0.3333333333333333,
              "#9c179e"
             ],
             [
              0.4444444444444444,
              "#bd3786"
             ],
             [
              0.5555555555555556,
              "#d8576b"
             ],
             [
              0.6666666666666666,
              "#ed7953"
             ],
             [
              0.7777777777777778,
              "#fb9f3a"
             ],
             [
              0.8888888888888888,
              "#fdca26"
             ],
             [
              1,
              "#f0f921"
             ]
            ],
            "type": "heatmap"
           }
          ],
          "histogram": [
           {
            "marker": {
             "pattern": {
              "fillmode": "overlay",
              "size": 10,
              "solidity": 0.2
             }
            },
            "type": "histogram"
           }
          ],
          "histogram2d": [
           {
            "colorbar": {
             "outlinewidth": 0,
             "ticks": ""
            },
            "colorscale": [
             [
              0,
              "#0d0887"
             ],
             [
              0.1111111111111111,
              "#46039f"
             ],
             [
              0.2222222222222222,
              "#7201a8"
             ],
             [
              0.3333333333333333,
              "#9c179e"
             ],
             [
              0.4444444444444444,
              "#bd3786"
             ],
             [
              0.5555555555555556,
              "#d8576b"
             ],
             [
              0.6666666666666666,
              "#ed7953"
             ],
             [
              0.7777777777777778,
              "#fb9f3a"
             ],
             [
              0.8888888888888888,
              "#fdca26"
             ],
             [
              1,
              "#f0f921"
             ]
            ],
            "type": "histogram2d"
           }
          ],
          "histogram2dcontour": [
           {
            "colorbar": {
             "outlinewidth": 0,
             "ticks": ""
            },
            "colorscale": [
             [
              0,
              "#0d0887"
             ],
             [
              0.1111111111111111,
              "#46039f"
             ],
             [
              0.2222222222222222,
              "#7201a8"
             ],
             [
              0.3333333333333333,
              "#9c179e"
             ],
             [
              0.4444444444444444,
              "#bd3786"
             ],
             [
              0.5555555555555556,
              "#d8576b"
             ],
             [
              0.6666666666666666,
              "#ed7953"
             ],
             [
              0.7777777777777778,
              "#fb9f3a"
             ],
             [
              0.8888888888888888,
              "#fdca26"
             ],
             [
              1,
              "#f0f921"
             ]
            ],
            "type": "histogram2dcontour"
           }
          ],
          "mesh3d": [
           {
            "colorbar": {
             "outlinewidth": 0,
             "ticks": ""
            },
            "type": "mesh3d"
           }
          ],
          "parcoords": [
           {
            "line": {
             "colorbar": {
              "outlinewidth": 0,
              "ticks": ""
             }
            },
            "type": "parcoords"
           }
          ],
          "pie": [
           {
            "automargin": true,
            "type": "pie"
           }
          ],
          "scatter": [
           {
            "fillpattern": {
             "fillmode": "overlay",
             "size": 10,
             "solidity": 0.2
            },
            "type": "scatter"
           }
          ],
          "scatter3d": [
           {
            "line": {
             "colorbar": {
              "outlinewidth": 0,
              "ticks": ""
             }
            },
            "marker": {
             "colorbar": {
              "outlinewidth": 0,
              "ticks": ""
             }
            },
            "type": "scatter3d"
           }
          ],
          "scattercarpet": [
           {
            "marker": {
             "colorbar": {
              "outlinewidth": 0,
              "ticks": ""
             }
            },
            "type": "scattercarpet"
           }
          ],
          "scattergeo": [
           {
            "marker": {
             "colorbar": {
              "outlinewidth": 0,
              "ticks": ""
             }
            },
            "type": "scattergeo"
           }
          ],
          "scattergl": [
           {
            "marker": {
             "colorbar": {
              "outlinewidth": 0,
              "ticks": ""
             }
            },
            "type": "scattergl"
           }
          ],
          "scattermap": [
           {
            "marker": {
             "colorbar": {
              "outlinewidth": 0,
              "ticks": ""
             }
            },
            "type": "scattermap"
           }
          ],
          "scattermapbox": [
           {
            "marker": {
             "colorbar": {
              "outlinewidth": 0,
              "ticks": ""
             }
            },
            "type": "scattermapbox"
           }
          ],
          "scatterpolar": [
           {
            "marker": {
             "colorbar": {
              "outlinewidth": 0,
              "ticks": ""
             }
            },
            "type": "scatterpolar"
           }
          ],
          "scatterpolargl": [
           {
            "marker": {
             "colorbar": {
              "outlinewidth": 0,
              "ticks": ""
             }
            },
            "type": "scatterpolargl"
           }
          ],
          "scatterternary": [
           {
            "marker": {
             "colorbar": {
              "outlinewidth": 0,
              "ticks": ""
             }
            },
            "type": "scatterternary"
           }
          ],
          "surface": [
           {
            "colorbar": {
             "outlinewidth": 0,
             "ticks": ""
            },
            "colorscale": [
             [
              0,
              "#0d0887"
             ],
             [
              0.1111111111111111,
              "#46039f"
             ],
             [
              0.2222222222222222,
              "#7201a8"
             ],
             [
              0.3333333333333333,
              "#9c179e"
             ],
             [
              0.4444444444444444,
              "#bd3786"
             ],
             [
              0.5555555555555556,
              "#d8576b"
             ],
             [
              0.6666666666666666,
              "#ed7953"
             ],
             [
              0.7777777777777778,
              "#fb9f3a"
             ],
             [
              0.8888888888888888,
              "#fdca26"
             ],
             [
              1,
              "#f0f921"
             ]
            ],
            "type": "surface"
           }
          ],
          "table": [
           {
            "cells": {
             "fill": {
              "color": "#EBF0F8"
             },
             "line": {
              "color": "white"
             }
            },
            "header": {
             "fill": {
              "color": "#C8D4E3"
             },
             "line": {
              "color": "white"
             }
            },
            "type": "table"
           }
          ]
         },
         "layout": {
          "annotationdefaults": {
           "arrowcolor": "#2a3f5f",
           "arrowhead": 0,
           "arrowwidth": 1
          },
          "autotypenumbers": "strict",
          "coloraxis": {
           "colorbar": {
            "outlinewidth": 0,
            "ticks": ""
           }
          },
          "colorscale": {
           "diverging": [
            [
             0,
             "#8e0152"
            ],
            [
             0.1,
             "#c51b7d"
            ],
            [
             0.2,
             "#de77ae"
            ],
            [
             0.3,
             "#f1b6da"
            ],
            [
             0.4,
             "#fde0ef"
            ],
            [
             0.5,
             "#f7f7f7"
            ],
            [
             0.6,
             "#e6f5d0"
            ],
            [
             0.7,
             "#b8e186"
            ],
            [
             0.8,
             "#7fbc41"
            ],
            [
             0.9,
             "#4d9221"
            ],
            [
             1,
             "#276419"
            ]
           ],
           "sequential": [
            [
             0,
             "#0d0887"
            ],
            [
             0.1111111111111111,
             "#46039f"
            ],
            [
             0.2222222222222222,
             "#7201a8"
            ],
            [
             0.3333333333333333,
             "#9c179e"
            ],
            [
             0.4444444444444444,
             "#bd3786"
            ],
            [
             0.5555555555555556,
             "#d8576b"
            ],
            [
             0.6666666666666666,
             "#ed7953"
            ],
            [
             0.7777777777777778,
             "#fb9f3a"
            ],
            [
             0.8888888888888888,
             "#fdca26"
            ],
            [
             1,
             "#f0f921"
            ]
           ],
           "sequentialminus": [
            [
             0,
             "#0d0887"
            ],
            [
             0.1111111111111111,
             "#46039f"
            ],
            [
             0.2222222222222222,
             "#7201a8"
            ],
            [
             0.3333333333333333,
             "#9c179e"
            ],
            [
             0.4444444444444444,
             "#bd3786"
            ],
            [
             0.5555555555555556,
             "#d8576b"
            ],
            [
             0.6666666666666666,
             "#ed7953"
            ],
            [
             0.7777777777777778,
             "#fb9f3a"
            ],
            [
             0.8888888888888888,
             "#fdca26"
            ],
            [
             1,
             "#f0f921"
            ]
           ]
          },
          "colorway": [
           "#636efa",
           "#EF553B",
           "#00cc96",
           "#ab63fa",
           "#FFA15A",
           "#19d3f3",
           "#FF6692",
           "#B6E880",
           "#FF97FF",
           "#FECB52"
          ],
          "font": {
           "color": "#2a3f5f"
          },
          "geo": {
           "bgcolor": "white",
           "lakecolor": "white",
           "landcolor": "#E5ECF6",
           "showlakes": true,
           "showland": true,
           "subunitcolor": "white"
          },
          "hoverlabel": {
           "align": "left"
          },
          "hovermode": "closest",
          "mapbox": {
           "style": "light"
          },
          "paper_bgcolor": "white",
          "plot_bgcolor": "#E5ECF6",
          "polar": {
           "angularaxis": {
            "gridcolor": "white",
            "linecolor": "white",
            "ticks": ""
           },
           "bgcolor": "#E5ECF6",
           "radialaxis": {
            "gridcolor": "white",
            "linecolor": "white",
            "ticks": ""
           }
          },
          "scene": {
           "xaxis": {
            "backgroundcolor": "#E5ECF6",
            "gridcolor": "white",
            "gridwidth": 2,
            "linecolor": "white",
            "showbackground": true,
            "ticks": "",
            "zerolinecolor": "white"
           },
           "yaxis": {
            "backgroundcolor": "#E5ECF6",
            "gridcolor": "white",
            "gridwidth": 2,
            "linecolor": "white",
            "showbackground": true,
            "ticks": "",
            "zerolinecolor": "white"
           },
           "zaxis": {
            "backgroundcolor": "#E5ECF6",
            "gridcolor": "white",
            "gridwidth": 2,
            "linecolor": "white",
            "showbackground": true,
            "ticks": "",
            "zerolinecolor": "white"
           }
          },
          "shapedefaults": {
           "line": {
            "color": "#2a3f5f"
           }
          },
          "ternary": {
           "aaxis": {
            "gridcolor": "white",
            "linecolor": "white",
            "ticks": ""
           },
           "baxis": {
            "gridcolor": "white",
            "linecolor": "white",
            "ticks": ""
           },
           "bgcolor": "#E5ECF6",
           "caxis": {
            "gridcolor": "white",
            "linecolor": "white",
            "ticks": ""
           }
          },
          "title": {
           "x": 0.05
          },
          "xaxis": {
           "automargin": true,
           "gridcolor": "white",
           "linecolor": "white",
           "ticks": "",
           "title": {
            "standoff": 15
           },
           "zerolinecolor": "white",
           "zerolinewidth": 2
          },
          "yaxis": {
           "automargin": true,
           "gridcolor": "white",
           "linecolor": "white",
           "ticks": "",
           "title": {
            "standoff": 15
           },
           "zerolinecolor": "white",
           "zerolinewidth": 2
          }
         }
        },
        "title": {
         "text": "Cantidad total de lluvia por mes"
        },
        "xaxis": {
         "anchor": "y",
         "domain": [
          0,
          1
         ],
         "title": {
          "text": "Mes"
         },
         "type": "category"
        },
        "yaxis": {
         "anchor": "x",
         "domain": [
          0,
          1
         ],
         "title": {
          "text": "Lluvia total (mm)"
         }
        }
       }
      }
     },
     "metadata": {},
     "output_type": "display_data"
    }
   ],
   "source": [
    "# Suma de lluvia por mes\n",
    "lluvia_total_por_mes = df_pivot.groupby(\"Mes\")[\"lluvia\"].sum().reset_index(name=\"Lluvia total (mm)\")\n",
    "\n",
    "# Ordenar\n",
    "lluvia_total_por_mes = lluvia_total_por_mes.sort_values(by=\"Lluvia total (mm)\", ascending=False)\n",
    "\n",
    "# Mostrar tabla\n",
    "print(lluvia_total_por_mes)\n",
    "\n",
    "# Visualizar con barras\n",
    "fig_lluvia_total = px.bar(\n",
    "    lluvia_total_por_mes,\n",
    "    x=\"Mes\",\n",
    "    y=\"Lluvia total (mm)\",\n",
    "    title=\"Cantidad total de lluvia por mes\"\n",
    ")\n",
    "fig_lluvia_total.update_xaxes(type=\"category\")\n",
    "fig_lluvia_total.show()\n"
   ]
  },
  {
   "cell_type": "code",
   "execution_count": 39,
   "metadata": {},
   "outputs": [
    {
     "data": {
      "text/html": [
       "<div>\n",
       "<style scoped>\n",
       "    .dataframe tbody tr th:only-of-type {\n",
       "        vertical-align: middle;\n",
       "    }\n",
       "\n",
       "    .dataframe tbody tr th {\n",
       "        vertical-align: top;\n",
       "    }\n",
       "\n",
       "    .dataframe thead th {\n",
       "        text-align: right;\n",
       "    }\n",
       "</style>\n",
       "<table border=\"1\" class=\"dataframe\">\n",
       "  <thead>\n",
       "    <tr style=\"text-align: right;\">\n",
       "      <th></th>\n",
       "      <th>fecha</th>\n",
       "      <th>humedad</th>\n",
       "      <th>precipitacion</th>\n",
       "      <th>temperatura</th>\n",
       "      <th>mes</th>\n",
       "    </tr>\n",
       "  </thead>\n",
       "  <tbody>\n",
       "    <tr>\n",
       "      <th>2</th>\n",
       "      <td>2025-01-03</td>\n",
       "      <td>95.0</td>\n",
       "      <td>27.3</td>\n",
       "      <td>12.00</td>\n",
       "      <td>2025-01</td>\n",
       "    </tr>\n",
       "    <tr>\n",
       "      <th>3</th>\n",
       "      <td>2025-01-04</td>\n",
       "      <td>85.0</td>\n",
       "      <td>12.8</td>\n",
       "      <td>12.71</td>\n",
       "      <td>2025-01</td>\n",
       "    </tr>\n",
       "    <tr>\n",
       "      <th>4</th>\n",
       "      <td>2025-01-05</td>\n",
       "      <td>92.0</td>\n",
       "      <td>46.8</td>\n",
       "      <td>12.69</td>\n",
       "      <td>2025-01</td>\n",
       "    </tr>\n",
       "    <tr>\n",
       "      <th>5</th>\n",
       "      <td>2025-01-06</td>\n",
       "      <td>91.0</td>\n",
       "      <td>5.7</td>\n",
       "      <td>7.97</td>\n",
       "      <td>2025-01</td>\n",
       "    </tr>\n",
       "    <tr>\n",
       "      <th>6</th>\n",
       "      <td>2025-01-07</td>\n",
       "      <td>95.0</td>\n",
       "      <td>35.4</td>\n",
       "      <td>11.40</td>\n",
       "      <td>2025-01</td>\n",
       "    </tr>\n",
       "    <tr>\n",
       "      <th>7</th>\n",
       "      <td>2025-01-08</td>\n",
       "      <td>89.0</td>\n",
       "      <td>62.1</td>\n",
       "      <td>13.14</td>\n",
       "      <td>2025-01</td>\n",
       "    </tr>\n",
       "    <tr>\n",
       "      <th>8</th>\n",
       "      <td>2025-01-09</td>\n",
       "      <td>91.0</td>\n",
       "      <td>4.8</td>\n",
       "      <td>13.38</td>\n",
       "      <td>2025-01</td>\n",
       "    </tr>\n",
       "    <tr>\n",
       "      <th>9</th>\n",
       "      <td>2025-01-10</td>\n",
       "      <td>97.0</td>\n",
       "      <td>21.9</td>\n",
       "      <td>13.96</td>\n",
       "      <td>2025-01</td>\n",
       "    </tr>\n",
       "    <tr>\n",
       "      <th>10</th>\n",
       "      <td>2025-01-11</td>\n",
       "      <td>95.0</td>\n",
       "      <td>1.9</td>\n",
       "      <td>13.76</td>\n",
       "      <td>2025-01</td>\n",
       "    </tr>\n",
       "    <tr>\n",
       "      <th>18</th>\n",
       "      <td>2025-01-19</td>\n",
       "      <td>87.0</td>\n",
       "      <td>14.6</td>\n",
       "      <td>7.89</td>\n",
       "      <td>2025-01</td>\n",
       "    </tr>\n",
       "    <tr>\n",
       "      <th>19</th>\n",
       "      <td>2025-01-20</td>\n",
       "      <td>93.0</td>\n",
       "      <td>6.6</td>\n",
       "      <td>10.57</td>\n",
       "      <td>2025-01</td>\n",
       "    </tr>\n",
       "    <tr>\n",
       "      <th>20</th>\n",
       "      <td>2025-01-21</td>\n",
       "      <td>89.0</td>\n",
       "      <td>10.6</td>\n",
       "      <td>13.16</td>\n",
       "      <td>2025-01</td>\n",
       "    </tr>\n",
       "    <tr>\n",
       "      <th>21</th>\n",
       "      <td>2025-01-22</td>\n",
       "      <td>94.0</td>\n",
       "      <td>29.4</td>\n",
       "      <td>10.85</td>\n",
       "      <td>2025-01</td>\n",
       "    </tr>\n",
       "    <tr>\n",
       "      <th>23</th>\n",
       "      <td>2025-01-24</td>\n",
       "      <td>87.0</td>\n",
       "      <td>45.2</td>\n",
       "      <td>11.35</td>\n",
       "      <td>2025-01</td>\n",
       "    </tr>\n",
       "    <tr>\n",
       "      <th>24</th>\n",
       "      <td>2025-01-25</td>\n",
       "      <td>84.0</td>\n",
       "      <td>8.8</td>\n",
       "      <td>10.12</td>\n",
       "      <td>2025-01</td>\n",
       "    </tr>\n",
       "    <tr>\n",
       "      <th>25</th>\n",
       "      <td>2025-01-26</td>\n",
       "      <td>92.0</td>\n",
       "      <td>98.5</td>\n",
       "      <td>12.63</td>\n",
       "      <td>2025-01</td>\n",
       "    </tr>\n",
       "    <tr>\n",
       "      <th>26</th>\n",
       "      <td>2025-01-27</td>\n",
       "      <td>82.0</td>\n",
       "      <td>23.0</td>\n",
       "      <td>8.60</td>\n",
       "      <td>2025-01</td>\n",
       "    </tr>\n",
       "    <tr>\n",
       "      <th>27</th>\n",
       "      <td>2025-01-28</td>\n",
       "      <td>81.0</td>\n",
       "      <td>10.5</td>\n",
       "      <td>8.89</td>\n",
       "      <td>2025-01</td>\n",
       "    </tr>\n",
       "    <tr>\n",
       "      <th>28</th>\n",
       "      <td>2025-01-29</td>\n",
       "      <td>88.0</td>\n",
       "      <td>47.5</td>\n",
       "      <td>8.53</td>\n",
       "      <td>2025-01</td>\n",
       "    </tr>\n",
       "    <tr>\n",
       "      <th>29</th>\n",
       "      <td>2025-01-30</td>\n",
       "      <td>73.0</td>\n",
       "      <td>0.6</td>\n",
       "      <td>8.24</td>\n",
       "      <td>2025-01</td>\n",
       "    </tr>\n",
       "    <tr>\n",
       "      <th>31</th>\n",
       "      <td>2025-02-01</td>\n",
       "      <td>97.0</td>\n",
       "      <td>1.3</td>\n",
       "      <td>10.62</td>\n",
       "      <td>2025-02</td>\n",
       "    </tr>\n",
       "    <tr>\n",
       "      <th>32</th>\n",
       "      <td>2025-02-02</td>\n",
       "      <td>80.0</td>\n",
       "      <td>2.1</td>\n",
       "      <td>9.12</td>\n",
       "      <td>2025-02</td>\n",
       "    </tr>\n",
       "    <tr>\n",
       "      <th>36</th>\n",
       "      <td>2025-02-06</td>\n",
       "      <td>80.0</td>\n",
       "      <td>1.0</td>\n",
       "      <td>8.64</td>\n",
       "      <td>2025-02</td>\n",
       "    </tr>\n",
       "    <tr>\n",
       "      <th>37</th>\n",
       "      <td>2025-02-07</td>\n",
       "      <td>90.0</td>\n",
       "      <td>8.1</td>\n",
       "      <td>8.36</td>\n",
       "      <td>2025-02</td>\n",
       "    </tr>\n",
       "    <tr>\n",
       "      <th>38</th>\n",
       "      <td>2025-02-08</td>\n",
       "      <td>92.0</td>\n",
       "      <td>1.1</td>\n",
       "      <td>4.35</td>\n",
       "      <td>2025-02</td>\n",
       "    </tr>\n",
       "    <tr>\n",
       "      <th>39</th>\n",
       "      <td>2025-02-09</td>\n",
       "      <td>97.0</td>\n",
       "      <td>12.0</td>\n",
       "      <td>12.23</td>\n",
       "      <td>2025-02</td>\n",
       "    </tr>\n",
       "    <tr>\n",
       "      <th>40</th>\n",
       "      <td>2025-02-10</td>\n",
       "      <td>93.0</td>\n",
       "      <td>5.0</td>\n",
       "      <td>12.25</td>\n",
       "      <td>2025-02</td>\n",
       "    </tr>\n",
       "    <tr>\n",
       "      <th>41</th>\n",
       "      <td>2025-02-11</td>\n",
       "      <td>93.0</td>\n",
       "      <td>14.9</td>\n",
       "      <td>9.93</td>\n",
       "      <td>2025-02</td>\n",
       "    </tr>\n",
       "    <tr>\n",
       "      <th>42</th>\n",
       "      <td>2025-02-12</td>\n",
       "      <td>94.0</td>\n",
       "      <td>1.3</td>\n",
       "      <td>9.61</td>\n",
       "      <td>2025-02</td>\n",
       "    </tr>\n",
       "    <tr>\n",
       "      <th>43</th>\n",
       "      <td>2025-02-13</td>\n",
       "      <td>92.0</td>\n",
       "      <td>7.5</td>\n",
       "      <td>12.09</td>\n",
       "      <td>2025-02</td>\n",
       "    </tr>\n",
       "    <tr>\n",
       "      <th>46</th>\n",
       "      <td>2025-02-16</td>\n",
       "      <td>84.0</td>\n",
       "      <td>6.2</td>\n",
       "      <td>11.20</td>\n",
       "      <td>2025-02</td>\n",
       "    </tr>\n",
       "    <tr>\n",
       "      <th>49</th>\n",
       "      <td>2025-02-19</td>\n",
       "      <td>90.0</td>\n",
       "      <td>0.3</td>\n",
       "      <td>12.26</td>\n",
       "      <td>2025-02</td>\n",
       "    </tr>\n",
       "    <tr>\n",
       "      <th>50</th>\n",
       "      <td>2025-02-20</td>\n",
       "      <td>87.0</td>\n",
       "      <td>0.6</td>\n",
       "      <td>12.70</td>\n",
       "      <td>2025-02</td>\n",
       "    </tr>\n",
       "    <tr>\n",
       "      <th>51</th>\n",
       "      <td>2025-02-21</td>\n",
       "      <td>86.0</td>\n",
       "      <td>27.0</td>\n",
       "      <td>12.06</td>\n",
       "      <td>2025-02</td>\n",
       "    </tr>\n",
       "    <tr>\n",
       "      <th>52</th>\n",
       "      <td>2025-02-22</td>\n",
       "      <td>88.0</td>\n",
       "      <td>3.2</td>\n",
       "      <td>9.61</td>\n",
       "      <td>2025-02</td>\n",
       "    </tr>\n",
       "    <tr>\n",
       "      <th>54</th>\n",
       "      <td>2025-02-24</td>\n",
       "      <td>95.0</td>\n",
       "      <td>48.2</td>\n",
       "      <td>12.11</td>\n",
       "      <td>2025-02</td>\n",
       "    </tr>\n",
       "    <tr>\n",
       "      <th>63</th>\n",
       "      <td>2025-03-05</td>\n",
       "      <td>88.0</td>\n",
       "      <td>3.7</td>\n",
       "      <td>11.14</td>\n",
       "      <td>2025-03</td>\n",
       "    </tr>\n",
       "    <tr>\n",
       "      <th>64</th>\n",
       "      <td>2025-03-06</td>\n",
       "      <td>93.0</td>\n",
       "      <td>7.9</td>\n",
       "      <td>11.21</td>\n",
       "      <td>2025-03</td>\n",
       "    </tr>\n",
       "    <tr>\n",
       "      <th>65</th>\n",
       "      <td>2025-03-07</td>\n",
       "      <td>80.0</td>\n",
       "      <td>8.7</td>\n",
       "      <td>11.49</td>\n",
       "      <td>2025-03</td>\n",
       "    </tr>\n",
       "    <tr>\n",
       "      <th>66</th>\n",
       "      <td>2025-03-08</td>\n",
       "      <td>82.0</td>\n",
       "      <td>11.6</td>\n",
       "      <td>8.84</td>\n",
       "      <td>2025-03</td>\n",
       "    </tr>\n",
       "    <tr>\n",
       "      <th>67</th>\n",
       "      <td>2025-03-09</td>\n",
       "      <td>81.0</td>\n",
       "      <td>11.1</td>\n",
       "      <td>9.22</td>\n",
       "      <td>2025-03</td>\n",
       "    </tr>\n",
       "    <tr>\n",
       "      <th>68</th>\n",
       "      <td>2025-03-10</td>\n",
       "      <td>84.0</td>\n",
       "      <td>10.8</td>\n",
       "      <td>8.65</td>\n",
       "      <td>2025-03</td>\n",
       "    </tr>\n",
       "    <tr>\n",
       "      <th>76</th>\n",
       "      <td>2025-03-18</td>\n",
       "      <td>77.0</td>\n",
       "      <td>0.6</td>\n",
       "      <td>11.09</td>\n",
       "      <td>2025-03</td>\n",
       "    </tr>\n",
       "    <tr>\n",
       "      <th>78</th>\n",
       "      <td>2025-03-20</td>\n",
       "      <td>61.0</td>\n",
       "      <td>2.2</td>\n",
       "      <td>13.64</td>\n",
       "      <td>2025-03</td>\n",
       "    </tr>\n",
       "    <tr>\n",
       "      <th>79</th>\n",
       "      <td>2025-03-21</td>\n",
       "      <td>95.0</td>\n",
       "      <td>36.3</td>\n",
       "      <td>9.99</td>\n",
       "      <td>2025-03</td>\n",
       "    </tr>\n",
       "    <tr>\n",
       "      <th>80</th>\n",
       "      <td>2025-03-22</td>\n",
       "      <td>90.0</td>\n",
       "      <td>17.6</td>\n",
       "      <td>7.99</td>\n",
       "      <td>2025-03</td>\n",
       "    </tr>\n",
       "    <tr>\n",
       "      <th>81</th>\n",
       "      <td>2025-03-23</td>\n",
       "      <td>88.0</td>\n",
       "      <td>1.5</td>\n",
       "      <td>6.80</td>\n",
       "      <td>2025-03</td>\n",
       "    </tr>\n",
       "    <tr>\n",
       "      <th>82</th>\n",
       "      <td>2025-03-24</td>\n",
       "      <td>89.0</td>\n",
       "      <td>1.0</td>\n",
       "      <td>9.30</td>\n",
       "      <td>2025-03</td>\n",
       "    </tr>\n",
       "  </tbody>\n",
       "</table>\n",
       "</div>"
      ],
      "text/plain": [
       "        fecha  humedad  precipitacion  temperatura      mes\n",
       "2  2025-01-03     95.0           27.3        12.00  2025-01\n",
       "3  2025-01-04     85.0           12.8        12.71  2025-01\n",
       "4  2025-01-05     92.0           46.8        12.69  2025-01\n",
       "5  2025-01-06     91.0            5.7         7.97  2025-01\n",
       "6  2025-01-07     95.0           35.4        11.40  2025-01\n",
       "7  2025-01-08     89.0           62.1        13.14  2025-01\n",
       "8  2025-01-09     91.0            4.8        13.38  2025-01\n",
       "9  2025-01-10     97.0           21.9        13.96  2025-01\n",
       "10 2025-01-11     95.0            1.9        13.76  2025-01\n",
       "18 2025-01-19     87.0           14.6         7.89  2025-01\n",
       "19 2025-01-20     93.0            6.6        10.57  2025-01\n",
       "20 2025-01-21     89.0           10.6        13.16  2025-01\n",
       "21 2025-01-22     94.0           29.4        10.85  2025-01\n",
       "23 2025-01-24     87.0           45.2        11.35  2025-01\n",
       "24 2025-01-25     84.0            8.8        10.12  2025-01\n",
       "25 2025-01-26     92.0           98.5        12.63  2025-01\n",
       "26 2025-01-27     82.0           23.0         8.60  2025-01\n",
       "27 2025-01-28     81.0           10.5         8.89  2025-01\n",
       "28 2025-01-29     88.0           47.5         8.53  2025-01\n",
       "29 2025-01-30     73.0            0.6         8.24  2025-01\n",
       "31 2025-02-01     97.0            1.3        10.62  2025-02\n",
       "32 2025-02-02     80.0            2.1         9.12  2025-02\n",
       "36 2025-02-06     80.0            1.0         8.64  2025-02\n",
       "37 2025-02-07     90.0            8.1         8.36  2025-02\n",
       "38 2025-02-08     92.0            1.1         4.35  2025-02\n",
       "39 2025-02-09     97.0           12.0        12.23  2025-02\n",
       "40 2025-02-10     93.0            5.0        12.25  2025-02\n",
       "41 2025-02-11     93.0           14.9         9.93  2025-02\n",
       "42 2025-02-12     94.0            1.3         9.61  2025-02\n",
       "43 2025-02-13     92.0            7.5        12.09  2025-02\n",
       "46 2025-02-16     84.0            6.2        11.20  2025-02\n",
       "49 2025-02-19     90.0            0.3        12.26  2025-02\n",
       "50 2025-02-20     87.0            0.6        12.70  2025-02\n",
       "51 2025-02-21     86.0           27.0        12.06  2025-02\n",
       "52 2025-02-22     88.0            3.2         9.61  2025-02\n",
       "54 2025-02-24     95.0           48.2        12.11  2025-02\n",
       "63 2025-03-05     88.0            3.7        11.14  2025-03\n",
       "64 2025-03-06     93.0            7.9        11.21  2025-03\n",
       "65 2025-03-07     80.0            8.7        11.49  2025-03\n",
       "66 2025-03-08     82.0           11.6         8.84  2025-03\n",
       "67 2025-03-09     81.0           11.1         9.22  2025-03\n",
       "68 2025-03-10     84.0           10.8         8.65  2025-03\n",
       "76 2025-03-18     77.0            0.6        11.09  2025-03\n",
       "78 2025-03-20     61.0            2.2        13.64  2025-03\n",
       "79 2025-03-21     95.0           36.3         9.99  2025-03\n",
       "80 2025-03-22     90.0           17.6         7.99  2025-03\n",
       "81 2025-03-23     88.0            1.5         6.80  2025-03\n",
       "82 2025-03-24     89.0            1.0         9.30  2025-03"
      ]
     },
     "execution_count": 39,
     "metadata": {},
     "output_type": "execute_result"
    }
   ],
   "source": [
    "df_pivot[df_pivot[\"precipitacion\"] != 0]"
   ]
  },
  {
   "cell_type": "code",
   "execution_count": 5,
   "metadata": {},
   "outputs": [
    {
     "name": "stdout",
     "output_type": "stream",
     "text": [
      "c:\\projects\\galizia_weather\n",
      "        fecha  humedad  precipitacion  temperatura  ciudad\n",
      "0  2023-01-01     98.0           22.6        12.01  coruna\n",
      "1  2023-01-02     90.0            1.1        10.98  coruna\n",
      "2  2023-01-03     86.0            0.0        12.01  coruna\n",
      "3  2023-01-04     91.0            0.0        14.55  coruna\n",
      "4  2023-01-05     95.0            0.0        12.99  coruna\n"
     ]
    }
   ],
   "source": [
    "# project directory\n",
    "current_directory = os.getcwd()\n",
    "folder = current_directory.split(\"\\\\\")[-1]\n",
    "if folder != 'galizia_weather':\n",
    "    os.chdir('..')\n",
    "    print(os.getcwd()) \n",
    "else:\n",
    "    print(os.getcwd())\n",
    "\n",
    "folder = 'data/processed'\n",
    "dataframes = []\n",
    "for archivo in os.listdir(folder):\n",
    "        if archivo.endswith('.csv'):\n",
    "            path_folder = os.path.join(folder, archivo)\n",
    "            df = pd.read_csv(path_folder, index_col=0)\n",
    "            # Agregar columna con el nombre del archivo (sin extensión)\n",
    "            nombre_ciudad = os.path.splitext(archivo)[0]\n",
    "            df['ciudad'] = nombre_ciudad\n",
    "        \n",
    "            dataframes.append(df)\n",
    "df_final = pd.concat(dataframes)\n",
    "\n",
    "# Mostrar los primeros registros\n",
    "print(df_final.head())"
   ]
  },
  {
   "cell_type": "code",
   "execution_count": null,
   "metadata": {},
   "outputs": [
    {
     "data": {
      "text/html": [
       "<div>\n",
       "<style scoped>\n",
       "    .dataframe tbody tr th:only-of-type {\n",
       "        vertical-align: middle;\n",
       "    }\n",
       "\n",
       "    .dataframe tbody tr th {\n",
       "        vertical-align: top;\n",
       "    }\n",
       "\n",
       "    .dataframe thead th {\n",
       "        text-align: right;\n",
       "    }\n",
       "</style>\n",
       "<table border=\"1\" class=\"dataframe\">\n",
       "  <thead>\n",
       "    <tr style=\"text-align: right;\">\n",
       "      <th></th>\n",
       "      <th>fecha</th>\n",
       "      <th>humedad</th>\n",
       "      <th>precipitacion</th>\n",
       "      <th>temperatura</th>\n",
       "      <th>ciudad</th>\n",
       "      <th>year</th>\n",
       "      <th>mes_num</th>\n",
       "      <th>mes_nombre</th>\n",
       "      <th>llovio</th>\n",
       "      <th>mes_anyo</th>\n",
       "    </tr>\n",
       "  </thead>\n",
       "  <tbody>\n",
       "    <tr>\n",
       "      <th>0</th>\n",
       "      <td>2023-01-01</td>\n",
       "      <td>98.0</td>\n",
       "      <td>22.6</td>\n",
       "      <td>12.01</td>\n",
       "      <td>coruna</td>\n",
       "      <td>2023</td>\n",
       "      <td>1</td>\n",
       "      <td>Enero</td>\n",
       "      <td>True</td>\n",
       "      <td>2023-01</td>\n",
       "    </tr>\n",
       "    <tr>\n",
       "      <th>1</th>\n",
       "      <td>2023-01-02</td>\n",
       "      <td>90.0</td>\n",
       "      <td>1.1</td>\n",
       "      <td>10.98</td>\n",
       "      <td>coruna</td>\n",
       "      <td>2023</td>\n",
       "      <td>1</td>\n",
       "      <td>Enero</td>\n",
       "      <td>True</td>\n",
       "      <td>2023-01</td>\n",
       "    </tr>\n",
       "    <tr>\n",
       "      <th>2</th>\n",
       "      <td>2023-01-03</td>\n",
       "      <td>86.0</td>\n",
       "      <td>0.0</td>\n",
       "      <td>12.01</td>\n",
       "      <td>coruna</td>\n",
       "      <td>2023</td>\n",
       "      <td>1</td>\n",
       "      <td>Enero</td>\n",
       "      <td>False</td>\n",
       "      <td>2023-01</td>\n",
       "    </tr>\n",
       "    <tr>\n",
       "      <th>3</th>\n",
       "      <td>2023-01-04</td>\n",
       "      <td>91.0</td>\n",
       "      <td>0.0</td>\n",
       "      <td>14.55</td>\n",
       "      <td>coruna</td>\n",
       "      <td>2023</td>\n",
       "      <td>1</td>\n",
       "      <td>Enero</td>\n",
       "      <td>False</td>\n",
       "      <td>2023-01</td>\n",
       "    </tr>\n",
       "    <tr>\n",
       "      <th>4</th>\n",
       "      <td>2023-01-05</td>\n",
       "      <td>95.0</td>\n",
       "      <td>0.0</td>\n",
       "      <td>12.99</td>\n",
       "      <td>coruna</td>\n",
       "      <td>2023</td>\n",
       "      <td>1</td>\n",
       "      <td>Enero</td>\n",
       "      <td>False</td>\n",
       "      <td>2023-01</td>\n",
       "    </tr>\n",
       "  </tbody>\n",
       "</table>\n",
       "</div>"
      ],
      "text/plain": [
       "       fecha  humedad  precipitacion  temperatura  ciudad  year  mes_num  \\\n",
       "0 2023-01-01     98.0           22.6        12.01  coruna  2023        1   \n",
       "1 2023-01-02     90.0            1.1        10.98  coruna  2023        1   \n",
       "2 2023-01-03     86.0            0.0        12.01  coruna  2023        1   \n",
       "3 2023-01-04     91.0            0.0        14.55  coruna  2023        1   \n",
       "4 2023-01-05     95.0            0.0        12.99  coruna  2023        1   \n",
       "\n",
       "  mes_nombre  llovio mes_anyo  \n",
       "0      Enero    True  2023-01  \n",
       "1      Enero    True  2023-01  \n",
       "2      Enero   False  2023-01  \n",
       "3      Enero   False  2023-01  \n",
       "4      Enero   False  2023-01  "
      ]
     },
     "execution_count": 10,
     "metadata": {},
     "output_type": "execute_result"
    }
   ],
   "source": [
    "MESES_ORDENADOS = {\n",
    "    1: \"Enero\", 2: \"Febrero\", 3: \"Marzo\", 4: \"Abril\",\n",
    "    5: \"Mayo\", 6: \"Junio\", 7: \"Julio\", 8: \"Agosto\",\n",
    "    9: \"Septiembre\", 10: \"Octubre\", 11: \"Noviembre\", 12: \"Diciembre\"\n",
    "}\n",
    "\n",
    "def variables_de_tiempo(df):\n",
    "    df[\"fecha\"] = pd.to_datetime(df[\"fecha\"])\n",
    "    # Asegúrate de que las columnas necesarias existan\n",
    "    df[\"year\"] = df[\"fecha\"].dt.year\n",
    "    df[\"mes_num\"] = df[\"fecha\"].dt.month\n",
    "    df[\"mes_nombre\"] = df[\"mes_num\"].map(MESES_ORDENADOS)\n",
    "    df[\"llovio\"] = df[\"precipitacion\"] > 0\n",
    "    df['mes_anyo'] = df['fecha'].dt.to_period('M').dt.to_timestamp()\n",
    "    return df\n",
    "\n",
    "df = variables_de_tiempo(df_final)\n",
    "df.head()"
   ]
  },
  {
   "cell_type": "code",
   "execution_count": 11,
   "metadata": {},
   "outputs": [
    {
     "ename": "TypeError",
     "evalue": "Object of type Period is not JSON serializable",
     "output_type": "error",
     "traceback": [
      "\u001b[1;31m---------------------------------------------------------------------------\u001b[0m",
      "\u001b[1;31mTypeError\u001b[0m                                 Traceback (most recent call last)",
      "Cell \u001b[1;32mIn[11], line 24\u001b[0m\n\u001b[0;32m     11\u001b[0m \u001b[38;5;66;03m# Estilo del gráfico\u001b[39;00m\n\u001b[0;32m     12\u001b[0m fig\u001b[38;5;241m.\u001b[39mupdate_layout(\n\u001b[0;32m     13\u001b[0m     plot_bgcolor\u001b[38;5;241m=\u001b[39m\u001b[38;5;124m'\u001b[39m\u001b[38;5;124mrgba(0, 0, 0, 0)\u001b[39m\u001b[38;5;124m'\u001b[39m,\n\u001b[0;32m     14\u001b[0m     paper_bgcolor\u001b[38;5;241m=\u001b[39m\u001b[38;5;124m'\u001b[39m\u001b[38;5;124mrgba(0, 0, 0, 0)\u001b[39m\u001b[38;5;124m'\u001b[39m,\n\u001b[1;32m   (...)\u001b[0m\n\u001b[0;32m     21\u001b[0m     margin\u001b[38;5;241m=\u001b[39m\u001b[38;5;28mdict\u001b[39m(l\u001b[38;5;241m=\u001b[39m\u001b[38;5;241m20\u001b[39m, r\u001b[38;5;241m=\u001b[39m\u001b[38;5;241m20\u001b[39m, t\u001b[38;5;241m=\u001b[39m\u001b[38;5;241m40\u001b[39m, b\u001b[38;5;241m=\u001b[39m\u001b[38;5;241m40\u001b[39m)\n\u001b[0;32m     22\u001b[0m )\n\u001b[1;32m---> 24\u001b[0m \u001b[43mfig\u001b[49m\u001b[38;5;241;43m.\u001b[39;49m\u001b[43mshow\u001b[49m\u001b[43m(\u001b[49m\u001b[43m)\u001b[49m\n",
      "File \u001b[1;32mc:\\Users\\alfre\\AppData\\Local\\Programs\\Python\\Python311\\Lib\\site-packages\\plotly\\basedatatypes.py:3414\u001b[0m, in \u001b[0;36mBaseFigure.show\u001b[1;34m(self, *args, **kwargs)\u001b[0m\n\u001b[0;32m   3381\u001b[0m \u001b[38;5;250m\u001b[39m\u001b[38;5;124;03m\"\"\"\u001b[39;00m\n\u001b[0;32m   3382\u001b[0m \u001b[38;5;124;03mShow a figure using either the default renderer(s) or the renderer(s)\u001b[39;00m\n\u001b[0;32m   3383\u001b[0m \u001b[38;5;124;03mspecified by the renderer argument\u001b[39;00m\n\u001b[1;32m   (...)\u001b[0m\n\u001b[0;32m   3410\u001b[0m \u001b[38;5;124;03mNone\u001b[39;00m\n\u001b[0;32m   3411\u001b[0m \u001b[38;5;124;03m\"\"\"\u001b[39;00m\n\u001b[0;32m   3412\u001b[0m \u001b[38;5;28;01mimport\u001b[39;00m \u001b[38;5;21;01mplotly\u001b[39;00m\u001b[38;5;21;01m.\u001b[39;00m\u001b[38;5;21;01mio\u001b[39;00m \u001b[38;5;28;01mas\u001b[39;00m \u001b[38;5;21;01mpio\u001b[39;00m\n\u001b[1;32m-> 3414\u001b[0m \u001b[38;5;28;01mreturn\u001b[39;00m \u001b[43mpio\u001b[49m\u001b[38;5;241;43m.\u001b[39;49m\u001b[43mshow\u001b[49m\u001b[43m(\u001b[49m\u001b[38;5;28;43mself\u001b[39;49m\u001b[43m,\u001b[49m\u001b[43m \u001b[49m\u001b[38;5;241;43m*\u001b[39;49m\u001b[43margs\u001b[49m\u001b[43m,\u001b[49m\u001b[43m \u001b[49m\u001b[38;5;241;43m*\u001b[39;49m\u001b[38;5;241;43m*\u001b[39;49m\u001b[43mkwargs\u001b[49m\u001b[43m)\u001b[49m\n",
      "File \u001b[1;32mc:\\Users\\alfre\\AppData\\Local\\Programs\\Python\\Python311\\Lib\\site-packages\\plotly\\io\\_renderers.py:417\u001b[0m, in \u001b[0;36mshow\u001b[1;34m(fig, renderer, validate, **kwargs)\u001b[0m\n\u001b[0;32m    414\u001b[0m fig_dict \u001b[38;5;241m=\u001b[39m validate_coerce_fig_to_dict(fig, validate)\n\u001b[0;32m    416\u001b[0m \u001b[38;5;66;03m# Mimetype renderers\u001b[39;00m\n\u001b[1;32m--> 417\u001b[0m bundle \u001b[38;5;241m=\u001b[39m \u001b[43mrenderers\u001b[49m\u001b[38;5;241;43m.\u001b[39;49m\u001b[43m_build_mime_bundle\u001b[49m\u001b[43m(\u001b[49m\u001b[43mfig_dict\u001b[49m\u001b[43m,\u001b[49m\u001b[43m \u001b[49m\u001b[43mrenderers_string\u001b[49m\u001b[38;5;241;43m=\u001b[39;49m\u001b[43mrenderer\u001b[49m\u001b[43m,\u001b[49m\u001b[43m \u001b[49m\u001b[38;5;241;43m*\u001b[39;49m\u001b[38;5;241;43m*\u001b[39;49m\u001b[43mkwargs\u001b[49m\u001b[43m)\u001b[49m\n\u001b[0;32m    418\u001b[0m \u001b[38;5;28;01mif\u001b[39;00m bundle:\n\u001b[0;32m    419\u001b[0m     \u001b[38;5;28;01mif\u001b[39;00m \u001b[38;5;129;01mnot\u001b[39;00m ipython_display:\n",
      "File \u001b[1;32mc:\\Users\\alfre\\AppData\\Local\\Programs\\Python\\Python311\\Lib\\site-packages\\plotly\\io\\_renderers.py:325\u001b[0m, in \u001b[0;36mRenderersConfig._build_mime_bundle\u001b[1;34m(self, fig_dict, renderers_string, **kwargs)\u001b[0m\n\u001b[0;32m    322\u001b[0m             \u001b[38;5;28;01mif\u001b[39;00m \u001b[38;5;28mhasattr\u001b[39m(renderer, k):\n\u001b[0;32m    323\u001b[0m                 \u001b[38;5;28msetattr\u001b[39m(renderer, k, v)\n\u001b[1;32m--> 325\u001b[0m         bundle\u001b[38;5;241m.\u001b[39mupdate(\u001b[43mrenderer\u001b[49m\u001b[38;5;241;43m.\u001b[39;49m\u001b[43mto_mimebundle\u001b[49m\u001b[43m(\u001b[49m\u001b[43mfig_dict\u001b[49m\u001b[43m)\u001b[49m)\n\u001b[0;32m    327\u001b[0m \u001b[38;5;28;01mreturn\u001b[39;00m bundle\n",
      "File \u001b[1;32mc:\\Users\\alfre\\AppData\\Local\\Programs\\Python\\Python311\\Lib\\site-packages\\plotly\\io\\_base_renderers.py:94\u001b[0m, in \u001b[0;36mPlotlyRenderer.to_mimebundle\u001b[1;34m(self, fig_dict)\u001b[0m\n\u001b[0;32m     90\u001b[0m \u001b[38;5;28;01mif\u001b[39;00m config:\n\u001b[0;32m     91\u001b[0m     fig_dict[\u001b[38;5;124m\"\u001b[39m\u001b[38;5;124mconfig\u001b[39m\u001b[38;5;124m\"\u001b[39m] \u001b[38;5;241m=\u001b[39m config\n\u001b[0;32m     93\u001b[0m json_compatible_fig_dict \u001b[38;5;241m=\u001b[39m json\u001b[38;5;241m.\u001b[39mloads(\n\u001b[1;32m---> 94\u001b[0m     \u001b[43mto_json\u001b[49m\u001b[43m(\u001b[49m\u001b[43mfig_dict\u001b[49m\u001b[43m,\u001b[49m\u001b[43m \u001b[49m\u001b[43mvalidate\u001b[49m\u001b[38;5;241;43m=\u001b[39;49m\u001b[38;5;28;43;01mFalse\u001b[39;49;00m\u001b[43m,\u001b[49m\u001b[43m \u001b[49m\u001b[43mremove_uids\u001b[49m\u001b[38;5;241;43m=\u001b[39;49m\u001b[38;5;28;43;01mFalse\u001b[39;49;00m\u001b[43m)\u001b[49m\n\u001b[0;32m     95\u001b[0m )\n\u001b[0;32m     97\u001b[0m \u001b[38;5;28;01mreturn\u001b[39;00m {\u001b[38;5;124m\"\u001b[39m\u001b[38;5;124mapplication/vnd.plotly.v1+json\u001b[39m\u001b[38;5;124m\"\u001b[39m: json_compatible_fig_dict}\n",
      "File \u001b[1;32mc:\\Users\\alfre\\AppData\\Local\\Programs\\Python\\Python311\\Lib\\site-packages\\plotly\\io\\_json.py:221\u001b[0m, in \u001b[0;36mto_json\u001b[1;34m(fig, validate, pretty, remove_uids, engine)\u001b[0m\n\u001b[0;32m    218\u001b[0m     \u001b[38;5;28;01mfor\u001b[39;00m trace \u001b[38;5;129;01min\u001b[39;00m fig_dict\u001b[38;5;241m.\u001b[39mget(\u001b[38;5;124m\"\u001b[39m\u001b[38;5;124mdata\u001b[39m\u001b[38;5;124m\"\u001b[39m, []):\n\u001b[0;32m    219\u001b[0m         trace\u001b[38;5;241m.\u001b[39mpop(\u001b[38;5;124m\"\u001b[39m\u001b[38;5;124muid\u001b[39m\u001b[38;5;124m\"\u001b[39m, \u001b[38;5;28;01mNone\u001b[39;00m)\n\u001b[1;32m--> 221\u001b[0m \u001b[38;5;28;01mreturn\u001b[39;00m \u001b[43mto_json_plotly\u001b[49m\u001b[43m(\u001b[49m\u001b[43mfig_dict\u001b[49m\u001b[43m,\u001b[49m\u001b[43m \u001b[49m\u001b[43mpretty\u001b[49m\u001b[38;5;241;43m=\u001b[39;49m\u001b[43mpretty\u001b[49m\u001b[43m,\u001b[49m\u001b[43m \u001b[49m\u001b[43mengine\u001b[49m\u001b[38;5;241;43m=\u001b[39;49m\u001b[43mengine\u001b[49m\u001b[43m)\u001b[49m\n",
      "File \u001b[1;32mc:\\Users\\alfre\\AppData\\Local\\Programs\\Python\\Python311\\Lib\\site-packages\\plotly\\io\\_json.py:142\u001b[0m, in \u001b[0;36mto_json_plotly\u001b[1;34m(plotly_object, pretty, engine)\u001b[0m\n\u001b[0;32m    137\u001b[0m         opts[\u001b[38;5;124m\"\u001b[39m\u001b[38;5;124mseparators\u001b[39m\u001b[38;5;124m\"\u001b[39m] \u001b[38;5;241m=\u001b[39m (\u001b[38;5;124m\"\u001b[39m\u001b[38;5;124m,\u001b[39m\u001b[38;5;124m\"\u001b[39m, \u001b[38;5;124m\"\u001b[39m\u001b[38;5;124m:\u001b[39m\u001b[38;5;124m\"\u001b[39m)\n\u001b[0;32m    139\u001b[0m     \u001b[38;5;28;01mfrom\u001b[39;00m \u001b[38;5;21;01m_plotly_utils\u001b[39;00m\u001b[38;5;21;01m.\u001b[39;00m\u001b[38;5;21;01mutils\u001b[39;00m \u001b[38;5;28;01mimport\u001b[39;00m PlotlyJSONEncoder\n\u001b[0;32m    141\u001b[0m     \u001b[38;5;28;01mreturn\u001b[39;00m _safe(\n\u001b[1;32m--> 142\u001b[0m         \u001b[43mjson\u001b[49m\u001b[38;5;241;43m.\u001b[39;49m\u001b[43mdumps\u001b[49m\u001b[43m(\u001b[49m\u001b[43mplotly_object\u001b[49m\u001b[43m,\u001b[49m\u001b[43m \u001b[49m\u001b[38;5;28;43mcls\u001b[39;49m\u001b[38;5;241;43m=\u001b[39;49m\u001b[43mPlotlyJSONEncoder\u001b[49m\u001b[43m,\u001b[49m\u001b[43m \u001b[49m\u001b[38;5;241;43m*\u001b[39;49m\u001b[38;5;241;43m*\u001b[39;49m\u001b[43mopts\u001b[49m\u001b[43m)\u001b[49m, _swap_json\n\u001b[0;32m    143\u001b[0m     )\n\u001b[0;32m    144\u001b[0m \u001b[38;5;28;01melif\u001b[39;00m engine \u001b[38;5;241m==\u001b[39m \u001b[38;5;124m\"\u001b[39m\u001b[38;5;124morjson\u001b[39m\u001b[38;5;124m\"\u001b[39m:\n\u001b[0;32m    145\u001b[0m     JsonConfig\u001b[38;5;241m.\u001b[39mvalidate_orjson()\n",
      "File \u001b[1;32mc:\\Users\\alfre\\AppData\\Local\\Programs\\Python\\Python311\\Lib\\json\\__init__.py:238\u001b[0m, in \u001b[0;36mdumps\u001b[1;34m(obj, skipkeys, ensure_ascii, check_circular, allow_nan, cls, indent, separators, default, sort_keys, **kw)\u001b[0m\n\u001b[0;32m    232\u001b[0m \u001b[38;5;28;01mif\u001b[39;00m \u001b[38;5;28mcls\u001b[39m \u001b[38;5;129;01mis\u001b[39;00m \u001b[38;5;28;01mNone\u001b[39;00m:\n\u001b[0;32m    233\u001b[0m     \u001b[38;5;28mcls\u001b[39m \u001b[38;5;241m=\u001b[39m JSONEncoder\n\u001b[0;32m    234\u001b[0m \u001b[38;5;28;01mreturn\u001b[39;00m \u001b[38;5;28;43mcls\u001b[39;49m\u001b[43m(\u001b[49m\n\u001b[0;32m    235\u001b[0m \u001b[43m    \u001b[49m\u001b[43mskipkeys\u001b[49m\u001b[38;5;241;43m=\u001b[39;49m\u001b[43mskipkeys\u001b[49m\u001b[43m,\u001b[49m\u001b[43m \u001b[49m\u001b[43mensure_ascii\u001b[49m\u001b[38;5;241;43m=\u001b[39;49m\u001b[43mensure_ascii\u001b[49m\u001b[43m,\u001b[49m\n\u001b[0;32m    236\u001b[0m \u001b[43m    \u001b[49m\u001b[43mcheck_circular\u001b[49m\u001b[38;5;241;43m=\u001b[39;49m\u001b[43mcheck_circular\u001b[49m\u001b[43m,\u001b[49m\u001b[43m \u001b[49m\u001b[43mallow_nan\u001b[49m\u001b[38;5;241;43m=\u001b[39;49m\u001b[43mallow_nan\u001b[49m\u001b[43m,\u001b[49m\u001b[43m \u001b[49m\u001b[43mindent\u001b[49m\u001b[38;5;241;43m=\u001b[39;49m\u001b[43mindent\u001b[49m\u001b[43m,\u001b[49m\n\u001b[0;32m    237\u001b[0m \u001b[43m    \u001b[49m\u001b[43mseparators\u001b[49m\u001b[38;5;241;43m=\u001b[39;49m\u001b[43mseparators\u001b[49m\u001b[43m,\u001b[49m\u001b[43m \u001b[49m\u001b[43mdefault\u001b[49m\u001b[38;5;241;43m=\u001b[39;49m\u001b[43mdefault\u001b[49m\u001b[43m,\u001b[49m\u001b[43m \u001b[49m\u001b[43msort_keys\u001b[49m\u001b[38;5;241;43m=\u001b[39;49m\u001b[43msort_keys\u001b[49m\u001b[43m,\u001b[49m\n\u001b[1;32m--> 238\u001b[0m \u001b[43m    \u001b[49m\u001b[38;5;241;43m*\u001b[39;49m\u001b[38;5;241;43m*\u001b[39;49m\u001b[43mkw\u001b[49m\u001b[43m)\u001b[49m\u001b[38;5;241;43m.\u001b[39;49m\u001b[43mencode\u001b[49m\u001b[43m(\u001b[49m\u001b[43mobj\u001b[49m\u001b[43m)\u001b[49m\n",
      "File \u001b[1;32mc:\\Users\\alfre\\AppData\\Local\\Programs\\Python\\Python311\\Lib\\site-packages\\_plotly_utils\\utils.py:162\u001b[0m, in \u001b[0;36mPlotlyJSONEncoder.encode\u001b[1;34m(self, o)\u001b[0m\n\u001b[0;32m    155\u001b[0m \u001b[38;5;250m\u001b[39m\u001b[38;5;124;03m\"\"\"\u001b[39;00m\n\u001b[0;32m    156\u001b[0m \u001b[38;5;124;03mLoad and then dump the result using parse_constant kwarg\u001b[39;00m\n\u001b[0;32m    157\u001b[0m \n\u001b[0;32m    158\u001b[0m \u001b[38;5;124;03mNote that setting invalid separators will cause a failure at this step.\u001b[39;00m\n\u001b[0;32m    159\u001b[0m \n\u001b[0;32m    160\u001b[0m \u001b[38;5;124;03m\"\"\"\u001b[39;00m\n\u001b[0;32m    161\u001b[0m \u001b[38;5;66;03m# this will raise errors in a normal-expected way\u001b[39;00m\n\u001b[1;32m--> 162\u001b[0m encoded_o \u001b[38;5;241m=\u001b[39m \u001b[38;5;28;43msuper\u001b[39;49m\u001b[43m(\u001b[49m\u001b[43mPlotlyJSONEncoder\u001b[49m\u001b[43m,\u001b[49m\u001b[43m \u001b[49m\u001b[38;5;28;43mself\u001b[39;49m\u001b[43m)\u001b[49m\u001b[38;5;241;43m.\u001b[39;49m\u001b[43mencode\u001b[49m\u001b[43m(\u001b[49m\u001b[43mo\u001b[49m\u001b[43m)\u001b[49m\n\u001b[0;32m    163\u001b[0m \u001b[38;5;66;03m# Brute force guessing whether NaN or Infinity values are in the string\u001b[39;00m\n\u001b[0;32m    164\u001b[0m \u001b[38;5;66;03m# We catch false positive cases (e.g. strings such as titles, labels etc.)\u001b[39;00m\n\u001b[0;32m    165\u001b[0m \u001b[38;5;66;03m# but this is ok since the intention is to skip the decoding / reencoding\u001b[39;00m\n\u001b[0;32m    166\u001b[0m \u001b[38;5;66;03m# step when it's completely safe\u001b[39;00m\n\u001b[0;32m    168\u001b[0m \u001b[38;5;28;01mif\u001b[39;00m \u001b[38;5;129;01mnot\u001b[39;00m (\u001b[38;5;124m\"\u001b[39m\u001b[38;5;124mNaN\u001b[39m\u001b[38;5;124m\"\u001b[39m \u001b[38;5;129;01min\u001b[39;00m encoded_o \u001b[38;5;129;01mor\u001b[39;00m \u001b[38;5;124m\"\u001b[39m\u001b[38;5;124mInfinity\u001b[39m\u001b[38;5;124m\"\u001b[39m \u001b[38;5;129;01min\u001b[39;00m encoded_o):\n",
      "File \u001b[1;32mc:\\Users\\alfre\\AppData\\Local\\Programs\\Python\\Python311\\Lib\\json\\encoder.py:200\u001b[0m, in \u001b[0;36mJSONEncoder.encode\u001b[1;34m(self, o)\u001b[0m\n\u001b[0;32m    196\u001b[0m         \u001b[38;5;28;01mreturn\u001b[39;00m encode_basestring(o)\n\u001b[0;32m    197\u001b[0m \u001b[38;5;66;03m# This doesn't pass the iterator directly to ''.join() because the\u001b[39;00m\n\u001b[0;32m    198\u001b[0m \u001b[38;5;66;03m# exceptions aren't as detailed.  The list call should be roughly\u001b[39;00m\n\u001b[0;32m    199\u001b[0m \u001b[38;5;66;03m# equivalent to the PySequence_Fast that ''.join() would do.\u001b[39;00m\n\u001b[1;32m--> 200\u001b[0m chunks \u001b[38;5;241m=\u001b[39m \u001b[38;5;28;43mself\u001b[39;49m\u001b[38;5;241;43m.\u001b[39;49m\u001b[43miterencode\u001b[49m\u001b[43m(\u001b[49m\u001b[43mo\u001b[49m\u001b[43m,\u001b[49m\u001b[43m \u001b[49m\u001b[43m_one_shot\u001b[49m\u001b[38;5;241;43m=\u001b[39;49m\u001b[38;5;28;43;01mTrue\u001b[39;49;00m\u001b[43m)\u001b[49m\n\u001b[0;32m    201\u001b[0m \u001b[38;5;28;01mif\u001b[39;00m \u001b[38;5;129;01mnot\u001b[39;00m \u001b[38;5;28misinstance\u001b[39m(chunks, (\u001b[38;5;28mlist\u001b[39m, \u001b[38;5;28mtuple\u001b[39m)):\n\u001b[0;32m    202\u001b[0m     chunks \u001b[38;5;241m=\u001b[39m \u001b[38;5;28mlist\u001b[39m(chunks)\n",
      "File \u001b[1;32mc:\\Users\\alfre\\AppData\\Local\\Programs\\Python\\Python311\\Lib\\json\\encoder.py:258\u001b[0m, in \u001b[0;36mJSONEncoder.iterencode\u001b[1;34m(self, o, _one_shot)\u001b[0m\n\u001b[0;32m    253\u001b[0m \u001b[38;5;28;01melse\u001b[39;00m:\n\u001b[0;32m    254\u001b[0m     _iterencode \u001b[38;5;241m=\u001b[39m _make_iterencode(\n\u001b[0;32m    255\u001b[0m         markers, \u001b[38;5;28mself\u001b[39m\u001b[38;5;241m.\u001b[39mdefault, _encoder, \u001b[38;5;28mself\u001b[39m\u001b[38;5;241m.\u001b[39mindent, floatstr,\n\u001b[0;32m    256\u001b[0m         \u001b[38;5;28mself\u001b[39m\u001b[38;5;241m.\u001b[39mkey_separator, \u001b[38;5;28mself\u001b[39m\u001b[38;5;241m.\u001b[39mitem_separator, \u001b[38;5;28mself\u001b[39m\u001b[38;5;241m.\u001b[39msort_keys,\n\u001b[0;32m    257\u001b[0m         \u001b[38;5;28mself\u001b[39m\u001b[38;5;241m.\u001b[39mskipkeys, _one_shot)\n\u001b[1;32m--> 258\u001b[0m \u001b[38;5;28;01mreturn\u001b[39;00m \u001b[43m_iterencode\u001b[49m\u001b[43m(\u001b[49m\u001b[43mo\u001b[49m\u001b[43m,\u001b[49m\u001b[43m \u001b[49m\u001b[38;5;241;43m0\u001b[39;49m\u001b[43m)\u001b[49m\n",
      "File \u001b[1;32mc:\\Users\\alfre\\AppData\\Local\\Programs\\Python\\Python311\\Lib\\site-packages\\_plotly_utils\\utils.py:239\u001b[0m, in \u001b[0;36mPlotlyJSONEncoder.default\u001b[1;34m(self, obj)\u001b[0m\n\u001b[0;32m    237\u001b[0m     \u001b[38;5;28;01mexcept\u001b[39;00m NotEncodable:\n\u001b[0;32m    238\u001b[0m         \u001b[38;5;28;01mpass\u001b[39;00m\n\u001b[1;32m--> 239\u001b[0m \u001b[38;5;28;01mreturn\u001b[39;00m \u001b[43m_json\u001b[49m\u001b[38;5;241;43m.\u001b[39;49m\u001b[43mJSONEncoder\u001b[49m\u001b[38;5;241;43m.\u001b[39;49m\u001b[43mdefault\u001b[49m\u001b[43m(\u001b[49m\u001b[38;5;28;43mself\u001b[39;49m\u001b[43m,\u001b[49m\u001b[43m \u001b[49m\u001b[43mobj\u001b[49m\u001b[43m)\u001b[49m\n",
      "File \u001b[1;32mc:\\Users\\alfre\\AppData\\Local\\Programs\\Python\\Python311\\Lib\\json\\encoder.py:180\u001b[0m, in \u001b[0;36mJSONEncoder.default\u001b[1;34m(self, o)\u001b[0m\n\u001b[0;32m    161\u001b[0m \u001b[38;5;28;01mdef\u001b[39;00m \u001b[38;5;21mdefault\u001b[39m(\u001b[38;5;28mself\u001b[39m, o):\n\u001b[0;32m    162\u001b[0m \u001b[38;5;250m    \u001b[39m\u001b[38;5;124;03m\"\"\"Implement this method in a subclass such that it returns\u001b[39;00m\n\u001b[0;32m    163\u001b[0m \u001b[38;5;124;03m    a serializable object for ``o``, or calls the base implementation\u001b[39;00m\n\u001b[0;32m    164\u001b[0m \u001b[38;5;124;03m    (to raise a ``TypeError``).\u001b[39;00m\n\u001b[1;32m   (...)\u001b[0m\n\u001b[0;32m    178\u001b[0m \n\u001b[0;32m    179\u001b[0m \u001b[38;5;124;03m    \"\"\"\u001b[39;00m\n\u001b[1;32m--> 180\u001b[0m     \u001b[38;5;28;01mraise\u001b[39;00m \u001b[38;5;167;01mTypeError\u001b[39;00m(\u001b[38;5;124mf\u001b[39m\u001b[38;5;124m'\u001b[39m\u001b[38;5;124mObject of type \u001b[39m\u001b[38;5;132;01m{\u001b[39;00mo\u001b[38;5;241m.\u001b[39m\u001b[38;5;18m__class__\u001b[39m\u001b[38;5;241m.\u001b[39m\u001b[38;5;18m__name__\u001b[39m\u001b[38;5;132;01m}\u001b[39;00m\u001b[38;5;124m \u001b[39m\u001b[38;5;124m'\u001b[39m\n\u001b[0;32m    181\u001b[0m                     \u001b[38;5;124mf\u001b[39m\u001b[38;5;124m'\u001b[39m\u001b[38;5;124mis not JSON serializable\u001b[39m\u001b[38;5;124m'\u001b[39m)\n",
      "\u001b[1;31mTypeError\u001b[0m: Object of type Period is not JSON serializable"
     ]
    }
   ],
   "source": [
    "localizacion = 'Galicia'\n",
    "if 'ciudad' in df.columns:\n",
    "        df_mensual = df.groupby(['mes_anyo', 'ciudad'], as_index=False)['precipitacion'].sum()\n",
    "        fig = px.bar(df_mensual, x=\"mes_anyo\", y=\"precipitacion\", color=\"ciudad\",\n",
    "                    title=f\"         Precipitación mensual en {localizacion}\")\n",
    "else:\n",
    "    df_mensual = df.groupby('mes_anyo', as_index=False)['precipitacion'].sum()\n",
    "    fig = px.bar(df_mensual, x=\"mes_anyo\", y=\"precipitacion\",\n",
    "                title=f\"         Precipitación mensual en {localizacion}\")\n",
    "\n",
    "# Estilo del gráfico\n",
    "fig.update_layout(\n",
    "    plot_bgcolor='rgba(0, 0, 0, 0)',\n",
    "    paper_bgcolor='rgba(0, 0, 0, 0)',\n",
    "    font=dict(color='white'),\n",
    "    title_font=dict(color='white'),\n",
    "    legend=dict(font=dict(color='white')),\n",
    "    xaxis=dict(title='Mes', color='white'),\n",
    "    yaxis=dict(title='Precipitación mensual (L/m2)', color='white', gridcolor='rgba(255, 255, 255, 0.4)'),\n",
    "    autosize=True,\n",
    "    margin=dict(l=20, r=20, t=40, b=40)\n",
    ")\n",
    "\n",
    "fig.show()"
   ]
  },
  {
   "cell_type": "code",
   "execution_count": 12,
   "metadata": {},
   "outputs": [
    {
     "name": "stderr",
     "output_type": "stream",
     "text": [
      "C:\\Users\\alfre\\AppData\\Local\\Temp\\ipykernel_19724\\2782417356.py:12: FutureWarning:\n",
      "\n",
      "The default of observed=False is deprecated and will be changed to True in a future version of pandas. Pass observed=False to retain current behavior or observed=True to adopt the future default and silence this warning.\n",
      "\n"
     ]
    },
    {
     "data": {
      "application/vnd.plotly.v1+json": {
       "config": {
        "plotlyServerURL": "https://plot.ly"
       },
       "data": [
        {
         "hovertemplate": "Frecuencia=%{x}<br>count=%{y}<extra></extra>",
         "legendgroup": "",
         "marker": {
          "color": "#636efa",
          "pattern": {
           "shape": ""
          }
         },
         "name": "",
         "orientation": "v",
         "showlegend": false,
         "textposition": "auto",
         "type": "bar",
         "x": [
          "Frío",
          "Templado",
          "Calor"
         ],
         "xaxis": "x",
         "y": {
          "bdata": "ZgPoDPAC",
          "dtype": "i2"
         },
         "yaxis": "y"
        }
       ],
       "layout": {
        "barmode": "relative",
        "font": {
         "color": "white"
        },
        "legend": {
         "tracegroupgap": 0
        },
        "paper_bgcolor": "rgba(0, 0, 0, 0)",
        "plot_bgcolor": "rgba(0, 0, 0, 0)",
        "template": {
         "data": {
          "bar": [
           {
            "error_x": {
             "color": "#2a3f5f"
            },
            "error_y": {
             "color": "#2a3f5f"
            },
            "marker": {
             "line": {
              "color": "#E5ECF6",
              "width": 0.5
             },
             "pattern": {
              "fillmode": "overlay",
              "size": 10,
              "solidity": 0.2
             }
            },
            "type": "bar"
           }
          ],
          "barpolar": [
           {
            "marker": {
             "line": {
              "color": "#E5ECF6",
              "width": 0.5
             },
             "pattern": {
              "fillmode": "overlay",
              "size": 10,
              "solidity": 0.2
             }
            },
            "type": "barpolar"
           }
          ],
          "carpet": [
           {
            "aaxis": {
             "endlinecolor": "#2a3f5f",
             "gridcolor": "white",
             "linecolor": "white",
             "minorgridcolor": "white",
             "startlinecolor": "#2a3f5f"
            },
            "baxis": {
             "endlinecolor": "#2a3f5f",
             "gridcolor": "white",
             "linecolor": "white",
             "minorgridcolor": "white",
             "startlinecolor": "#2a3f5f"
            },
            "type": "carpet"
           }
          ],
          "choropleth": [
           {
            "colorbar": {
             "outlinewidth": 0,
             "ticks": ""
            },
            "type": "choropleth"
           }
          ],
          "contour": [
           {
            "colorbar": {
             "outlinewidth": 0,
             "ticks": ""
            },
            "colorscale": [
             [
              0,
              "#0d0887"
             ],
             [
              0.1111111111111111,
              "#46039f"
             ],
             [
              0.2222222222222222,
              "#7201a8"
             ],
             [
              0.3333333333333333,
              "#9c179e"
             ],
             [
              0.4444444444444444,
              "#bd3786"
             ],
             [
              0.5555555555555556,
              "#d8576b"
             ],
             [
              0.6666666666666666,
              "#ed7953"
             ],
             [
              0.7777777777777778,
              "#fb9f3a"
             ],
             [
              0.8888888888888888,
              "#fdca26"
             ],
             [
              1,
              "#f0f921"
             ]
            ],
            "type": "contour"
           }
          ],
          "contourcarpet": [
           {
            "colorbar": {
             "outlinewidth": 0,
             "ticks": ""
            },
            "type": "contourcarpet"
           }
          ],
          "heatmap": [
           {
            "colorbar": {
             "outlinewidth": 0,
             "ticks": ""
            },
            "colorscale": [
             [
              0,
              "#0d0887"
             ],
             [
              0.1111111111111111,
              "#46039f"
             ],
             [
              0.2222222222222222,
              "#7201a8"
             ],
             [
              0.3333333333333333,
              "#9c179e"
             ],
             [
              0.4444444444444444,
              "#bd3786"
             ],
             [
              0.5555555555555556,
              "#d8576b"
             ],
             [
              0.6666666666666666,
              "#ed7953"
             ],
             [
              0.7777777777777778,
              "#fb9f3a"
             ],
             [
              0.8888888888888888,
              "#fdca26"
             ],
             [
              1,
              "#f0f921"
             ]
            ],
            "type": "heatmap"
           }
          ],
          "histogram": [
           {
            "marker": {
             "pattern": {
              "fillmode": "overlay",
              "size": 10,
              "solidity": 0.2
             }
            },
            "type": "histogram"
           }
          ],
          "histogram2d": [
           {
            "colorbar": {
             "outlinewidth": 0,
             "ticks": ""
            },
            "colorscale": [
             [
              0,
              "#0d0887"
             ],
             [
              0.1111111111111111,
              "#46039f"
             ],
             [
              0.2222222222222222,
              "#7201a8"
             ],
             [
              0.3333333333333333,
              "#9c179e"
             ],
             [
              0.4444444444444444,
              "#bd3786"
             ],
             [
              0.5555555555555556,
              "#d8576b"
             ],
             [
              0.6666666666666666,
              "#ed7953"
             ],
             [
              0.7777777777777778,
              "#fb9f3a"
             ],
             [
              0.8888888888888888,
              "#fdca26"
             ],
             [
              1,
              "#f0f921"
             ]
            ],
            "type": "histogram2d"
           }
          ],
          "histogram2dcontour": [
           {
            "colorbar": {
             "outlinewidth": 0,
             "ticks": ""
            },
            "colorscale": [
             [
              0,
              "#0d0887"
             ],
             [
              0.1111111111111111,
              "#46039f"
             ],
             [
              0.2222222222222222,
              "#7201a8"
             ],
             [
              0.3333333333333333,
              "#9c179e"
             ],
             [
              0.4444444444444444,
              "#bd3786"
             ],
             [
              0.5555555555555556,
              "#d8576b"
             ],
             [
              0.6666666666666666,
              "#ed7953"
             ],
             [
              0.7777777777777778,
              "#fb9f3a"
             ],
             [
              0.8888888888888888,
              "#fdca26"
             ],
             [
              1,
              "#f0f921"
             ]
            ],
            "type": "histogram2dcontour"
           }
          ],
          "mesh3d": [
           {
            "colorbar": {
             "outlinewidth": 0,
             "ticks": ""
            },
            "type": "mesh3d"
           }
          ],
          "parcoords": [
           {
            "line": {
             "colorbar": {
              "outlinewidth": 0,
              "ticks": ""
             }
            },
            "type": "parcoords"
           }
          ],
          "pie": [
           {
            "automargin": true,
            "type": "pie"
           }
          ],
          "scatter": [
           {
            "fillpattern": {
             "fillmode": "overlay",
             "size": 10,
             "solidity": 0.2
            },
            "type": "scatter"
           }
          ],
          "scatter3d": [
           {
            "line": {
             "colorbar": {
              "outlinewidth": 0,
              "ticks": ""
             }
            },
            "marker": {
             "colorbar": {
              "outlinewidth": 0,
              "ticks": ""
             }
            },
            "type": "scatter3d"
           }
          ],
          "scattercarpet": [
           {
            "marker": {
             "colorbar": {
              "outlinewidth": 0,
              "ticks": ""
             }
            },
            "type": "scattercarpet"
           }
          ],
          "scattergeo": [
           {
            "marker": {
             "colorbar": {
              "outlinewidth": 0,
              "ticks": ""
             }
            },
            "type": "scattergeo"
           }
          ],
          "scattergl": [
           {
            "marker": {
             "colorbar": {
              "outlinewidth": 0,
              "ticks": ""
             }
            },
            "type": "scattergl"
           }
          ],
          "scattermap": [
           {
            "marker": {
             "colorbar": {
              "outlinewidth": 0,
              "ticks": ""
             }
            },
            "type": "scattermap"
           }
          ],
          "scattermapbox": [
           {
            "marker": {
             "colorbar": {
              "outlinewidth": 0,
              "ticks": ""
             }
            },
            "type": "scattermapbox"
           }
          ],
          "scatterpolar": [
           {
            "marker": {
             "colorbar": {
              "outlinewidth": 0,
              "ticks": ""
             }
            },
            "type": "scatterpolar"
           }
          ],
          "scatterpolargl": [
           {
            "marker": {
             "colorbar": {
              "outlinewidth": 0,
              "ticks": ""
             }
            },
            "type": "scatterpolargl"
           }
          ],
          "scatterternary": [
           {
            "marker": {
             "colorbar": {
              "outlinewidth": 0,
              "ticks": ""
             }
            },
            "type": "scatterternary"
           }
          ],
          "surface": [
           {
            "colorbar": {
             "outlinewidth": 0,
             "ticks": ""
            },
            "colorscale": [
             [
              0,
              "#0d0887"
             ],
             [
              0.1111111111111111,
              "#46039f"
             ],
             [
              0.2222222222222222,
              "#7201a8"
             ],
             [
              0.3333333333333333,
              "#9c179e"
             ],
             [
              0.4444444444444444,
              "#bd3786"
             ],
             [
              0.5555555555555556,
              "#d8576b"
             ],
             [
              0.6666666666666666,
              "#ed7953"
             ],
             [
              0.7777777777777778,
              "#fb9f3a"
             ],
             [
              0.8888888888888888,
              "#fdca26"
             ],
             [
              1,
              "#f0f921"
             ]
            ],
            "type": "surface"
           }
          ],
          "table": [
           {
            "cells": {
             "fill": {
              "color": "#EBF0F8"
             },
             "line": {
              "color": "white"
             }
            },
            "header": {
             "fill": {
              "color": "#C8D4E3"
             },
             "line": {
              "color": "white"
             }
            },
            "type": "table"
           }
          ]
         },
         "layout": {
          "annotationdefaults": {
           "arrowcolor": "#2a3f5f",
           "arrowhead": 0,
           "arrowwidth": 1
          },
          "autotypenumbers": "strict",
          "coloraxis": {
           "colorbar": {
            "outlinewidth": 0,
            "ticks": ""
           }
          },
          "colorscale": {
           "diverging": [
            [
             0,
             "#8e0152"
            ],
            [
             0.1,
             "#c51b7d"
            ],
            [
             0.2,
             "#de77ae"
            ],
            [
             0.3,
             "#f1b6da"
            ],
            [
             0.4,
             "#fde0ef"
            ],
            [
             0.5,
             "#f7f7f7"
            ],
            [
             0.6,
             "#e6f5d0"
            ],
            [
             0.7,
             "#b8e186"
            ],
            [
             0.8,
             "#7fbc41"
            ],
            [
             0.9,
             "#4d9221"
            ],
            [
             1,
             "#276419"
            ]
           ],
           "sequential": [
            [
             0,
             "#0d0887"
            ],
            [
             0.1111111111111111,
             "#46039f"
            ],
            [
             0.2222222222222222,
             "#7201a8"
            ],
            [
             0.3333333333333333,
             "#9c179e"
            ],
            [
             0.4444444444444444,
             "#bd3786"
            ],
            [
             0.5555555555555556,
             "#d8576b"
            ],
            [
             0.6666666666666666,
             "#ed7953"
            ],
            [
             0.7777777777777778,
             "#fb9f3a"
            ],
            [
             0.8888888888888888,
             "#fdca26"
            ],
            [
             1,
             "#f0f921"
            ]
           ],
           "sequentialminus": [
            [
             0,
             "#0d0887"
            ],
            [
             0.1111111111111111,
             "#46039f"
            ],
            [
             0.2222222222222222,
             "#7201a8"
            ],
            [
             0.3333333333333333,
             "#9c179e"
            ],
            [
             0.4444444444444444,
             "#bd3786"
            ],
            [
             0.5555555555555556,
             "#d8576b"
            ],
            [
             0.6666666666666666,
             "#ed7953"
            ],
            [
             0.7777777777777778,
             "#fb9f3a"
            ],
            [
             0.8888888888888888,
             "#fdca26"
            ],
            [
             1,
             "#f0f921"
            ]
           ]
          },
          "colorway": [
           "#636efa",
           "#EF553B",
           "#00cc96",
           "#ab63fa",
           "#FFA15A",
           "#19d3f3",
           "#FF6692",
           "#B6E880",
           "#FF97FF",
           "#FECB52"
          ],
          "font": {
           "color": "#2a3f5f"
          },
          "geo": {
           "bgcolor": "white",
           "lakecolor": "white",
           "landcolor": "#E5ECF6",
           "showlakes": true,
           "showland": true,
           "subunitcolor": "white"
          },
          "hoverlabel": {
           "align": "left"
          },
          "hovermode": "closest",
          "mapbox": {
           "style": "light"
          },
          "paper_bgcolor": "white",
          "plot_bgcolor": "#E5ECF6",
          "polar": {
           "angularaxis": {
            "gridcolor": "white",
            "linecolor": "white",
            "ticks": ""
           },
           "bgcolor": "#E5ECF6",
           "radialaxis": {
            "gridcolor": "white",
            "linecolor": "white",
            "ticks": ""
           }
          },
          "scene": {
           "xaxis": {
            "backgroundcolor": "#E5ECF6",
            "gridcolor": "white",
            "gridwidth": 2,
            "linecolor": "white",
            "showbackground": true,
            "ticks": "",
            "zerolinecolor": "white"
           },
           "yaxis": {
            "backgroundcolor": "#E5ECF6",
            "gridcolor": "white",
            "gridwidth": 2,
            "linecolor": "white",
            "showbackground": true,
            "ticks": "",
            "zerolinecolor": "white"
           },
           "zaxis": {
            "backgroundcolor": "#E5ECF6",
            "gridcolor": "white",
            "gridwidth": 2,
            "linecolor": "white",
            "showbackground": true,
            "ticks": "",
            "zerolinecolor": "white"
           }
          },
          "shapedefaults": {
           "line": {
            "color": "#2a3f5f"
           }
          },
          "ternary": {
           "aaxis": {
            "gridcolor": "white",
            "linecolor": "white",
            "ticks": ""
           },
           "baxis": {
            "gridcolor": "white",
            "linecolor": "white",
            "ticks": ""
           },
           "bgcolor": "#E5ECF6",
           "caxis": {
            "gridcolor": "white",
            "linecolor": "white",
            "ticks": ""
           }
          },
          "title": {
           "x": 0.05
          },
          "xaxis": {
           "automargin": true,
           "gridcolor": "white",
           "linecolor": "white",
           "ticks": "",
           "title": {
            "standoff": 15
           },
           "zerolinecolor": "white",
           "zerolinewidth": 2
          },
          "yaxis": {
           "automargin": true,
           "gridcolor": "white",
           "linecolor": "white",
           "ticks": "",
           "title": {
            "standoff": 15
           },
           "zerolinecolor": "white",
           "zerolinewidth": 2
          }
         }
        },
        "title": {
         "font": {
          "color": "white"
         },
         "text": "Distribución de Categorías de Temperatura"
        },
        "xaxis": {
         "anchor": "y",
         "domain": [
          0,
          1
         ],
         "title": {
          "text": "Frecuencia"
         }
        },
        "yaxis": {
         "anchor": "x",
         "domain": [
          0,
          1
         ],
         "title": {
          "text": "count"
         }
        }
       }
      }
     },
     "metadata": {},
     "output_type": "display_data"
    },
    {
     "data": {
      "text/html": [
       "<div>\n",
       "<style scoped>\n",
       "    .dataframe tbody tr th:only-of-type {\n",
       "        vertical-align: middle;\n",
       "    }\n",
       "\n",
       "    .dataframe tbody tr th {\n",
       "        vertical-align: top;\n",
       "    }\n",
       "\n",
       "    .dataframe thead th {\n",
       "        text-align: right;\n",
       "    }\n",
       "</style>\n",
       "<table border=\"1\" class=\"dataframe\">\n",
       "  <thead>\n",
       "    <tr style=\"text-align: right;\">\n",
       "      <th></th>\n",
       "      <th>categoria_temp</th>\n",
       "      <th>count</th>\n",
       "    </tr>\n",
       "  </thead>\n",
       "  <tbody>\n",
       "    <tr>\n",
       "      <th>0</th>\n",
       "      <td>Frío</td>\n",
       "      <td>870</td>\n",
       "    </tr>\n",
       "    <tr>\n",
       "      <th>1</th>\n",
       "      <td>Templado</td>\n",
       "      <td>3304</td>\n",
       "    </tr>\n",
       "    <tr>\n",
       "      <th>2</th>\n",
       "      <td>Calor</td>\n",
       "      <td>752</td>\n",
       "    </tr>\n",
       "  </tbody>\n",
       "</table>\n",
       "</div>"
      ],
      "text/plain": [
       "  categoria_temp  count\n",
       "0           Frío    870\n",
       "1       Templado   3304\n",
       "2          Calor    752"
      ]
     },
     "execution_count": 12,
     "metadata": {},
     "output_type": "execute_result"
    }
   ],
   "source": [
    "def clasificar_temperatura(temp):\n",
    "    if temp < 10:\n",
    "        return 'Frío'\n",
    "    elif temp < 20:\n",
    "        return 'Templado'\n",
    "    else:\n",
    "        return 'Calor'\n",
    "\n",
    "df_final['categoria_temp'] = df_final['temperatura'].apply(clasificar_temperatura)\n",
    "categorias_ordenadas = [\"Frío\", \"Templado\", \"Calor\"]\n",
    "df_final[\"categoria_temp\"] = pd.Categorical(df_final[\"categoria_temp\"], categories=categorias_ordenadas, ordered=True)\n",
    "df_temp_cat = df_final.groupby(\"categoria_temp\").size().reset_index(name='count')\n",
    "\n",
    "fig_temp_cat = px.bar(\n",
    "    df_temp_cat,\n",
    "    x='categoria_temp',\n",
    "    y='count',\n",
    "    labels={'index': 'Categoría de Temperatura', 'categoria_temp': 'Frecuencia'},\n",
    "    title='Distribución de Categorías de Temperatura'\n",
    ")\n",
    "\n",
    "fig_temp_cat.update_layout(\n",
    "    plot_bgcolor='rgba(0, 0, 0, 0)',\n",
    "    paper_bgcolor='rgba(0, 0, 0, 0)',\n",
    "    font=dict(color='white'),\n",
    "    title_font=dict(color='white')\n",
    ")\n",
    "\n",
    "fig_temp_cat.show()\n",
    "df_temp_cat"
   ]
  },
  {
   "cell_type": "code",
   "execution_count": 5,
   "metadata": {},
   "outputs": [
    {
     "data": {
      "text/html": [
       "<div>\n",
       "<style scoped>\n",
       "    .dataframe tbody tr th:only-of-type {\n",
       "        vertical-align: middle;\n",
       "    }\n",
       "\n",
       "    .dataframe tbody tr th {\n",
       "        vertical-align: top;\n",
       "    }\n",
       "\n",
       "    .dataframe thead th {\n",
       "        text-align: right;\n",
       "    }\n",
       "</style>\n",
       "<table border=\"1\" class=\"dataframe\">\n",
       "  <thead>\n",
       "    <tr style=\"text-align: right;\">\n",
       "      <th></th>\n",
       "      <th>categoria_temp</th>\n",
       "      <th>count</th>\n",
       "    </tr>\n",
       "  </thead>\n",
       "  <tbody>\n",
       "    <tr>\n",
       "      <th>0</th>\n",
       "      <td>Templado</td>\n",
       "      <td>3304</td>\n",
       "    </tr>\n",
       "    <tr>\n",
       "      <th>1</th>\n",
       "      <td>Frío</td>\n",
       "      <td>870</td>\n",
       "    </tr>\n",
       "    <tr>\n",
       "      <th>2</th>\n",
       "      <td>Calor</td>\n",
       "      <td>752</td>\n",
       "    </tr>\n",
       "  </tbody>\n",
       "</table>\n",
       "</div>"
      ],
      "text/plain": [
       "  categoria_temp  count\n",
       "0       Templado   3304\n",
       "1           Frío    870\n",
       "2          Calor    752"
      ]
     },
     "execution_count": 5,
     "metadata": {},
     "output_type": "execute_result"
    }
   ],
   "source": [
    "df_final['categoria_temp'].value_counts().reset_index()"
   ]
  },
  {
   "cell_type": "code",
   "execution_count": 5,
   "metadata": {},
   "outputs": [
    {
     "data": {
      "application/vnd.plotly.v1+json": {
       "config": {
        "plotlyServerURL": "https://plot.ly"
       },
       "data": [
        {
         "hovertemplate": "ciudad=coruna<br>fecha=%{x}<br>temperatura=%{y}<extra></extra>",
         "legendgroup": "coruna",
         "line": {
          "color": "#636efa",
          "dash": "solid"
         },
         "marker": {
          "symbol": "circle"
         },
         "mode": "lines",
         "name": "coruna",
         "showlegend": true,
         "type": "scattergl",
         "x": [
          "2023-01-01",
          "2023-01-02",
          "2023-01-03",
          "2023-01-04",
          "2023-01-05",
          "2023-01-06",
          "2023-01-07",
          "2023-01-08",
          "2023-01-09",
          "2023-01-10",
          "2023-01-11",
          "2023-01-12",
          "2023-01-13",
          "2023-01-14",
          "2023-01-15",
          "2023-01-16",
          "2023-01-17",
          "2023-01-18",
          "2023-01-19",
          "2023-01-20",
          "2023-01-21",
          "2023-01-22",
          "2023-01-23",
          "2023-01-24",
          "2023-01-25",
          "2023-01-26",
          "2023-01-27",
          "2023-01-28",
          "2023-01-29",
          "2023-01-30",
          "2023-01-31",
          "2023-02-01",
          "2023-02-02",
          "2023-02-03",
          "2023-02-04",
          "2023-02-05",
          "2023-02-06",
          "2023-02-07",
          "2023-02-08",
          "2023-02-09",
          "2023-02-10",
          "2023-02-11",
          "2023-02-12",
          "2023-02-13",
          "2023-02-14",
          "2023-02-15",
          "2023-02-16",
          "2023-02-17",
          "2023-02-18",
          "2023-02-19",
          "2023-02-20",
          "2023-02-21",
          "2023-02-22",
          "2023-02-23",
          "2023-02-24",
          "2023-02-25",
          "2023-02-26",
          "2023-02-27",
          "2023-02-28",
          "2023-03-01",
          "2023-03-02",
          "2023-03-03",
          "2023-03-04",
          "2023-03-05",
          "2023-03-06",
          "2023-03-07",
          "2023-03-08",
          "2023-03-09",
          "2023-03-10",
          "2023-03-11",
          "2023-03-12",
          "2023-03-13",
          "2023-03-14",
          "2023-03-15",
          "2023-03-16",
          "2023-03-17",
          "2023-03-18",
          "2023-03-19",
          "2023-03-20",
          "2023-03-21",
          "2023-03-22",
          "2023-03-23",
          "2023-03-24",
          "2023-03-25",
          "2023-03-26",
          "2023-03-27",
          "2023-03-28",
          "2023-03-29",
          "2023-03-30",
          "2023-03-31",
          "2023-04-01",
          "2023-04-02",
          "2023-04-03",
          "2023-04-04",
          "2023-04-05",
          "2023-04-06",
          "2023-04-07",
          "2023-04-08",
          "2023-04-09",
          "2023-04-10",
          "2023-04-11",
          "2023-04-12",
          "2023-04-13",
          "2023-04-14",
          "2023-04-15",
          "2023-04-16",
          "2023-04-17",
          "2023-04-18",
          "2023-04-19",
          "2023-04-20",
          "2023-04-21",
          "2023-04-22",
          "2023-04-23",
          "2023-04-24",
          "2023-04-25",
          "2023-04-26",
          "2023-04-27",
          "2023-04-28",
          "2023-04-29",
          "2023-04-30",
          "2023-05-01",
          "2023-05-02",
          "2023-05-03",
          "2023-05-04",
          "2023-05-05",
          "2023-05-06",
          "2023-05-07",
          "2023-05-08",
          "2023-05-09",
          "2023-05-10",
          "2023-05-11",
          "2023-05-12",
          "2023-05-13",
          "2023-05-14",
          "2023-05-15",
          "2023-05-16",
          "2023-05-17",
          "2023-05-18",
          "2023-05-19",
          "2023-05-20",
          "2023-05-21",
          "2023-05-22",
          "2023-05-23",
          "2023-05-24",
          "2023-05-25",
          "2023-05-26",
          "2023-05-27",
          "2023-05-28",
          "2023-05-29",
          "2023-05-30",
          "2023-05-31",
          "2023-06-01",
          "2023-06-02",
          "2023-06-03",
          "2023-06-04",
          "2023-06-05",
          "2023-06-06",
          "2023-06-07",
          "2023-06-08",
          "2023-06-09",
          "2023-06-10",
          "2023-06-11",
          "2023-06-12",
          "2023-06-13",
          "2023-06-14",
          "2023-06-15",
          "2023-06-16",
          "2023-06-17",
          "2023-06-18",
          "2023-06-19",
          "2023-06-20",
          "2023-06-21",
          "2023-06-22",
          "2023-06-23",
          "2023-06-24",
          "2023-06-25",
          "2023-06-26",
          "2023-06-27",
          "2023-06-28",
          "2023-06-29",
          "2023-06-30",
          "2023-07-01",
          "2023-07-02",
          "2023-07-03",
          "2023-07-04",
          "2023-07-05",
          "2023-07-06",
          "2023-07-07",
          "2023-07-08",
          "2023-07-09",
          "2023-07-10",
          "2023-07-11",
          "2023-07-12",
          "2023-07-13",
          "2023-07-14",
          "2023-07-15",
          "2023-07-16",
          "2023-07-17",
          "2023-07-18",
          "2023-07-19",
          "2023-07-20",
          "2023-07-21",
          "2023-07-22",
          "2023-07-23",
          "2023-07-24",
          "2023-07-25",
          "2023-07-26",
          "2023-07-27",
          "2023-07-28",
          "2023-07-29",
          "2023-07-30",
          "2023-07-31",
          "2023-08-01",
          "2023-08-02",
          "2023-08-03",
          "2023-08-04",
          "2023-08-05",
          "2023-08-06",
          "2023-08-07",
          "2023-08-08",
          "2023-08-09",
          "2023-08-10",
          "2023-08-11",
          "2023-08-12",
          "2023-08-13",
          "2023-08-14",
          "2023-08-15",
          "2023-08-16",
          "2023-08-17",
          "2023-08-18",
          "2023-08-19",
          "2023-08-20",
          "2023-08-21",
          "2023-08-22",
          "2023-08-23",
          "2023-08-24",
          "2023-08-25",
          "2023-08-26",
          "2023-08-27",
          "2023-08-28",
          "2023-08-29",
          "2023-08-30",
          "2023-08-31",
          "2023-09-01",
          "2023-09-02",
          "2023-09-03",
          "2023-09-04",
          "2023-09-05",
          "2023-09-06",
          "2023-09-07",
          "2023-09-08",
          "2023-09-09",
          "2023-09-10",
          "2023-09-11",
          "2023-09-12",
          "2023-09-13",
          "2023-09-14",
          "2023-09-15",
          "2023-09-16",
          "2023-09-17",
          "2023-09-18",
          "2023-09-19",
          "2023-09-20",
          "2023-09-21",
          "2023-09-22",
          "2023-09-23",
          "2023-09-24",
          "2023-09-25",
          "2023-09-26",
          "2023-09-27",
          "2023-09-28",
          "2023-09-29",
          "2023-09-30",
          "2023-10-01",
          "2023-10-02",
          "2023-10-03",
          "2023-10-04",
          "2023-10-05",
          "2023-10-06",
          "2023-10-07",
          "2023-10-08",
          "2023-10-09",
          "2023-10-10",
          "2023-10-11",
          "2023-10-12",
          "2023-10-13",
          "2023-10-14",
          "2023-10-15",
          "2023-10-16",
          "2023-10-17",
          "2023-10-18",
          "2023-10-19",
          "2023-10-20",
          "2023-10-21",
          "2023-10-22",
          "2023-10-23",
          "2023-10-24",
          "2023-10-25",
          "2023-10-26",
          "2023-10-27",
          "2023-10-28",
          "2023-10-29",
          "2023-10-30",
          "2023-10-31",
          "2023-11-01",
          "2023-11-02",
          "2023-11-03",
          "2023-11-04",
          "2023-11-05",
          "2023-11-06",
          "2023-11-07",
          "2023-11-08",
          "2023-11-09",
          "2023-11-10",
          "2023-11-11",
          "2023-11-12",
          "2023-11-13",
          "2023-11-14",
          "2023-11-15",
          "2023-11-16",
          "2023-11-17",
          "2023-11-18",
          "2023-11-19",
          "2023-11-20",
          "2023-11-21",
          "2023-11-22",
          "2023-11-23",
          "2023-11-24",
          "2023-11-25",
          "2023-11-26",
          "2023-11-27",
          "2023-11-28",
          "2023-11-29",
          "2023-11-30",
          "2023-12-01",
          "2023-12-02",
          "2023-12-03",
          "2023-12-04",
          "2023-12-05",
          "2023-12-06",
          "2023-12-07",
          "2023-12-08",
          "2023-12-09",
          "2023-12-10",
          "2023-12-11",
          "2023-12-12",
          "2023-12-13",
          "2023-12-14",
          "2023-12-15",
          "2023-12-16",
          "2023-12-17",
          "2023-12-18",
          "2023-12-19",
          "2023-12-20",
          "2023-12-21",
          "2023-12-22",
          "2023-12-23",
          "2023-12-24",
          "2023-12-25",
          "2023-12-26",
          "2023-12-27",
          "2023-12-28",
          "2023-12-29",
          "2023-12-30",
          "2023-12-31",
          "2024-01-01",
          "2024-01-02",
          "2024-01-03",
          "2024-01-04",
          "2024-01-05",
          "2024-01-06",
          "2024-01-07",
          "2024-01-08",
          "2024-01-09",
          "2024-01-10",
          "2024-01-11",
          "2024-01-12",
          "2024-01-13",
          "2024-01-14",
          "2024-01-15",
          "2024-01-16",
          "2024-01-17",
          "2024-01-18",
          "2024-01-19",
          "2024-01-20",
          "2024-01-21",
          "2024-01-22",
          "2024-01-23",
          "2024-01-24",
          "2024-01-25",
          "2024-01-26",
          "2024-01-27",
          "2024-01-28",
          "2024-01-29",
          "2024-01-30",
          "2024-01-31",
          "2024-02-01",
          "2024-02-02",
          "2024-02-03",
          "2024-02-04",
          "2024-02-05",
          "2024-02-06",
          "2024-02-07",
          "2024-02-08",
          "2024-02-09",
          "2024-02-10",
          "2024-02-11",
          "2024-02-12",
          "2024-02-13",
          "2024-02-14",
          "2024-02-15",
          "2024-02-16",
          "2024-02-17",
          "2024-02-18",
          "2024-02-19",
          "2024-02-20",
          "2024-02-21",
          "2024-02-22",
          "2024-02-23",
          "2024-02-24",
          "2024-02-25",
          "2024-02-26",
          "2024-02-27",
          "2024-02-28",
          "2024-02-29",
          "2024-03-01",
          "2024-03-02",
          "2024-03-03",
          "2024-03-04",
          "2024-03-05",
          "2024-03-06",
          "2024-03-07",
          "2024-03-08",
          "2024-03-09",
          "2024-03-10",
          "2024-03-11",
          "2024-03-12",
          "2024-03-13",
          "2024-03-14",
          "2024-03-15",
          "2024-03-16",
          "2024-03-17",
          "2024-03-18",
          "2024-03-19",
          "2024-03-20",
          "2024-03-21",
          "2024-03-22",
          "2024-03-23",
          "2024-03-24",
          "2024-03-25",
          "2024-03-26",
          "2024-03-27",
          "2024-03-28",
          "2024-03-29",
          "2024-03-30",
          "2024-03-31",
          "2024-04-01",
          "2024-04-02",
          "2024-04-03",
          "2024-04-04",
          "2024-04-05",
          "2024-04-06",
          "2024-04-07",
          "2024-04-08",
          "2024-04-09",
          "2024-04-10",
          "2024-04-11",
          "2024-04-12",
          "2024-04-13",
          "2024-04-14",
          "2024-04-15",
          "2024-04-16",
          "2024-04-17",
          "2024-04-18",
          "2024-04-19",
          "2024-04-20",
          "2024-04-21",
          "2024-04-22",
          "2024-04-23",
          "2024-04-24",
          "2024-04-25",
          "2024-04-26",
          "2024-04-27",
          "2024-04-28",
          "2024-04-29",
          "2024-04-30",
          "2024-05-01",
          "2024-05-02",
          "2024-05-03",
          "2024-05-04",
          "2024-05-05",
          "2024-05-06",
          "2024-05-07",
          "2024-05-08",
          "2024-05-09",
          "2024-05-10",
          "2024-05-11",
          "2024-05-12",
          "2024-05-13",
          "2024-05-14",
          "2024-05-15",
          "2024-05-16",
          "2024-05-17",
          "2024-05-18",
          "2024-05-19",
          "2024-05-20",
          "2024-05-21",
          "2024-05-22",
          "2024-05-23",
          "2024-05-24",
          "2024-05-25",
          "2024-05-26",
          "2024-05-27",
          "2024-05-28",
          "2024-05-29",
          "2024-05-30",
          "2024-05-31",
          "2024-06-01",
          "2024-06-02",
          "2024-06-03",
          "2024-06-04",
          "2024-06-05",
          "2024-06-06",
          "2024-06-07",
          "2024-06-08",
          "2024-06-09",
          "2024-06-10",
          "2024-06-11",
          "2024-06-12",
          "2024-06-13",
          "2024-06-14",
          "2024-06-15",
          "2024-06-16",
          "2024-06-17",
          "2024-06-18",
          "2024-06-19",
          "2024-06-20",
          "2024-06-21",
          "2024-06-22",
          "2024-06-23",
          "2024-06-24",
          "2024-06-25",
          "2024-06-26",
          "2024-06-27",
          "2024-06-28",
          "2024-06-29",
          "2024-06-30",
          "2024-07-01",
          "2024-07-02",
          "2024-07-03",
          "2024-07-04",
          "2024-07-05",
          "2024-07-06",
          "2024-07-07",
          "2024-07-08",
          "2024-07-09",
          "2024-07-10",
          "2024-07-11",
          "2024-07-12",
          "2024-07-13",
          "2024-07-14",
          "2024-07-15",
          "2024-07-16",
          "2024-07-17",
          "2024-07-18",
          "2024-07-19",
          "2024-07-20",
          "2024-07-21",
          "2024-07-22",
          "2024-07-23",
          "2024-07-24",
          "2024-07-25",
          "2024-07-26",
          "2024-07-27",
          "2024-07-28",
          "2024-07-29",
          "2024-07-30",
          "2024-07-31",
          "2024-08-01",
          "2024-08-02",
          "2024-08-03",
          "2024-08-04",
          "2024-08-05",
          "2024-08-06",
          "2024-08-07",
          "2024-08-08",
          "2024-08-09",
          "2024-08-10",
          "2024-08-11",
          "2024-08-12",
          "2024-08-13",
          "2024-08-14",
          "2024-08-15",
          "2024-08-16",
          "2024-08-17",
          "2024-08-18",
          "2024-08-19",
          "2024-08-20",
          "2024-08-21",
          "2024-08-22",
          "2024-08-23",
          "2024-08-24",
          "2024-08-25",
          "2024-08-26",
          "2024-08-27",
          "2024-08-28",
          "2024-08-29",
          "2024-08-30",
          "2024-08-31",
          "2024-09-01",
          "2024-09-02",
          "2024-09-03",
          "2024-09-04",
          "2024-09-05",
          "2024-09-06",
          "2024-09-07",
          "2024-09-08",
          "2024-09-09",
          "2024-09-10",
          "2024-09-11",
          "2024-09-12",
          "2024-09-13",
          "2024-09-14",
          "2024-09-15",
          "2024-09-16",
          "2024-09-17",
          "2024-09-18",
          "2024-09-19",
          "2024-09-20",
          "2024-09-21",
          "2024-09-22",
          "2024-09-23",
          "2024-09-24",
          "2024-09-25",
          "2024-09-26",
          "2024-09-27",
          "2024-09-28",
          "2024-09-29",
          "2024-09-30",
          "2024-10-01",
          "2024-10-02",
          "2024-10-03",
          "2024-10-04",
          "2024-10-05",
          "2024-10-06",
          "2024-10-07",
          "2024-10-08",
          "2024-10-09",
          "2024-10-10",
          "2024-10-11",
          "2024-10-12",
          "2024-10-13",
          "2024-10-14",
          "2024-10-15",
          "2024-10-16",
          "2024-10-17",
          "2024-10-18",
          "2024-10-19",
          "2024-10-20",
          "2024-10-21",
          "2024-10-22",
          "2024-10-23",
          "2024-10-24",
          "2024-10-25",
          "2024-10-26",
          "2024-10-27",
          "2024-10-28",
          "2024-10-29",
          "2024-10-30",
          "2024-10-31",
          "2024-11-01",
          "2024-11-02",
          "2024-11-03",
          "2024-11-04",
          "2024-11-05",
          "2024-11-06",
          "2024-11-07",
          "2024-11-08",
          "2024-11-09",
          "2024-11-10",
          "2024-11-11",
          "2024-11-12",
          "2024-11-13",
          "2024-11-14",
          "2024-11-15",
          "2024-11-16",
          "2024-11-17",
          "2024-11-18",
          "2024-11-19",
          "2024-11-20",
          "2024-11-21",
          "2024-11-22",
          "2024-11-23",
          "2024-11-24",
          "2024-11-25",
          "2024-11-26",
          "2024-11-27",
          "2024-11-28",
          "2024-11-29",
          "2024-11-30",
          "2024-12-01",
          "2024-12-02",
          "2024-12-03",
          "2024-12-04",
          "2024-12-05",
          "2024-12-06",
          "2024-12-07",
          "2024-12-08",
          "2024-12-09",
          "2024-12-10",
          "2024-12-11",
          "2024-12-12",
          "2024-12-13",
          "2024-12-14",
          "2024-12-15",
          "2024-12-16",
          "2024-12-17",
          "2024-12-18",
          "2024-12-19",
          "2024-12-20",
          "2024-12-21",
          "2024-12-22",
          "2024-12-23",
          "2024-12-24",
          "2024-12-25",
          "2024-12-26",
          "2024-12-27",
          "2024-12-28",
          "2024-12-29",
          "2024-12-30",
          "2024-12-31",
          "2025-01-01",
          "2025-01-02",
          "2025-01-03",
          "2025-01-04",
          "2025-01-05",
          "2025-01-06",
          "2025-01-07",
          "2025-01-08",
          "2025-01-09",
          "2025-01-10",
          "2025-01-11",
          "2025-01-12",
          "2025-01-13",
          "2025-01-14",
          "2025-01-15",
          "2025-01-16",
          "2025-01-17",
          "2025-01-18",
          "2025-01-19",
          "2025-01-20",
          "2025-01-21",
          "2025-01-22",
          "2025-01-23",
          "2025-01-24",
          "2025-01-25",
          "2025-01-26",
          "2025-01-27",
          "2025-01-28",
          "2025-01-29",
          "2025-01-30",
          "2025-01-31",
          "2025-02-01",
          "2025-02-02",
          "2025-02-03",
          "2025-02-04",
          "2025-02-05",
          "2025-02-06",
          "2025-02-07",
          "2025-02-08",
          "2025-02-09",
          "2025-02-10",
          "2025-02-11",
          "2025-02-12",
          "2025-02-13",
          "2025-02-14",
          "2025-02-15",
          "2025-02-16",
          "2025-02-17",
          "2025-02-18",
          "2025-02-19",
          "2025-02-20",
          "2025-02-21",
          "2025-02-22",
          "2025-02-23",
          "2025-02-24",
          "2025-02-25",
          "2025-02-26",
          "2025-02-27",
          "2025-02-28",
          "2025-03-01",
          "2025-03-02",
          "2025-03-03",
          "2025-03-04",
          "2025-03-05",
          "2025-03-06",
          "2025-03-07",
          "2025-03-08",
          "2025-03-09",
          "2025-03-10",
          "2025-03-11",
          "2025-03-12",
          "2025-03-13",
          "2025-03-14",
          "2025-03-15",
          "2025-03-16",
          "2025-03-17",
          "2025-03-18",
          "2025-03-19",
          "2025-03-20",
          "2025-03-21",
          "2025-03-22",
          "2025-03-23",
          "2025-03-24",
          "2025-03-25",
          "2025-03-26",
          "2025-03-27",
          "2025-03-28",
          "2025-03-29",
          "2025-03-30",
          "2025-03-31"
         ],
         "xaxis": "x",
         "y": {
          "bdata": "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",
          "dtype": "f8"
         },
         "yaxis": "y"
        },
        {
         "hovertemplate": "ciudad=lugo<br>fecha=%{x}<br>temperatura=%{y}<extra></extra>",
         "legendgroup": "lugo",
         "line": {
          "color": "#EF553B",
          "dash": "solid"
         },
         "marker": {
          "symbol": "circle"
         },
         "mode": "lines",
         "name": "lugo",
         "showlegend": true,
         "type": "scattergl",
         "x": [
          "2023-01-01",
          "2023-01-02",
          "2023-01-03",
          "2023-01-04",
          "2023-01-05",
          "2023-01-06",
          "2023-01-07",
          "2023-01-08",
          "2023-01-09",
          "2023-01-10",
          "2023-01-11",
          "2023-01-12",
          "2023-01-13",
          "2023-01-14",
          "2023-01-15",
          "2023-01-16",
          "2023-01-17",
          "2023-01-18",
          "2023-01-19",
          "2023-01-20",
          "2023-01-21",
          "2023-01-22",
          "2023-01-23",
          "2023-01-24",
          "2023-01-25",
          "2023-01-26",
          "2023-01-27",
          "2023-01-28",
          "2023-01-29",
          "2023-01-30",
          "2023-01-31",
          "2023-02-01",
          "2023-02-02",
          "2023-02-03",
          "2023-02-04",
          "2023-02-05",
          "2023-02-06",
          "2023-02-07",
          "2023-02-08",
          "2023-02-09",
          "2023-02-10",
          "2023-02-11",
          "2023-02-12",
          "2023-02-13",
          "2023-02-14",
          "2023-02-15",
          "2023-02-16",
          "2023-02-17",
          "2023-02-18",
          "2023-02-19",
          "2023-02-20",
          "2023-02-21",
          "2023-02-22",
          "2023-02-23",
          "2023-02-24",
          "2023-02-25",
          "2023-02-26",
          "2023-02-27",
          "2023-02-28",
          "2023-03-01",
          "2023-03-02",
          "2023-03-03",
          "2023-03-04",
          "2023-03-05",
          "2023-03-06",
          "2023-03-07",
          "2023-03-08",
          "2023-03-09",
          "2023-03-10",
          "2023-03-11",
          "2023-03-12",
          "2023-03-13",
          "2023-03-14",
          "2023-03-15",
          "2023-03-16",
          "2023-03-17",
          "2023-03-18",
          "2023-03-19",
          "2023-03-20",
          "2023-03-21",
          "2023-03-22",
          "2023-03-23",
          "2023-03-24",
          "2023-03-25",
          "2023-03-26",
          "2023-03-27",
          "2023-03-28",
          "2023-03-29",
          "2023-03-30",
          "2023-03-31",
          "2023-04-01",
          "2023-04-02",
          "2023-04-03",
          "2023-04-04",
          "2023-04-05",
          "2023-04-06",
          "2023-04-07",
          "2023-04-08",
          "2023-04-09",
          "2023-04-10",
          "2023-04-11",
          "2023-04-12",
          "2023-04-13",
          "2023-04-14",
          "2023-04-15",
          "2023-04-16",
          "2023-04-17",
          "2023-04-18",
          "2023-04-19",
          "2023-04-20",
          "2023-04-21",
          "2023-04-22",
          "2023-04-23",
          "2023-04-24",
          "2023-04-25",
          "2023-04-26",
          "2023-04-27",
          "2023-04-28",
          "2023-04-29",
          "2023-04-30",
          "2023-05-01",
          "2023-05-02",
          "2023-05-03",
          "2023-05-04",
          "2023-05-05",
          "2023-05-06",
          "2023-05-07",
          "2023-05-08",
          "2023-05-09",
          "2023-05-10",
          "2023-05-11",
          "2023-05-12",
          "2023-05-13",
          "2023-05-14",
          "2023-05-15",
          "2023-05-16",
          "2023-05-17",
          "2023-05-18",
          "2023-05-19",
          "2023-05-20",
          "2023-05-21",
          "2023-05-22",
          "2023-05-23",
          "2023-05-24",
          "2023-05-25",
          "2023-05-26",
          "2023-05-27",
          "2023-05-28",
          "2023-05-29",
          "2023-05-30",
          "2023-05-31",
          "2023-06-01",
          "2023-06-02",
          "2023-06-03",
          "2023-06-04",
          "2023-06-05",
          "2023-06-06",
          "2023-06-07",
          "2023-06-08",
          "2023-06-09",
          "2023-06-10",
          "2023-06-11",
          "2023-06-12",
          "2023-06-13",
          "2023-06-14",
          "2023-06-15",
          "2023-06-16",
          "2023-06-17",
          "2023-06-18",
          "2023-06-19",
          "2023-06-20",
          "2023-06-21",
          "2023-06-22",
          "2023-06-23",
          "2023-06-24",
          "2023-06-25",
          "2023-06-26",
          "2023-06-27",
          "2023-06-28",
          "2023-06-29",
          "2023-06-30",
          "2023-07-01",
          "2023-07-02",
          "2023-07-03",
          "2023-07-04",
          "2023-07-05",
          "2023-07-06",
          "2023-07-07",
          "2023-07-08",
          "2023-07-09",
          "2023-07-10",
          "2023-07-11",
          "2023-07-12",
          "2023-07-13",
          "2023-07-14",
          "2023-07-15",
          "2023-07-16",
          "2023-07-17",
          "2023-07-18",
          "2023-07-19",
          "2023-07-20",
          "2023-07-21",
          "2023-07-22",
          "2023-07-23",
          "2023-07-24",
          "2023-07-25",
          "2023-07-26",
          "2023-07-27",
          "2023-07-28",
          "2023-07-29",
          "2023-07-30",
          "2023-07-31",
          "2023-08-01",
          "2023-08-02",
          "2023-08-03",
          "2023-08-04",
          "2023-08-05",
          "2023-08-06",
          "2023-08-07",
          "2023-08-08",
          "2023-08-09",
          "2023-08-10",
          "2023-08-11",
          "2023-08-12",
          "2023-08-13",
          "2023-08-14",
          "2023-08-15",
          "2023-08-16",
          "2023-08-17",
          "2023-08-18",
          "2023-08-19",
          "2023-08-20",
          "2023-08-21",
          "2023-08-22",
          "2023-08-23",
          "2023-08-24",
          "2023-08-25",
          "2023-08-26",
          "2023-08-27",
          "2023-08-28",
          "2023-08-29",
          "2023-08-30",
          "2023-08-31",
          "2023-09-01",
          "2023-09-02",
          "2023-09-03",
          "2023-09-04",
          "2023-09-05",
          "2023-09-06",
          "2023-09-07",
          "2023-09-08",
          "2023-09-09",
          "2023-09-10",
          "2023-09-11",
          "2023-09-12",
          "2023-09-13",
          "2023-09-14",
          "2023-09-15",
          "2023-09-16",
          "2023-09-17",
          "2023-09-18",
          "2023-09-19",
          "2023-09-20",
          "2023-09-21",
          "2023-09-22",
          "2023-09-23",
          "2023-09-24",
          "2023-09-25",
          "2023-09-26",
          "2023-09-27",
          "2023-09-28",
          "2023-09-29",
          "2023-09-30",
          "2023-10-01",
          "2023-10-02",
          "2023-10-03",
          "2023-10-04",
          "2023-10-05",
          "2023-10-06",
          "2023-10-07",
          "2023-10-08",
          "2023-10-09",
          "2023-10-10",
          "2023-10-11",
          "2023-10-12",
          "2023-10-13",
          "2023-10-14",
          "2023-10-15",
          "2023-10-16",
          "2023-10-17",
          "2023-10-18",
          "2023-10-19",
          "2023-10-20",
          "2023-10-21",
          "2023-10-22",
          "2023-10-23",
          "2023-10-24",
          "2023-10-25",
          "2023-10-26",
          "2023-10-27",
          "2023-10-28",
          "2023-10-29",
          "2023-10-30",
          "2023-10-31",
          "2023-11-01",
          "2023-11-02",
          "2023-11-03",
          "2023-11-04",
          "2023-11-05",
          "2023-11-06",
          "2023-11-07",
          "2023-11-08",
          "2023-11-09",
          "2023-11-10",
          "2023-11-11",
          "2023-11-12",
          "2023-11-13",
          "2023-11-14",
          "2023-11-15",
          "2023-11-16",
          "2023-11-17",
          "2023-11-18",
          "2023-11-19",
          "2023-11-20",
          "2023-11-21",
          "2023-11-22",
          "2023-11-23",
          "2023-11-24",
          "2023-11-25",
          "2023-11-26",
          "2023-11-27",
          "2023-11-28",
          "2023-11-29",
          "2023-11-30",
          "2023-12-01",
          "2023-12-02",
          "2023-12-03",
          "2023-12-04",
          "2023-12-05",
          "2023-12-06",
          "2023-12-07",
          "2023-12-08",
          "2023-12-09",
          "2023-12-10",
          "2023-12-11",
          "2023-12-12",
          "2023-12-13",
          "2023-12-14",
          "2023-12-15",
          "2023-12-16",
          "2023-12-17",
          "2023-12-18",
          "2023-12-19",
          "2023-12-20",
          "2023-12-21",
          "2023-12-22",
          "2023-12-23",
          "2023-12-24",
          "2023-12-25",
          "2023-12-26",
          "2023-12-27",
          "2023-12-28",
          "2023-12-29",
          "2023-12-30",
          "2023-12-31",
          "2024-01-01",
          "2024-01-02",
          "2024-01-03",
          "2024-01-04",
          "2024-01-05",
          "2024-01-06",
          "2024-01-07",
          "2024-01-08",
          "2024-01-09",
          "2024-01-10",
          "2024-01-11",
          "2024-01-12",
          "2024-01-13",
          "2024-01-14",
          "2024-01-15",
          "2024-01-16",
          "2024-01-17",
          "2024-01-18",
          "2024-01-19",
          "2024-01-20",
          "2024-01-21",
          "2024-01-22",
          "2024-01-23",
          "2024-01-24",
          "2024-01-25",
          "2024-01-26",
          "2024-01-27",
          "2024-01-28",
          "2024-01-29",
          "2024-01-30",
          "2024-01-31",
          "2024-02-01",
          "2024-02-02",
          "2024-02-03",
          "2024-02-04",
          "2024-02-05",
          "2024-02-06",
          "2024-02-07",
          "2024-02-08",
          "2024-02-09",
          "2024-02-10",
          "2024-02-11",
          "2024-02-12",
          "2024-02-13",
          "2024-02-14",
          "2024-02-15",
          "2024-02-16",
          "2024-02-17",
          "2024-02-18",
          "2024-02-19",
          "2024-02-20",
          "2024-02-21",
          "2024-02-22",
          "2024-02-23",
          "2024-02-24",
          "2024-02-25",
          "2024-02-26",
          "2024-02-27",
          "2024-02-28",
          "2024-02-29",
          "2024-03-01",
          "2024-03-02",
          "2024-03-03",
          "2024-03-04",
          "2024-03-05",
          "2024-03-06",
          "2024-03-07",
          "2024-03-08",
          "2024-03-09",
          "2024-03-10",
          "2024-03-11",
          "2024-03-12",
          "2024-03-13",
          "2024-03-14",
          "2024-03-15",
          "2024-03-16",
          "2024-03-17",
          "2024-03-18",
          "2024-03-19",
          "2024-03-20",
          "2024-03-21",
          "2024-03-22",
          "2024-03-23",
          "2024-03-24",
          "2024-03-25",
          "2024-03-26",
          "2024-03-27",
          "2024-03-28",
          "2024-03-29",
          "2024-03-30",
          "2024-03-31",
          "2024-04-01",
          "2024-04-02",
          "2024-04-03",
          "2024-04-04",
          "2024-04-05",
          "2024-04-06",
          "2024-04-07",
          "2024-04-08",
          "2024-04-09",
          "2024-04-10",
          "2024-04-11",
          "2024-04-12",
          "2024-04-13",
          "2024-04-14",
          "2024-04-15",
          "2024-04-16",
          "2024-04-17",
          "2024-04-18",
          "2024-04-19",
          "2024-04-20",
          "2024-04-21",
          "2024-04-22",
          "2024-04-23",
          "2024-04-24",
          "2024-04-25",
          "2024-04-26",
          "2024-04-27",
          "2024-04-28",
          "2024-04-29",
          "2024-04-30",
          "2024-05-01",
          "2024-05-02",
          "2024-05-03",
          "2024-05-04",
          "2024-05-05",
          "2024-05-06",
          "2024-05-07",
          "2024-05-08",
          "2024-05-09",
          "2024-05-10",
          "2024-05-11",
          "2024-05-12",
          "2024-05-13",
          "2024-05-14",
          "2024-05-15",
          "2024-05-16",
          "2024-05-17",
          "2024-05-18",
          "2024-05-19",
          "2024-05-20",
          "2024-05-21",
          "2024-05-22",
          "2024-05-23",
          "2024-05-24",
          "2024-05-25",
          "2024-05-26",
          "2024-05-27",
          "2024-05-28",
          "2024-05-29",
          "2024-05-30",
          "2024-05-31",
          "2024-06-01",
          "2024-06-02",
          "2024-06-03",
          "2024-06-04",
          "2024-06-05",
          "2024-06-06",
          "2024-06-07",
          "2024-06-08",
          "2024-06-09",
          "2024-06-10",
          "2024-06-11",
          "2024-06-12",
          "2024-06-13",
          "2024-06-14",
          "2024-06-15",
          "2024-06-16",
          "2024-06-17",
          "2024-06-18",
          "2024-06-19",
          "2024-06-20",
          "2024-06-21",
          "2024-06-22",
          "2024-06-23",
          "2024-06-24",
          "2024-06-25",
          "2024-06-26",
          "2024-06-27",
          "2024-06-28",
          "2024-06-29",
          "2024-06-30",
          "2024-07-01",
          "2024-07-02",
          "2024-07-03",
          "2024-07-04",
          "2024-07-05",
          "2024-07-06",
          "2024-07-07",
          "2024-07-08",
          "2024-07-09",
          "2024-07-10",
          "2024-07-11",
          "2024-07-12",
          "2024-07-13",
          "2024-07-14",
          "2024-07-15",
          "2024-07-16",
          "2024-07-17",
          "2024-07-18",
          "2024-07-19",
          "2024-07-20",
          "2024-07-21",
          "2024-07-22",
          "2024-07-23",
          "2024-07-24",
          "2024-07-25",
          "2024-07-26",
          "2024-07-27",
          "2024-07-28",
          "2024-07-29",
          "2024-07-30",
          "2024-07-31",
          "2024-08-01",
          "2024-08-02",
          "2024-08-03",
          "2024-08-04",
          "2024-08-05",
          "2024-08-06",
          "2024-08-07",
          "2024-08-08",
          "2024-08-09",
          "2024-08-10",
          "2024-08-11",
          "2024-08-12",
          "2024-08-13",
          "2024-08-14",
          "2024-08-15",
          "2024-08-16",
          "2024-08-17",
          "2024-08-18",
          "2024-08-19",
          "2024-08-20",
          "2024-08-21",
          "2024-08-22",
          "2024-08-23",
          "2024-08-24",
          "2024-08-25",
          "2024-08-26",
          "2024-08-27",
          "2024-08-28",
          "2024-08-29",
          "2024-08-30",
          "2024-08-31",
          "2024-09-01",
          "2024-09-02",
          "2024-09-03",
          "2024-09-04",
          "2024-09-05",
          "2024-09-06",
          "2024-09-07",
          "2024-09-08",
          "2024-09-09",
          "2024-09-10",
          "2024-09-11",
          "2024-09-12",
          "2024-09-13",
          "2024-09-14",
          "2024-09-15",
          "2024-09-16",
          "2024-09-17",
          "2024-09-18",
          "2024-09-19",
          "2024-09-20",
          "2024-09-21",
          "2024-09-22",
          "2024-09-23",
          "2024-09-24",
          "2024-09-25",
          "2024-09-26",
          "2024-09-27",
          "2024-09-28",
          "2024-09-29",
          "2024-09-30",
          "2024-10-01",
          "2024-10-02",
          "2024-10-03",
          "2024-10-04",
          "2024-10-05",
          "2024-10-06",
          "2024-10-07",
          "2024-10-08",
          "2024-10-09",
          "2024-10-10",
          "2024-10-11",
          "2024-10-12",
          "2024-10-13",
          "2024-10-14",
          "2024-10-15",
          "2024-10-16",
          "2024-10-17",
          "2024-10-18",
          "2024-10-19",
          "2024-10-20",
          "2024-10-21",
          "2024-10-22",
          "2024-10-23",
          "2024-10-24",
          "2024-10-25",
          "2024-10-26",
          "2024-10-27",
          "2024-10-28",
          "2024-10-29",
          "2024-10-30",
          "2024-10-31",
          "2024-11-01",
          "2024-11-02",
          "2024-11-03",
          "2024-11-04",
          "2024-11-05",
          "2024-11-06",
          "2024-11-07",
          "2024-11-08",
          "2024-11-09",
          "2024-11-10",
          "2024-11-11",
          "2024-11-12",
          "2024-11-13",
          "2024-11-14",
          "2024-11-15",
          "2024-11-16",
          "2024-11-17",
          "2024-11-18",
          "2024-11-19",
          "2024-11-20",
          "2024-11-21",
          "2024-11-22",
          "2024-11-23",
          "2024-11-24",
          "2024-11-25",
          "2024-11-26",
          "2024-11-27",
          "2024-11-28",
          "2024-11-29",
          "2024-11-30",
          "2024-12-01",
          "2024-12-02",
          "2024-12-03",
          "2024-12-04",
          "2024-12-05",
          "2024-12-06",
          "2024-12-07",
          "2024-12-08",
          "2024-12-09",
          "2024-12-10",
          "2024-12-11",
          "2024-12-12",
          "2024-12-13",
          "2024-12-14",
          "2024-12-15",
          "2024-12-16",
          "2024-12-17",
          "2024-12-18",
          "2024-12-19",
          "2024-12-20",
          "2024-12-21",
          "2024-12-22",
          "2024-12-23",
          "2024-12-24",
          "2024-12-25",
          "2024-12-26",
          "2024-12-27",
          "2024-12-28",
          "2024-12-29",
          "2024-12-30",
          "2024-12-31",
          "2025-01-01",
          "2025-01-02",
          "2025-01-03",
          "2025-01-04",
          "2025-01-05",
          "2025-01-06",
          "2025-01-07",
          "2025-01-08",
          "2025-01-09",
          "2025-01-10",
          "2025-01-11",
          "2025-01-12",
          "2025-01-13",
          "2025-01-14",
          "2025-01-15",
          "2025-01-16",
          "2025-01-17",
          "2025-01-18",
          "2025-01-19",
          "2025-01-20",
          "2025-01-21",
          "2025-01-22",
          "2025-01-23",
          "2025-01-24",
          "2025-01-25",
          "2025-01-26",
          "2025-01-27",
          "2025-01-28",
          "2025-01-29",
          "2025-01-30",
          "2025-01-31",
          "2025-02-01",
          "2025-02-02",
          "2025-02-03",
          "2025-02-04",
          "2025-02-05",
          "2025-02-06",
          "2025-02-07",
          "2025-02-08",
          "2025-02-09",
          "2025-02-10",
          "2025-02-11",
          "2025-02-12",
          "2025-02-13",
          "2025-02-14",
          "2025-02-15",
          "2025-02-16",
          "2025-02-17",
          "2025-02-18",
          "2025-02-19",
          "2025-02-20",
          "2025-02-21",
          "2025-02-22",
          "2025-02-23",
          "2025-02-24",
          "2025-02-25",
          "2025-02-26",
          "2025-02-27",
          "2025-02-28",
          "2025-03-01",
          "2025-03-02",
          "2025-03-03",
          "2025-03-04",
          "2025-03-05",
          "2025-03-06",
          "2025-03-07",
          "2025-03-08",
          "2025-03-09",
          "2025-03-10",
          "2025-03-11",
          "2025-03-12",
          "2025-03-13",
          "2025-03-14",
          "2025-03-15",
          "2025-03-16",
          "2025-03-17",
          "2025-03-18",
          "2025-03-19",
          "2025-03-20",
          "2025-03-21",
          "2025-03-22",
          "2025-03-23",
          "2025-03-24",
          "2025-03-25",
          "2025-03-26",
          "2025-03-27",
          "2025-03-28",
          "2025-03-29",
          "2025-03-30",
          "2025-03-31"
         ],
         "xaxis": "x",
         "y": {
          "bdata": "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",
          "dtype": "f8"
         },
         "yaxis": "y"
        },
        {
         "hovertemplate": "ciudad=ourense<br>fecha=%{x}<br>temperatura=%{y}<extra></extra>",
         "legendgroup": "ourense",
         "line": {
          "color": "#00cc96",
          "dash": "solid"
         },
         "marker": {
          "symbol": "circle"
         },
         "mode": "lines",
         "name": "ourense",
         "showlegend": true,
         "type": "scattergl",
         "x": [
          "2023-01-01",
          "2023-01-02",
          "2023-01-03",
          "2023-01-04",
          "2023-01-05",
          "2023-01-06",
          "2023-01-07",
          "2023-01-08",
          "2023-01-09",
          "2023-01-10",
          "2023-01-11",
          "2023-01-12",
          "2023-01-13",
          "2023-01-14",
          "2023-01-15",
          "2023-01-16",
          "2023-01-17",
          "2023-01-18",
          "2023-01-19",
          "2023-01-20",
          "2023-01-21",
          "2023-01-22",
          "2023-01-23",
          "2023-01-24",
          "2023-01-25",
          "2023-01-26",
          "2023-01-27",
          "2023-01-28",
          "2023-01-29",
          "2023-01-30",
          "2023-01-31",
          "2023-02-01",
          "2023-02-02",
          "2023-02-03",
          "2023-02-04",
          "2023-02-05",
          "2023-02-06",
          "2023-02-07",
          "2023-02-08",
          "2023-02-09",
          "2023-02-10",
          "2023-02-11",
          "2023-02-12",
          "2023-02-13",
          "2023-02-14",
          "2023-02-15",
          "2023-02-16",
          "2023-02-17",
          "2023-02-18",
          "2023-02-19",
          "2023-02-20",
          "2023-02-21",
          "2023-02-22",
          "2023-02-23",
          "2023-02-24",
          "2023-02-25",
          "2023-02-26",
          "2023-02-27",
          "2023-02-28",
          "2023-03-01",
          "2023-03-02",
          "2023-03-03",
          "2023-03-04",
          "2023-03-05",
          "2023-03-06",
          "2023-03-07",
          "2023-03-08",
          "2023-03-09",
          "2023-03-10",
          "2023-03-11",
          "2023-03-12",
          "2023-03-13",
          "2023-03-14",
          "2023-03-15",
          "2023-03-16",
          "2023-03-17",
          "2023-03-18",
          "2023-03-19",
          "2023-03-20",
          "2023-03-21",
          "2023-03-22",
          "2023-03-23",
          "2023-03-24",
          "2023-03-25",
          "2023-03-26",
          "2023-03-27",
          "2023-03-28",
          "2023-03-29",
          "2023-03-30",
          "2023-03-31",
          "2023-04-01",
          "2023-04-02",
          "2023-04-03",
          "2023-04-04",
          "2023-04-05",
          "2023-04-06",
          "2023-04-07",
          "2023-04-08",
          "2023-04-09",
          "2023-04-10",
          "2023-04-11",
          "2023-04-12",
          "2023-04-13",
          "2023-04-14",
          "2023-04-15",
          "2023-04-16",
          "2023-04-17",
          "2023-04-18",
          "2023-04-19",
          "2023-04-20",
          "2023-04-21",
          "2023-04-22",
          "2023-04-23",
          "2023-04-24",
          "2023-04-25",
          "2023-04-26",
          "2023-04-27",
          "2023-04-28",
          "2023-04-29",
          "2023-04-30",
          "2023-05-01",
          "2023-05-02",
          "2023-05-03",
          "2023-05-04",
          "2023-05-05",
          "2023-05-06",
          "2023-05-07",
          "2023-05-08",
          "2023-05-09",
          "2023-05-10",
          "2023-05-11",
          "2023-05-12",
          "2023-05-13",
          "2023-05-14",
          "2023-05-15",
          "2023-05-16",
          "2023-05-17",
          "2023-05-18",
          "2023-05-19",
          "2023-05-20",
          "2023-05-21",
          "2023-05-22",
          "2023-05-23",
          "2023-05-24",
          "2023-05-25",
          "2023-05-26",
          "2023-05-27",
          "2023-05-28",
          "2023-05-29",
          "2023-05-30",
          "2023-05-31",
          "2023-06-01",
          "2023-06-02",
          "2023-06-03",
          "2023-06-04",
          "2023-06-05",
          "2023-06-06",
          "2023-06-07",
          "2023-06-08",
          "2023-06-09",
          "2023-06-10",
          "2023-06-11",
          "2023-06-12",
          "2023-06-13",
          "2023-06-14",
          "2023-06-15",
          "2023-06-16",
          "2023-06-17",
          "2023-06-18",
          "2023-06-19",
          "2023-06-20",
          "2023-06-21",
          "2023-06-22",
          "2023-06-23",
          "2023-06-24",
          "2023-06-25",
          "2023-06-26",
          "2023-06-27",
          "2023-06-28",
          "2023-06-29",
          "2023-06-30",
          "2023-07-01",
          "2023-07-02",
          "2023-07-03",
          "2023-07-04",
          "2023-07-05",
          "2023-07-06",
          "2023-07-07",
          "2023-07-08",
          "2023-07-09",
          "2023-07-10",
          "2023-07-11",
          "2023-07-12",
          "2023-07-13",
          "2023-07-14",
          "2023-07-15",
          "2023-07-16",
          "2023-07-17",
          "2023-07-18",
          "2023-07-19",
          "2023-07-20",
          "2023-07-21",
          "2023-07-22",
          "2023-07-23",
          "2023-07-24",
          "2023-07-25",
          "2023-07-26",
          "2023-07-27",
          "2023-07-28",
          "2023-07-29",
          "2023-07-30",
          "2023-07-31",
          "2023-08-01",
          "2023-08-02",
          "2023-08-03",
          "2023-08-04",
          "2023-08-05",
          "2023-08-06",
          "2023-08-07",
          "2023-08-08",
          "2023-08-09",
          "2023-08-10",
          "2023-08-11",
          "2023-08-12",
          "2023-08-13",
          "2023-08-14",
          "2023-08-15",
          "2023-08-16",
          "2023-08-17",
          "2023-08-18",
          "2023-08-19",
          "2023-08-20",
          "2023-08-21",
          "2023-08-22",
          "2023-08-23",
          "2023-08-24",
          "2023-08-25",
          "2023-08-26",
          "2023-08-27",
          "2023-08-28",
          "2023-08-29",
          "2023-08-30",
          "2023-08-31",
          "2023-09-01",
          "2023-09-02",
          "2023-09-03",
          "2023-09-04",
          "2023-09-05",
          "2023-09-06",
          "2023-09-07",
          "2023-09-08",
          "2023-09-09",
          "2023-09-10",
          "2023-09-11",
          "2023-09-12",
          "2023-09-13",
          "2023-09-14",
          "2023-09-15",
          "2023-09-16",
          "2023-09-17",
          "2023-09-18",
          "2023-09-19",
          "2023-09-20",
          "2023-09-21",
          "2023-09-22",
          "2023-09-23",
          "2023-09-24",
          "2023-09-25",
          "2023-09-26",
          "2023-09-27",
          "2023-09-28",
          "2023-09-29",
          "2023-09-30",
          "2023-10-01",
          "2023-10-02",
          "2023-10-03",
          "2023-10-04",
          "2023-10-05",
          "2023-10-06",
          "2023-10-07",
          "2023-10-08",
          "2023-10-09",
          "2023-10-10",
          "2023-10-11",
          "2023-10-12",
          "2023-10-13",
          "2023-10-14",
          "2023-10-15",
          "2023-10-16",
          "2023-10-17",
          "2023-10-18",
          "2023-10-19",
          "2023-10-20",
          "2023-10-21",
          "2023-10-22",
          "2023-10-23",
          "2023-10-24",
          "2023-10-25",
          "2023-10-26",
          "2023-10-27",
          "2023-10-28",
          "2023-10-29",
          "2023-10-30",
          "2023-10-31",
          "2023-11-01",
          "2023-11-02",
          "2023-11-03",
          "2023-11-04",
          "2023-11-05",
          "2023-11-06",
          "2023-11-07",
          "2023-11-08",
          "2023-11-09",
          "2023-11-10",
          "2023-11-11",
          "2023-11-12",
          "2023-11-13",
          "2023-11-14",
          "2023-11-15",
          "2023-11-16",
          "2023-11-17",
          "2023-11-18",
          "2023-11-19",
          "2023-11-20",
          "2023-11-21",
          "2023-11-22",
          "2023-11-23",
          "2023-11-24",
          "2023-11-25",
          "2023-11-26",
          "2023-11-27",
          "2023-11-28",
          "2023-11-29",
          "2023-11-30",
          "2023-12-01",
          "2023-12-02",
          "2023-12-03",
          "2023-12-04",
          "2023-12-05",
          "2023-12-06",
          "2023-12-07",
          "2023-12-08",
          "2023-12-09",
          "2023-12-10",
          "2023-12-11",
          "2023-12-12",
          "2023-12-13",
          "2023-12-14",
          "2023-12-15",
          "2023-12-16",
          "2023-12-17",
          "2023-12-18",
          "2023-12-19",
          "2023-12-20",
          "2023-12-21",
          "2023-12-22",
          "2023-12-23",
          "2023-12-24",
          "2023-12-25",
          "2023-12-26",
          "2023-12-27",
          "2023-12-28",
          "2023-12-29",
          "2023-12-30",
          "2023-12-31",
          "2024-01-01",
          "2024-01-02",
          "2024-01-03",
          "2024-01-04",
          "2024-01-05",
          "2024-01-06",
          "2024-01-07",
          "2024-01-08",
          "2024-01-09",
          "2024-01-10",
          "2024-01-11",
          "2024-01-12",
          "2024-01-13",
          "2024-01-14",
          "2024-01-15",
          "2024-01-16",
          "2024-01-17",
          "2024-01-18",
          "2024-01-19",
          "2024-01-20",
          "2024-01-21",
          "2024-01-22",
          "2024-01-23",
          "2024-01-24",
          "2024-01-25",
          "2024-01-26",
          "2024-01-27",
          "2024-01-28",
          "2024-01-29",
          "2024-01-30",
          "2024-01-31",
          "2024-02-01",
          "2024-02-02",
          "2024-02-03",
          "2024-02-04",
          "2024-02-05",
          "2024-02-06",
          "2024-02-07",
          "2024-02-08",
          "2024-02-09",
          "2024-02-10",
          "2024-02-11",
          "2024-02-12",
          "2024-02-13",
          "2024-02-14",
          "2024-02-15",
          "2024-02-16",
          "2024-02-17",
          "2024-02-18",
          "2024-02-19",
          "2024-02-20",
          "2024-02-21",
          "2024-02-22",
          "2024-02-23",
          "2024-02-24",
          "2024-02-25",
          "2024-02-26",
          "2024-02-27",
          "2024-02-28",
          "2024-02-29",
          "2024-03-01",
          "2024-03-02",
          "2024-03-03",
          "2024-03-04",
          "2024-03-05",
          "2024-03-06",
          "2024-03-07",
          "2024-03-08",
          "2024-03-09",
          "2024-03-10",
          "2024-03-11",
          "2024-03-12",
          "2024-03-13",
          "2024-03-14",
          "2024-03-15",
          "2024-03-16",
          "2024-03-17",
          "2024-03-18",
          "2024-03-19",
          "2024-03-20",
          "2024-03-21",
          "2024-03-22",
          "2024-03-23",
          "2024-03-24",
          "2024-03-25",
          "2024-03-26",
          "2024-03-27",
          "2024-03-28",
          "2024-03-29",
          "2024-03-30",
          "2024-03-31",
          "2024-04-01",
          "2024-04-02",
          "2024-04-03",
          "2024-04-04",
          "2024-04-05",
          "2024-04-06",
          "2024-04-07",
          "2024-04-08",
          "2024-04-09",
          "2024-04-10",
          "2024-04-11",
          "2024-04-12",
          "2024-04-13",
          "2024-04-14",
          "2024-04-15",
          "2024-04-16",
          "2024-04-17",
          "2024-04-18",
          "2024-04-19",
          "2024-04-20",
          "2024-04-21",
          "2024-04-22",
          "2024-04-23",
          "2024-04-24",
          "2024-04-25",
          "2024-04-26",
          "2024-04-27",
          "2024-04-28",
          "2024-04-29",
          "2024-04-30",
          "2024-05-01",
          "2024-05-02",
          "2024-05-03",
          "2024-05-04",
          "2024-05-05",
          "2024-05-06",
          "2024-05-07",
          "2024-05-08",
          "2024-05-09",
          "2024-05-10",
          "2024-05-11",
          "2024-05-12",
          "2024-05-13",
          "2024-05-14",
          "2024-05-15",
          "2024-05-16",
          "2024-05-17",
          "2024-05-18",
          "2024-05-19",
          "2024-05-20",
          "2024-05-21",
          "2024-05-22",
          "2024-05-23",
          "2024-05-24",
          "2024-05-25",
          "2024-05-26",
          "2024-05-27",
          "2024-05-28",
          "2024-05-29",
          "2024-05-30",
          "2024-05-31",
          "2024-06-01",
          "2024-06-02",
          "2024-06-03",
          "2024-06-04",
          "2024-06-05",
          "2024-06-06",
          "2024-06-07",
          "2024-06-08",
          "2024-06-09",
          "2024-06-10",
          "2024-06-11",
          "2024-06-12",
          "2024-06-13",
          "2024-06-14",
          "2024-06-15",
          "2024-06-16",
          "2024-06-17",
          "2024-06-18",
          "2024-06-19",
          "2024-06-20",
          "2024-06-21",
          "2024-06-22",
          "2024-06-23",
          "2024-06-24",
          "2024-06-25",
          "2024-06-26",
          "2024-06-27",
          "2024-06-28",
          "2024-06-29",
          "2024-06-30",
          "2024-07-01",
          "2024-07-02",
          "2024-07-03",
          "2024-07-04",
          "2024-07-05",
          "2024-07-06",
          "2024-07-07",
          "2024-07-08",
          "2024-07-09",
          "2024-07-10",
          "2024-07-11",
          "2024-07-12",
          "2024-07-13",
          "2024-07-14",
          "2024-07-15",
          "2024-07-16",
          "2024-07-17",
          "2024-07-18",
          "2024-07-19",
          "2024-07-20",
          "2024-07-21",
          "2024-07-22",
          "2024-07-23",
          "2024-07-24",
          "2024-07-25",
          "2024-07-26",
          "2024-07-27",
          "2024-07-28",
          "2024-07-29",
          "2024-07-30",
          "2024-07-31",
          "2024-08-01",
          "2024-08-02",
          "2024-08-03",
          "2024-08-04",
          "2024-08-05",
          "2024-08-06",
          "2024-08-07",
          "2024-08-08",
          "2024-08-09",
          "2024-08-10",
          "2024-08-11",
          "2024-08-12",
          "2024-08-13",
          "2024-08-14",
          "2024-08-15",
          "2024-08-16",
          "2024-08-17",
          "2024-08-18",
          "2024-08-19",
          "2024-08-20",
          "2024-08-21",
          "2024-08-22",
          "2024-08-23",
          "2024-08-24",
          "2024-08-25",
          "2024-08-26",
          "2024-08-27",
          "2024-08-28",
          "2024-08-29",
          "2024-08-30",
          "2024-08-31",
          "2024-09-01",
          "2024-09-02",
          "2024-09-03",
          "2024-09-04",
          "2024-09-05",
          "2024-09-06",
          "2024-09-07",
          "2024-09-08",
          "2024-09-09",
          "2024-09-10",
          "2024-09-11",
          "2024-09-12",
          "2024-09-13",
          "2024-09-14",
          "2024-09-15",
          "2024-09-16",
          "2024-09-17",
          "2024-09-18",
          "2024-09-19",
          "2024-09-20",
          "2024-09-21",
          "2024-09-22",
          "2024-09-23",
          "2024-09-24",
          "2024-09-25",
          "2024-09-26",
          "2024-09-27",
          "2024-09-28",
          "2024-09-29",
          "2024-09-30",
          "2024-10-01",
          "2024-10-02",
          "2024-10-03",
          "2024-10-04",
          "2024-10-05",
          "2024-10-06",
          "2024-10-07",
          "2024-10-08",
          "2024-10-09",
          "2024-10-10",
          "2024-10-11",
          "2024-10-12",
          "2024-10-13",
          "2024-10-14",
          "2024-10-15",
          "2024-10-16",
          "2024-10-17",
          "2024-10-18",
          "2024-10-19",
          "2024-10-20",
          "2024-10-21",
          "2024-10-22",
          "2024-10-23",
          "2024-10-24",
          "2024-10-25",
          "2024-10-26",
          "2024-10-27",
          "2024-10-28",
          "2024-10-29",
          "2024-10-30",
          "2024-10-31",
          "2024-11-01",
          "2024-11-02",
          "2024-11-03",
          "2024-11-04",
          "2024-11-05",
          "2024-11-06",
          "2024-11-07",
          "2024-11-08",
          "2024-11-09",
          "2024-11-10",
          "2024-11-11",
          "2024-11-12",
          "2024-11-13",
          "2024-11-14",
          "2024-11-15",
          "2024-11-16",
          "2024-11-17",
          "2024-11-18",
          "2024-11-19",
          "2024-11-20",
          "2024-11-21",
          "2024-11-22",
          "2024-11-23",
          "2024-11-24",
          "2024-11-25",
          "2024-11-26",
          "2024-11-27",
          "2024-11-28",
          "2024-11-29",
          "2024-11-30",
          "2024-12-01",
          "2024-12-02",
          "2024-12-03",
          "2024-12-04",
          "2024-12-05",
          "2024-12-06",
          "2024-12-07",
          "2024-12-08",
          "2024-12-09",
          "2024-12-10",
          "2024-12-11",
          "2024-12-12",
          "2024-12-13",
          "2024-12-14",
          "2024-12-15",
          "2024-12-16",
          "2024-12-17",
          "2024-12-18",
          "2024-12-19",
          "2024-12-20",
          "2024-12-21",
          "2024-12-22",
          "2024-12-23",
          "2024-12-24",
          "2024-12-25",
          "2024-12-26",
          "2024-12-27",
          "2024-12-28",
          "2024-12-29",
          "2024-12-30",
          "2024-12-31",
          "2025-01-01",
          "2025-01-02",
          "2025-01-03",
          "2025-01-04",
          "2025-01-05",
          "2025-01-06",
          "2025-01-07",
          "2025-01-08",
          "2025-01-09",
          "2025-01-10",
          "2025-01-11",
          "2025-01-12",
          "2025-01-13",
          "2025-01-14",
          "2025-01-15",
          "2025-01-16",
          "2025-01-17",
          "2025-01-18",
          "2025-01-19",
          "2025-01-20",
          "2025-01-21",
          "2025-01-22",
          "2025-01-23",
          "2025-01-24",
          "2025-01-25",
          "2025-01-26",
          "2025-01-27",
          "2025-01-28",
          "2025-01-29",
          "2025-01-30",
          "2025-01-31",
          "2025-02-01",
          "2025-02-02",
          "2025-02-03",
          "2025-02-04",
          "2025-02-05",
          "2025-02-06",
          "2025-02-07",
          "2025-02-08",
          "2025-02-09",
          "2025-02-10",
          "2025-02-11",
          "2025-02-12",
          "2025-02-13",
          "2025-02-14",
          "2025-02-15",
          "2025-02-16",
          "2025-02-17",
          "2025-02-18",
          "2025-02-19",
          "2025-02-20",
          "2025-02-21",
          "2025-02-22",
          "2025-02-23",
          "2025-02-24",
          "2025-02-25",
          "2025-02-26",
          "2025-02-27",
          "2025-02-28",
          "2025-03-01",
          "2025-03-02",
          "2025-03-03",
          "2025-03-04",
          "2025-03-05",
          "2025-03-06",
          "2025-03-07",
          "2025-03-08",
          "2025-03-09",
          "2025-03-10",
          "2025-03-11",
          "2025-03-12",
          "2025-03-13",
          "2025-03-14",
          "2025-03-15",
          "2025-03-16",
          "2025-03-17",
          "2025-03-18",
          "2025-03-19",
          "2025-03-20",
          "2025-03-21",
          "2025-03-22",
          "2025-03-23",
          "2025-03-24",
          "2025-03-25",
          "2025-03-26",
          "2025-03-27",
          "2025-03-28",
          "2025-03-29",
          "2025-03-30",
          "2025-03-31"
         ],
         "xaxis": "x",
         "y": {
          "bdata": "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",
          "dtype": "f8"
         },
         "yaxis": "y"
        },
        {
         "hovertemplate": "ciudad=pontevedra<br>fecha=%{x}<br>temperatura=%{y}<extra></extra>",
         "legendgroup": "pontevedra",
         "line": {
          "color": "#ab63fa",
          "dash": "solid"
         },
         "marker": {
          "symbol": "circle"
         },
         "mode": "lines",
         "name": "pontevedra",
         "showlegend": true,
         "type": "scattergl",
         "x": [
          "2023-01-01",
          "2023-01-02",
          "2023-01-03",
          "2023-01-04",
          "2023-01-05",
          "2023-01-06",
          "2023-01-07",
          "2023-01-08",
          "2023-01-09",
          "2023-01-10",
          "2023-01-11",
          "2023-01-12",
          "2023-01-13",
          "2023-01-14",
          "2023-01-15",
          "2023-01-16",
          "2023-01-17",
          "2023-01-18",
          "2023-01-19",
          "2023-01-20",
          "2023-01-21",
          "2023-01-22",
          "2023-01-23",
          "2023-01-24",
          "2023-01-25",
          "2023-01-26",
          "2023-01-27",
          "2023-01-28",
          "2023-01-29",
          "2023-01-30",
          "2023-01-31",
          "2023-02-01",
          "2023-02-02",
          "2023-02-03",
          "2023-02-04",
          "2023-02-05",
          "2023-02-06",
          "2023-02-07",
          "2023-02-08",
          "2023-02-09",
          "2023-02-10",
          "2023-02-11",
          "2023-02-12",
          "2023-02-13",
          "2023-02-14",
          "2023-02-15",
          "2023-02-16",
          "2023-02-17",
          "2023-02-18",
          "2023-02-19",
          "2023-02-20",
          "2023-02-21",
          "2023-02-22",
          "2023-02-23",
          "2023-02-24",
          "2023-02-25",
          "2023-02-26",
          "2023-02-27",
          "2023-02-28",
          "2023-03-01",
          "2023-03-02",
          "2023-03-03",
          "2023-03-04",
          "2023-03-05",
          "2023-03-06",
          "2023-03-07",
          "2023-03-08",
          "2023-03-09",
          "2023-03-10",
          "2023-03-11",
          "2023-03-12",
          "2023-03-13",
          "2023-03-14",
          "2023-03-15",
          "2023-03-16",
          "2023-03-17",
          "2023-03-18",
          "2023-03-19",
          "2023-03-20",
          "2023-03-21",
          "2023-03-22",
          "2023-03-23",
          "2023-03-24",
          "2023-03-25",
          "2023-03-26",
          "2023-03-27",
          "2023-03-28",
          "2023-03-29",
          "2023-03-30",
          "2023-03-31",
          "2023-04-01",
          "2023-04-02",
          "2023-04-03",
          "2023-04-04",
          "2023-04-05",
          "2023-04-06",
          "2023-04-07",
          "2023-04-08",
          "2023-04-09",
          "2023-04-10",
          "2023-04-11",
          "2023-04-12",
          "2023-04-13",
          "2023-04-14",
          "2023-04-15",
          "2023-04-16",
          "2023-04-17",
          "2023-04-18",
          "2023-04-19",
          "2023-04-20",
          "2023-04-21",
          "2023-04-22",
          "2023-04-23",
          "2023-04-24",
          "2023-04-25",
          "2023-04-26",
          "2023-04-27",
          "2023-04-28",
          "2023-04-29",
          "2023-04-30",
          "2023-05-01",
          "2023-05-02",
          "2023-05-03",
          "2023-05-04",
          "2023-05-05",
          "2023-05-06",
          "2023-05-07",
          "2023-05-08",
          "2023-05-09",
          "2023-05-10",
          "2023-05-11",
          "2023-05-12",
          "2023-05-13",
          "2023-05-14",
          "2023-05-15",
          "2023-05-16",
          "2023-05-17",
          "2023-05-18",
          "2023-05-19",
          "2023-05-20",
          "2023-05-21",
          "2023-05-22",
          "2023-05-23",
          "2023-05-24",
          "2023-05-25",
          "2023-05-26",
          "2023-05-27",
          "2023-05-28",
          "2023-05-29",
          "2023-05-30",
          "2023-05-31",
          "2023-06-01",
          "2023-06-02",
          "2023-06-03",
          "2023-06-04",
          "2023-06-05",
          "2023-06-06",
          "2023-06-07",
          "2023-06-08",
          "2023-06-09",
          "2023-06-10",
          "2023-06-11",
          "2023-06-12",
          "2023-06-13",
          "2023-06-14",
          "2023-06-15",
          "2023-06-16",
          "2023-06-17",
          "2023-06-18",
          "2023-06-19",
          "2023-06-20",
          "2023-06-21",
          "2023-06-22",
          "2023-06-23",
          "2023-06-24",
          "2023-06-25",
          "2023-06-26",
          "2023-06-27",
          "2023-06-28",
          "2023-06-29",
          "2023-06-30",
          "2023-07-01",
          "2023-07-02",
          "2023-07-03",
          "2023-07-04",
          "2023-07-05",
          "2023-07-06",
          "2023-07-07",
          "2023-07-08",
          "2023-07-09",
          "2023-07-10",
          "2023-07-11",
          "2023-07-12",
          "2023-07-13",
          "2023-07-14",
          "2023-07-15",
          "2023-07-16",
          "2023-07-17",
          "2023-07-18",
          "2023-07-19",
          "2023-07-20",
          "2023-07-21",
          "2023-07-22",
          "2023-07-23",
          "2023-07-24",
          "2023-07-25",
          "2023-07-26",
          "2023-07-27",
          "2023-07-28",
          "2023-07-29",
          "2023-07-30",
          "2023-07-31",
          "2023-08-01",
          "2023-08-02",
          "2023-08-03",
          "2023-08-04",
          "2023-08-05",
          "2023-08-06",
          "2023-08-07",
          "2023-08-08",
          "2023-08-09",
          "2023-08-10",
          "2023-08-11",
          "2023-08-12",
          "2023-08-13",
          "2023-08-14",
          "2023-08-15",
          "2023-08-16",
          "2023-08-17",
          "2023-08-18",
          "2023-08-19",
          "2023-08-20",
          "2023-08-21",
          "2023-08-22",
          "2023-08-23",
          "2023-08-24",
          "2023-08-25",
          "2023-08-26",
          "2023-08-27",
          "2023-08-28",
          "2023-08-29",
          "2023-08-30",
          "2023-08-31",
          "2023-09-01",
          "2023-09-02",
          "2023-09-03",
          "2023-09-04",
          "2023-09-05",
          "2023-09-06",
          "2023-09-07",
          "2023-09-08",
          "2023-09-09",
          "2023-09-10",
          "2023-09-11",
          "2023-09-12",
          "2023-09-13",
          "2023-09-14",
          "2023-09-15",
          "2023-09-16",
          "2023-09-17",
          "2023-09-18",
          "2023-09-19",
          "2023-09-20",
          "2023-09-21",
          "2023-09-22",
          "2023-09-23",
          "2023-09-24",
          "2023-09-25",
          "2023-09-26",
          "2023-09-27",
          "2023-09-28",
          "2023-09-29",
          "2023-09-30",
          "2023-10-01",
          "2023-10-02",
          "2023-10-03",
          "2023-10-04",
          "2023-10-05",
          "2023-10-06",
          "2023-10-07",
          "2023-10-08",
          "2023-10-09",
          "2023-10-10",
          "2023-10-11",
          "2023-10-12",
          "2023-10-13",
          "2023-10-14",
          "2023-10-15",
          "2023-10-16",
          "2023-10-17",
          "2023-10-18",
          "2023-10-19",
          "2023-10-20",
          "2023-10-21",
          "2023-10-22",
          "2023-10-23",
          "2023-10-24",
          "2023-10-25",
          "2023-10-26",
          "2023-10-27",
          "2023-10-28",
          "2023-10-29",
          "2023-10-30",
          "2023-10-31",
          "2023-11-01",
          "2023-11-02",
          "2023-11-03",
          "2023-11-04",
          "2023-11-05",
          "2023-11-06",
          "2023-11-07",
          "2023-11-08",
          "2023-11-09",
          "2023-11-10",
          "2023-11-11",
          "2023-11-12",
          "2023-11-13",
          "2023-11-14",
          "2023-11-15",
          "2023-11-16",
          "2023-11-17",
          "2023-11-18",
          "2023-11-19",
          "2023-11-20",
          "2023-11-21",
          "2023-11-22",
          "2023-11-23",
          "2023-11-24",
          "2023-11-25",
          "2023-11-26",
          "2023-11-27",
          "2023-11-28",
          "2023-11-29",
          "2023-11-30",
          "2023-12-01",
          "2023-12-02",
          "2023-12-03",
          "2023-12-04",
          "2023-12-05",
          "2023-12-06",
          "2023-12-07",
          "2023-12-08",
          "2023-12-09",
          "2023-12-10",
          "2023-12-11",
          "2023-12-12",
          "2023-12-13",
          "2023-12-14",
          "2023-12-15",
          "2023-12-16",
          "2023-12-17",
          "2023-12-18",
          "2023-12-19",
          "2023-12-20",
          "2023-12-21",
          "2023-12-22",
          "2023-12-23",
          "2023-12-24",
          "2023-12-25",
          "2023-12-26",
          "2023-12-27",
          "2023-12-28",
          "2023-12-29",
          "2023-12-30",
          "2023-12-31",
          "2024-01-01",
          "2024-01-02",
          "2024-01-03",
          "2024-01-04",
          "2024-01-05",
          "2024-01-06",
          "2024-01-07",
          "2024-01-08",
          "2024-01-09",
          "2024-01-10",
          "2024-01-11",
          "2024-01-12",
          "2024-01-13",
          "2024-01-14",
          "2024-01-15",
          "2024-01-16",
          "2024-01-17",
          "2024-01-18",
          "2024-01-19",
          "2024-01-20",
          "2024-01-21",
          "2024-01-22",
          "2024-01-23",
          "2024-01-24",
          "2024-01-25",
          "2024-01-26",
          "2024-01-27",
          "2024-01-28",
          "2024-01-29",
          "2024-01-30",
          "2024-01-31",
          "2024-02-01",
          "2024-02-02",
          "2024-02-03",
          "2024-02-04",
          "2024-02-05",
          "2024-02-06",
          "2024-02-07",
          "2024-02-08",
          "2024-02-09",
          "2024-02-10",
          "2024-02-11",
          "2024-02-12",
          "2024-02-13",
          "2024-02-14",
          "2024-02-15",
          "2024-02-16",
          "2024-02-17",
          "2024-02-18",
          "2024-02-19",
          "2024-02-20",
          "2024-02-21",
          "2024-02-22",
          "2024-02-23",
          "2024-02-24",
          "2024-02-25",
          "2024-02-26",
          "2024-02-27",
          "2024-02-28",
          "2024-02-29",
          "2024-03-01",
          "2024-03-02",
          "2024-03-03",
          "2024-03-04",
          "2024-03-05",
          "2024-03-06",
          "2024-03-07",
          "2024-03-08",
          "2024-03-09",
          "2024-03-10",
          "2024-03-11",
          "2024-03-12",
          "2024-03-13",
          "2024-03-14",
          "2024-03-15",
          "2024-03-16",
          "2024-03-17",
          "2024-03-18",
          "2024-03-19",
          "2024-03-20",
          "2024-03-21",
          "2024-03-22",
          "2024-03-23",
          "2024-03-24",
          "2024-03-25",
          "2024-03-26",
          "2024-03-27",
          "2024-03-28",
          "2024-03-29",
          "2024-03-30",
          "2024-03-31",
          "2024-04-01",
          "2024-04-02",
          "2024-04-03",
          "2024-04-04",
          "2024-04-05",
          "2024-04-06",
          "2024-04-07",
          "2024-04-08",
          "2024-04-09",
          "2024-04-10",
          "2024-04-11",
          "2024-04-12",
          "2024-04-13",
          "2024-04-14",
          "2024-04-15",
          "2024-04-16",
          "2024-04-17",
          "2024-04-18",
          "2024-04-19",
          "2024-04-20",
          "2024-04-21",
          "2024-04-22",
          "2024-04-23",
          "2024-04-24",
          "2024-04-25",
          "2024-04-26",
          "2024-04-27",
          "2024-04-28",
          "2024-04-29",
          "2024-04-30",
          "2024-05-01",
          "2024-05-02",
          "2024-05-03",
          "2024-05-04",
          "2024-05-05",
          "2024-05-06",
          "2024-05-07",
          "2024-05-08",
          "2024-05-09",
          "2024-05-10",
          "2024-05-11",
          "2024-05-12",
          "2024-05-13",
          "2024-05-14",
          "2024-05-15",
          "2024-05-16",
          "2024-05-17",
          "2024-05-18",
          "2024-05-19",
          "2024-05-20",
          "2024-05-21",
          "2024-05-22",
          "2024-05-23",
          "2024-05-24",
          "2024-05-25",
          "2024-05-26",
          "2024-05-27",
          "2024-05-28",
          "2024-05-29",
          "2024-05-30",
          "2024-05-31",
          "2024-06-01",
          "2024-06-02",
          "2024-06-03",
          "2024-06-04",
          "2024-06-05",
          "2024-06-06",
          "2024-06-07",
          "2024-06-08",
          "2024-06-09",
          "2024-06-10",
          "2024-06-11",
          "2024-06-12",
          "2024-06-13",
          "2024-06-14",
          "2024-06-15",
          "2024-06-16",
          "2024-06-17",
          "2024-06-18",
          "2024-06-19",
          "2024-06-20",
          "2024-06-21",
          "2024-06-22",
          "2024-06-23",
          "2024-06-24",
          "2024-06-25",
          "2024-06-26",
          "2024-06-27",
          "2024-06-28",
          "2024-06-29",
          "2024-06-30",
          "2024-07-01",
          "2024-07-02",
          "2024-07-03",
          "2024-07-04",
          "2024-07-05",
          "2024-07-06",
          "2024-07-07",
          "2024-07-08",
          "2024-07-09",
          "2024-07-10",
          "2024-07-11",
          "2024-07-12",
          "2024-07-13",
          "2024-07-14",
          "2024-07-15",
          "2024-07-16",
          "2024-07-17",
          "2024-07-18",
          "2024-07-19",
          "2024-07-20",
          "2024-07-21",
          "2024-07-22",
          "2024-07-23",
          "2024-07-24",
          "2024-07-25",
          "2024-07-26",
          "2024-07-27",
          "2024-07-28",
          "2024-07-29",
          "2024-07-30",
          "2024-07-31",
          "2024-08-01",
          "2024-08-02",
          "2024-08-03",
          "2024-08-04",
          "2024-08-05",
          "2024-08-06",
          "2024-08-07",
          "2024-08-08",
          "2024-08-09",
          "2024-08-10",
          "2024-08-11",
          "2024-08-12",
          "2024-08-13",
          "2024-08-14",
          "2024-08-15",
          "2024-08-16",
          "2024-08-17",
          "2024-08-18",
          "2024-08-19",
          "2024-08-20",
          "2024-08-21",
          "2024-08-22",
          "2024-08-23",
          "2024-08-24",
          "2024-08-25",
          "2024-08-26",
          "2024-08-27",
          "2024-08-28",
          "2024-08-29",
          "2024-08-30",
          "2024-08-31",
          "2024-09-01",
          "2024-09-02",
          "2024-09-03",
          "2024-09-04",
          "2024-09-05",
          "2024-09-06",
          "2024-09-07",
          "2024-09-08",
          "2024-09-09",
          "2024-09-10",
          "2024-09-11",
          "2024-09-12",
          "2024-09-13",
          "2024-09-14",
          "2024-09-15",
          "2024-09-16",
          "2024-09-17",
          "2024-09-18",
          "2024-09-19",
          "2024-09-20",
          "2024-09-21",
          "2024-09-22",
          "2024-09-23",
          "2024-09-24",
          "2024-09-25",
          "2024-09-26",
          "2024-09-27",
          "2024-09-28",
          "2024-09-29",
          "2024-09-30",
          "2024-10-01",
          "2024-10-02",
          "2024-10-03",
          "2024-10-04",
          "2024-10-05",
          "2024-10-06",
          "2024-10-07",
          "2024-10-08",
          "2024-10-09",
          "2024-10-10",
          "2024-10-11",
          "2024-10-12",
          "2024-10-13",
          "2024-10-14",
          "2024-10-15",
          "2024-10-16",
          "2024-10-17",
          "2024-10-18",
          "2024-10-19",
          "2024-10-20",
          "2024-10-21",
          "2024-10-22",
          "2024-10-23",
          "2024-10-24",
          "2024-10-25",
          "2024-10-26",
          "2024-10-27",
          "2024-10-28",
          "2024-10-29",
          "2024-10-30",
          "2024-10-31",
          "2024-11-01",
          "2024-11-02",
          "2024-11-03",
          "2024-11-04",
          "2024-11-05",
          "2024-11-06",
          "2024-11-07",
          "2024-11-08",
          "2024-11-09",
          "2024-11-10",
          "2024-11-11",
          "2024-11-12",
          "2024-11-13",
          "2024-11-14",
          "2024-11-15",
          "2024-11-16",
          "2024-11-17",
          "2024-11-18",
          "2024-11-19",
          "2024-11-20",
          "2024-11-21",
          "2024-11-22",
          "2024-11-23",
          "2024-11-24",
          "2024-11-25",
          "2024-11-26",
          "2024-11-27",
          "2024-11-28",
          "2024-11-29",
          "2024-11-30",
          "2024-12-01",
          "2024-12-02",
          "2024-12-03",
          "2024-12-04",
          "2024-12-05",
          "2024-12-06",
          "2024-12-07",
          "2024-12-08",
          "2024-12-09",
          "2024-12-10",
          "2024-12-11",
          "2024-12-12",
          "2024-12-13",
          "2024-12-14",
          "2024-12-15",
          "2024-12-16",
          "2024-12-17",
          "2024-12-18",
          "2024-12-19",
          "2024-12-20",
          "2024-12-21",
          "2024-12-22",
          "2024-12-23",
          "2024-12-24",
          "2024-12-25",
          "2024-12-26",
          "2024-12-27",
          "2024-12-28",
          "2024-12-29",
          "2024-12-30",
          "2024-12-31",
          "2025-01-01",
          "2025-01-02",
          "2025-01-03",
          "2025-01-04",
          "2025-01-05",
          "2025-01-06",
          "2025-01-07",
          "2025-01-08",
          "2025-01-09",
          "2025-01-10",
          "2025-01-11",
          "2025-01-12",
          "2025-01-13",
          "2025-01-14",
          "2025-01-15",
          "2025-01-16",
          "2025-01-17",
          "2025-01-18",
          "2025-01-19",
          "2025-01-20",
          "2025-01-21",
          "2025-01-22",
          "2025-01-23",
          "2025-01-24",
          "2025-01-25",
          "2025-01-26",
          "2025-01-27",
          "2025-01-28",
          "2025-01-29",
          "2025-01-30",
          "2025-01-31",
          "2025-02-01",
          "2025-02-02",
          "2025-02-03",
          "2025-02-04",
          "2025-02-05",
          "2025-02-06",
          "2025-02-07",
          "2025-02-08",
          "2025-02-09",
          "2025-02-10",
          "2025-02-11",
          "2025-02-12",
          "2025-02-13",
          "2025-02-14",
          "2025-02-15",
          "2025-02-16",
          "2025-02-17",
          "2025-02-18",
          "2025-02-19",
          "2025-02-20",
          "2025-02-21",
          "2025-02-22",
          "2025-02-23",
          "2025-02-24",
          "2025-02-25",
          "2025-02-26",
          "2025-02-27",
          "2025-02-28",
          "2025-03-01",
          "2025-03-02",
          "2025-03-03",
          "2025-03-04",
          "2025-03-05",
          "2025-03-06",
          "2025-03-07",
          "2025-03-08",
          "2025-03-09",
          "2025-03-10",
          "2025-03-11",
          "2025-03-12",
          "2025-03-13",
          "2025-03-14",
          "2025-03-15",
          "2025-03-16",
          "2025-03-17",
          "2025-03-18",
          "2025-03-19",
          "2025-03-20",
          "2025-03-21",
          "2025-03-22",
          "2025-03-23",
          "2025-03-24",
          "2025-03-25",
          "2025-03-26",
          "2025-03-27",
          "2025-03-28",
          "2025-03-29",
          "2025-03-30",
          "2025-03-31"
         ],
         "xaxis": "x",
         "y": {
          "bdata": "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",
          "dtype": "f8"
         },
         "yaxis": "y"
        },
        {
         "hovertemplate": "ciudad=santiago<br>fecha=%{x}<br>temperatura=%{y}<extra></extra>",
         "legendgroup": "santiago",
         "line": {
          "color": "#FFA15A",
          "dash": "solid"
         },
         "marker": {
          "symbol": "circle"
         },
         "mode": "lines",
         "name": "santiago",
         "showlegend": true,
         "type": "scattergl",
         "x": [
          "2023-01-01",
          "2023-01-02",
          "2023-01-03",
          "2023-01-04",
          "2023-01-05",
          "2023-01-06",
          "2023-01-07",
          "2023-01-08",
          "2023-01-09",
          "2023-01-10",
          "2023-01-11",
          "2023-01-12",
          "2023-01-13",
          "2023-01-14",
          "2023-01-15",
          "2023-01-16",
          "2023-01-17",
          "2023-01-18",
          "2023-01-19",
          "2023-01-20",
          "2023-01-21",
          "2023-01-22",
          "2023-01-23",
          "2023-01-24",
          "2023-01-25",
          "2023-01-26",
          "2023-01-27",
          "2023-01-28",
          "2023-01-29",
          "2023-01-30",
          "2023-01-31",
          "2023-02-01",
          "2023-02-02",
          "2023-02-03",
          "2023-02-04",
          "2023-02-05",
          "2023-02-06",
          "2023-02-07",
          "2023-02-08",
          "2023-02-09",
          "2023-02-10",
          "2023-02-11",
          "2023-02-12",
          "2023-02-13",
          "2023-02-14",
          "2023-02-15",
          "2023-02-16",
          "2023-02-17",
          "2023-02-18",
          "2023-02-19",
          "2023-02-20",
          "2023-02-21",
          "2023-02-22",
          "2023-02-23",
          "2023-02-24",
          "2023-02-25",
          "2023-02-26",
          "2023-02-27",
          "2023-02-28",
          "2023-03-01",
          "2023-03-02",
          "2023-03-03",
          "2023-03-04",
          "2023-03-05",
          "2023-03-06",
          "2023-03-07",
          "2023-03-08",
          "2023-03-09",
          "2023-03-10",
          "2023-03-11",
          "2023-03-12",
          "2023-03-13",
          "2023-03-14",
          "2023-03-15",
          "2023-03-16",
          "2023-03-17",
          "2023-03-18",
          "2023-03-19",
          "2023-03-20",
          "2023-03-21",
          "2023-03-22",
          "2023-03-23",
          "2023-03-24",
          "2023-03-25",
          "2023-03-26",
          "2023-03-27",
          "2023-03-28",
          "2023-03-29",
          "2023-03-30",
          "2023-03-31",
          "2023-04-01",
          "2023-04-02",
          "2023-04-03",
          "2023-04-04",
          "2023-04-05",
          "2023-04-06",
          "2023-04-07",
          "2023-04-08",
          "2023-04-09",
          "2023-04-10",
          "2023-04-11",
          "2023-04-12",
          "2023-04-13",
          "2023-04-14",
          "2023-04-15",
          "2023-04-16",
          "2023-04-17",
          "2023-04-18",
          "2023-04-19",
          "2023-04-20",
          "2023-04-21",
          "2023-04-22",
          "2023-04-23",
          "2023-04-24",
          "2023-04-25",
          "2023-04-26",
          "2023-04-27",
          "2023-04-28",
          "2023-04-29",
          "2023-04-30",
          "2023-05-01",
          "2023-05-02",
          "2023-05-03",
          "2023-05-04",
          "2023-05-05",
          "2023-05-06",
          "2023-05-07",
          "2023-05-08",
          "2023-05-09",
          "2023-05-10",
          "2023-05-11",
          "2023-05-12",
          "2023-05-13",
          "2023-05-14",
          "2023-05-15",
          "2023-05-16",
          "2023-05-17",
          "2023-05-18",
          "2023-05-19",
          "2023-05-20",
          "2023-05-21",
          "2023-05-22",
          "2023-05-23",
          "2023-05-24",
          "2023-05-25",
          "2023-05-26",
          "2023-05-27",
          "2023-05-28",
          "2023-05-29",
          "2023-05-30",
          "2023-05-31",
          "2023-06-01",
          "2023-06-02",
          "2023-06-03",
          "2023-06-04",
          "2023-06-05",
          "2023-06-06",
          "2023-06-07",
          "2023-06-08",
          "2023-06-09",
          "2023-06-10",
          "2023-06-11",
          "2023-06-12",
          "2023-06-13",
          "2023-06-14",
          "2023-06-15",
          "2023-06-16",
          "2023-06-17",
          "2023-06-18",
          "2023-06-19",
          "2023-06-20",
          "2023-06-21",
          "2023-06-22",
          "2023-06-23",
          "2023-06-24",
          "2023-06-25",
          "2023-06-26",
          "2023-06-27",
          "2023-06-28",
          "2023-06-29",
          "2023-06-30",
          "2023-07-01",
          "2023-07-02",
          "2023-07-03",
          "2023-07-04",
          "2023-07-05",
          "2023-07-06",
          "2023-07-07",
          "2023-07-08",
          "2023-07-09",
          "2023-07-10",
          "2023-07-11",
          "2023-07-12",
          "2023-07-13",
          "2023-07-14",
          "2023-07-15",
          "2023-07-16",
          "2023-07-17",
          "2023-07-18",
          "2023-07-19",
          "2023-07-20",
          "2023-07-21",
          "2023-07-22",
          "2023-07-23",
          "2023-07-24",
          "2023-07-25",
          "2023-07-26",
          "2023-07-27",
          "2023-07-28",
          "2023-07-29",
          "2023-07-30",
          "2023-07-31",
          "2023-08-01",
          "2023-08-02",
          "2023-08-03",
          "2023-08-04",
          "2023-08-05",
          "2023-08-06",
          "2023-08-07",
          "2023-08-08",
          "2023-08-09",
          "2023-08-10",
          "2023-08-11",
          "2023-08-12",
          "2023-08-13",
          "2023-08-14",
          "2023-08-15",
          "2023-08-16",
          "2023-08-17",
          "2023-08-18",
          "2023-08-19",
          "2023-08-20",
          "2023-08-21",
          "2023-08-22",
          "2023-08-23",
          "2023-08-24",
          "2023-08-25",
          "2023-08-26",
          "2023-08-27",
          "2023-08-28",
          "2023-08-29",
          "2023-08-30",
          "2023-08-31",
          "2023-09-01",
          "2023-09-02",
          "2023-09-03",
          "2023-09-04",
          "2023-09-05",
          "2023-09-06",
          "2023-09-07",
          "2023-09-08",
          "2023-09-09",
          "2023-09-10",
          "2023-09-11",
          "2023-09-12",
          "2023-09-13",
          "2023-09-14",
          "2023-09-15",
          "2023-09-16",
          "2023-09-17",
          "2023-09-18",
          "2023-09-19",
          "2023-09-20",
          "2023-09-21",
          "2023-09-22",
          "2023-09-23",
          "2023-09-24",
          "2023-09-25",
          "2023-09-26",
          "2023-09-27",
          "2023-09-28",
          "2023-09-29",
          "2023-09-30",
          "2023-10-01",
          "2023-10-02",
          "2023-10-03",
          "2023-10-04",
          "2023-10-05",
          "2023-10-06",
          "2023-10-07",
          "2023-10-08",
          "2023-10-09",
          "2023-10-10",
          "2023-10-11",
          "2023-10-12",
          "2023-10-13",
          "2023-10-14",
          "2023-10-15",
          "2023-10-16",
          "2023-10-17",
          "2023-10-18",
          "2023-10-19",
          "2023-10-20",
          "2023-10-21",
          "2023-10-22",
          "2023-10-23",
          "2023-10-24",
          "2023-10-25",
          "2023-10-26",
          "2023-10-27",
          "2023-10-28",
          "2023-10-29",
          "2023-10-30",
          "2023-10-31",
          "2023-11-01",
          "2023-11-02",
          "2023-11-03",
          "2023-11-04",
          "2023-11-05",
          "2023-11-06",
          "2023-11-07",
          "2023-11-08",
          "2023-11-09",
          "2023-11-10",
          "2023-11-11",
          "2023-11-12",
          "2023-11-13",
          "2023-11-14",
          "2023-11-15",
          "2023-11-16",
          "2023-11-17",
          "2023-11-18",
          "2023-11-19",
          "2023-11-20",
          "2023-11-21",
          "2023-11-22",
          "2023-11-23",
          "2023-11-24",
          "2023-11-25",
          "2023-11-26",
          "2023-11-27",
          "2023-11-28",
          "2023-11-29",
          "2023-11-30",
          "2023-12-01",
          "2023-12-02",
          "2023-12-03",
          "2023-12-04",
          "2023-12-05",
          "2023-12-06",
          "2023-12-07",
          "2023-12-08",
          "2023-12-09",
          "2023-12-10",
          "2023-12-11",
          "2023-12-12",
          "2023-12-13",
          "2023-12-14",
          "2023-12-15",
          "2023-12-16",
          "2023-12-17",
          "2023-12-18",
          "2023-12-19",
          "2023-12-20",
          "2023-12-21",
          "2023-12-22",
          "2023-12-23",
          "2023-12-24",
          "2023-12-25",
          "2023-12-26",
          "2023-12-27",
          "2023-12-28",
          "2023-12-29",
          "2023-12-30",
          "2023-12-31",
          "2024-01-01",
          "2024-01-02",
          "2024-01-03",
          "2024-01-04",
          "2024-01-05",
          "2024-01-06",
          "2024-01-07",
          "2024-01-08",
          "2024-01-09",
          "2024-01-10",
          "2024-01-11",
          "2024-01-12",
          "2024-01-13",
          "2024-01-14",
          "2024-01-15",
          "2024-01-16",
          "2024-01-17",
          "2024-01-18",
          "2024-01-19",
          "2024-01-20",
          "2024-01-21",
          "2024-01-22",
          "2024-01-23",
          "2024-01-24",
          "2024-01-25",
          "2024-01-26",
          "2024-01-27",
          "2024-01-28",
          "2024-01-29",
          "2024-01-30",
          "2024-01-31",
          "2024-02-01",
          "2024-02-02",
          "2024-02-03",
          "2024-02-04",
          "2024-02-05",
          "2024-02-06",
          "2024-02-07",
          "2024-02-08",
          "2024-02-09",
          "2024-02-10",
          "2024-02-11",
          "2024-02-12",
          "2024-02-13",
          "2024-02-14",
          "2024-02-15",
          "2024-02-16",
          "2024-02-17",
          "2024-02-18",
          "2024-02-19",
          "2024-02-20",
          "2024-02-21",
          "2024-02-22",
          "2024-02-23",
          "2024-02-24",
          "2024-02-25",
          "2024-02-26",
          "2024-02-27",
          "2024-02-28",
          "2024-02-29",
          "2024-03-01",
          "2024-03-02",
          "2024-03-03",
          "2024-03-04",
          "2024-03-05",
          "2024-03-06",
          "2024-03-07",
          "2024-03-08",
          "2024-03-09",
          "2024-03-10",
          "2024-03-11",
          "2024-03-12",
          "2024-03-13",
          "2024-03-14",
          "2024-03-15",
          "2024-03-16",
          "2024-03-17",
          "2024-03-18",
          "2024-03-19",
          "2024-03-20",
          "2024-03-21",
          "2024-03-22",
          "2024-03-23",
          "2024-03-24",
          "2024-03-25",
          "2024-03-26",
          "2024-03-27",
          "2024-03-28",
          "2024-03-29",
          "2024-03-30",
          "2024-03-31",
          "2024-04-01",
          "2024-04-02",
          "2024-04-03",
          "2024-04-04",
          "2024-04-05",
          "2024-04-06",
          "2024-04-07",
          "2024-04-08",
          "2024-04-09",
          "2024-04-10",
          "2024-04-11",
          "2024-04-12",
          "2024-04-13",
          "2024-04-14",
          "2024-04-15",
          "2024-04-16",
          "2024-04-17",
          "2024-04-18",
          "2024-04-19",
          "2024-04-20",
          "2024-04-21",
          "2024-04-22",
          "2024-04-23",
          "2024-04-24",
          "2024-04-25",
          "2024-04-26",
          "2024-04-27",
          "2024-04-28",
          "2024-04-29",
          "2024-04-30",
          "2024-05-01",
          "2024-05-02",
          "2024-05-03",
          "2024-05-04",
          "2024-05-05",
          "2024-05-06",
          "2024-05-07",
          "2024-05-08",
          "2024-05-09",
          "2024-05-10",
          "2024-05-11",
          "2024-05-12",
          "2024-05-13",
          "2024-05-14",
          "2024-05-15",
          "2024-05-16",
          "2024-05-17",
          "2024-05-18",
          "2024-05-19",
          "2024-05-20",
          "2024-05-21",
          "2024-05-22",
          "2024-05-23",
          "2024-05-24",
          "2024-05-25",
          "2024-05-26",
          "2024-05-27",
          "2024-05-28",
          "2024-05-29",
          "2024-05-30",
          "2024-05-31",
          "2024-06-01",
          "2024-06-02",
          "2024-06-03",
          "2024-06-04",
          "2024-06-05",
          "2024-06-06",
          "2024-06-07",
          "2024-06-08",
          "2024-06-09",
          "2024-06-10",
          "2024-06-11",
          "2024-06-12",
          "2024-06-13",
          "2024-06-14",
          "2024-06-15",
          "2024-06-16",
          "2024-06-17",
          "2024-06-18",
          "2024-06-19",
          "2024-06-20",
          "2024-06-21",
          "2024-06-22",
          "2024-06-23",
          "2024-06-24",
          "2024-06-25",
          "2024-06-26",
          "2024-06-27",
          "2024-06-28",
          "2024-06-29",
          "2024-06-30",
          "2024-07-01",
          "2024-07-02",
          "2024-07-03",
          "2024-07-04",
          "2024-07-05",
          "2024-07-06",
          "2024-07-07",
          "2024-07-08",
          "2024-07-09",
          "2024-07-10",
          "2024-07-11",
          "2024-07-12",
          "2024-07-13",
          "2024-07-14",
          "2024-07-15",
          "2024-07-16",
          "2024-07-17",
          "2024-07-18",
          "2024-07-19",
          "2024-07-20",
          "2024-07-21",
          "2024-07-22",
          "2024-07-23",
          "2024-07-24",
          "2024-07-25",
          "2024-07-26",
          "2024-07-27",
          "2024-07-28",
          "2024-07-29",
          "2024-07-30",
          "2024-07-31",
          "2024-08-01",
          "2024-08-02",
          "2024-08-03",
          "2024-08-04",
          "2024-08-05",
          "2024-08-06",
          "2024-08-07",
          "2024-08-08",
          "2024-08-09",
          "2024-08-10",
          "2024-08-11",
          "2024-08-12",
          "2024-08-13",
          "2024-08-14",
          "2024-08-15",
          "2024-08-16",
          "2024-08-17",
          "2024-08-18",
          "2024-08-19",
          "2024-08-20",
          "2024-08-21",
          "2024-08-22",
          "2024-08-23",
          "2024-08-24",
          "2024-08-25",
          "2024-08-26",
          "2024-08-27",
          "2024-08-28",
          "2024-08-29",
          "2024-08-30",
          "2024-08-31",
          "2024-09-01",
          "2024-09-02",
          "2024-09-03",
          "2024-09-04",
          "2024-09-05",
          "2024-09-06",
          "2024-09-07",
          "2024-09-08",
          "2024-09-09",
          "2024-09-10",
          "2024-09-11",
          "2024-09-12",
          "2024-09-13",
          "2024-09-14",
          "2024-09-15",
          "2024-09-16",
          "2024-09-17",
          "2024-09-18",
          "2024-09-19",
          "2024-09-20",
          "2024-09-21",
          "2024-09-22",
          "2024-09-23",
          "2024-09-24",
          "2024-09-25",
          "2024-09-26",
          "2024-09-27",
          "2024-09-28",
          "2024-09-29",
          "2024-09-30",
          "2024-10-01",
          "2024-10-02",
          "2024-10-03",
          "2024-10-04",
          "2024-10-05",
          "2024-10-06",
          "2024-10-07",
          "2024-10-08",
          "2024-10-09",
          "2024-10-10",
          "2024-10-11",
          "2024-10-12",
          "2024-10-13",
          "2024-10-14",
          "2024-10-15",
          "2024-10-16",
          "2024-10-17",
          "2024-10-18",
          "2024-10-19",
          "2024-10-20",
          "2024-10-21",
          "2024-10-22",
          "2024-10-23",
          "2024-10-24",
          "2024-10-25",
          "2024-10-26",
          "2024-10-27",
          "2024-10-28",
          "2024-10-29",
          "2024-10-30",
          "2024-10-31",
          "2024-11-01",
          "2024-11-02",
          "2024-11-03",
          "2024-11-04",
          "2024-11-05",
          "2024-11-06",
          "2024-11-07",
          "2024-11-08",
          "2024-11-09",
          "2024-11-10",
          "2024-11-11",
          "2024-11-12",
          "2024-11-13",
          "2024-11-14",
          "2024-11-15",
          "2024-11-16",
          "2024-11-17",
          "2024-11-18",
          "2024-11-19",
          "2024-11-20",
          "2024-11-21",
          "2024-11-22",
          "2024-11-23",
          "2024-11-24",
          "2024-11-25",
          "2024-11-26",
          "2024-11-27",
          "2024-11-28",
          "2024-11-29",
          "2024-11-30",
          "2024-12-01",
          "2024-12-02",
          "2024-12-03",
          "2024-12-04",
          "2024-12-05",
          "2024-12-06",
          "2024-12-07",
          "2024-12-08",
          "2024-12-09",
          "2024-12-10",
          "2024-12-11",
          "2024-12-12",
          "2024-12-13",
          "2024-12-14",
          "2024-12-15",
          "2024-12-16",
          "2024-12-17",
          "2024-12-18",
          "2024-12-19",
          "2024-12-20",
          "2024-12-21",
          "2024-12-22",
          "2024-12-23",
          "2024-12-24",
          "2024-12-25",
          "2024-12-26",
          "2024-12-27",
          "2024-12-28",
          "2024-12-29",
          "2024-12-30",
          "2024-12-31",
          "2025-01-01",
          "2025-01-02",
          "2025-01-03",
          "2025-01-04",
          "2025-01-05",
          "2025-01-06",
          "2025-01-07",
          "2025-01-08",
          "2025-01-09",
          "2025-01-10",
          "2025-01-11",
          "2025-01-12",
          "2025-01-13",
          "2025-01-14",
          "2025-01-15",
          "2025-01-16",
          "2025-01-17",
          "2025-01-18",
          "2025-01-19",
          "2025-01-20",
          "2025-01-21",
          "2025-01-22",
          "2025-01-23",
          "2025-01-24",
          "2025-01-25",
          "2025-01-26",
          "2025-01-27",
          "2025-01-28",
          "2025-01-29",
          "2025-01-30",
          "2025-01-31",
          "2025-02-01",
          "2025-02-02",
          "2025-02-03",
          "2025-02-04",
          "2025-02-05",
          "2025-02-06",
          "2025-02-07",
          "2025-02-08",
          "2025-02-09",
          "2025-02-10",
          "2025-02-11",
          "2025-02-12",
          "2025-02-13",
          "2025-02-14",
          "2025-02-15",
          "2025-02-16",
          "2025-02-17",
          "2025-02-18",
          "2025-02-19",
          "2025-02-20",
          "2025-02-21",
          "2025-02-22",
          "2025-02-23",
          "2025-02-24",
          "2025-02-25",
          "2025-02-26",
          "2025-02-27",
          "2025-02-28",
          "2025-03-01",
          "2025-03-02",
          "2025-03-03",
          "2025-03-04",
          "2025-03-05",
          "2025-03-06",
          "2025-03-07",
          "2025-03-08",
          "2025-03-09",
          "2025-03-10",
          "2025-03-11",
          "2025-03-12",
          "2025-03-13",
          "2025-03-14",
          "2025-03-15",
          "2025-03-16",
          "2025-03-17",
          "2025-03-18",
          "2025-03-19",
          "2025-03-20",
          "2025-03-21",
          "2025-03-22",
          "2025-03-23",
          "2025-03-24",
          "2025-03-25",
          "2025-03-26",
          "2025-03-27",
          "2025-03-28",
          "2025-03-29",
          "2025-03-30",
          "2025-03-31"
         ],
         "xaxis": "x",
         "y": {
          "bdata": "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",
          "dtype": "f8"
         },
         "yaxis": "y"
        },
        {
         "hovertemplate": "ciudad=vigo<br>fecha=%{x}<br>temperatura=%{y}<extra></extra>",
         "legendgroup": "vigo",
         "line": {
          "color": "#19d3f3",
          "dash": "solid"
         },
         "marker": {
          "symbol": "circle"
         },
         "mode": "lines",
         "name": "vigo",
         "showlegend": true,
         "type": "scattergl",
         "x": [
          "2023-01-01",
          "2023-01-02",
          "2023-01-03",
          "2023-01-04",
          "2023-01-05",
          "2023-01-06",
          "2023-01-07",
          "2023-01-08",
          "2023-01-09",
          "2023-01-10",
          "2023-01-11",
          "2023-01-12",
          "2023-01-13",
          "2023-01-14",
          "2023-01-15",
          "2023-01-16",
          "2023-01-17",
          "2023-01-18",
          "2023-01-19",
          "2023-01-20",
          "2023-01-21",
          "2023-01-22",
          "2023-01-23",
          "2023-01-24",
          "2023-01-25",
          "2023-01-26",
          "2023-01-27",
          "2023-01-28",
          "2023-01-29",
          "2023-01-30",
          "2023-01-31",
          "2023-02-01",
          "2023-02-02",
          "2023-02-03",
          "2023-02-04",
          "2023-02-05",
          "2023-02-06",
          "2023-02-07",
          "2023-02-08",
          "2023-02-09",
          "2023-02-10",
          "2023-02-11",
          "2023-02-12",
          "2023-02-13",
          "2023-02-14",
          "2023-02-15",
          "2023-02-16",
          "2023-02-17",
          "2023-02-18",
          "2023-02-19",
          "2023-02-20",
          "2023-02-21",
          "2023-02-22",
          "2023-02-23",
          "2023-02-24",
          "2023-02-25",
          "2023-02-26",
          "2023-02-27",
          "2023-02-28",
          "2023-03-01",
          "2023-03-02",
          "2023-03-03",
          "2023-03-04",
          "2023-03-05",
          "2023-03-06",
          "2023-03-07",
          "2023-03-08",
          "2023-03-09",
          "2023-03-10",
          "2023-03-11",
          "2023-03-12",
          "2023-03-13",
          "2023-03-14",
          "2023-03-15",
          "2023-03-16",
          "2023-03-17",
          "2023-03-18",
          "2023-03-19",
          "2023-03-20",
          "2023-03-21",
          "2023-03-22",
          "2023-03-23",
          "2023-03-24",
          "2023-03-25",
          "2023-03-26",
          "2023-03-27",
          "2023-03-28",
          "2023-03-29",
          "2023-03-30",
          "2023-03-31",
          "2023-04-01",
          "2023-04-02",
          "2023-04-03",
          "2023-04-04",
          "2023-04-05",
          "2023-04-06",
          "2023-04-07",
          "2023-04-08",
          "2023-04-09",
          "2023-04-10",
          "2023-04-11",
          "2023-04-12",
          "2023-04-13",
          "2023-04-14",
          "2023-04-15",
          "2023-04-16",
          "2023-04-17",
          "2023-04-18",
          "2023-04-19",
          "2023-04-20",
          "2023-04-21",
          "2023-04-22",
          "2023-04-23",
          "2023-04-24",
          "2023-04-25",
          "2023-04-26",
          "2023-04-27",
          "2023-04-28",
          "2023-04-29",
          "2023-04-30",
          "2023-05-01",
          "2023-05-02",
          "2023-05-03",
          "2023-05-04",
          "2023-05-05",
          "2023-05-06",
          "2023-05-07",
          "2023-05-08",
          "2023-05-09",
          "2023-05-10",
          "2023-05-11",
          "2023-05-12",
          "2023-05-13",
          "2023-05-14",
          "2023-05-15",
          "2023-05-16",
          "2023-05-17",
          "2023-05-18",
          "2023-05-19",
          "2023-05-20",
          "2023-05-21",
          "2023-05-22",
          "2023-05-23",
          "2023-05-24",
          "2023-05-25",
          "2023-05-26",
          "2023-05-27",
          "2023-05-28",
          "2023-05-29",
          "2023-05-30",
          "2023-05-31",
          "2023-06-01",
          "2023-06-02",
          "2023-06-03",
          "2023-06-04",
          "2023-06-05",
          "2023-06-06",
          "2023-06-07",
          "2023-06-08",
          "2023-06-09",
          "2023-06-10",
          "2023-06-11",
          "2023-06-12",
          "2023-06-13",
          "2023-06-14",
          "2023-06-15",
          "2023-06-16",
          "2023-06-17",
          "2023-06-18",
          "2023-06-19",
          "2023-06-20",
          "2023-06-21",
          "2023-06-22",
          "2023-06-23",
          "2023-06-24",
          "2023-06-25",
          "2023-06-26",
          "2023-06-27",
          "2023-06-28",
          "2023-06-29",
          "2023-06-30",
          "2023-07-01",
          "2023-07-02",
          "2023-07-03",
          "2023-07-04",
          "2023-07-05",
          "2023-07-06",
          "2023-07-07",
          "2023-07-08",
          "2023-07-09",
          "2023-07-10",
          "2023-07-11",
          "2023-07-12",
          "2023-07-13",
          "2023-07-14",
          "2023-07-15",
          "2023-07-16",
          "2023-07-17",
          "2023-07-18",
          "2023-07-19",
          "2023-07-20",
          "2023-07-21",
          "2023-07-22",
          "2023-07-23",
          "2023-07-24",
          "2023-07-25",
          "2023-07-26",
          "2023-07-27",
          "2023-07-28",
          "2023-07-29",
          "2023-07-30",
          "2023-07-31",
          "2023-08-01",
          "2023-08-02",
          "2023-08-03",
          "2023-08-04",
          "2023-08-05",
          "2023-08-06",
          "2023-08-07",
          "2023-08-08",
          "2023-08-09",
          "2023-08-10",
          "2023-08-11",
          "2023-08-12",
          "2023-08-13",
          "2023-08-14",
          "2023-08-15",
          "2023-08-16",
          "2023-08-17",
          "2023-08-18",
          "2023-08-19",
          "2023-08-20",
          "2023-08-21",
          "2023-08-22",
          "2023-08-23",
          "2023-08-24",
          "2023-08-25",
          "2023-08-26",
          "2023-08-27",
          "2023-08-28",
          "2023-08-29",
          "2023-08-30",
          "2023-08-31",
          "2023-09-01",
          "2023-09-02",
          "2023-09-03",
          "2023-09-04",
          "2023-09-05",
          "2023-09-06",
          "2023-09-07",
          "2023-09-08",
          "2023-09-09",
          "2023-09-10",
          "2023-09-11",
          "2023-09-12",
          "2023-09-13",
          "2023-09-14",
          "2023-09-15",
          "2023-09-16",
          "2023-09-17",
          "2023-09-18",
          "2023-09-19",
          "2023-09-20",
          "2023-09-21",
          "2023-09-22",
          "2023-09-23",
          "2023-09-24",
          "2023-09-25",
          "2023-09-26",
          "2023-09-27",
          "2023-09-28",
          "2023-09-29",
          "2023-09-30",
          "2023-10-01",
          "2023-10-02",
          "2023-10-03",
          "2023-10-04",
          "2023-10-05",
          "2023-10-06",
          "2023-10-07",
          "2023-10-08",
          "2023-10-09",
          "2023-10-10",
          "2023-10-11",
          "2023-10-12",
          "2023-10-13",
          "2023-10-14",
          "2023-10-15",
          "2023-10-16",
          "2023-10-17",
          "2023-10-18",
          "2023-10-19",
          "2023-10-20",
          "2023-10-21",
          "2023-10-22",
          "2023-10-23",
          "2023-10-24",
          "2023-10-25",
          "2023-10-26",
          "2023-10-27",
          "2023-10-28",
          "2023-10-29",
          "2023-10-30",
          "2023-10-31",
          "2023-11-01",
          "2023-11-02",
          "2023-11-03",
          "2023-11-04",
          "2023-11-05",
          "2023-11-06",
          "2023-11-07",
          "2023-11-08",
          "2023-11-09",
          "2023-11-10",
          "2023-11-11",
          "2023-11-12",
          "2023-11-13",
          "2023-11-14",
          "2023-11-15",
          "2023-11-16",
          "2023-11-17",
          "2023-11-18",
          "2023-11-19",
          "2023-11-20",
          "2023-11-21",
          "2023-11-22",
          "2023-11-23",
          "2023-11-24",
          "2023-11-25",
          "2023-11-26",
          "2023-11-27",
          "2023-11-28",
          "2023-11-29",
          "2023-11-30",
          "2023-12-01",
          "2023-12-02",
          "2023-12-03",
          "2023-12-04",
          "2023-12-05",
          "2023-12-06",
          "2023-12-07",
          "2023-12-08",
          "2023-12-09",
          "2023-12-10",
          "2023-12-11",
          "2023-12-12",
          "2023-12-13",
          "2023-12-14",
          "2023-12-15",
          "2023-12-16",
          "2023-12-17",
          "2023-12-18",
          "2023-12-19",
          "2023-12-20",
          "2023-12-21",
          "2023-12-22",
          "2023-12-23",
          "2023-12-24",
          "2023-12-25",
          "2023-12-26",
          "2023-12-27",
          "2023-12-28",
          "2023-12-29",
          "2023-12-30",
          "2023-12-31",
          "2024-01-01",
          "2024-01-02",
          "2024-01-03",
          "2024-01-04",
          "2024-01-05",
          "2024-01-06",
          "2024-01-07",
          "2024-01-08",
          "2024-01-09",
          "2024-01-10",
          "2024-01-11",
          "2024-01-12",
          "2024-01-13",
          "2024-01-14",
          "2024-01-15",
          "2024-01-16",
          "2024-01-17",
          "2024-01-18",
          "2024-01-19",
          "2024-01-20",
          "2024-01-21",
          "2024-01-22",
          "2024-01-23",
          "2024-01-24",
          "2024-01-25",
          "2024-01-26",
          "2024-01-27",
          "2024-01-28",
          "2024-01-29",
          "2024-01-30",
          "2024-01-31",
          "2024-02-01",
          "2024-02-02",
          "2024-02-03",
          "2024-02-04",
          "2024-02-05",
          "2024-02-06",
          "2024-02-07",
          "2024-02-08",
          "2024-02-09",
          "2024-02-10",
          "2024-02-11",
          "2024-02-12",
          "2024-02-13",
          "2024-02-14",
          "2024-02-15",
          "2024-02-16",
          "2024-02-17",
          "2024-02-18",
          "2024-02-19",
          "2024-02-20",
          "2024-02-21",
          "2024-02-22",
          "2024-02-23",
          "2024-02-24",
          "2024-02-25",
          "2024-02-26",
          "2024-02-27",
          "2024-02-28",
          "2024-02-29",
          "2024-03-01",
          "2024-03-02",
          "2024-03-03",
          "2024-03-04",
          "2024-03-05",
          "2024-03-06",
          "2024-03-07",
          "2024-03-08",
          "2024-03-09",
          "2024-03-10",
          "2024-03-11",
          "2024-03-12",
          "2024-03-13",
          "2024-03-14",
          "2024-03-15",
          "2024-03-16",
          "2024-03-17",
          "2024-03-18",
          "2024-03-19",
          "2024-03-20",
          "2024-03-21",
          "2024-03-22",
          "2024-03-23",
          "2024-03-24",
          "2024-03-25",
          "2024-03-26",
          "2024-03-27",
          "2024-03-28",
          "2024-03-29",
          "2024-03-30",
          "2024-03-31",
          "2024-04-01",
          "2024-04-02",
          "2024-04-03",
          "2024-04-04",
          "2024-04-05",
          "2024-04-06",
          "2024-04-07",
          "2024-04-08",
          "2024-04-09",
          "2024-04-10",
          "2024-04-11",
          "2024-04-12",
          "2024-04-13",
          "2024-04-14",
          "2024-04-15",
          "2024-04-16",
          "2024-04-17",
          "2024-04-18",
          "2024-04-19",
          "2024-04-20",
          "2024-04-21",
          "2024-04-22",
          "2024-04-23",
          "2024-04-24",
          "2024-04-25",
          "2024-04-26",
          "2024-04-27",
          "2024-04-28",
          "2024-04-29",
          "2024-04-30",
          "2024-05-01",
          "2024-05-02",
          "2024-05-03",
          "2024-05-04",
          "2024-05-05",
          "2024-05-06",
          "2024-05-07",
          "2024-05-08",
          "2024-05-09",
          "2024-05-10",
          "2024-05-11",
          "2024-05-12",
          "2024-05-13",
          "2024-05-14",
          "2024-05-15",
          "2024-05-16",
          "2024-05-17",
          "2024-05-18",
          "2024-05-19",
          "2024-05-20",
          "2024-05-21",
          "2024-05-22",
          "2024-05-23",
          "2024-05-24",
          "2024-05-25",
          "2024-05-26",
          "2024-05-27",
          "2024-05-28",
          "2024-05-29",
          "2024-05-30",
          "2024-05-31",
          "2024-06-01",
          "2024-06-02",
          "2024-06-03",
          "2024-06-04",
          "2024-06-05",
          "2024-06-06",
          "2024-06-07",
          "2024-06-08",
          "2024-06-09",
          "2024-06-10",
          "2024-06-11",
          "2024-06-12",
          "2024-06-13",
          "2024-06-14",
          "2024-06-15",
          "2024-06-16",
          "2024-06-17",
          "2024-06-18",
          "2024-06-19",
          "2024-06-20",
          "2024-06-21",
          "2024-06-22",
          "2024-06-23",
          "2024-06-24",
          "2024-06-25",
          "2024-06-26",
          "2024-06-27",
          "2024-06-28",
          "2024-06-29",
          "2024-06-30",
          "2024-07-01",
          "2024-07-02",
          "2024-07-03",
          "2024-07-04",
          "2024-07-05",
          "2024-07-06",
          "2024-07-07",
          "2024-07-08",
          "2024-07-09",
          "2024-07-10",
          "2024-07-11",
          "2024-07-12",
          "2024-07-13",
          "2024-07-14",
          "2024-07-15",
          "2024-07-16",
          "2024-07-17",
          "2024-07-18",
          "2024-07-19",
          "2024-07-20",
          "2024-07-21",
          "2024-07-22",
          "2024-07-23",
          "2024-07-24",
          "2024-07-25",
          "2024-07-26",
          "2024-07-27",
          "2024-07-28",
          "2024-07-29",
          "2024-07-30",
          "2024-07-31",
          "2024-08-01",
          "2024-08-02",
          "2024-08-03",
          "2024-08-04",
          "2024-08-05",
          "2024-08-06",
          "2024-08-07",
          "2024-08-08",
          "2024-08-09",
          "2024-08-10",
          "2024-08-11",
          "2024-08-12",
          "2024-08-13",
          "2024-08-14",
          "2024-08-15",
          "2024-08-16",
          "2024-08-17",
          "2024-08-18",
          "2024-08-19",
          "2024-08-20",
          "2024-08-21",
          "2024-08-22",
          "2024-08-23",
          "2024-08-24",
          "2024-08-25",
          "2024-08-26",
          "2024-08-27",
          "2024-08-28",
          "2024-08-29",
          "2024-08-30",
          "2024-08-31",
          "2024-09-01",
          "2024-09-02",
          "2024-09-03",
          "2024-09-04",
          "2024-09-05",
          "2024-09-06",
          "2024-09-07",
          "2024-09-08",
          "2024-09-09",
          "2024-09-10",
          "2024-09-11",
          "2024-09-12",
          "2024-09-13",
          "2024-09-14",
          "2024-09-15",
          "2024-09-16",
          "2024-09-17",
          "2024-09-18",
          "2024-09-19",
          "2024-09-20",
          "2024-09-21",
          "2024-09-22",
          "2024-09-23",
          "2024-09-24",
          "2024-09-25",
          "2024-09-26",
          "2024-09-27",
          "2024-09-28",
          "2024-09-29",
          "2024-09-30",
          "2024-10-01",
          "2024-10-02",
          "2024-10-03",
          "2024-10-04",
          "2024-10-05",
          "2024-10-06",
          "2024-10-07",
          "2024-10-08",
          "2024-10-09",
          "2024-10-10",
          "2024-10-11",
          "2024-10-12",
          "2024-10-13",
          "2024-10-14",
          "2024-10-15",
          "2024-10-16",
          "2024-10-17",
          "2024-10-18",
          "2024-10-19",
          "2024-10-20",
          "2024-10-21",
          "2024-10-22",
          "2024-10-23",
          "2024-10-24",
          "2024-10-25",
          "2024-10-26",
          "2024-10-27",
          "2024-10-28",
          "2024-10-29",
          "2024-10-30",
          "2024-10-31",
          "2024-11-01",
          "2024-11-02",
          "2024-11-03",
          "2024-11-04",
          "2024-11-05",
          "2024-11-06",
          "2024-11-07",
          "2024-11-08",
          "2024-11-09",
          "2024-11-10",
          "2024-11-11",
          "2024-11-12",
          "2024-11-13",
          "2024-11-14",
          "2024-11-15",
          "2024-11-16",
          "2024-11-17",
          "2024-11-18",
          "2024-11-19",
          "2024-11-20",
          "2024-11-21",
          "2024-11-22",
          "2024-11-23",
          "2024-11-24",
          "2024-11-25",
          "2024-11-26",
          "2024-11-27",
          "2024-11-28",
          "2024-11-29",
          "2024-11-30",
          "2024-12-01",
          "2024-12-02",
          "2024-12-03",
          "2024-12-04",
          "2024-12-05",
          "2024-12-06",
          "2024-12-07",
          "2024-12-08",
          "2024-12-09",
          "2024-12-10",
          "2024-12-11",
          "2024-12-12",
          "2024-12-13",
          "2024-12-14",
          "2024-12-15",
          "2024-12-16",
          "2024-12-17",
          "2024-12-18",
          "2024-12-19",
          "2024-12-20",
          "2024-12-21",
          "2024-12-22",
          "2024-12-23",
          "2024-12-24",
          "2024-12-25",
          "2024-12-26",
          "2024-12-27",
          "2024-12-28",
          "2024-12-29",
          "2024-12-30",
          "2024-12-31",
          "2025-01-01",
          "2025-01-02",
          "2025-01-03",
          "2025-01-04",
          "2025-01-05",
          "2025-01-06",
          "2025-01-07",
          "2025-01-08",
          "2025-01-09",
          "2025-01-10",
          "2025-01-11",
          "2025-01-12",
          "2025-01-13",
          "2025-01-14",
          "2025-01-15",
          "2025-01-16",
          "2025-01-17",
          "2025-01-18",
          "2025-01-19",
          "2025-01-20",
          "2025-01-21",
          "2025-01-22",
          "2025-01-23",
          "2025-01-24",
          "2025-01-25",
          "2025-01-26",
          "2025-01-27",
          "2025-01-28",
          "2025-01-29",
          "2025-01-30",
          "2025-01-31",
          "2025-02-01",
          "2025-02-02",
          "2025-02-03",
          "2025-02-04",
          "2025-02-05",
          "2025-02-06",
          "2025-02-07",
          "2025-02-08",
          "2025-02-09",
          "2025-02-10",
          "2025-02-11",
          "2025-02-12",
          "2025-02-13",
          "2025-02-14",
          "2025-02-15",
          "2025-02-16",
          "2025-02-17",
          "2025-02-18",
          "2025-02-19",
          "2025-02-20",
          "2025-02-21",
          "2025-02-22",
          "2025-02-23",
          "2025-02-24",
          "2025-02-25",
          "2025-02-26",
          "2025-02-27",
          "2025-02-28",
          "2025-03-01",
          "2025-03-02",
          "2025-03-03",
          "2025-03-04",
          "2025-03-05",
          "2025-03-06",
          "2025-03-07",
          "2025-03-08",
          "2025-03-09",
          "2025-03-10",
          "2025-03-11",
          "2025-03-12",
          "2025-03-13",
          "2025-03-14",
          "2025-03-15",
          "2025-03-16",
          "2025-03-17",
          "2025-03-18",
          "2025-03-19",
          "2025-03-20",
          "2025-03-21",
          "2025-03-22",
          "2025-03-23",
          "2025-03-24",
          "2025-03-25",
          "2025-03-26",
          "2025-03-27",
          "2025-03-28",
          "2025-03-29",
          "2025-03-30",
          "2025-03-31"
         ],
         "xaxis": "x",
         "y": {
          "bdata": "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",
          "dtype": "f8"
         },
         "yaxis": "y"
        }
       ],
       "layout": {
        "autosize": true,
        "font": {
         "color": "white"
        },
        "legend": {
         "font": {
          "color": "white"
         },
         "title": {
          "text": "ciudad"
         },
         "tracegroupgap": 0
        },
        "margin": {
         "b": 40,
         "l": 20,
         "r": 20,
         "t": 40
        },
        "paper_bgcolor": "rgba(0, 0, 0, 0)",
        "plot_bgcolor": "rgba(0, 0, 0, 0)",
        "template": {
         "data": {
          "bar": [
           {
            "error_x": {
             "color": "#2a3f5f"
            },
            "error_y": {
             "color": "#2a3f5f"
            },
            "marker": {
             "line": {
              "color": "#E5ECF6",
              "width": 0.5
             },
             "pattern": {
              "fillmode": "overlay",
              "size": 10,
              "solidity": 0.2
             }
            },
            "type": "bar"
           }
          ],
          "barpolar": [
           {
            "marker": {
             "line": {
              "color": "#E5ECF6",
              "width": 0.5
             },
             "pattern": {
              "fillmode": "overlay",
              "size": 10,
              "solidity": 0.2
             }
            },
            "type": "barpolar"
           }
          ],
          "carpet": [
           {
            "aaxis": {
             "endlinecolor": "#2a3f5f",
             "gridcolor": "white",
             "linecolor": "white",
             "minorgridcolor": "white",
             "startlinecolor": "#2a3f5f"
            },
            "baxis": {
             "endlinecolor": "#2a3f5f",
             "gridcolor": "white",
             "linecolor": "white",
             "minorgridcolor": "white",
             "startlinecolor": "#2a3f5f"
            },
            "type": "carpet"
           }
          ],
          "choropleth": [
           {
            "colorbar": {
             "outlinewidth": 0,
             "ticks": ""
            },
            "type": "choropleth"
           }
          ],
          "contour": [
           {
            "colorbar": {
             "outlinewidth": 0,
             "ticks": ""
            },
            "colorscale": [
             [
              0,
              "#0d0887"
             ],
             [
              0.1111111111111111,
              "#46039f"
             ],
             [
              0.2222222222222222,
              "#7201a8"
             ],
             [
              0.3333333333333333,
              "#9c179e"
             ],
             [
              0.4444444444444444,
              "#bd3786"
             ],
             [
              0.5555555555555556,
              "#d8576b"
             ],
             [
              0.6666666666666666,
              "#ed7953"
             ],
             [
              0.7777777777777778,
              "#fb9f3a"
             ],
             [
              0.8888888888888888,
              "#fdca26"
             ],
             [
              1,
              "#f0f921"
             ]
            ],
            "type": "contour"
           }
          ],
          "contourcarpet": [
           {
            "colorbar": {
             "outlinewidth": 0,
             "ticks": ""
            },
            "type": "contourcarpet"
           }
          ],
          "heatmap": [
           {
            "colorbar": {
             "outlinewidth": 0,
             "ticks": ""
            },
            "colorscale": [
             [
              0,
              "#0d0887"
             ],
             [
              0.1111111111111111,
              "#46039f"
             ],
             [
              0.2222222222222222,
              "#7201a8"
             ],
             [
              0.3333333333333333,
              "#9c179e"
             ],
             [
              0.4444444444444444,
              "#bd3786"
             ],
             [
              0.5555555555555556,
              "#d8576b"
             ],
             [
              0.6666666666666666,
              "#ed7953"
             ],
             [
              0.7777777777777778,
              "#fb9f3a"
             ],
             [
              0.8888888888888888,
              "#fdca26"
             ],
             [
              1,
              "#f0f921"
             ]
            ],
            "type": "heatmap"
           }
          ],
          "histogram": [
           {
            "marker": {
             "pattern": {
              "fillmode": "overlay",
              "size": 10,
              "solidity": 0.2
             }
            },
            "type": "histogram"
           }
          ],
          "histogram2d": [
           {
            "colorbar": {
             "outlinewidth": 0,
             "ticks": ""
            },
            "colorscale": [
             [
              0,
              "#0d0887"
             ],
             [
              0.1111111111111111,
              "#46039f"
             ],
             [
              0.2222222222222222,
              "#7201a8"
             ],
             [
              0.3333333333333333,
              "#9c179e"
             ],
             [
              0.4444444444444444,
              "#bd3786"
             ],
             [
              0.5555555555555556,
              "#d8576b"
             ],
             [
              0.6666666666666666,
              "#ed7953"
             ],
             [
              0.7777777777777778,
              "#fb9f3a"
             ],
             [
              0.8888888888888888,
              "#fdca26"
             ],
             [
              1,
              "#f0f921"
             ]
            ],
            "type": "histogram2d"
           }
          ],
          "histogram2dcontour": [
           {
            "colorbar": {
             "outlinewidth": 0,
             "ticks": ""
            },
            "colorscale": [
             [
              0,
              "#0d0887"
             ],
             [
              0.1111111111111111,
              "#46039f"
             ],
             [
              0.2222222222222222,
              "#7201a8"
             ],
             [
              0.3333333333333333,
              "#9c179e"
             ],
             [
              0.4444444444444444,
              "#bd3786"
             ],
             [
              0.5555555555555556,
              "#d8576b"
             ],
             [
              0.6666666666666666,
              "#ed7953"
             ],
             [
              0.7777777777777778,
              "#fb9f3a"
             ],
             [
              0.8888888888888888,
              "#fdca26"
             ],
             [
              1,
              "#f0f921"
             ]
            ],
            "type": "histogram2dcontour"
           }
          ],
          "mesh3d": [
           {
            "colorbar": {
             "outlinewidth": 0,
             "ticks": ""
            },
            "type": "mesh3d"
           }
          ],
          "parcoords": [
           {
            "line": {
             "colorbar": {
              "outlinewidth": 0,
              "ticks": ""
             }
            },
            "type": "parcoords"
           }
          ],
          "pie": [
           {
            "automargin": true,
            "type": "pie"
           }
          ],
          "scatter": [
           {
            "fillpattern": {
             "fillmode": "overlay",
             "size": 10,
             "solidity": 0.2
            },
            "type": "scatter"
           }
          ],
          "scatter3d": [
           {
            "line": {
             "colorbar": {
              "outlinewidth": 0,
              "ticks": ""
             }
            },
            "marker": {
             "colorbar": {
              "outlinewidth": 0,
              "ticks": ""
             }
            },
            "type": "scatter3d"
           }
          ],
          "scattercarpet": [
           {
            "marker": {
             "colorbar": {
              "outlinewidth": 0,
              "ticks": ""
             }
            },
            "type": "scattercarpet"
           }
          ],
          "scattergeo": [
           {
            "marker": {
             "colorbar": {
              "outlinewidth": 0,
              "ticks": ""
             }
            },
            "type": "scattergeo"
           }
          ],
          "scattergl": [
           {
            "marker": {
             "colorbar": {
              "outlinewidth": 0,
              "ticks": ""
             }
            },
            "type": "scattergl"
           }
          ],
          "scattermap": [
           {
            "marker": {
             "colorbar": {
              "outlinewidth": 0,
              "ticks": ""
             }
            },
            "type": "scattermap"
           }
          ],
          "scattermapbox": [
           {
            "marker": {
             "colorbar": {
              "outlinewidth": 0,
              "ticks": ""
             }
            },
            "type": "scattermapbox"
           }
          ],
          "scatterpolar": [
           {
            "marker": {
             "colorbar": {
              "outlinewidth": 0,
              "ticks": ""
             }
            },
            "type": "scatterpolar"
           }
          ],
          "scatterpolargl": [
           {
            "marker": {
             "colorbar": {
              "outlinewidth": 0,
              "ticks": ""
             }
            },
            "type": "scatterpolargl"
           }
          ],
          "scatterternary": [
           {
            "marker": {
             "colorbar": {
              "outlinewidth": 0,
              "ticks": ""
             }
            },
            "type": "scatterternary"
           }
          ],
          "surface": [
           {
            "colorbar": {
             "outlinewidth": 0,
             "ticks": ""
            },
            "colorscale": [
             [
              0,
              "#0d0887"
             ],
             [
              0.1111111111111111,
              "#46039f"
             ],
             [
              0.2222222222222222,
              "#7201a8"
             ],
             [
              0.3333333333333333,
              "#9c179e"
             ],
             [
              0.4444444444444444,
              "#bd3786"
             ],
             [
              0.5555555555555556,
              "#d8576b"
             ],
             [
              0.6666666666666666,
              "#ed7953"
             ],
             [
              0.7777777777777778,
              "#fb9f3a"
             ],
             [
              0.8888888888888888,
              "#fdca26"
             ],
             [
              1,
              "#f0f921"
             ]
            ],
            "type": "surface"
           }
          ],
          "table": [
           {
            "cells": {
             "fill": {
              "color": "#EBF0F8"
             },
             "line": {
              "color": "white"
             }
            },
            "header": {
             "fill": {
              "color": "#C8D4E3"
             },
             "line": {
              "color": "white"
             }
            },
            "type": "table"
           }
          ]
         },
         "layout": {
          "annotationdefaults": {
           "arrowcolor": "#2a3f5f",
           "arrowhead": 0,
           "arrowwidth": 1
          },
          "autotypenumbers": "strict",
          "coloraxis": {
           "colorbar": {
            "outlinewidth": 0,
            "ticks": ""
           }
          },
          "colorscale": {
           "diverging": [
            [
             0,
             "#8e0152"
            ],
            [
             0.1,
             "#c51b7d"
            ],
            [
             0.2,
             "#de77ae"
            ],
            [
             0.3,
             "#f1b6da"
            ],
            [
             0.4,
             "#fde0ef"
            ],
            [
             0.5,
             "#f7f7f7"
            ],
            [
             0.6,
             "#e6f5d0"
            ],
            [
             0.7,
             "#b8e186"
            ],
            [
             0.8,
             "#7fbc41"
            ],
            [
             0.9,
             "#4d9221"
            ],
            [
             1,
             "#276419"
            ]
           ],
           "sequential": [
            [
             0,
             "#0d0887"
            ],
            [
             0.1111111111111111,
             "#46039f"
            ],
            [
             0.2222222222222222,
             "#7201a8"
            ],
            [
             0.3333333333333333,
             "#9c179e"
            ],
            [
             0.4444444444444444,
             "#bd3786"
            ],
            [
             0.5555555555555556,
             "#d8576b"
            ],
            [
             0.6666666666666666,
             "#ed7953"
            ],
            [
             0.7777777777777778,
             "#fb9f3a"
            ],
            [
             0.8888888888888888,
             "#fdca26"
            ],
            [
             1,
             "#f0f921"
            ]
           ],
           "sequentialminus": [
            [
             0,
             "#0d0887"
            ],
            [
             0.1111111111111111,
             "#46039f"
            ],
            [
             0.2222222222222222,
             "#7201a8"
            ],
            [
             0.3333333333333333,
             "#9c179e"
            ],
            [
             0.4444444444444444,
             "#bd3786"
            ],
            [
             0.5555555555555556,
             "#d8576b"
            ],
            [
             0.6666666666666666,
             "#ed7953"
            ],
            [
             0.7777777777777778,
             "#fb9f3a"
            ],
            [
             0.8888888888888888,
             "#fdca26"
            ],
            [
             1,
             "#f0f921"
            ]
           ]
          },
          "colorway": [
           "#636efa",
           "#EF553B",
           "#00cc96",
           "#ab63fa",
           "#FFA15A",
           "#19d3f3",
           "#FF6692",
           "#B6E880",
           "#FF97FF",
           "#FECB52"
          ],
          "font": {
           "color": "#2a3f5f"
          },
          "geo": {
           "bgcolor": "white",
           "lakecolor": "white",
           "landcolor": "#E5ECF6",
           "showlakes": true,
           "showland": true,
           "subunitcolor": "white"
          },
          "hoverlabel": {
           "align": "left"
          },
          "hovermode": "closest",
          "mapbox": {
           "style": "light"
          },
          "paper_bgcolor": "white",
          "plot_bgcolor": "#E5ECF6",
          "polar": {
           "angularaxis": {
            "gridcolor": "white",
            "linecolor": "white",
            "ticks": ""
           },
           "bgcolor": "#E5ECF6",
           "radialaxis": {
            "gridcolor": "white",
            "linecolor": "white",
            "ticks": ""
           }
          },
          "scene": {
           "xaxis": {
            "backgroundcolor": "#E5ECF6",
            "gridcolor": "white",
            "gridwidth": 2,
            "linecolor": "white",
            "showbackground": true,
            "ticks": "",
            "zerolinecolor": "white"
           },
           "yaxis": {
            "backgroundcolor": "#E5ECF6",
            "gridcolor": "white",
            "gridwidth": 2,
            "linecolor": "white",
            "showbackground": true,
            "ticks": "",
            "zerolinecolor": "white"
           },
           "zaxis": {
            "backgroundcolor": "#E5ECF6",
            "gridcolor": "white",
            "gridwidth": 2,
            "linecolor": "white",
            "showbackground": true,
            "ticks": "",
            "zerolinecolor": "white"
           }
          },
          "shapedefaults": {
           "line": {
            "color": "#2a3f5f"
           }
          },
          "ternary": {
           "aaxis": {
            "gridcolor": "white",
            "linecolor": "white",
            "ticks": ""
           },
           "baxis": {
            "gridcolor": "white",
            "linecolor": "white",
            "ticks": ""
           },
           "bgcolor": "#E5ECF6",
           "caxis": {
            "gridcolor": "white",
            "linecolor": "white",
            "ticks": ""
           }
          },
          "title": {
           "x": 0.05
          },
          "xaxis": {
           "automargin": true,
           "gridcolor": "white",
           "linecolor": "white",
           "ticks": "",
           "title": {
            "standoff": 15
           },
           "zerolinecolor": "white",
           "zerolinewidth": 2
          },
          "yaxis": {
           "automargin": true,
           "gridcolor": "white",
           "linecolor": "white",
           "ticks": "",
           "title": {
            "standoff": 15
           },
           "zerolinecolor": "white",
           "zerolinewidth": 2
          }
         }
        },
        "title": {
         "font": {
          "color": "white"
         },
         "text": "Temperatura diaria en Galicia"
        },
        "xaxis": {
         "anchor": "y",
         "color": "white",
         "domain": [
          0,
          1
         ],
         "title": {
          "text": "Fecha"
         }
        },
        "yaxis": {
         "anchor": "x",
         "color": "white",
         "domain": [
          0,
          1
         ],
         "gridcolor": "rgba(255, 255, 255, 0.4)",
         "title": {
          "text": "Temperatura (°C)"
         }
        }
       }
      }
     },
     "metadata": {},
     "output_type": "display_data"
    }
   ],
   "source": [
    "localizacion = \"Galicia\"\n",
    "multiple_cities = df_final['ciudad'].nunique() > 1\n",
    "\n",
    "if multiple_cities:\n",
    "    fig = px.line(df_final, x=\"fecha\", y=\"temperatura\", color=\"ciudad\",\n",
    "                    title=f\"Temperatura diaria en {localizacion}\")\n",
    "else:\n",
    "    fig = px.line(df_final, x=\"fecha\", y=\"temperatura\",\n",
    "                    title=f\"Temperatura diaria en {localizacion}\")\n",
    "\n",
    "fig.update_layout(\n",
    "    plot_bgcolor='rgba(0, 0, 0, 0)',\n",
    "    paper_bgcolor='rgba(0, 0, 0, 0)',\n",
    "    font=dict(color='white'),\n",
    "    title_font=dict(color='white'),\n",
    "    legend=dict(font=dict(color='white')),\n",
    "    xaxis=dict(title='Fecha', color='white'),\n",
    "    yaxis=dict(title='Temperatura (°C)', color='white', gridcolor='rgba(255, 255, 255, 0.4)'),\n",
    "    autosize=True,\n",
    "    margin=dict(l=20, r=20, t=40, b=40)\n",
    ")\n",
    "\n",
    "fig.show()"
   ]
  },
  {
   "cell_type": "code",
   "execution_count": 7,
   "metadata": {},
   "outputs": [
    {
     "ename": "AttributeError",
     "evalue": "'tuple' object has no attribute 'show'",
     "output_type": "error",
     "traceback": [
      "\u001b[1;31m---------------------------------------------------------------------------\u001b[0m",
      "\u001b[1;31mAttributeError\u001b[0m                            Traceback (most recent call last)",
      "Cell \u001b[1;32mIn[7], line 27\u001b[0m\n\u001b[0;32m     24\u001b[0m     \u001b[38;5;28;01mreturn\u001b[39;00m fig\n\u001b[0;32m     26\u001b[0m fig_temp \u001b[38;5;241m=\u001b[39m (df_final, localizacion)\n\u001b[1;32m---> 27\u001b[0m \u001b[43mfig_temp\u001b[49m\u001b[38;5;241;43m.\u001b[39;49m\u001b[43mshow\u001b[49m()\n",
      "\u001b[1;31mAttributeError\u001b[0m: 'tuple' object has no attribute 'show'"
     ]
    }
   ],
   "source": [
    "def plot_temp_line(df_filtrado, localizacion):\n",
    "    # Detectar si hay más de una ciudad\n",
    "    multiple_cities = df_filtrado['ciudad'].nunique() > 1\n",
    "\n",
    "    if multiple_cities:\n",
    "        fig = px.line(df_filtrado, x=\"fecha\", y=\"temperatura\", color=\"ciudad\",\n",
    "                      title=f\"Temperatura diaria en {localizacion}\")\n",
    "    else:\n",
    "        fig = px.line(df_filtrado, x=\"fecha\", y=\"temperatura\",\n",
    "                      title=f\"Temperatura diaria en {localizacion}\")\n",
    "\n",
    "    fig.update_layout(\n",
    "        plot_bgcolor='rgba(0, 0, 0, 0)',\n",
    "        paper_bgcolor='rgba(0, 0, 0, 0)',\n",
    "        font=dict(color='white'),\n",
    "        title_font=dict(color='white'),\n",
    "        legend=dict(font=dict(color='white')),\n",
    "        xaxis=dict(title='Fecha', color='white'),\n",
    "        yaxis=dict(title='Temperatura (°C)', color='white', gridcolor='rgba(255, 255, 255, 0.4)'),\n",
    "        autosize=True,\n",
    "        margin=dict(l=20, r=20, t=40, b=40)\n",
    "    )\n",
    "    \n",
    "    return fig\n",
    "\n",
    "fig_temp = (df_final, localizacion)\n",
    "fig_temp.show()"
   ]
  },
  {
   "cell_type": "code",
   "execution_count": 64,
   "metadata": {},
   "outputs": [
    {
     "data": {
      "text/plain": [
       "['Enero',\n",
       " 'Febrero',\n",
       " 'Marzo',\n",
       " 'Abril',\n",
       " 'Mayo',\n",
       " 'Junio',\n",
       " 'Julio',\n",
       " 'Agosto',\n",
       " 'Septiembre',\n",
       " 'Octubre',\n",
       " 'Noviembre',\n",
       " 'Diciembre']"
      ]
     },
     "execution_count": 64,
     "metadata": {},
     "output_type": "execute_result"
    }
   ],
   "source": [
    "MESES_ORDENADOS = {\n",
    "    1: \"Enero\", 2: \"Febrero\", 3: \"Marzo\", 4: \"Abril\",\n",
    "    5: \"Mayo\", 6: \"Junio\", 7: \"Julio\", 8: \"Agosto\",\n",
    "    9: \"Septiembre\", 10: \"Octubre\", 11: \"Noviembre\", 12: \"Diciembre\"\n",
    "}\n",
    "\n",
    "df_final[\"fecha\"] = pd.to_datetime(df_final[\"fecha\"])\n",
    "df_final[\"mes_num\"] = df_final[\"fecha\"].dt.month\n",
    "meses_disponibles = sorted(df_final[\"mes_num\"].unique())\n",
    "[MESES_ORDENADOS[m] for m in meses_disponibles]"
   ]
  },
  {
   "cell_type": "code",
   "execution_count": 76,
   "metadata": {},
   "outputs": [
    {
     "data": {
      "text/html": [
       "<div>\n",
       "<style scoped>\n",
       "    .dataframe tbody tr th:only-of-type {\n",
       "        vertical-align: middle;\n",
       "    }\n",
       "\n",
       "    .dataframe tbody tr th {\n",
       "        vertical-align: top;\n",
       "    }\n",
       "\n",
       "    .dataframe thead th {\n",
       "        text-align: right;\n",
       "    }\n",
       "</style>\n",
       "<table border=\"1\" class=\"dataframe\">\n",
       "  <thead>\n",
       "    <tr style=\"text-align: right;\">\n",
       "      <th></th>\n",
       "      <th>fecha</th>\n",
       "      <th>temperatura</th>\n",
       "      <th>precipitacion</th>\n",
       "      <th>humedad</th>\n",
       "    </tr>\n",
       "  </thead>\n",
       "  <tbody>\n",
       "    <tr>\n",
       "      <th>0</th>\n",
       "      <td>2023-01-01</td>\n",
       "      <td>13.06</td>\n",
       "      <td>54.2</td>\n",
       "      <td>90.0</td>\n",
       "    </tr>\n",
       "    <tr>\n",
       "      <th>1</th>\n",
       "      <td>2023-01-02</td>\n",
       "      <td>10.89</td>\n",
       "      <td>3.0</td>\n",
       "      <td>81.0</td>\n",
       "    </tr>\n",
       "    <tr>\n",
       "      <th>2</th>\n",
       "      <td>2023-01-03</td>\n",
       "      <td>11.28</td>\n",
       "      <td>0.0</td>\n",
       "      <td>79.0</td>\n",
       "    </tr>\n",
       "    <tr>\n",
       "      <th>3</th>\n",
       "      <td>2023-01-04</td>\n",
       "      <td>12.15</td>\n",
       "      <td>0.0</td>\n",
       "      <td>83.0</td>\n",
       "    </tr>\n",
       "    <tr>\n",
       "      <th>4</th>\n",
       "      <td>2023-01-05</td>\n",
       "      <td>11.40</td>\n",
       "      <td>0.0</td>\n",
       "      <td>84.0</td>\n",
       "    </tr>\n",
       "    <tr>\n",
       "      <th>...</th>\n",
       "      <td>...</td>\n",
       "      <td>...</td>\n",
       "      <td>...</td>\n",
       "      <td>...</td>\n",
       "    </tr>\n",
       "    <tr>\n",
       "      <th>816</th>\n",
       "      <td>2025-03-27</td>\n",
       "      <td>13.31</td>\n",
       "      <td>0.0</td>\n",
       "      <td>80.0</td>\n",
       "    </tr>\n",
       "    <tr>\n",
       "      <th>817</th>\n",
       "      <td>2025-03-28</td>\n",
       "      <td>14.30</td>\n",
       "      <td>0.0</td>\n",
       "      <td>71.0</td>\n",
       "    </tr>\n",
       "    <tr>\n",
       "      <th>818</th>\n",
       "      <td>2025-03-29</td>\n",
       "      <td>16.12</td>\n",
       "      <td>0.0</td>\n",
       "      <td>54.0</td>\n",
       "    </tr>\n",
       "    <tr>\n",
       "      <th>819</th>\n",
       "      <td>2025-03-30</td>\n",
       "      <td>16.74</td>\n",
       "      <td>0.0</td>\n",
       "      <td>56.0</td>\n",
       "    </tr>\n",
       "    <tr>\n",
       "      <th>820</th>\n",
       "      <td>2025-03-31</td>\n",
       "      <td>18.70</td>\n",
       "      <td>0.0</td>\n",
       "      <td>56.0</td>\n",
       "    </tr>\n",
       "  </tbody>\n",
       "</table>\n",
       "<p>821 rows × 4 columns</p>\n",
       "</div>"
      ],
      "text/plain": [
       "          fecha  temperatura  precipitacion  humedad\n",
       "0    2023-01-01        13.06           54.2     90.0\n",
       "1    2023-01-02        10.89            3.0     81.0\n",
       "2    2023-01-03        11.28            0.0     79.0\n",
       "3    2023-01-04        12.15            0.0     83.0\n",
       "4    2023-01-05        11.40            0.0     84.0\n",
       "..          ...          ...            ...      ...\n",
       "816  2025-03-27        13.31            0.0     80.0\n",
       "817  2025-03-28        14.30            0.0     71.0\n",
       "818  2025-03-29        16.12            0.0     54.0\n",
       "819  2025-03-30        16.74            0.0     56.0\n",
       "820  2025-03-31        18.70            0.0     56.0\n",
       "\n",
       "[821 rows x 4 columns]"
      ]
     },
     "execution_count": 76,
     "metadata": {},
     "output_type": "execute_result"
    }
   ],
   "source": [
    "df_grouped = df.groupby('fecha').agg({\n",
    "    'temperatura': 'mean',\n",
    "    'precipitacion': 'sum',\n",
    "    'humedad': 'mean'\n",
    "}).reset_index()\n",
    "df_grouped"
   ]
  },
  {
   "cell_type": "code",
   "execution_count": 78,
   "metadata": {},
   "outputs": [],
   "source": [
    "df_grouped['llovio'] = df_grouped['precipitacion'] > 0\n",
    "conteo_con = df_grouped[\"llovio\"].sum()\n",
    "conteo_sin = len(df_grouped) - conteo_con\n",
    "conteo = [conteo_con, conteo_sin]\n",
    "conteo = [conteo_con, conteo_sin]\n",
    "etiquetas = ['Días con lluvia 🌧️', 'Días sin lluvia ☀️']\n",
    "\n",
    "df_conteo = pd.DataFrame({\n",
    "    'Día': etiquetas,\n",
    "    'Cantidad': conteo\n",
    "})\n"
   ]
  },
  {
   "cell_type": "code",
   "execution_count": 53,
   "metadata": {},
   "outputs": [
    {
     "data": {
      "text/plain": [
       "[1, 2, 3, 4, 5, 6, 7, 8, 9, 10, 11, 12]"
      ]
     },
     "execution_count": 53,
     "metadata": {},
     "output_type": "execute_result"
    }
   ],
   "source": [
    "[int(i) for i in meses_disponibles]"
   ]
  },
  {
   "cell_type": "code",
   "execution_count": 50,
   "metadata": {},
   "outputs": [
    {
     "data": {
      "text/plain": [
       "[np.int32(2025), np.int32(2024), np.int32(2023)]"
      ]
     },
     "execution_count": 50,
     "metadata": {},
     "output_type": "execute_result"
    }
   ],
   "source": [
    "df_final[\"year\"] = df_final[\"fecha\"].dt.year\n",
    "años = sorted(df_final[\"year\"].unique(), reverse=True)\n",
    "años"
   ]
  },
  {
   "cell_type": "code",
   "execution_count": 33,
   "metadata": {},
   "outputs": [
    {
     "data": {
      "text/plain": [
       "np.float64(322.3)"
      ]
     },
     "execution_count": 33,
     "metadata": {},
     "output_type": "execute_result"
    }
   ],
   "source": [
    "df_final[['precipitacion', 'humedad', 'temperatura', 'fecha']].groupby('fecha')['precipitacion'].sum().max()"
   ]
  },
  {
   "cell_type": "code",
   "execution_count": 39,
   "metadata": {},
   "outputs": [
    {
     "data": {
      "text/plain": [
       "np.float64(322.3)"
      ]
     },
     "execution_count": 39,
     "metadata": {},
     "output_type": "execute_result"
    }
   ],
   "source": [
    "df_final[['precipitacion', 'humedad', 'temperatura', 'fecha']].groupby('fecha')['precipitacion'].sum().max()"
   ]
  },
  {
   "cell_type": "code",
   "execution_count": 23,
   "metadata": {},
   "outputs": [
    {
     "data": {
      "text/plain": [
       "np.float64(0.0)"
      ]
     },
     "execution_count": 23,
     "metadata": {},
     "output_type": "execute_result"
    }
   ],
   "source": [
    "df_final['precipitacion'].min()"
   ]
  },
  {
   "cell_type": "code",
   "execution_count": 38,
   "metadata": {},
   "outputs": [
    {
     "data": {
      "text/html": [
       "<div>\n",
       "<style scoped>\n",
       "    .dataframe tbody tr th:only-of-type {\n",
       "        vertical-align: middle;\n",
       "    }\n",
       "\n",
       "    .dataframe tbody tr th {\n",
       "        vertical-align: top;\n",
       "    }\n",
       "\n",
       "    .dataframe thead th {\n",
       "        text-align: right;\n",
       "    }\n",
       "</style>\n",
       "<table border=\"1\" class=\"dataframe\">\n",
       "  <thead>\n",
       "    <tr style=\"text-align: right;\">\n",
       "      <th></th>\n",
       "      <th>Tipo de día</th>\n",
       "      <th>Cantidad</th>\n",
       "    </tr>\n",
       "  </thead>\n",
       "  <tbody>\n",
       "    <tr>\n",
       "      <th>0</th>\n",
       "      <td>Días sin lluvia ☀️</td>\n",
       "      <td>2867</td>\n",
       "    </tr>\n",
       "    <tr>\n",
       "      <th>1</th>\n",
       "      <td>Días con lluvia 🌧️</td>\n",
       "      <td>2059</td>\n",
       "    </tr>\n",
       "  </tbody>\n",
       "</table>\n",
       "</div>"
      ],
      "text/plain": [
       "          Tipo de día  Cantidad\n",
       "0  Días sin lluvia ☀️      2867\n",
       "1  Días con lluvia 🌧️      2059"
      ]
     },
     "execution_count": 38,
     "metadata": {},
     "output_type": "execute_result"
    }
   ],
   "source": [
    "df_final[\"llovio\"] = df_final[\"precipitacion\"] > 0\n",
    "conteo = df_final[\"llovio\"].value_counts().rename({True: \"Días con lluvia 🌧️\", False: \"Días sin lluvia ☀️\"}).reset_index()\n",
    "conteo.columns = [\"Tipo de día\", \"Cantidad\"]\n",
    "conteo"
   ]
  },
  {
   "cell_type": "code",
   "execution_count": 41,
   "metadata": {},
   "outputs": [
    {
     "name": "stdout",
     "output_type": "stream",
     "text": [
      "Días sin lluvia ☀️\n"
     ]
    },
    {
     "name": "stderr",
     "output_type": "stream",
     "text": [
      "C:\\Users\\alfre\\AppData\\Local\\Temp\\ipykernel_2156\\346982798.py:1: FutureWarning: Series.__getitem__ treating keys as positions is deprecated. In a future version, integer keys will always be treated as labels (consistent with DataFrame behavior). To access a value by position, use `ser.iloc[pos]`\n",
      "  print(conteo.iloc[0][0])\n"
     ]
    }
   ],
   "source": [
    "print(conteo.iloc[0][0])"
   ]
  },
  {
   "cell_type": "code",
   "execution_count": 42,
   "metadata": {},
   "outputs": [
    {
     "name": "stderr",
     "output_type": "stream",
     "text": [
      "C:\\Users\\alfre\\AppData\\Local\\Temp\\ipykernel_2156\\26337446.py:1: FutureWarning: Series.__getitem__ treating keys as positions is deprecated. In a future version, integer keys will always be treated as labels (consistent with DataFrame behavior). To access a value by position, use `ser.iloc[pos]`\n",
      "  conteo.iloc[0][0] == 'Días sin lluvia ☀️'\n"
     ]
    },
    {
     "data": {
      "text/plain": [
       "True"
      ]
     },
     "execution_count": 42,
     "metadata": {},
     "output_type": "execute_result"
    }
   ],
   "source": [
    "conteo.iloc[0][0] == 'Días sin lluvia ☀️'"
   ]
  },
  {
   "cell_type": "code",
   "execution_count": 3,
   "metadata": {},
   "outputs": [
    {
     "data": {
      "text/plain": [
       "'coruna'"
      ]
     },
     "execution_count": 3,
     "metadata": {},
     "output_type": "execute_result"
    }
   ],
   "source": [
    "'Coruna'.lower().replace('ñ', 'n')"
   ]
  },
  {
   "cell_type": "code",
   "execution_count": 12,
   "metadata": {},
   "outputs": [
    {
     "name": "stdout",
     "output_type": "stream",
     "text": [
      "c:\\projects\\galizia_weather\n",
      "[\n",
      "    [\n",
      "        \"Santiago de Compostela\",\n",
      "        \"71938\",\n",
      "        [\n",
      "            -8.5434,\n",
      "            42.88187\n",
      "        ]\n",
      "    ],\n",
      "    [\n",
      "        \"Coruna\",\n",
      "        \"71933\",\n",
      "        [\n",
      "            -8.3949,\n",
      "            43.34986\n",
      "        ]\n",
      "    ],\n",
      "    [\n",
      "        \"Lugo\",\n",
      "        \"71940\",\n",
      "        [\n",
      "            -7.5562,\n",
      "            43.01375\n",
      "        ]\n",
      "    ],\n",
      "    [\n",
      "        \"Pontevedra\",\n",
      "        \"71954\",\n",
      "        [\n",
      "            -8.62686,\n",
      "            42.42331\n",
      "        ]\n",
      "    ],\n",
      "    [\n",
      "        \"Ourense\",\n",
      "        \"71953\",\n",
      "        [\n",
      "            -7.86336,\n",
      "            42.33942\n",
      "        ]\n",
      "    ],\n",
      "    [\n",
      "        \"Vigo\",\n",
      "        \"71956\",\n",
      "        [\n",
      "            -8.74281,\n",
      "            42.21245\n",
      "        ]\n",
      "    ]\n",
      "]\n"
     ]
    }
   ],
   "source": [
    "current_directory = os.getcwd()\n",
    "folder = current_directory.split(\"\\\\\")[-1]\n",
    "if folder != 'galizia_weather':\n",
    "    os.chdir('..')\n",
    "    print(os.getcwd()) \n",
    "else:\n",
    "    print(os.getcwd())\n",
    "\n",
    "path = 'data/raw/city_coordinates.json'\n",
    "\n",
    "with open(path, \"r\") as f:\n",
    "    data = json.load(f)\n",
    "\n",
    "# Mostrar el contenido del JSON\n",
    "print(json.dumps(data, indent=4)) "
   ]
  },
  {
   "cell_type": "code",
   "execution_count": 14,
   "metadata": {},
   "outputs": [
    {
     "ename": "TypeError",
     "evalue": "list indices must be integers or slices, not str",
     "output_type": "error",
     "traceback": [
      "\u001b[1;31m---------------------------------------------------------------------------\u001b[0m",
      "\u001b[1;31mTypeError\u001b[0m                                 Traceback (most recent call last)",
      "Cell \u001b[1;32mIn[14], line 1\u001b[0m\n\u001b[1;32m----> 1\u001b[0m \u001b[43mdata\u001b[49m\u001b[43m[\u001b[49m\u001b[38;5;124;43m'\u001b[39;49m\u001b[38;5;124;43mSantiago de Compostela\u001b[39;49m\u001b[38;5;124;43m'\u001b[39;49m\u001b[43m]\u001b[49m\n",
      "\u001b[1;31mTypeError\u001b[0m: list indices must be integers or slices, not str"
     ]
    }
   ],
   "source": [
    "data['Santiago de Compostela']"
   ]
  },
  {
   "cell_type": "code",
   "execution_count": 24,
   "metadata": {},
   "outputs": [
    {
     "name": "stdout",
     "output_type": "stream",
     "text": [
      "dict_keys(['clave'])\n"
     ]
    }
   ],
   "source": [
    "dict_ = {'clave': 'valor'}\n",
    "\n",
    "print(dict_.keys())"
   ]
  }
 ],
 "metadata": {
  "kernelspec": {
   "display_name": "Python 3",
   "language": "python",
   "name": "python3"
  },
  "language_info": {
   "codemirror_mode": {
    "name": "ipython",
    "version": 3
   },
   "file_extension": ".py",
   "mimetype": "text/x-python",
   "name": "python",
   "nbconvert_exporter": "python",
   "pygments_lexer": "ipython3",
   "version": "3.11.9"
  }
 },
 "nbformat": 4,
 "nbformat_minor": 2
}
