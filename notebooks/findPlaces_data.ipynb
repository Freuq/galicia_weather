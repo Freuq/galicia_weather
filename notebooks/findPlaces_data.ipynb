{
 "cells": [
  {
   "cell_type": "code",
   "execution_count": 4,
   "id": "ea300db6",
   "metadata": {},
   "outputs": [],
   "source": [
    "import os\n",
    "import json"
   ]
  },
  {
   "cell_type": "code",
   "execution_count": 10,
   "id": "fee72921",
   "metadata": {},
   "outputs": [
    {
     "name": "stdout",
     "output_type": "stream",
     "text": [
      "c:\\projects\\galizia_weather\n"
     ]
    }
   ],
   "source": [
    "# project directory\n",
    "current_directory = os.getcwd()\n",
    "folder = current_directory.split(\"\\\\\")[-1]\n",
    "if folder != 'galizia_weather':\n",
    "    os.chdir('..')\n",
    "    print(os.getcwd()) \n",
    "else:\n",
    "    print(os.getcwd())"
   ]
  },
  {
   "cell_type": "code",
   "execution_count": 11,
   "id": "71098573",
   "metadata": {},
   "outputs": [],
   "source": [
    "path = 'data/raw/findPlace/findPlace.json'"
   ]
  },
  {
   "cell_type": "code",
   "execution_count": 12,
   "id": "0ca85df7",
   "metadata": {},
   "outputs": [
    {
     "name": "stdout",
     "output_type": "stream",
     "text": [
      "{\n",
      "    \"type\": \"FeatureCollection\",\n",
      "    \"crs\": {\n",
      "        \"type\": \"name\",\n",
      "        \"properties\": {\n",
      "            \"name\": \"urn:ogc:def:crs:OGC:1.3:CRS84\"\n",
      "        }\n",
      "    },\n",
      "    \"features\": [\n",
      "        {\n",
      "            \"type\": \"Feature\",\n",
      "            \"geometry\": {\n",
      "                \"type\": \"Point\",\n",
      "                \"coordinates\": [\n",
      "                    -8.18142,\n",
      "                    43.46164\n",
      "                ]\n",
      "            },\n",
      "            \"properties\": {\n",
      "                \"id\": \"45781\",\n",
      "                \"name\": \"Santiago\",\n",
      "                \"municipality\": \"FENE\",\n",
      "                \"province\": \"A Coru\\u00f1a\",\n",
      "                \"type\": \"locality\"\n",
      "            }\n",
      "        },\n",
      "        {\n",
      "            \"type\": \"Feature\",\n",
      "            \"geometry\": {\n",
      "                \"type\": \"Point\",\n",
      "                \"coordinates\": [\n",
      "                    -8.21906,\n",
      "                    43.121\n",
      "                ]\n",
      "            },\n",
      "            \"properties\": {\n",
      "                \"id\": \"46994\",\n",
      "                \"name\": \"Santiago\",\n",
      "                \"municipality\": \"MES\\u00cdA\",\n",
      "                \"province\": \"A Coru\\u00f1a\",\n",
      "                \"type\": \"locality\"\n",
      "            }\n",
      "        },\n",
      "        {\n",
      "            \"type\": \"Feature\",\n",
      "            \"geometry\": {\n",
      "                \"type\": \"Point\",\n",
      "                \"coordinates\": [\n",
      "                    -7.84124,\n",
      "                    43.66605\n",
      "                ]\n",
      "            },\n",
      "            \"properties\": {\n",
      "                \"id\": \"48529\",\n",
      "                \"name\": \"Santiago\",\n",
      "                \"municipality\": \"ORTIGUEIRA\",\n",
      "                \"province\": \"A Coru\\u00f1a\",\n",
      "                \"type\": \"locality\"\n",
      "            }\n",
      "        },\n",
      "        {\n",
      "            \"type\": \"Feature\",\n",
      "            \"geometry\": {\n",
      "                \"type\": \"Point\",\n",
      "                \"coordinates\": [\n",
      "                    -7.16979,\n",
      "                    43.54422\n",
      "                ]\n",
      "            },\n",
      "            \"properties\": {\n",
      "                \"id\": \"53216\",\n",
      "                \"name\": \"Santiago de Reinante\",\n",
      "                \"municipality\": \"BARREIROS\",\n",
      "                \"province\": \"Lugo\",\n",
      "                \"type\": \"locality\"\n",
      "            }\n",
      "        },\n",
      "        {\n",
      "            \"type\": \"Feature\",\n",
      "            \"geometry\": {\n",
      "                \"type\": \"Point\",\n",
      "                \"coordinates\": [\n",
      "                    -7.59099,\n",
      "                    42.97599\n",
      "                ]\n",
      "            },\n",
      "            \"properties\": {\n",
      "                \"id\": \"56808\",\n",
      "                \"name\": \"Estrada Santiago\",\n",
      "                \"municipality\": \"LUGO\",\n",
      "                \"province\": \"Lugo\",\n",
      "                \"type\": \"locality\"\n",
      "            }\n",
      "        },\n",
      "        {\n",
      "            \"type\": \"Feature\",\n",
      "            \"geometry\": {\n",
      "                \"type\": \"Point\",\n",
      "                \"coordinates\": [\n",
      "                    -7.18856,\n",
      "                    43.24908\n",
      "                ]\n",
      "            },\n",
      "            \"properties\": {\n",
      "                \"id\": \"59871\",\n",
      "                \"name\": \"Santiago\",\n",
      "                \"municipality\": \"RIBEIRA DE PIQU\\u00edN\",\n",
      "                \"province\": \"Lugo\",\n",
      "                \"type\": \"locality\"\n",
      "            }\n",
      "        },\n",
      "        {\n",
      "            \"type\": \"Feature\",\n",
      "            \"geometry\": {\n",
      "                \"type\": \"Point\",\n",
      "                \"coordinates\": [\n",
      "                    -7.27605,\n",
      "                    43.37741\n",
      "                ]\n",
      "            },\n",
      "            \"properties\": {\n",
      "                \"id\": \"59944\",\n",
      "                \"name\": \"O Vilar de Santiago\",\n",
      "                \"municipality\": \"RIOTORTO\",\n",
      "                \"province\": \"Lugo\",\n",
      "                \"type\": \"locality\"\n",
      "            }\n",
      "        },\n",
      "        {\n",
      "            \"type\": \"Feature\",\n",
      "            \"geometry\": {\n",
      "                \"type\": \"Point\",\n",
      "                \"coordinates\": [\n",
      "                    -7.74263,\n",
      "                    43.37108\n",
      "                ]\n",
      "            },\n",
      "            \"properties\": {\n",
      "                \"id\": \"61842\",\n",
      "                \"name\": \"Santiago\",\n",
      "                \"municipality\": \"VILALBA\",\n",
      "                \"province\": \"Lugo\",\n",
      "                \"type\": \"locality\"\n",
      "            }\n",
      "        },\n",
      "        {\n",
      "            \"type\": \"Feature\",\n",
      "            \"geometry\": {\n",
      "                \"type\": \"Point\",\n",
      "                \"coordinates\": [\n",
      "                    -7.81639,\n",
      "                    41.90839\n",
      "                ]\n",
      "            },\n",
      "            \"properties\": {\n",
      "                \"id\": \"62807\",\n",
      "                \"name\": \"Santiago\",\n",
      "                \"municipality\": \"CALVOS DE RAND\\u00cdN\",\n",
      "                \"province\": \"Ourense\",\n",
      "                \"type\": \"locality\"\n",
      "            }\n",
      "        },\n",
      "        {\n",
      "            \"type\": \"Feature\",\n",
      "            \"geometry\": {\n",
      "                \"type\": \"Point\",\n",
      "                \"coordinates\": [\n",
      "                    -7.46438,\n",
      "                    42.32632\n",
      "                ]\n",
      "            },\n",
      "            \"properties\": {\n",
      "                \"id\": \"64214\",\n",
      "                \"name\": \"Santiago da Medorra\",\n",
      "                \"municipality\": \"MONTEDERRAMO\",\n",
      "                \"province\": \"Ourense\",\n",
      "                \"type\": \"locality\"\n",
      "            }\n",
      "        },\n",
      "        {\n",
      "            \"type\": \"Feature\",\n",
      "            \"geometry\": {\n",
      "                \"type\": \"Point\",\n",
      "                \"coordinates\": [\n",
      "                    -8.69137,\n",
      "                    42.58814\n",
      "                ]\n",
      "            },\n",
      "            \"properties\": {\n",
      "                \"id\": \"66196\",\n",
      "                \"name\": \"O Cruceiro de Santiago\",\n",
      "                \"municipality\": \"CALDAS DE REIS\",\n",
      "                \"province\": \"Pontevedra\",\n",
      "                \"type\": \"locality\"\n",
      "            }\n",
      "        },\n",
      "        {\n",
      "            \"type\": \"Feature\",\n",
      "            \"geometry\": {\n",
      "                \"type\": \"Point\",\n",
      "                \"coordinates\": [\n",
      "                    -8.3614,\n",
      "                    42.23369\n",
      "                ]\n",
      "            },\n",
      "            \"properties\": {\n",
      "                \"id\": \"66865\",\n",
      "                \"name\": \"Santiago de Covelo\",\n",
      "                \"municipality\": \"COVELO\",\n",
      "                \"province\": \"Pontevedra\",\n",
      "                \"type\": \"locality\"\n",
      "            }\n",
      "        },\n",
      "        {\n",
      "            \"type\": \"Feature\",\n",
      "            \"geometry\": {\n",
      "                \"type\": \"Point\",\n",
      "                \"coordinates\": [\n",
      "                    -8.5434,\n",
      "                    42.88187\n",
      "                ]\n",
      "            },\n",
      "            \"properties\": {\n",
      "                \"id\": \"71938\",\n",
      "                \"name\": \"Santiago de Compostela\",\n",
      "                \"municipality\": \"SANTIAGO DE COMPOSTELA\",\n",
      "                \"province\": \"A Coru\\u00f1a\",\n",
      "                \"type\": \"locality\"\n",
      "            }\n",
      "        },\n",
      "        {\n",
      "            \"type\": \"Feature\",\n",
      "            \"geometry\": {\n",
      "                \"type\": \"Point\",\n",
      "                \"coordinates\": [\n",
      "                    -7.61651,\n",
      "                    43.6697\n",
      "                ]\n",
      "            },\n",
      "            \"properties\": {\n",
      "                \"id\": \"71950\",\n",
      "                \"name\": \"Viveiro (Santa Mar\\u00eda e Santiago)\",\n",
      "                \"municipality\": \"VIVEIRO\",\n",
      "                \"province\": \"Lugo\",\n",
      "                \"type\": \"locality\"\n",
      "            }\n",
      "        }\n",
      "    ]\n",
      "}\n"
     ]
    }
   ],
   "source": [
    "with open(path, \"r\") as f:\n",
    "    data = json.load(f)\n",
    "\n",
    "# Mostrar el contenido del JSON\n",
    "print(json.dumps(data, indent=4)) "
   ]
  },
  {
   "cell_type": "code",
   "execution_count": 28,
   "id": "2e450473",
   "metadata": {},
   "outputs": [
    {
     "data": {
      "text/plain": [
       "[-8.18142, 43.46164]"
      ]
     },
     "execution_count": 28,
     "metadata": {},
     "output_type": "execute_result"
    }
   ],
   "source": [
    "data['features'][0]['geometry']['coordinates']"
   ]
  },
  {
   "cell_type": "code",
   "execution_count": 25,
   "id": "3b03298b",
   "metadata": {},
   "outputs": [
    {
     "data": {
      "text/plain": [
       "{'id': '45781',\n",
       " 'name': 'Santiago',\n",
       " 'municipality': 'FENE',\n",
       " 'province': 'A Coruña',\n",
       " 'type': 'locality'}"
      ]
     },
     "execution_count": 25,
     "metadata": {},
     "output_type": "execute_result"
    }
   ],
   "source": [
    "data['features'][0]['properties']"
   ]
  },
  {
   "cell_type": "code",
   "execution_count": 20,
   "id": "76f895d3",
   "metadata": {},
   "outputs": [
    {
     "name": "stdout",
     "output_type": "stream",
     "text": [
      "Santiago 0\n",
      "Santiago 1\n",
      "Santiago 2\n",
      "Santiago de Reinante 3\n",
      "Estrada Santiago 4\n",
      "Santiago 5\n",
      "O Vilar de Santiago 6\n",
      "Santiago 7\n",
      "Santiago 8\n",
      "Santiago da Medorra 9\n",
      "O Cruceiro de Santiago 10\n",
      "Santiago de Covelo 11\n",
      "Santiago de Compostela 12\n",
      "Viveiro (Santa María e Santiago) 13\n"
     ]
    }
   ],
   "source": [
    "for i in range(len(data['features'])):\n",
    "    print(data['features'][i]['properties']['name'], i)\n",
    "    "
   ]
  },
  {
   "cell_type": "code",
   "execution_count": 35,
   "id": "6a2ae8f3",
   "metadata": {},
   "outputs": [
    {
     "data": {
      "text/plain": [
       "True"
      ]
     },
     "execution_count": 35,
     "metadata": {},
     "output_type": "execute_result"
    }
   ],
   "source": [
    "data['features'][12]['properties']['name'].lower() == 'santiago de compostela'"
   ]
  },
  {
   "cell_type": "code",
   "execution_count": 38,
   "id": "ab226e36",
   "metadata": {},
   "outputs": [
    {
     "name": "stdout",
     "output_type": "stream",
     "text": [
      "Santiago de Compostela [-8.5434, 42.88187]\n"
     ]
    }
   ],
   "source": [
    "for i in range(len(data['features'])):\n",
    "    if  data['features'][i]['properties']['name'].lower() == 'santiago de compostela':\n",
    "        coors = data['features'][i]['geometry']['coordinates']\n",
    "        city = data['features'][i]['properties']['name']\n",
    "print(city, coors)"
   ]
  },
  {
   "cell_type": "code",
   "execution_count": 7,
   "id": "27e4c61e",
   "metadata": {},
   "outputs": [
    {
     "name": "stdout",
     "output_type": "stream",
     "text": [
      "c:\\projects\\galizia_weather\n"
     ]
    },
    {
     "data": {
      "text/plain": [
       "[-8.5434, 42.88187]"
      ]
     },
     "execution_count": 7,
     "metadata": {},
     "output_type": "execute_result"
    }
   ],
   "source": [
    "current_directory = os.getcwd()\n",
    "folder = current_directory.split(\"\\\\\")[-1]\n",
    "if folder != 'galizia_weather':\n",
    "    os.chdir('..')\n",
    "    print(os.getcwd()) \n",
    "else:\n",
    "    print(os.getcwd())\n",
    "\n",
    "path = f'data/processed/place_coords.json'\n",
    "\n",
    "with open(path, \"r\") as f:\n",
    "    data = json.load(f)\n",
    "data['santiago']['coors']"
   ]
  },
  {
   "cell_type": "code",
   "execution_count": 9,
   "id": "c4b3b65a",
   "metadata": {},
   "outputs": [],
   "source": [
    "location = 'galicia'\n",
    "zoom = 10 if location == 'galicia' else 13"
   ]
  },
  {
   "cell_type": "code",
   "execution_count": 10,
   "id": "8a76b12b",
   "metadata": {},
   "outputs": [
    {
     "ename": "NameError",
     "evalue": "name '__file__' is not defined",
     "output_type": "error",
     "traceback": [
      "\u001b[1;31m---------------------------------------------------------------------------\u001b[0m",
      "\u001b[1;31mNameError\u001b[0m                                 Traceback (most recent call last)",
      "Cell \u001b[1;32mIn[10], line 1\u001b[0m\n\u001b[1;32m----> 1\u001b[0m base_path \u001b[38;5;241m=\u001b[39m os\u001b[38;5;241m.\u001b[39mpath\u001b[38;5;241m.\u001b[39mdirname(os\u001b[38;5;241m.\u001b[39mpath\u001b[38;5;241m.\u001b[39mabspath(\u001b[38;5;18;43m__file__\u001b[39;49m))  \u001b[38;5;66;03m# directorio del script actual\u001b[39;00m\n\u001b[0;32m      2\u001b[0m project_root \u001b[38;5;241m=\u001b[39m os\u001b[38;5;241m.\u001b[39mpath\u001b[38;5;241m.\u001b[39mabspath(os\u001b[38;5;241m.\u001b[39mpath\u001b[38;5;241m.\u001b[39mjoin(base_path, \u001b[38;5;124m'\u001b[39m\u001b[38;5;124m..\u001b[39m\u001b[38;5;124m'\u001b[39m, \u001b[38;5;124m'\u001b[39m\u001b[38;5;124m..\u001b[39m\u001b[38;5;124m'\u001b[39m))  \u001b[38;5;66;03m# sube hasta 'galizia_weather'\u001b[39;00m\n\u001b[0;32m      3\u001b[0m path \u001b[38;5;241m=\u001b[39m os\u001b[38;5;241m.\u001b[39mpath\u001b[38;5;241m.\u001b[39mjoin(project_root, \u001b[38;5;124m'\u001b[39m\u001b[38;5;124mdata\u001b[39m\u001b[38;5;124m'\u001b[39m, \u001b[38;5;124m'\u001b[39m\u001b[38;5;124mprocessed\u001b[39m\u001b[38;5;124m'\u001b[39m)\n",
      "\u001b[1;31mNameError\u001b[0m: name '__file__' is not defined"
     ]
    }
   ],
   "source": [
    "base_path = os.path.dirname(os.path.abspath(__file__))  # directorio del script actual\n",
    "project_root = os.path.abspath(os.path.join(base_path, '..', '..'))  # sube hasta 'galizia_weather'\n",
    "path = os.path.join(project_root, 'data', 'processed')"
   ]
  }
 ],
 "metadata": {
  "kernelspec": {
   "display_name": "Python 3",
   "language": "python",
   "name": "python3"
  },
  "language_info": {
   "codemirror_mode": {
    "name": "ipython",
    "version": 3
   },
   "file_extension": ".py",
   "mimetype": "text/x-python",
   "name": "python",
   "nbconvert_exporter": "python",
   "pygments_lexer": "ipython3",
   "version": "3.11.9"
  }
 },
 "nbformat": 4,
 "nbformat_minor": 5
}
