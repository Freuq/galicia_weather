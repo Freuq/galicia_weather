{
 "cells": [
  {
   "cell_type": "markdown",
   "id": "798e027e",
   "metadata": {},
   "source": [
    "# climate analysis in Galicia, Spain"
   ]
  },
  {
   "cell_type": "markdown",
   "id": "434e1a9d",
   "metadata": {},
   "source": [
    "## Motivation\n",
    "I lived in Galicia for a little over two years, and I was always told that it rained a lot in this area, and even more in the past, that \"the cold in Galicia is different, it gets into your bones.\"  \n",
    "This always sparked my curiosity, asking myself: How many days does it rain a year? How cold is it? Is this \"chill in your bones\" due to humidity? Which city is the coldest of all? And many other questions I didn't know how to answer.  \n",
    "So I decided to do this project. Its purpose is to answer several of these questions that sparked my curiosity.  "
   ]
  },
  {
   "cell_type": "markdown",
   "id": "69e93ed7",
   "metadata": {},
   "source": [
    "## Project \n",
    "This project contains data from the largest cities in Galicia (Coruña, Lugo, Ourense, Vigo, Pontevedra, and Santiago de Compostela), where I will conduct data analysis from January 1, 2023, to March 1, 2025. To answer some of the aforementioned questions, I will conduct other types of studies, comparisons, and predictions."
   ]
  },
  {
   "cell_type": "code",
   "execution_count": null,
   "id": "ac82ae77",
   "metadata": {
    "vscode": {
     "languageId": "plaintext"
    }
   },
   "outputs": [],
   "source": []
  },
  {
   "cell_type": "code",
   "execution_count": null,
   "id": "1adcaddc",
   "metadata": {
    "vscode": {
     "languageId": "plaintext"
    }
   },
   "outputs": [],
   "source": [
    "## Motivation"
   ]
  }
 ],
 "metadata": {
  "language_info": {
   "name": "python"
  }
 },
 "nbformat": 4,
 "nbformat_minor": 5
}
