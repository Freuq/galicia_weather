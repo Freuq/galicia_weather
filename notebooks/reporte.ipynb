{
 "cells": [
  {
   "cell_type": "markdown",
   "id": "798e027e",
   "metadata": {},
   "source": [
    "# climate analysis in Galicia, Spain  \n",
    "### NOTE: I did not add screenshots or code about data preparation or processing to avoid making this notebook too long. If you want to see this part better, go to the GitHub repository."
   ]
  },
  {
   "cell_type": "markdown",
   "id": "2bc7b10a",
   "metadata": {},
   "source": [
    "Introducción\n",
    "\n",
    "Obtención de datos\n",
    "\n",
    "Limpieza y transformación\n",
    "\n",
    "Análisis exploratorio\n",
    "\n",
    "Modelado (si aplica)\n",
    "\n",
    "Conclusiones\n",
    "\n",
    "Ideas futuras"
   ]
  },
  {
   "cell_type": "markdown",
   "id": "434e1a9d",
   "metadata": {},
   "source": [
    "## Motivation\n",
    "I lived in Galicia for a little over two years, and I was always told that it rained a lot in this area, and even more in the past, that \"the cold in Galicia is different, it gets into your bones.\"  \n",
    "This always sparked my curiosity, asking myself: How many days does it rain a year? How cold is it? Is this \"chill in your bones\" due to humidity? Which city is the coldest of all? And many other questions I didn't know how to answer.  \n",
    "So I decided to do this project. Its purpose is to answer several of these questions that sparked my curiosity.  "
   ]
  },
  {
   "cell_type": "markdown",
   "id": "69e93ed7",
   "metadata": {},
   "source": [
    "## ASK \n",
    "This project contains data from the largest cities in Galicia (Coruña, Lugo, Ourense, Vigo, Pontevedra, and Santiago de Compostela), where I will conduct data analysis from January 1, 2023, to March 1, 2025. To answer some of the aforementioned questions, I will conduct other types of studies, comparisons, and predictions."
   ]
  },
  {
   "cell_type": "markdown",
   "id": "f9f4d8fc",
   "metadata": {},
   "source": [
    "### Questions  \n",
    "- Which city has the most stable climate (least variability in temperature)?\n",
    "- How are cities organized by temperature?\n",
    "- How are cities organized by precipitation?\n",
    "- How are cities organized by humidity?\n",
    "- Which is the most extreme city (maximum and minimum temperatures furthest from the Galician average)?\n",
    "- What climate trends are observed between 2023 and 2024?\n",
    "- What relationships exist between temperature, humidity, and precipitation?\n",
    "- What is the percentage of rainfall in Galicia? (days per year)"
   ]
  },
  {
   "cell_type": "markdown",
   "id": "8a936af8",
   "metadata": {},
   "source": [
    "## Prepare  \n",
    "### Data\n",
    "All data was obtained from MeteoGalicia and its MeteoSIX API.\n",
    "They cover the period from January 1, 2023, to March 31, 2025. Three variables of interest are included: Precipitation, Temperature, and Humidity.\n",
    "\n",
    "### Tools\n",
    "The project is largely written in Python.\n",
    "The libraries used are: Pandas, OS, Streamlit, Plotly, Seaborn, Folium, among others.\n"
   ]
  },
  {
   "cell_type": "markdown",
   "id": "11b514ab",
   "metadata": {},
   "source": [
    "### Data type\n",
    "The data obtained by MeteoGalicia is provided in CSV format. They have a simple graphical interface for obtaining this data from their website. You can obtain data for up to 10 years, but only for one point at a time. Forecast data, on the other hand, is obtained from the MeteoSIX API in JSON (see the streamlit).  \n",
    "### They are organized  \n",
    "We have 6 tables (one for each city) with a total of 4 columns (date, humidity, precipitation, and temperature) and 821 rows (one row is equivalent to one day). This represents a total of almost 5,000 data points.\n",
    "Meanwhile, for the forecast, there are 6 time tables (one for each city) and 5 columns (here, sky_state is added to the columns). This represents a total of 144 data points, considering all the tables.\n"
   ]
  },
  {
   "cell_type": "markdown",
   "id": "d81f2e60",
   "metadata": {},
   "source": [
    "## Process\n"
   ]
  },
  {
   "cell_type": "code",
   "execution_count": null,
   "id": "ac82ae77",
   "metadata": {},
   "outputs": [],
   "source": []
  },
  {
   "cell_type": "code",
   "execution_count": 2,
   "id": "1adcaddc",
   "metadata": {},
   "outputs": [],
   "source": [
    "## Motivation"
   ]
  }
 ],
 "metadata": {
  "kernelspec": {
   "display_name": "Python 3",
   "language": "python",
   "name": "python3"
  },
  "language_info": {
   "codemirror_mode": {
    "name": "ipython",
    "version": 3
   },
   "file_extension": ".py",
   "mimetype": "text/x-python",
   "name": "python",
   "nbconvert_exporter": "python",
   "pygments_lexer": "ipython3",
   "version": "3.11.9"
  }
 },
 "nbformat": 4,
 "nbformat_minor": 5
}
