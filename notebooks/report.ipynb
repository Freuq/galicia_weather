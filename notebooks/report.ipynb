{
 "cells": [
  {
   "cell_type": "markdown",
   "id": "798e027e",
   "metadata": {},
   "source": [
    "# Morriña en Galicia o Galizia Weather\n",
    "### NOTE: I did not add screenshots or code about data preparation or processing to avoid making this notebook too long. If you want to see this part better, go to the GitHub repository."
   ]
  },
  {
   "cell_type": "markdown",
   "id": "434e1a9d",
   "metadata": {},
   "source": [
    "## Motivation\n",
    "I lived in Galicia for a little over two years, and I was always told that it rained a lot in this area, and even more in the past, that \"the cold in Galicia is different, it gets into your bones.\"  \n",
    "This always sparked my curiosity, asking myself: How many days does it rain a year? How cold is it? Is this \"chill in your bones\" due to humidity? Which city is the coldest of all? And many other questions I didn't know how to answer.  \n",
    "So I decided to do this project. Its purpose is to answer several of these questions that sparked my curiosity.  "
   ]
  },
  {
   "cell_type": "markdown",
   "id": "69e93ed7",
   "metadata": {},
   "source": [
    "## ASK \n",
    "This project contains data from the largest cities in Galicia (Coruña, Lugo, Ourense, Vigo, Pontevedra, and Santiago de Compostela), where I will conduct data analysis from January 1, 2023, to March 1, 2025. To answer some of the aforementioned questions, I will conduct other types of studies, comparisons, and predictions."
   ]
  },
  {
   "cell_type": "markdown",
   "id": "f9f4d8fc",
   "metadata": {},
   "source": [
    "### Questions  \n",
    "- Which city has the most stable climate (least variability in temperature)?\n",
    "- How are cities organized by precipitation?\n",
    "- How are cities organized by temperature?\n",
    "- How are cities organized by humidity?\n",
    "- Which is the most extreme city (maximum and minimum temperatures furthest from the Galician average)?\n",
    "- What climate trends are observed between 2023 and 2024?\n",
    "- What relationships exist between temperature, humidity, and precipitation?\n",
    "- What is the percentage of rainfall in Galicia? (days per year)"
   ]
  },
  {
   "cell_type": "markdown",
   "id": "8a936af8",
   "metadata": {},
   "source": [
    "## Prepare  \n",
    "### Data\n",
    "All data was obtained from MeteoGalicia and its MeteoSIX API.\n",
    "They cover the period from January 1, 2023, to March 31, 2025. Three variables of interest are included: Precipitation, Temperature, and Humidity.\n",
    "\n",
    "### Tools\n",
    "The project is largely written in Python.\n",
    "The libraries used are: Pandas, OS, Streamlit, Plotly, Seaborn, Folium, among others.\n"
   ]
  },
  {
   "cell_type": "markdown",
   "id": "11b514ab",
   "metadata": {},
   "source": [
    "### Data type\n",
    "The data obtained by MeteoGalicia is provided in CSV format. They have a simple graphical interface for obtaining this data from their website. You can obtain data for up to 10 years, but only for one point at a time. Forecast data, on the other hand, is obtained from the MeteoSIX API in JSON (see the streamlit).  \n",
    "### They are organized  \n",
    "We have 6 tables (one for each city) with a total of 4 columns (date, humidity, precipitation, and temperature) and 821 rows (one row is equivalent to one day). This represents a total of almost 5,000 data points.\n",
    "Meanwhile, for the forecast, there are 6 time tables (one for each city) and 5 columns (here, sky_state is added to the columns). This represents a total of 144 data points, considering all the tables.\n"
   ]
  },
  {
   "cell_type": "markdown",
   "id": "d81f2e60",
   "metadata": {},
   "source": [
    "## Process\n",
    "We performed a transformation on the DataFrame since it had two levels using pivot_table. The pivot code was as follows:\n",
    "df_pivot = df.pivot_table(index=\"Date\", columns=\"Variable\", values=\"Value\", aggfunc=\"first\")\n",
    "\n",
    "In addition, a \".concat\" was performed on each table to generate a main table for Galicia, with a \"city\" column representing the city on which day these values ​​are collected. In other words, the id is composed of: date + city."
   ]
  },
  {
   "cell_type": "markdown",
   "id": "4a4d04eb",
   "metadata": {},
   "source": [
    "## Analyze  \n",
    "For a better analysis we will divide each variable of interest, where we will have precipitation, temperature and humidity, in that order, but first we need to charge the libraries and the data  \n",
    "### Libraries"
   ]
  },
  {
   "cell_type": "code",
   "execution_count": 2,
   "id": "916bc291",
   "metadata": {},
   "outputs": [],
   "source": [
    "import numpy as np\n",
    "import pandas as pd\n",
    "import os\n",
    "import matplotlib.pyplot as plt\n",
    "import seaborn as sns\n",
    "import plotly.express as px\n",
    "import plotly.graph_objects as go\n",
    "import folium\n",
    "import tempfile"
   ]
  },
  {
   "cell_type": "markdown",
   "id": "7f456e6f",
   "metadata": {},
   "source": [
    "### Data"
   ]
  },
  {
   "cell_type": "code",
   "execution_count": 3,
   "id": "89e515a3",
   "metadata": {},
   "outputs": [],
   "source": [
    "project = os.path.dirname(os.getcwd())  \n",
    "folder = os.path.join(project, 'data', 'processed', 'galicia')\n",
    "file = \"galicia.csv\"\n",
    "path_file = os.path.join(folder, file)\n",
    "df = pd.read_csv(path_file, index_col=0, parse_dates=[\"fecha\"])\n",
    "df.columns = ['date', 'hum', 'prep', 'temp', 'city']\n",
    "df['month'] = df['date'].dt.month"
   ]
  },
  {
   "cell_type": "code",
   "execution_count": 4,
   "id": "28dfb778",
   "metadata": {},
   "outputs": [
    {
     "data": {
      "text/html": [
       "<div>\n",
       "<style scoped>\n",
       "    .dataframe tbody tr th:only-of-type {\n",
       "        vertical-align: middle;\n",
       "    }\n",
       "\n",
       "    .dataframe tbody tr th {\n",
       "        vertical-align: top;\n",
       "    }\n",
       "\n",
       "    .dataframe thead th {\n",
       "        text-align: right;\n",
       "    }\n",
       "</style>\n",
       "<table border=\"1\" class=\"dataframe\">\n",
       "  <thead>\n",
       "    <tr style=\"text-align: right;\">\n",
       "      <th></th>\n",
       "      <th>date</th>\n",
       "      <th>hum</th>\n",
       "      <th>prep</th>\n",
       "      <th>temp</th>\n",
       "      <th>city</th>\n",
       "      <th>month</th>\n",
       "    </tr>\n",
       "  </thead>\n",
       "  <tbody>\n",
       "    <tr>\n",
       "      <th>0</th>\n",
       "      <td>2023-01-01</td>\n",
       "      <td>98.0</td>\n",
       "      <td>22.6</td>\n",
       "      <td>12.01</td>\n",
       "      <td>Coruña</td>\n",
       "      <td>1</td>\n",
       "    </tr>\n",
       "    <tr>\n",
       "      <th>1</th>\n",
       "      <td>2023-01-02</td>\n",
       "      <td>90.0</td>\n",
       "      <td>1.1</td>\n",
       "      <td>10.98</td>\n",
       "      <td>Coruña</td>\n",
       "      <td>1</td>\n",
       "    </tr>\n",
       "    <tr>\n",
       "      <th>2</th>\n",
       "      <td>2023-01-03</td>\n",
       "      <td>86.0</td>\n",
       "      <td>0.0</td>\n",
       "      <td>12.01</td>\n",
       "      <td>Coruña</td>\n",
       "      <td>1</td>\n",
       "    </tr>\n",
       "    <tr>\n",
       "      <th>3</th>\n",
       "      <td>2023-01-04</td>\n",
       "      <td>91.0</td>\n",
       "      <td>0.0</td>\n",
       "      <td>14.55</td>\n",
       "      <td>Coruña</td>\n",
       "      <td>1</td>\n",
       "    </tr>\n",
       "    <tr>\n",
       "      <th>4</th>\n",
       "      <td>2023-01-05</td>\n",
       "      <td>95.0</td>\n",
       "      <td>0.0</td>\n",
       "      <td>12.99</td>\n",
       "      <td>Coruña</td>\n",
       "      <td>1</td>\n",
       "    </tr>\n",
       "  </tbody>\n",
       "</table>\n",
       "</div>"
      ],
      "text/plain": [
       "        date   hum  prep   temp    city  month\n",
       "0 2023-01-01  98.0  22.6  12.01  Coruña      1\n",
       "1 2023-01-02  90.0   1.1  10.98  Coruña      1\n",
       "2 2023-01-03  86.0   0.0  12.01  Coruña      1\n",
       "3 2023-01-04  91.0   0.0  14.55  Coruña      1\n",
       "4 2023-01-05  95.0   0.0  12.99  Coruña      1"
      ]
     },
     "execution_count": 4,
     "metadata": {},
     "output_type": "execute_result"
    }
   ],
   "source": [
    "df.head()"
   ]
  },
  {
   "cell_type": "code",
   "execution_count": 5,
   "id": "28804517",
   "metadata": {},
   "outputs": [
    {
     "name": "stdout",
     "output_type": "stream",
     "text": [
      "<class 'pandas.core.frame.DataFrame'>\n",
      "Index: 4926 entries, 0 to 820\n",
      "Data columns (total 6 columns):\n",
      " #   Column  Non-Null Count  Dtype         \n",
      "---  ------  --------------  -----         \n",
      " 0   date    4926 non-null   datetime64[ns]\n",
      " 1   hum     4926 non-null   float64       \n",
      " 2   prep    4926 non-null   float64       \n",
      " 3   temp    4926 non-null   float64       \n",
      " 4   city    4926 non-null   object        \n",
      " 5   month   4926 non-null   int32         \n",
      "dtypes: datetime64[ns](1), float64(3), int32(1), object(1)\n",
      "memory usage: 250.1+ KB\n"
     ]
    }
   ],
   "source": [
    "df.info()"
   ]
  },
  {
   "cell_type": "markdown",
   "id": "45ed1ce8",
   "metadata": {},
   "source": [
    "### Precipitation  \n",
    "Precipitation is key to this study, and that's how I begin. We need to know exactly how much it rains in each Galician city, on a monthly basis. This was one of my initial questions: \"Which Galician city receives the most rain? Which receives the least rain? And why?\" This will also allow us to determine the month with the most rain, the month with the least rain, among other things.\n",
    "#### Precipitation about cities:\n",
    "In this first part we can respond question about cities, like: How are cities organized by precipitation?"
   ]
  },
  {
   "cell_type": "code",
   "execution_count": 6,
   "id": "ac82ae77",
   "metadata": {},
   "outputs": [],
   "source": [
    "df_kpi = df.groupby(\"city\")\n",
    "rain_days = df[df[\"prep\"] > 0].groupby(\"city\").size()\n",
    "prom_rain = df.groupby(\"city\")[\"prep\"].mean()"
   ]
  },
  {
   "cell_type": "code",
   "execution_count": 7,
   "id": "1adcaddc",
   "metadata": {},
   "outputs": [
    {
     "name": "stdout",
     "output_type": "stream",
     "text": [
      "                     city  prep days count\n",
      "0  Santiago de Compostela              382\n",
      "1                  Coruña              363\n",
      "2                    Lugo              351\n",
      "3              Pontevedra              346\n",
      "4                    Vigo              324\n",
      "5                 Ourense              293\n"
     ]
    },
    {
     "data": {
      "application/vnd.plotly.v1+json": {
       "config": {
        "plotlyServerURL": "https://plot.ly"
       },
       "data": [
        {
         "hovertemplate": "city=%{x}<br>prep days count=%{y}<extra></extra>",
         "legendgroup": "",
         "marker": {
          "color": "#636efa",
          "pattern": {
           "shape": ""
          }
         },
         "name": "",
         "orientation": "v",
         "showlegend": false,
         "textposition": "auto",
         "type": "bar",
         "x": [
          "Santiago de Compostela",
          "Coruña",
          "Lugo",
          "Pontevedra",
          "Vigo",
          "Ourense"
         ],
         "xaxis": "x",
         "y": {
          "bdata": "fgFrAV8BWgFEASUB",
          "dtype": "i2"
         },
         "yaxis": "y"
        }
       ],
       "layout": {
        "autosize": true,
        "barmode": "relative",
        "font": {
         "color": "white"
        },
        "legend": {
         "font": {
          "color": "white"
         },
         "tracegroupgap": 0
        },
        "margin": {
         "b": 40,
         "l": 20,
         "r": 20,
         "t": 40
        },
        "paper_bgcolor": "rgba(0, 0, 0, 0)",
        "plot_bgcolor": "rgba(0, 0, 0, 0)",
        "template": {
         "data": {
          "bar": [
           {
            "error_x": {
             "color": "#2a3f5f"
            },
            "error_y": {
             "color": "#2a3f5f"
            },
            "marker": {
             "line": {
              "color": "#E5ECF6",
              "width": 0.5
             },
             "pattern": {
              "fillmode": "overlay",
              "size": 10,
              "solidity": 0.2
             }
            },
            "type": "bar"
           }
          ],
          "barpolar": [
           {
            "marker": {
             "line": {
              "color": "#E5ECF6",
              "width": 0.5
             },
             "pattern": {
              "fillmode": "overlay",
              "size": 10,
              "solidity": 0.2
             }
            },
            "type": "barpolar"
           }
          ],
          "carpet": [
           {
            "aaxis": {
             "endlinecolor": "#2a3f5f",
             "gridcolor": "white",
             "linecolor": "white",
             "minorgridcolor": "white",
             "startlinecolor": "#2a3f5f"
            },
            "baxis": {
             "endlinecolor": "#2a3f5f",
             "gridcolor": "white",
             "linecolor": "white",
             "minorgridcolor": "white",
             "startlinecolor": "#2a3f5f"
            },
            "type": "carpet"
           }
          ],
          "choropleth": [
           {
            "colorbar": {
             "outlinewidth": 0,
             "ticks": ""
            },
            "type": "choropleth"
           }
          ],
          "contour": [
           {
            "colorbar": {
             "outlinewidth": 0,
             "ticks": ""
            },
            "colorscale": [
             [
              0,
              "#0d0887"
             ],
             [
              0.1111111111111111,
              "#46039f"
             ],
             [
              0.2222222222222222,
              "#7201a8"
             ],
             [
              0.3333333333333333,
              "#9c179e"
             ],
             [
              0.4444444444444444,
              "#bd3786"
             ],
             [
              0.5555555555555556,
              "#d8576b"
             ],
             [
              0.6666666666666666,
              "#ed7953"
             ],
             [
              0.7777777777777778,
              "#fb9f3a"
             ],
             [
              0.8888888888888888,
              "#fdca26"
             ],
             [
              1,
              "#f0f921"
             ]
            ],
            "type": "contour"
           }
          ],
          "contourcarpet": [
           {
            "colorbar": {
             "outlinewidth": 0,
             "ticks": ""
            },
            "type": "contourcarpet"
           }
          ],
          "heatmap": [
           {
            "colorbar": {
             "outlinewidth": 0,
             "ticks": ""
            },
            "colorscale": [
             [
              0,
              "#0d0887"
             ],
             [
              0.1111111111111111,
              "#46039f"
             ],
             [
              0.2222222222222222,
              "#7201a8"
             ],
             [
              0.3333333333333333,
              "#9c179e"
             ],
             [
              0.4444444444444444,
              "#bd3786"
             ],
             [
              0.5555555555555556,
              "#d8576b"
             ],
             [
              0.6666666666666666,
              "#ed7953"
             ],
             [
              0.7777777777777778,
              "#fb9f3a"
             ],
             [
              0.8888888888888888,
              "#fdca26"
             ],
             [
              1,
              "#f0f921"
             ]
            ],
            "type": "heatmap"
           }
          ],
          "histogram": [
           {
            "marker": {
             "pattern": {
              "fillmode": "overlay",
              "size": 10,
              "solidity": 0.2
             }
            },
            "type": "histogram"
           }
          ],
          "histogram2d": [
           {
            "colorbar": {
             "outlinewidth": 0,
             "ticks": ""
            },
            "colorscale": [
             [
              0,
              "#0d0887"
             ],
             [
              0.1111111111111111,
              "#46039f"
             ],
             [
              0.2222222222222222,
              "#7201a8"
             ],
             [
              0.3333333333333333,
              "#9c179e"
             ],
             [
              0.4444444444444444,
              "#bd3786"
             ],
             [
              0.5555555555555556,
              "#d8576b"
             ],
             [
              0.6666666666666666,
              "#ed7953"
             ],
             [
              0.7777777777777778,
              "#fb9f3a"
             ],
             [
              0.8888888888888888,
              "#fdca26"
             ],
             [
              1,
              "#f0f921"
             ]
            ],
            "type": "histogram2d"
           }
          ],
          "histogram2dcontour": [
           {
            "colorbar": {
             "outlinewidth": 0,
             "ticks": ""
            },
            "colorscale": [
             [
              0,
              "#0d0887"
             ],
             [
              0.1111111111111111,
              "#46039f"
             ],
             [
              0.2222222222222222,
              "#7201a8"
             ],
             [
              0.3333333333333333,
              "#9c179e"
             ],
             [
              0.4444444444444444,
              "#bd3786"
             ],
             [
              0.5555555555555556,
              "#d8576b"
             ],
             [
              0.6666666666666666,
              "#ed7953"
             ],
             [
              0.7777777777777778,
              "#fb9f3a"
             ],
             [
              0.8888888888888888,
              "#fdca26"
             ],
             [
              1,
              "#f0f921"
             ]
            ],
            "type": "histogram2dcontour"
           }
          ],
          "mesh3d": [
           {
            "colorbar": {
             "outlinewidth": 0,
             "ticks": ""
            },
            "type": "mesh3d"
           }
          ],
          "parcoords": [
           {
            "line": {
             "colorbar": {
              "outlinewidth": 0,
              "ticks": ""
             }
            },
            "type": "parcoords"
           }
          ],
          "pie": [
           {
            "automargin": true,
            "type": "pie"
           }
          ],
          "scatter": [
           {
            "fillpattern": {
             "fillmode": "overlay",
             "size": 10,
             "solidity": 0.2
            },
            "type": "scatter"
           }
          ],
          "scatter3d": [
           {
            "line": {
             "colorbar": {
              "outlinewidth": 0,
              "ticks": ""
             }
            },
            "marker": {
             "colorbar": {
              "outlinewidth": 0,
              "ticks": ""
             }
            },
            "type": "scatter3d"
           }
          ],
          "scattercarpet": [
           {
            "marker": {
             "colorbar": {
              "outlinewidth": 0,
              "ticks": ""
             }
            },
            "type": "scattercarpet"
           }
          ],
          "scattergeo": [
           {
            "marker": {
             "colorbar": {
              "outlinewidth": 0,
              "ticks": ""
             }
            },
            "type": "scattergeo"
           }
          ],
          "scattergl": [
           {
            "marker": {
             "colorbar": {
              "outlinewidth": 0,
              "ticks": ""
             }
            },
            "type": "scattergl"
           }
          ],
          "scattermap": [
           {
            "marker": {
             "colorbar": {
              "outlinewidth": 0,
              "ticks": ""
             }
            },
            "type": "scattermap"
           }
          ],
          "scattermapbox": [
           {
            "marker": {
             "colorbar": {
              "outlinewidth": 0,
              "ticks": ""
             }
            },
            "type": "scattermapbox"
           }
          ],
          "scatterpolar": [
           {
            "marker": {
             "colorbar": {
              "outlinewidth": 0,
              "ticks": ""
             }
            },
            "type": "scatterpolar"
           }
          ],
          "scatterpolargl": [
           {
            "marker": {
             "colorbar": {
              "outlinewidth": 0,
              "ticks": ""
             }
            },
            "type": "scatterpolargl"
           }
          ],
          "scatterternary": [
           {
            "marker": {
             "colorbar": {
              "outlinewidth": 0,
              "ticks": ""
             }
            },
            "type": "scatterternary"
           }
          ],
          "surface": [
           {
            "colorbar": {
             "outlinewidth": 0,
             "ticks": ""
            },
            "colorscale": [
             [
              0,
              "#0d0887"
             ],
             [
              0.1111111111111111,
              "#46039f"
             ],
             [
              0.2222222222222222,
              "#7201a8"
             ],
             [
              0.3333333333333333,
              "#9c179e"
             ],
             [
              0.4444444444444444,
              "#bd3786"
             ],
             [
              0.5555555555555556,
              "#d8576b"
             ],
             [
              0.6666666666666666,
              "#ed7953"
             ],
             [
              0.7777777777777778,
              "#fb9f3a"
             ],
             [
              0.8888888888888888,
              "#fdca26"
             ],
             [
              1,
              "#f0f921"
             ]
            ],
            "type": "surface"
           }
          ],
          "table": [
           {
            "cells": {
             "fill": {
              "color": "#EBF0F8"
             },
             "line": {
              "color": "white"
             }
            },
            "header": {
             "fill": {
              "color": "#C8D4E3"
             },
             "line": {
              "color": "white"
             }
            },
            "type": "table"
           }
          ]
         },
         "layout": {
          "annotationdefaults": {
           "arrowcolor": "#2a3f5f",
           "arrowhead": 0,
           "arrowwidth": 1
          },
          "autotypenumbers": "strict",
          "coloraxis": {
           "colorbar": {
            "outlinewidth": 0,
            "ticks": ""
           }
          },
          "colorscale": {
           "diverging": [
            [
             0,
             "#8e0152"
            ],
            [
             0.1,
             "#c51b7d"
            ],
            [
             0.2,
             "#de77ae"
            ],
            [
             0.3,
             "#f1b6da"
            ],
            [
             0.4,
             "#fde0ef"
            ],
            [
             0.5,
             "#f7f7f7"
            ],
            [
             0.6,
             "#e6f5d0"
            ],
            [
             0.7,
             "#b8e186"
            ],
            [
             0.8,
             "#7fbc41"
            ],
            [
             0.9,
             "#4d9221"
            ],
            [
             1,
             "#276419"
            ]
           ],
           "sequential": [
            [
             0,
             "#0d0887"
            ],
            [
             0.1111111111111111,
             "#46039f"
            ],
            [
             0.2222222222222222,
             "#7201a8"
            ],
            [
             0.3333333333333333,
             "#9c179e"
            ],
            [
             0.4444444444444444,
             "#bd3786"
            ],
            [
             0.5555555555555556,
             "#d8576b"
            ],
            [
             0.6666666666666666,
             "#ed7953"
            ],
            [
             0.7777777777777778,
             "#fb9f3a"
            ],
            [
             0.8888888888888888,
             "#fdca26"
            ],
            [
             1,
             "#f0f921"
            ]
           ],
           "sequentialminus": [
            [
             0,
             "#0d0887"
            ],
            [
             0.1111111111111111,
             "#46039f"
            ],
            [
             0.2222222222222222,
             "#7201a8"
            ],
            [
             0.3333333333333333,
             "#9c179e"
            ],
            [
             0.4444444444444444,
             "#bd3786"
            ],
            [
             0.5555555555555556,
             "#d8576b"
            ],
            [
             0.6666666666666666,
             "#ed7953"
            ],
            [
             0.7777777777777778,
             "#fb9f3a"
            ],
            [
             0.8888888888888888,
             "#fdca26"
            ],
            [
             1,
             "#f0f921"
            ]
           ]
          },
          "colorway": [
           "#636efa",
           "#EF553B",
           "#00cc96",
           "#ab63fa",
           "#FFA15A",
           "#19d3f3",
           "#FF6692",
           "#B6E880",
           "#FF97FF",
           "#FECB52"
          ],
          "font": {
           "color": "#2a3f5f"
          },
          "geo": {
           "bgcolor": "white",
           "lakecolor": "white",
           "landcolor": "#E5ECF6",
           "showlakes": true,
           "showland": true,
           "subunitcolor": "white"
          },
          "hoverlabel": {
           "align": "left"
          },
          "hovermode": "closest",
          "mapbox": {
           "style": "light"
          },
          "paper_bgcolor": "white",
          "plot_bgcolor": "#E5ECF6",
          "polar": {
           "angularaxis": {
            "gridcolor": "white",
            "linecolor": "white",
            "ticks": ""
           },
           "bgcolor": "#E5ECF6",
           "radialaxis": {
            "gridcolor": "white",
            "linecolor": "white",
            "ticks": ""
           }
          },
          "scene": {
           "xaxis": {
            "backgroundcolor": "#E5ECF6",
            "gridcolor": "white",
            "gridwidth": 2,
            "linecolor": "white",
            "showbackground": true,
            "ticks": "",
            "zerolinecolor": "white"
           },
           "yaxis": {
            "backgroundcolor": "#E5ECF6",
            "gridcolor": "white",
            "gridwidth": 2,
            "linecolor": "white",
            "showbackground": true,
            "ticks": "",
            "zerolinecolor": "white"
           },
           "zaxis": {
            "backgroundcolor": "#E5ECF6",
            "gridcolor": "white",
            "gridwidth": 2,
            "linecolor": "white",
            "showbackground": true,
            "ticks": "",
            "zerolinecolor": "white"
           }
          },
          "shapedefaults": {
           "line": {
            "color": "#2a3f5f"
           }
          },
          "ternary": {
           "aaxis": {
            "gridcolor": "white",
            "linecolor": "white",
            "ticks": ""
           },
           "baxis": {
            "gridcolor": "white",
            "linecolor": "white",
            "ticks": ""
           },
           "bgcolor": "#E5ECF6",
           "caxis": {
            "gridcolor": "white",
            "linecolor": "white",
            "ticks": ""
           }
          },
          "title": {
           "x": 0.05
          },
          "xaxis": {
           "automargin": true,
           "gridcolor": "white",
           "linecolor": "white",
           "ticks": "",
           "title": {
            "standoff": 15
           },
           "zerolinecolor": "white",
           "zerolinewidth": 2
          },
          "yaxis": {
           "automargin": true,
           "gridcolor": "white",
           "linecolor": "white",
           "ticks": "",
           "title": {
            "standoff": 15
           },
           "zerolinecolor": "white",
           "zerolinewidth": 2
          }
         }
        },
        "title": {
         "font": {
          "color": "white"
         },
         "text": "         Precipitation days count per city "
        },
        "xaxis": {
         "anchor": "y",
         "color": "white",
         "domain": [
          0,
          1
         ],
         "title": {
          "text": "cities"
         }
        },
        "yaxis": {
         "anchor": "x",
         "color": "white",
         "domain": [
          0,
          1
         ],
         "gridcolor": "rgba(255, 255, 255, 0.4)",
         "title": {
          "text": "rainy days"
         }
        }
       }
      }
     },
     "metadata": {},
     "output_type": "display_data"
    }
   ],
   "source": [
    "rain_list = rain_days.sort_values(ascending=False).reset_index().rename(columns={0:\"prep days count\"})\n",
    "print(rain_list)\n",
    "fig = px.bar(rain_list, x=\"city\", y=\"prep days count\", \n",
    "                        title=f\"         Precipitation days count per city \")\n",
    "fig.update_layout(\n",
    "        plot_bgcolor='rgba(0, 0, 0, 0)',\n",
    "        paper_bgcolor='rgba(0, 0, 0, 0)',\n",
    "        font=dict(color='white'),\n",
    "        title_font=dict(color='white'),\n",
    "        legend=dict(font=dict(color='white')),\n",
    "        xaxis=dict(title='cities', color='white'),\n",
    "        yaxis=dict(title='rainy days', color='white', gridcolor='rgba(255, 255, 255, 0.4)'),\n",
    "        autosize=True,\n",
    "        margin=dict(l=20, r=20, t=40, b=40)\n",
    "    )\n",
    "fig.show()"
   ]
  },
  {
   "cell_type": "code",
   "execution_count": 8,
   "id": "b1a672f4",
   "metadata": {},
   "outputs": [
    {
     "name": "stdout",
     "output_type": "stream",
     "text": [
      "                     city      prep\n",
      "0  Santiago de Compostela  5.783313\n",
      "1              Pontevedra  5.211206\n",
      "2                    Vigo  4.042996\n",
      "3                    Lugo  3.358465\n",
      "4                  Coruña  3.340073\n",
      "5                 Ourense  2.622412\n"
     ]
    },
    {
     "data": {
      "application/vnd.plotly.v1+json": {
       "config": {
        "plotlyServerURL": "https://plot.ly"
       },
       "data": [
        {
         "hovertemplate": "city=%{x}<br>prep=%{y}<extra></extra>",
         "legendgroup": "",
         "marker": {
          "color": "#636efa",
          "pattern": {
           "shape": ""
          }
         },
         "name": "",
         "orientation": "v",
         "showlegend": false,
         "textposition": "auto",
         "type": "bar",
         "x": [
          "Santiago de Compostela",
          "Pontevedra",
          "Vigo",
          "Lugo",
          "Coruña",
          "Ourense"
         ],
         "xaxis": "x",
         "y": {
          "bdata": "wB3LzxwiF0D6QW5YRtgUQPdJ7jsHLBBA5BZJDCPeCkAZC148eLgKQIWhUvuy+gRA",
          "dtype": "f8"
         },
         "yaxis": "y"
        }
       ],
       "layout": {
        "autosize": true,
        "barmode": "relative",
        "font": {
         "color": "white"
        },
        "legend": {
         "font": {
          "color": "white"
         },
         "tracegroupgap": 0
        },
        "margin": {
         "b": 40,
         "l": 20,
         "r": 20,
         "t": 40
        },
        "paper_bgcolor": "rgba(0, 0, 0, 0)",
        "plot_bgcolor": "rgba(0, 0, 0, 0)",
        "template": {
         "data": {
          "bar": [
           {
            "error_x": {
             "color": "#2a3f5f"
            },
            "error_y": {
             "color": "#2a3f5f"
            },
            "marker": {
             "line": {
              "color": "#E5ECF6",
              "width": 0.5
             },
             "pattern": {
              "fillmode": "overlay",
              "size": 10,
              "solidity": 0.2
             }
            },
            "type": "bar"
           }
          ],
          "barpolar": [
           {
            "marker": {
             "line": {
              "color": "#E5ECF6",
              "width": 0.5
             },
             "pattern": {
              "fillmode": "overlay",
              "size": 10,
              "solidity": 0.2
             }
            },
            "type": "barpolar"
           }
          ],
          "carpet": [
           {
            "aaxis": {
             "endlinecolor": "#2a3f5f",
             "gridcolor": "white",
             "linecolor": "white",
             "minorgridcolor": "white",
             "startlinecolor": "#2a3f5f"
            },
            "baxis": {
             "endlinecolor": "#2a3f5f",
             "gridcolor": "white",
             "linecolor": "white",
             "minorgridcolor": "white",
             "startlinecolor": "#2a3f5f"
            },
            "type": "carpet"
           }
          ],
          "choropleth": [
           {
            "colorbar": {
             "outlinewidth": 0,
             "ticks": ""
            },
            "type": "choropleth"
           }
          ],
          "contour": [
           {
            "colorbar": {
             "outlinewidth": 0,
             "ticks": ""
            },
            "colorscale": [
             [
              0,
              "#0d0887"
             ],
             [
              0.1111111111111111,
              "#46039f"
             ],
             [
              0.2222222222222222,
              "#7201a8"
             ],
             [
              0.3333333333333333,
              "#9c179e"
             ],
             [
              0.4444444444444444,
              "#bd3786"
             ],
             [
              0.5555555555555556,
              "#d8576b"
             ],
             [
              0.6666666666666666,
              "#ed7953"
             ],
             [
              0.7777777777777778,
              "#fb9f3a"
             ],
             [
              0.8888888888888888,
              "#fdca26"
             ],
             [
              1,
              "#f0f921"
             ]
            ],
            "type": "contour"
           }
          ],
          "contourcarpet": [
           {
            "colorbar": {
             "outlinewidth": 0,
             "ticks": ""
            },
            "type": "contourcarpet"
           }
          ],
          "heatmap": [
           {
            "colorbar": {
             "outlinewidth": 0,
             "ticks": ""
            },
            "colorscale": [
             [
              0,
              "#0d0887"
             ],
             [
              0.1111111111111111,
              "#46039f"
             ],
             [
              0.2222222222222222,
              "#7201a8"
             ],
             [
              0.3333333333333333,
              "#9c179e"
             ],
             [
              0.4444444444444444,
              "#bd3786"
             ],
             [
              0.5555555555555556,
              "#d8576b"
             ],
             [
              0.6666666666666666,
              "#ed7953"
             ],
             [
              0.7777777777777778,
              "#fb9f3a"
             ],
             [
              0.8888888888888888,
              "#fdca26"
             ],
             [
              1,
              "#f0f921"
             ]
            ],
            "type": "heatmap"
           }
          ],
          "histogram": [
           {
            "marker": {
             "pattern": {
              "fillmode": "overlay",
              "size": 10,
              "solidity": 0.2
             }
            },
            "type": "histogram"
           }
          ],
          "histogram2d": [
           {
            "colorbar": {
             "outlinewidth": 0,
             "ticks": ""
            },
            "colorscale": [
             [
              0,
              "#0d0887"
             ],
             [
              0.1111111111111111,
              "#46039f"
             ],
             [
              0.2222222222222222,
              "#7201a8"
             ],
             [
              0.3333333333333333,
              "#9c179e"
             ],
             [
              0.4444444444444444,
              "#bd3786"
             ],
             [
              0.5555555555555556,
              "#d8576b"
             ],
             [
              0.6666666666666666,
              "#ed7953"
             ],
             [
              0.7777777777777778,
              "#fb9f3a"
             ],
             [
              0.8888888888888888,
              "#fdca26"
             ],
             [
              1,
              "#f0f921"
             ]
            ],
            "type": "histogram2d"
           }
          ],
          "histogram2dcontour": [
           {
            "colorbar": {
             "outlinewidth": 0,
             "ticks": ""
            },
            "colorscale": [
             [
              0,
              "#0d0887"
             ],
             [
              0.1111111111111111,
              "#46039f"
             ],
             [
              0.2222222222222222,
              "#7201a8"
             ],
             [
              0.3333333333333333,
              "#9c179e"
             ],
             [
              0.4444444444444444,
              "#bd3786"
             ],
             [
              0.5555555555555556,
              "#d8576b"
             ],
             [
              0.6666666666666666,
              "#ed7953"
             ],
             [
              0.7777777777777778,
              "#fb9f3a"
             ],
             [
              0.8888888888888888,
              "#fdca26"
             ],
             [
              1,
              "#f0f921"
             ]
            ],
            "type": "histogram2dcontour"
           }
          ],
          "mesh3d": [
           {
            "colorbar": {
             "outlinewidth": 0,
             "ticks": ""
            },
            "type": "mesh3d"
           }
          ],
          "parcoords": [
           {
            "line": {
             "colorbar": {
              "outlinewidth": 0,
              "ticks": ""
             }
            },
            "type": "parcoords"
           }
          ],
          "pie": [
           {
            "automargin": true,
            "type": "pie"
           }
          ],
          "scatter": [
           {
            "fillpattern": {
             "fillmode": "overlay",
             "size": 10,
             "solidity": 0.2
            },
            "type": "scatter"
           }
          ],
          "scatter3d": [
           {
            "line": {
             "colorbar": {
              "outlinewidth": 0,
              "ticks": ""
             }
            },
            "marker": {
             "colorbar": {
              "outlinewidth": 0,
              "ticks": ""
             }
            },
            "type": "scatter3d"
           }
          ],
          "scattercarpet": [
           {
            "marker": {
             "colorbar": {
              "outlinewidth": 0,
              "ticks": ""
             }
            },
            "type": "scattercarpet"
           }
          ],
          "scattergeo": [
           {
            "marker": {
             "colorbar": {
              "outlinewidth": 0,
              "ticks": ""
             }
            },
            "type": "scattergeo"
           }
          ],
          "scattergl": [
           {
            "marker": {
             "colorbar": {
              "outlinewidth": 0,
              "ticks": ""
             }
            },
            "type": "scattergl"
           }
          ],
          "scattermap": [
           {
            "marker": {
             "colorbar": {
              "outlinewidth": 0,
              "ticks": ""
             }
            },
            "type": "scattermap"
           }
          ],
          "scattermapbox": [
           {
            "marker": {
             "colorbar": {
              "outlinewidth": 0,
              "ticks": ""
             }
            },
            "type": "scattermapbox"
           }
          ],
          "scatterpolar": [
           {
            "marker": {
             "colorbar": {
              "outlinewidth": 0,
              "ticks": ""
             }
            },
            "type": "scatterpolar"
           }
          ],
          "scatterpolargl": [
           {
            "marker": {
             "colorbar": {
              "outlinewidth": 0,
              "ticks": ""
             }
            },
            "type": "scatterpolargl"
           }
          ],
          "scatterternary": [
           {
            "marker": {
             "colorbar": {
              "outlinewidth": 0,
              "ticks": ""
             }
            },
            "type": "scatterternary"
           }
          ],
          "surface": [
           {
            "colorbar": {
             "outlinewidth": 0,
             "ticks": ""
            },
            "colorscale": [
             [
              0,
              "#0d0887"
             ],
             [
              0.1111111111111111,
              "#46039f"
             ],
             [
              0.2222222222222222,
              "#7201a8"
             ],
             [
              0.3333333333333333,
              "#9c179e"
             ],
             [
              0.4444444444444444,
              "#bd3786"
             ],
             [
              0.5555555555555556,
              "#d8576b"
             ],
             [
              0.6666666666666666,
              "#ed7953"
             ],
             [
              0.7777777777777778,
              "#fb9f3a"
             ],
             [
              0.8888888888888888,
              "#fdca26"
             ],
             [
              1,
              "#f0f921"
             ]
            ],
            "type": "surface"
           }
          ],
          "table": [
           {
            "cells": {
             "fill": {
              "color": "#EBF0F8"
             },
             "line": {
              "color": "white"
             }
            },
            "header": {
             "fill": {
              "color": "#C8D4E3"
             },
             "line": {
              "color": "white"
             }
            },
            "type": "table"
           }
          ]
         },
         "layout": {
          "annotationdefaults": {
           "arrowcolor": "#2a3f5f",
           "arrowhead": 0,
           "arrowwidth": 1
          },
          "autotypenumbers": "strict",
          "coloraxis": {
           "colorbar": {
            "outlinewidth": 0,
            "ticks": ""
           }
          },
          "colorscale": {
           "diverging": [
            [
             0,
             "#8e0152"
            ],
            [
             0.1,
             "#c51b7d"
            ],
            [
             0.2,
             "#de77ae"
            ],
            [
             0.3,
             "#f1b6da"
            ],
            [
             0.4,
             "#fde0ef"
            ],
            [
             0.5,
             "#f7f7f7"
            ],
            [
             0.6,
             "#e6f5d0"
            ],
            [
             0.7,
             "#b8e186"
            ],
            [
             0.8,
             "#7fbc41"
            ],
            [
             0.9,
             "#4d9221"
            ],
            [
             1,
             "#276419"
            ]
           ],
           "sequential": [
            [
             0,
             "#0d0887"
            ],
            [
             0.1111111111111111,
             "#46039f"
            ],
            [
             0.2222222222222222,
             "#7201a8"
            ],
            [
             0.3333333333333333,
             "#9c179e"
            ],
            [
             0.4444444444444444,
             "#bd3786"
            ],
            [
             0.5555555555555556,
             "#d8576b"
            ],
            [
             0.6666666666666666,
             "#ed7953"
            ],
            [
             0.7777777777777778,
             "#fb9f3a"
            ],
            [
             0.8888888888888888,
             "#fdca26"
            ],
            [
             1,
             "#f0f921"
            ]
           ],
           "sequentialminus": [
            [
             0,
             "#0d0887"
            ],
            [
             0.1111111111111111,
             "#46039f"
            ],
            [
             0.2222222222222222,
             "#7201a8"
            ],
            [
             0.3333333333333333,
             "#9c179e"
            ],
            [
             0.4444444444444444,
             "#bd3786"
            ],
            [
             0.5555555555555556,
             "#d8576b"
            ],
            [
             0.6666666666666666,
             "#ed7953"
            ],
            [
             0.7777777777777778,
             "#fb9f3a"
            ],
            [
             0.8888888888888888,
             "#fdca26"
            ],
            [
             1,
             "#f0f921"
            ]
           ]
          },
          "colorway": [
           "#636efa",
           "#EF553B",
           "#00cc96",
           "#ab63fa",
           "#FFA15A",
           "#19d3f3",
           "#FF6692",
           "#B6E880",
           "#FF97FF",
           "#FECB52"
          ],
          "font": {
           "color": "#2a3f5f"
          },
          "geo": {
           "bgcolor": "white",
           "lakecolor": "white",
           "landcolor": "#E5ECF6",
           "showlakes": true,
           "showland": true,
           "subunitcolor": "white"
          },
          "hoverlabel": {
           "align": "left"
          },
          "hovermode": "closest",
          "mapbox": {
           "style": "light"
          },
          "paper_bgcolor": "white",
          "plot_bgcolor": "#E5ECF6",
          "polar": {
           "angularaxis": {
            "gridcolor": "white",
            "linecolor": "white",
            "ticks": ""
           },
           "bgcolor": "#E5ECF6",
           "radialaxis": {
            "gridcolor": "white",
            "linecolor": "white",
            "ticks": ""
           }
          },
          "scene": {
           "xaxis": {
            "backgroundcolor": "#E5ECF6",
            "gridcolor": "white",
            "gridwidth": 2,
            "linecolor": "white",
            "showbackground": true,
            "ticks": "",
            "zerolinecolor": "white"
           },
           "yaxis": {
            "backgroundcolor": "#E5ECF6",
            "gridcolor": "white",
            "gridwidth": 2,
            "linecolor": "white",
            "showbackground": true,
            "ticks": "",
            "zerolinecolor": "white"
           },
           "zaxis": {
            "backgroundcolor": "#E5ECF6",
            "gridcolor": "white",
            "gridwidth": 2,
            "linecolor": "white",
            "showbackground": true,
            "ticks": "",
            "zerolinecolor": "white"
           }
          },
          "shapedefaults": {
           "line": {
            "color": "#2a3f5f"
           }
          },
          "ternary": {
           "aaxis": {
            "gridcolor": "white",
            "linecolor": "white",
            "ticks": ""
           },
           "baxis": {
            "gridcolor": "white",
            "linecolor": "white",
            "ticks": ""
           },
           "bgcolor": "#E5ECF6",
           "caxis": {
            "gridcolor": "white",
            "linecolor": "white",
            "ticks": ""
           }
          },
          "title": {
           "x": 0.05
          },
          "xaxis": {
           "automargin": true,
           "gridcolor": "white",
           "linecolor": "white",
           "ticks": "",
           "title": {
            "standoff": 15
           },
           "zerolinecolor": "white",
           "zerolinewidth": 2
          },
          "yaxis": {
           "automargin": true,
           "gridcolor": "white",
           "linecolor": "white",
           "ticks": "",
           "title": {
            "standoff": 15
           },
           "zerolinecolor": "white",
           "zerolinewidth": 2
          }
         }
        },
        "title": {
         "font": {
          "color": "white"
         },
         "text": "         Average precipitation per city "
        },
        "xaxis": {
         "anchor": "y",
         "color": "white",
         "domain": [
          0,
          1
         ],
         "title": {
          "text": "cities"
         }
        },
        "yaxis": {
         "anchor": "x",
         "color": "white",
         "domain": [
          0,
          1
         ],
         "gridcolor": "rgba(255, 255, 255, 0.4)",
         "title": {
          "text": "precipitation (L/m2)"
         }
        }
       }
      }
     },
     "metadata": {},
     "output_type": "display_data"
    }
   ],
   "source": [
    "prom_rain.sort_values(ascending=False)\n",
    "\n",
    "prom_rain_list = prom_rain.sort_values(ascending=False).reset_index().rename(columns={0:\"prep\"})\n",
    "print(prom_rain_list)\n",
    "fig = px.bar(prom_rain_list, x=\"city\", y=\"prep\", \n",
    "                        title=f\"         Average precipitation per city \")\n",
    "fig.update_layout(\n",
    "        plot_bgcolor='rgba(0, 0, 0, 0)',\n",
    "        paper_bgcolor='rgba(0, 0, 0, 0)',\n",
    "        font=dict(color='white'),\n",
    "        title_font=dict(color='white'),\n",
    "        legend=dict(font=dict(color='white')),\n",
    "        xaxis=dict(title='cities', color='white'),\n",
    "        yaxis=dict(title='precipitation (L/m2)', color='white', gridcolor='rgba(255, 255, 255, 0.4)'),\n",
    "        autosize=True,\n",
    "        margin=dict(l=20, r=20, t=40, b=40)\n",
    "    )\n",
    "fig.show()"
   ]
  },
  {
   "cell_type": "code",
   "execution_count": 9,
   "id": "37a8b707",
   "metadata": {},
   "outputs": [
    {
     "data": {
      "text/plain": [
       "city\n",
       "Santiago de Compostela    98.5\n",
       "Coruña                    77.6\n",
       "Pontevedra                76.5\n",
       "Vigo                      68.0\n",
       "Lugo                      65.0\n",
       "Ourense                   52.8\n",
       "Name: prep, dtype: float64"
      ]
     },
     "execution_count": 9,
     "metadata": {},
     "output_type": "execute_result"
    }
   ],
   "source": [
    "df.groupby(\"city\")[\"prep\"].max().sort_values(ascending=False)"
   ]
  },
  {
   "cell_type": "markdown",
   "id": "a38787d0",
   "metadata": {},
   "source": [
    "The distribution for **days with rain**:  \n",
    "**Santiago de Compostela > Coruña > Lugo > Pontevedra > Vigo > Ourense**  \n",
    "  \n",
    "The distribution for **average precipitation** per city:  \n",
    "**Santiago de Compostela > Pontevedra > Vigo > Lugo > Coruña > Ourense**  \n",
    "  \n",
    "- **Santiago de Compostela** is the city with most days and most average precipitation  \n",
    "- **Ourense** is the city with the lowest quantity of rainy days and lowest average precipitation  \n",
    "- **Vigo** is the city with the second fewest rainy days, but has a moderately high rainfall rate.  \n",
    "- **Coruña** is the city with the second lowest average rainfall, but it is also the city with the second most rainy days.\n",
    "  \n",
    "These are very important results because Santiago and A Coruña are in the same province. Both are coastal cities, but their precipitation varies greatly in terms of rainfall amount, while on a daily basis they behave similarly. This may be because Santiago is a city not so far from the coast and is surrounded by mountains, so it condenses here and generates more clouds, in addition to slowing down the passage of clouds and forcing them to discharge water in order to ascend. On the other hand, Santiago is closer to the Atlantic and with it the storms coming from it, where A Coruña is much less affected.  \n",
    "\n",
    "Ourense and Vigo have different behaviors. Vigo is mountainous, but its mountain range is to the south, so it actually helps protect it from approaching clouds. However, rain is normal, as it is still a coastal area directly facing the Atlantic. Ourense is much further inland, where it is difficult for the influence of the Atlantic and the coast to reach it. It is also a valley surrounded by mountains, which means that it experiences much less rainfall during dry seasons.  \n",
    "  \n",
    "The last DataFrame shows the maximum daily rainfall values ​​for each city. This is interesting because it still reflects the previous data; the maximum is in Santiago de Compostela. The minimum is in Ourense, and the other two minimum values ​​are in the other city further on the continent (Lugo) and Vigo, which, despite being a coastal city, has already been mentioned for its unusual rainfall."
   ]
  },
  {
   "cell_type": "markdown",
   "id": "2a85b2ea",
   "metadata": {},
   "source": [
    "\n",
    "#### Precipitation about months:\n",
    "Observing monthly precipitation is useful for understanding how rainfall is distributed over the months. This allows us to see seasonality and variables such as:\n",
    "- Average rainfall sorted by month\n",
    "- Month with the most average rainfall\n",
    "- Month with the least average rainfall"
   ]
  },
  {
   "cell_type": "code",
   "execution_count": 10,
   "id": "036c91b2",
   "metadata": {},
   "outputs": [
    {
     "data": {
      "text/html": [
       "<div>\n",
       "<style scoped>\n",
       "    .dataframe tbody tr th:only-of-type {\n",
       "        vertical-align: middle;\n",
       "    }\n",
       "\n",
       "    .dataframe tbody tr th {\n",
       "        vertical-align: top;\n",
       "    }\n",
       "\n",
       "    .dataframe thead th {\n",
       "        text-align: right;\n",
       "    }\n",
       "</style>\n",
       "<table border=\"1\" class=\"dataframe\">\n",
       "  <thead>\n",
       "    <tr style=\"text-align: right;\">\n",
       "      <th></th>\n",
       "      <th>month</th>\n",
       "      <th>prep</th>\n",
       "      <th>month_name</th>\n",
       "    </tr>\n",
       "  </thead>\n",
       "  <tbody>\n",
       "    <tr>\n",
       "      <th>0</th>\n",
       "      <td>1</td>\n",
       "      <td>6.957885</td>\n",
       "      <td>january</td>\n",
       "    </tr>\n",
       "    <tr>\n",
       "      <th>1</th>\n",
       "      <td>2</td>\n",
       "      <td>3.722745</td>\n",
       "      <td>february</td>\n",
       "    </tr>\n",
       "    <tr>\n",
       "      <th>2</th>\n",
       "      <td>3</td>\n",
       "      <td>4.323118</td>\n",
       "      <td>march</td>\n",
       "    </tr>\n",
       "    <tr>\n",
       "      <th>3</th>\n",
       "      <td>4</td>\n",
       "      <td>2.672500</td>\n",
       "      <td>april</td>\n",
       "    </tr>\n",
       "    <tr>\n",
       "      <th>4</th>\n",
       "      <td>5</td>\n",
       "      <td>3.260753</td>\n",
       "      <td>may</td>\n",
       "    </tr>\n",
       "    <tr>\n",
       "      <th>5</th>\n",
       "      <td>6</td>\n",
       "      <td>2.560833</td>\n",
       "      <td>june</td>\n",
       "    </tr>\n",
       "    <tr>\n",
       "      <th>6</th>\n",
       "      <td>7</td>\n",
       "      <td>0.868548</td>\n",
       "      <td>july</td>\n",
       "    </tr>\n",
       "    <tr>\n",
       "      <th>7</th>\n",
       "      <td>8</td>\n",
       "      <td>0.668817</td>\n",
       "      <td>august</td>\n",
       "    </tr>\n",
       "    <tr>\n",
       "      <th>8</th>\n",
       "      <td>9</td>\n",
       "      <td>3.357778</td>\n",
       "      <td>september</td>\n",
       "    </tr>\n",
       "    <tr>\n",
       "      <th>9</th>\n",
       "      <td>10</td>\n",
       "      <td>9.458333</td>\n",
       "      <td>october</td>\n",
       "    </tr>\n",
       "    <tr>\n",
       "      <th>10</th>\n",
       "      <td>11</td>\n",
       "      <td>5.551389</td>\n",
       "      <td>november</td>\n",
       "    </tr>\n",
       "    <tr>\n",
       "      <th>11</th>\n",
       "      <td>12</td>\n",
       "      <td>3.790860</td>\n",
       "      <td>december</td>\n",
       "    </tr>\n",
       "  </tbody>\n",
       "</table>\n",
       "</div>"
      ],
      "text/plain": [
       "    month      prep month_name\n",
       "0       1  6.957885    january\n",
       "1       2  3.722745   february\n",
       "2       3  4.323118      march\n",
       "3       4  2.672500      april\n",
       "4       5  3.260753        may\n",
       "5       6  2.560833       june\n",
       "6       7  0.868548       july\n",
       "7       8  0.668817     august\n",
       "8       9  3.357778  september\n",
       "9      10  9.458333    october\n",
       "10     11  5.551389   november\n",
       "11     12  3.790860   december"
      ]
     },
     "execution_count": 10,
     "metadata": {},
     "output_type": "execute_result"
    }
   ],
   "source": [
    "month_rain_list = df[[\"month\", \"prep\"]].groupby(\"month\").mean().reset_index()\n",
    "meses = {\n",
    "    1: 'january', 2: 'february', 3: 'march', 4: 'april',\n",
    "    5: 'may', 6: 'june', 7: 'july', 8: 'august',\n",
    "    9: 'september', 10: 'october', 11: 'november', 12: 'december'\n",
    "}\n",
    "month_rain_list['month_name'] = month_rain_list['month'].map(meses)\n",
    "month_rain_list"
   ]
  },
  {
   "cell_type": "code",
   "execution_count": 11,
   "id": "2c302b13",
   "metadata": {},
   "outputs": [
    {
     "name": "stdout",
     "output_type": "stream",
     "text": [
      "Natural Order\n",
      "    month      prep month_name\n",
      "0       1  6.957885    january\n",
      "1       2  3.722745   february\n",
      "2       3  4.323118      march\n",
      "3       4  2.672500      april\n",
      "4       5  3.260753        may\n",
      "5       6  2.560833       june\n",
      "6       7  0.868548       july\n",
      "7       8  0.668817     august\n",
      "8       9  3.357778  september\n",
      "9      10  9.458333    october\n",
      "10     11  5.551389   november\n",
      "11     12  3.790860   december\n",
      "------------------------------------------------\n",
      "Descending order of prep\n",
      "    month      prep month_name\n",
      "9      10  9.458333    october\n",
      "0       1  6.957885    january\n",
      "10     11  5.551389   november\n",
      "2       3  4.323118      march\n",
      "11     12  3.790860   december\n",
      "1       2  3.722745   february\n",
      "8       9  3.357778  september\n",
      "4       5  3.260753        may\n",
      "3       4  2.672500      april\n",
      "5       6  2.560833       june\n",
      "6       7  0.868548       july\n",
      "7       8  0.668817     august\n"
     ]
    },
    {
     "data": {
      "application/vnd.plotly.v1+json": {
       "config": {
        "plotlyServerURL": "https://plot.ly"
       },
       "data": [
        {
         "hovertemplate": "month_name=%{x}<br>prep=%{y}<extra></extra>",
         "legendgroup": "",
         "marker": {
          "color": "#636efa",
          "pattern": {
           "shape": ""
          }
         },
         "name": "",
         "orientation": "v",
         "showlegend": false,
         "textposition": "auto",
         "type": "bar",
         "x": [
          "january",
          "february",
          "march",
          "april",
          "may",
          "june",
          "july",
          "august",
          "september",
          "october",
          "november",
          "december"
         ],
         "xaxis": "x",
         "y": {
          "bdata": "gFOj4t/UG0DIYfuULsgNQEv4rYTfShFA4XoUrkdhBUAWWGCBBRYKQPxiyS+WfARAzF+y/CXL6z9nNW9W82blPzJUdpi63ApAq6qqqqrqIkBKn/RJnzQWQFToOoWuUw5A",
          "dtype": "f8"
         },
         "yaxis": "y"
        }
       ],
       "layout": {
        "autosize": true,
        "barmode": "relative",
        "font": {
         "color": "white"
        },
        "legend": {
         "font": {
          "color": "white"
         },
         "tracegroupgap": 0
        },
        "margin": {
         "b": 40,
         "l": 20,
         "r": 20,
         "t": 40
        },
        "paper_bgcolor": "rgba(0, 0, 0, 0)",
        "plot_bgcolor": "rgba(0, 0, 0, 0)",
        "template": {
         "data": {
          "bar": [
           {
            "error_x": {
             "color": "#2a3f5f"
            },
            "error_y": {
             "color": "#2a3f5f"
            },
            "marker": {
             "line": {
              "color": "#E5ECF6",
              "width": 0.5
             },
             "pattern": {
              "fillmode": "overlay",
              "size": 10,
              "solidity": 0.2
             }
            },
            "type": "bar"
           }
          ],
          "barpolar": [
           {
            "marker": {
             "line": {
              "color": "#E5ECF6",
              "width": 0.5
             },
             "pattern": {
              "fillmode": "overlay",
              "size": 10,
              "solidity": 0.2
             }
            },
            "type": "barpolar"
           }
          ],
          "carpet": [
           {
            "aaxis": {
             "endlinecolor": "#2a3f5f",
             "gridcolor": "white",
             "linecolor": "white",
             "minorgridcolor": "white",
             "startlinecolor": "#2a3f5f"
            },
            "baxis": {
             "endlinecolor": "#2a3f5f",
             "gridcolor": "white",
             "linecolor": "white",
             "minorgridcolor": "white",
             "startlinecolor": "#2a3f5f"
            },
            "type": "carpet"
           }
          ],
          "choropleth": [
           {
            "colorbar": {
             "outlinewidth": 0,
             "ticks": ""
            },
            "type": "choropleth"
           }
          ],
          "contour": [
           {
            "colorbar": {
             "outlinewidth": 0,
             "ticks": ""
            },
            "colorscale": [
             [
              0,
              "#0d0887"
             ],
             [
              0.1111111111111111,
              "#46039f"
             ],
             [
              0.2222222222222222,
              "#7201a8"
             ],
             [
              0.3333333333333333,
              "#9c179e"
             ],
             [
              0.4444444444444444,
              "#bd3786"
             ],
             [
              0.5555555555555556,
              "#d8576b"
             ],
             [
              0.6666666666666666,
              "#ed7953"
             ],
             [
              0.7777777777777778,
              "#fb9f3a"
             ],
             [
              0.8888888888888888,
              "#fdca26"
             ],
             [
              1,
              "#f0f921"
             ]
            ],
            "type": "contour"
           }
          ],
          "contourcarpet": [
           {
            "colorbar": {
             "outlinewidth": 0,
             "ticks": ""
            },
            "type": "contourcarpet"
           }
          ],
          "heatmap": [
           {
            "colorbar": {
             "outlinewidth": 0,
             "ticks": ""
            },
            "colorscale": [
             [
              0,
              "#0d0887"
             ],
             [
              0.1111111111111111,
              "#46039f"
             ],
             [
              0.2222222222222222,
              "#7201a8"
             ],
             [
              0.3333333333333333,
              "#9c179e"
             ],
             [
              0.4444444444444444,
              "#bd3786"
             ],
             [
              0.5555555555555556,
              "#d8576b"
             ],
             [
              0.6666666666666666,
              "#ed7953"
             ],
             [
              0.7777777777777778,
              "#fb9f3a"
             ],
             [
              0.8888888888888888,
              "#fdca26"
             ],
             [
              1,
              "#f0f921"
             ]
            ],
            "type": "heatmap"
           }
          ],
          "histogram": [
           {
            "marker": {
             "pattern": {
              "fillmode": "overlay",
              "size": 10,
              "solidity": 0.2
             }
            },
            "type": "histogram"
           }
          ],
          "histogram2d": [
           {
            "colorbar": {
             "outlinewidth": 0,
             "ticks": ""
            },
            "colorscale": [
             [
              0,
              "#0d0887"
             ],
             [
              0.1111111111111111,
              "#46039f"
             ],
             [
              0.2222222222222222,
              "#7201a8"
             ],
             [
              0.3333333333333333,
              "#9c179e"
             ],
             [
              0.4444444444444444,
              "#bd3786"
             ],
             [
              0.5555555555555556,
              "#d8576b"
             ],
             [
              0.6666666666666666,
              "#ed7953"
             ],
             [
              0.7777777777777778,
              "#fb9f3a"
             ],
             [
              0.8888888888888888,
              "#fdca26"
             ],
             [
              1,
              "#f0f921"
             ]
            ],
            "type": "histogram2d"
           }
          ],
          "histogram2dcontour": [
           {
            "colorbar": {
             "outlinewidth": 0,
             "ticks": ""
            },
            "colorscale": [
             [
              0,
              "#0d0887"
             ],
             [
              0.1111111111111111,
              "#46039f"
             ],
             [
              0.2222222222222222,
              "#7201a8"
             ],
             [
              0.3333333333333333,
              "#9c179e"
             ],
             [
              0.4444444444444444,
              "#bd3786"
             ],
             [
              0.5555555555555556,
              "#d8576b"
             ],
             [
              0.6666666666666666,
              "#ed7953"
             ],
             [
              0.7777777777777778,
              "#fb9f3a"
             ],
             [
              0.8888888888888888,
              "#fdca26"
             ],
             [
              1,
              "#f0f921"
             ]
            ],
            "type": "histogram2dcontour"
           }
          ],
          "mesh3d": [
           {
            "colorbar": {
             "outlinewidth": 0,
             "ticks": ""
            },
            "type": "mesh3d"
           }
          ],
          "parcoords": [
           {
            "line": {
             "colorbar": {
              "outlinewidth": 0,
              "ticks": ""
             }
            },
            "type": "parcoords"
           }
          ],
          "pie": [
           {
            "automargin": true,
            "type": "pie"
           }
          ],
          "scatter": [
           {
            "fillpattern": {
             "fillmode": "overlay",
             "size": 10,
             "solidity": 0.2
            },
            "type": "scatter"
           }
          ],
          "scatter3d": [
           {
            "line": {
             "colorbar": {
              "outlinewidth": 0,
              "ticks": ""
             }
            },
            "marker": {
             "colorbar": {
              "outlinewidth": 0,
              "ticks": ""
             }
            },
            "type": "scatter3d"
           }
          ],
          "scattercarpet": [
           {
            "marker": {
             "colorbar": {
              "outlinewidth": 0,
              "ticks": ""
             }
            },
            "type": "scattercarpet"
           }
          ],
          "scattergeo": [
           {
            "marker": {
             "colorbar": {
              "outlinewidth": 0,
              "ticks": ""
             }
            },
            "type": "scattergeo"
           }
          ],
          "scattergl": [
           {
            "marker": {
             "colorbar": {
              "outlinewidth": 0,
              "ticks": ""
             }
            },
            "type": "scattergl"
           }
          ],
          "scattermap": [
           {
            "marker": {
             "colorbar": {
              "outlinewidth": 0,
              "ticks": ""
             }
            },
            "type": "scattermap"
           }
          ],
          "scattermapbox": [
           {
            "marker": {
             "colorbar": {
              "outlinewidth": 0,
              "ticks": ""
             }
            },
            "type": "scattermapbox"
           }
          ],
          "scatterpolar": [
           {
            "marker": {
             "colorbar": {
              "outlinewidth": 0,
              "ticks": ""
             }
            },
            "type": "scatterpolar"
           }
          ],
          "scatterpolargl": [
           {
            "marker": {
             "colorbar": {
              "outlinewidth": 0,
              "ticks": ""
             }
            },
            "type": "scatterpolargl"
           }
          ],
          "scatterternary": [
           {
            "marker": {
             "colorbar": {
              "outlinewidth": 0,
              "ticks": ""
             }
            },
            "type": "scatterternary"
           }
          ],
          "surface": [
           {
            "colorbar": {
             "outlinewidth": 0,
             "ticks": ""
            },
            "colorscale": [
             [
              0,
              "#0d0887"
             ],
             [
              0.1111111111111111,
              "#46039f"
             ],
             [
              0.2222222222222222,
              "#7201a8"
             ],
             [
              0.3333333333333333,
              "#9c179e"
             ],
             [
              0.4444444444444444,
              "#bd3786"
             ],
             [
              0.5555555555555556,
              "#d8576b"
             ],
             [
              0.6666666666666666,
              "#ed7953"
             ],
             [
              0.7777777777777778,
              "#fb9f3a"
             ],
             [
              0.8888888888888888,
              "#fdca26"
             ],
             [
              1,
              "#f0f921"
             ]
            ],
            "type": "surface"
           }
          ],
          "table": [
           {
            "cells": {
             "fill": {
              "color": "#EBF0F8"
             },
             "line": {
              "color": "white"
             }
            },
            "header": {
             "fill": {
              "color": "#C8D4E3"
             },
             "line": {
              "color": "white"
             }
            },
            "type": "table"
           }
          ]
         },
         "layout": {
          "annotationdefaults": {
           "arrowcolor": "#2a3f5f",
           "arrowhead": 0,
           "arrowwidth": 1
          },
          "autotypenumbers": "strict",
          "coloraxis": {
           "colorbar": {
            "outlinewidth": 0,
            "ticks": ""
           }
          },
          "colorscale": {
           "diverging": [
            [
             0,
             "#8e0152"
            ],
            [
             0.1,
             "#c51b7d"
            ],
            [
             0.2,
             "#de77ae"
            ],
            [
             0.3,
             "#f1b6da"
            ],
            [
             0.4,
             "#fde0ef"
            ],
            [
             0.5,
             "#f7f7f7"
            ],
            [
             0.6,
             "#e6f5d0"
            ],
            [
             0.7,
             "#b8e186"
            ],
            [
             0.8,
             "#7fbc41"
            ],
            [
             0.9,
             "#4d9221"
            ],
            [
             1,
             "#276419"
            ]
           ],
           "sequential": [
            [
             0,
             "#0d0887"
            ],
            [
             0.1111111111111111,
             "#46039f"
            ],
            [
             0.2222222222222222,
             "#7201a8"
            ],
            [
             0.3333333333333333,
             "#9c179e"
            ],
            [
             0.4444444444444444,
             "#bd3786"
            ],
            [
             0.5555555555555556,
             "#d8576b"
            ],
            [
             0.6666666666666666,
             "#ed7953"
            ],
            [
             0.7777777777777778,
             "#fb9f3a"
            ],
            [
             0.8888888888888888,
             "#fdca26"
            ],
            [
             1,
             "#f0f921"
            ]
           ],
           "sequentialminus": [
            [
             0,
             "#0d0887"
            ],
            [
             0.1111111111111111,
             "#46039f"
            ],
            [
             0.2222222222222222,
             "#7201a8"
            ],
            [
             0.3333333333333333,
             "#9c179e"
            ],
            [
             0.4444444444444444,
             "#bd3786"
            ],
            [
             0.5555555555555556,
             "#d8576b"
            ],
            [
             0.6666666666666666,
             "#ed7953"
            ],
            [
             0.7777777777777778,
             "#fb9f3a"
            ],
            [
             0.8888888888888888,
             "#fdca26"
            ],
            [
             1,
             "#f0f921"
            ]
           ]
          },
          "colorway": [
           "#636efa",
           "#EF553B",
           "#00cc96",
           "#ab63fa",
           "#FFA15A",
           "#19d3f3",
           "#FF6692",
           "#B6E880",
           "#FF97FF",
           "#FECB52"
          ],
          "font": {
           "color": "#2a3f5f"
          },
          "geo": {
           "bgcolor": "white",
           "lakecolor": "white",
           "landcolor": "#E5ECF6",
           "showlakes": true,
           "showland": true,
           "subunitcolor": "white"
          },
          "hoverlabel": {
           "align": "left"
          },
          "hovermode": "closest",
          "mapbox": {
           "style": "light"
          },
          "paper_bgcolor": "white",
          "plot_bgcolor": "#E5ECF6",
          "polar": {
           "angularaxis": {
            "gridcolor": "white",
            "linecolor": "white",
            "ticks": ""
           },
           "bgcolor": "#E5ECF6",
           "radialaxis": {
            "gridcolor": "white",
            "linecolor": "white",
            "ticks": ""
           }
          },
          "scene": {
           "xaxis": {
            "backgroundcolor": "#E5ECF6",
            "gridcolor": "white",
            "gridwidth": 2,
            "linecolor": "white",
            "showbackground": true,
            "ticks": "",
            "zerolinecolor": "white"
           },
           "yaxis": {
            "backgroundcolor": "#E5ECF6",
            "gridcolor": "white",
            "gridwidth": 2,
            "linecolor": "white",
            "showbackground": true,
            "ticks": "",
            "zerolinecolor": "white"
           },
           "zaxis": {
            "backgroundcolor": "#E5ECF6",
            "gridcolor": "white",
            "gridwidth": 2,
            "linecolor": "white",
            "showbackground": true,
            "ticks": "",
            "zerolinecolor": "white"
           }
          },
          "shapedefaults": {
           "line": {
            "color": "#2a3f5f"
           }
          },
          "ternary": {
           "aaxis": {
            "gridcolor": "white",
            "linecolor": "white",
            "ticks": ""
           },
           "baxis": {
            "gridcolor": "white",
            "linecolor": "white",
            "ticks": ""
           },
           "bgcolor": "#E5ECF6",
           "caxis": {
            "gridcolor": "white",
            "linecolor": "white",
            "ticks": ""
           }
          },
          "title": {
           "x": 0.05
          },
          "xaxis": {
           "automargin": true,
           "gridcolor": "white",
           "linecolor": "white",
           "ticks": "",
           "title": {
            "standoff": 15
           },
           "zerolinecolor": "white",
           "zerolinewidth": 2
          },
          "yaxis": {
           "automargin": true,
           "gridcolor": "white",
           "linecolor": "white",
           "ticks": "",
           "title": {
            "standoff": 15
           },
           "zerolinecolor": "white",
           "zerolinewidth": 2
          }
         }
        },
        "title": {
         "font": {
          "color": "white"
         },
         "text": "         Average precipitation per month "
        },
        "xaxis": {
         "anchor": "y",
         "color": "white",
         "domain": [
          0,
          1
         ],
         "title": {
          "text": "month"
         }
        },
        "yaxis": {
         "anchor": "x",
         "color": "white",
         "domain": [
          0,
          1
         ],
         "gridcolor": "rgba(255, 255, 255, 0.4)",
         "title": {
          "text": "precipitation (L/m2)"
         }
        }
       }
      }
     },
     "metadata": {},
     "output_type": "display_data"
    }
   ],
   "source": [
    "print(\"Natural Order\")\n",
    "print(month_rain_list)\n",
    "print(\"------------------------------------------------\")\n",
    "print(\"Descending order of prep\")\n",
    "month_rain_list_order = month_rain_list.sort_values(by=\"prep\", ascending=False)\n",
    "print(month_rain_list_order)\n",
    "\n",
    "fig = px.bar(month_rain_list, x=\"month_name\", y=\"prep\", \n",
    "                        title=f\"         Average precipitation per month \")\n",
    "fig.update_layout(\n",
    "        plot_bgcolor='rgba(0, 0, 0, 0)',\n",
    "        paper_bgcolor='rgba(0, 0, 0, 0)',\n",
    "        font=dict(color='white'),\n",
    "        title_font=dict(color='white'),\n",
    "        legend=dict(font=dict(color='white')),\n",
    "        xaxis=dict(title='month', color='white'),\n",
    "        yaxis=dict(title='precipitation (L/m2)', color='white', gridcolor='rgba(255, 255, 255, 0.4)'),\n",
    "        autosize=True,\n",
    "        margin=dict(l=20, r=20, t=40, b=40)\n",
    "    )\n",
    "fig.show()"
   ]
  },
  {
   "cell_type": "markdown",
   "id": "8dd2b4ba",
   "metadata": {},
   "source": [
    "The order of the months is determined by their seasonality. Depending on the season, they may have more or less precipitation, and even the transitions between seasons can vary. The graph above shows the average monthly precipitation, ordered by month. Therefore, the highest rainfall occurs in October, followed by January, and the lowest rainfall occurs in July and August, ordered as follows:\n",
    "**October > January > November > March > December > February > September > May > April > June > July > August**  \n",
    "  \n",
    "Month with the highest monthly precipitation: **October**  \n",
    "Month with the lowest monthly precipitation: **August**  \n",
    "  \n",
    "As mentioned before, this order is driven by seasonality: October marks the beginning of the strongest autumn, while August is the peak of summer. Another fairly high value is January; this is precisely when we transition from autumn to winter, which may explain this pattern."
   ]
  },
  {
   "cell_type": "markdown",
   "id": "7c6575df",
   "metadata": {},
   "source": [
    "#### Count of rainy days by month\n",
    "Knowing the number of rainy days per month may not seem very interesting. But in this context, speaking of Galicia, a place that feels like it's always raining, it's very interesting to me. With this, we can find out:\n",
    "- Number of rainy days per month\n",
    "- Month with the most rainy days\n",
    "- Month with the fewest rainy days"
   ]
  },
  {
   "cell_type": "code",
   "execution_count": 12,
   "id": "caff33bb",
   "metadata": {},
   "outputs": [
    {
     "data": {
      "text/html": [
       "<div>\n",
       "<style scoped>\n",
       "    .dataframe tbody tr th:only-of-type {\n",
       "        vertical-align: middle;\n",
       "    }\n",
       "\n",
       "    .dataframe tbody tr th {\n",
       "        vertical-align: top;\n",
       "    }\n",
       "\n",
       "    .dataframe thead th {\n",
       "        text-align: right;\n",
       "    }\n",
       "</style>\n",
       "<table border=\"1\" class=\"dataframe\">\n",
       "  <thead>\n",
       "    <tr style=\"text-align: right;\">\n",
       "      <th></th>\n",
       "      <th>month</th>\n",
       "      <th>count of rainy days</th>\n",
       "      <th>month_name</th>\n",
       "    </tr>\n",
       "  </thead>\n",
       "  <tbody>\n",
       "    <tr>\n",
       "      <th>0</th>\n",
       "      <td>1.0</td>\n",
       "      <td>19</td>\n",
       "      <td>january</td>\n",
       "    </tr>\n",
       "    <tr>\n",
       "      <th>1</th>\n",
       "      <td>2.0</td>\n",
       "      <td>13</td>\n",
       "      <td>february</td>\n",
       "    </tr>\n",
       "    <tr>\n",
       "      <th>2</th>\n",
       "      <td>3.0</td>\n",
       "      <td>22</td>\n",
       "      <td>march</td>\n",
       "    </tr>\n",
       "    <tr>\n",
       "      <th>3</th>\n",
       "      <td>4.0</td>\n",
       "      <td>13</td>\n",
       "      <td>april</td>\n",
       "    </tr>\n",
       "    <tr>\n",
       "      <th>4</th>\n",
       "      <td>5.0</td>\n",
       "      <td>19</td>\n",
       "      <td>may</td>\n",
       "    </tr>\n",
       "    <tr>\n",
       "      <th>5</th>\n",
       "      <td>6.0</td>\n",
       "      <td>16</td>\n",
       "      <td>june</td>\n",
       "    </tr>\n",
       "    <tr>\n",
       "      <th>6</th>\n",
       "      <td>7.0</td>\n",
       "      <td>11</td>\n",
       "      <td>july</td>\n",
       "    </tr>\n",
       "    <tr>\n",
       "      <th>7</th>\n",
       "      <td>8.0</td>\n",
       "      <td>12</td>\n",
       "      <td>august</td>\n",
       "    </tr>\n",
       "    <tr>\n",
       "      <th>8</th>\n",
       "      <td>9.0</td>\n",
       "      <td>17</td>\n",
       "      <td>september</td>\n",
       "    </tr>\n",
       "    <tr>\n",
       "      <th>9</th>\n",
       "      <td>10.0</td>\n",
       "      <td>22</td>\n",
       "      <td>october</td>\n",
       "    </tr>\n",
       "    <tr>\n",
       "      <th>10</th>\n",
       "      <td>11.0</td>\n",
       "      <td>20</td>\n",
       "      <td>november</td>\n",
       "    </tr>\n",
       "    <tr>\n",
       "      <th>11</th>\n",
       "      <td>12.0</td>\n",
       "      <td>19</td>\n",
       "      <td>december</td>\n",
       "    </tr>\n",
       "  </tbody>\n",
       "</table>\n",
       "</div>"
      ],
      "text/plain": [
       "    month  count of rainy days month_name\n",
       "0     1.0                   19    january\n",
       "1     2.0                   13   february\n",
       "2     3.0                   22      march\n",
       "3     4.0                   13      april\n",
       "4     5.0                   19        may\n",
       "5     6.0                   16       june\n",
       "6     7.0                   11       july\n",
       "7     8.0                   12     august\n",
       "8     9.0                   17  september\n",
       "9    10.0                   22    october\n",
       "10   11.0                   20   november\n",
       "11   12.0                   19   december"
      ]
     },
     "execution_count": 12,
     "metadata": {},
     "output_type": "execute_result"
    }
   ],
   "source": [
    "df_prep = df[[\"date\", \"prep\", \"month\"]].groupby(\"date\").mean().reset_index()\n",
    "df_2324 = df_prep[df_prep['date'].dt.year < 2025]\n",
    "df_count_days = df_2324[df_2324[\"prep\"] > 0].groupby(\"month\").size().apply(lambda x: int(x/2)).reset_index().rename(columns={0:\"count of rainy days\"})\n",
    "df_count_days['month_name'] = df_count_days['month'].map(meses)\n",
    "df_count_days"
   ]
  },
  {
   "cell_type": "code",
   "execution_count": 13,
   "id": "dd967750",
   "metadata": {},
   "outputs": [
    {
     "name": "stdout",
     "output_type": "stream",
     "text": [
      "Descending order of count rainy days\n",
      "    month  count of rainy days month_name\n",
      "2     3.0                   22      march\n",
      "9    10.0                   22    october\n",
      "10   11.0                   20   november\n",
      "0     1.0                   19    january\n",
      "4     5.0                   19        may\n",
      "11   12.0                   19   december\n",
      "8     9.0                   17  september\n",
      "5     6.0                   16       june\n",
      "3     4.0                   13      april\n",
      "1     2.0                   13   february\n",
      "7     8.0                   12     august\n",
      "6     7.0                   11       july\n"
     ]
    },
    {
     "data": {
      "image/png": "[encoded data removed]",
      "text/plain": [
       "<Figure size 1400x600 with 1 Axes>"
      ]
     },
     "metadata": {},
     "output_type": "display_data"
    }
   ],
   "source": [
    "print(\"Descending order of count rainy days\")\n",
    "df_count_days_order = df_count_days.sort_values(by=\"count of rainy days\", ascending=False)\n",
    "print(df_count_days_order)\n",
    "plt.figure(figsize=(14, 6))\n",
    "sns.barplot(df_count_days, x=\"month_name\", y=\"count of rainy days\")\n",
    "plt.show()"
   ]
  },
  {
   "cell_type": "code",
   "execution_count": 14,
   "id": "e63a07cf",
   "metadata": {},
   "outputs": [
    {
     "name": "stdout",
     "output_type": "stream",
     "text": [
      "Quantity of days with rain in Galicia: 203\n",
      "Percentage of days with rain in Galicia per year 0.56\n"
     ]
    }
   ],
   "source": [
    "qty = df_count_days_order['count of rainy days'].sum()\n",
    "print(f\"Quantity of days with rain in Galicia: {qty}\")\n",
    "print(f'Percentage of days with rain in Galicia per year {round(qty/365, 2)}')"
   ]
  },
  {
   "cell_type": "markdown",
   "id": "65550e41",
   "metadata": {},
   "source": [
    "The order of the number of rainy days per month is:  \n",
    "**March = October > November > January = May = December > September > June > April = February > August > July**  \n",
    "In Galicia, there are two months with the most rainy days: March and October. This is interesting because March doesn't even rank third in terms of average rainfall, but October has the highest average rainfall. On the other hand, the lowest rainfall occurs in July.  \n",
    "This means that each month it rains at least more than 1/3 of the month (11 days), while at most it rains more than 2/3 of the month (22 days)"
   ]
  },
  {
   "cell_type": "markdown",
   "id": "72e8530f",
   "metadata": {},
   "source": [
    "### Temperature  \n",
    "When talking about climate, we always ask about the temperature; this is the most important indicator, and that's why it's included in this study. It's true that for Galicia, it may not vary that much, but it's always important to know which is the coldest and warmest city within Galicia. And with it, the temperature variation throughout the year.\n",
    "#### Temperature about cities:\n",
    "Here we're talking about temperature by city. Which is the coldest city? Which is the hottest? Why? Are there any cities that generally have a pleasant temperature?"
   ]
  },
  {
   "cell_type": "code",
   "execution_count": 15,
   "id": "aa655d7e",
   "metadata": {},
   "outputs": [
    {
     "data": {
      "text/plain": [
       "city\n",
       "Coruña                    15.635030\n",
       "Lugo                      12.610110\n",
       "Ourense                   14.689866\n",
       "Pontevedra                15.698965\n",
       "Santiago de Compostela    13.793544\n",
       "Vigo                      16.263520\n",
       "Name: temp, dtype: float64"
      ]
     },
     "execution_count": 15,
     "metadata": {},
     "output_type": "execute_result"
    }
   ],
   "source": [
    "prom_temp = df.groupby(\"city\")[\"temp\"].mean()\n",
    "prom_temp"
   ]
  },
  {
   "cell_type": "code",
   "execution_count": 16,
   "id": "bcf84420",
   "metadata": {},
   "outputs": [
    {
     "name": "stdout",
     "output_type": "stream",
     "text": [
      "                     city       temp\n",
      "0                    Vigo  16.263520\n",
      "1              Pontevedra  15.698965\n",
      "2                  Coruña  15.635030\n",
      "3                 Ourense  14.689866\n",
      "4  Santiago de Compostela  13.793544\n",
      "5                    Lugo  12.610110\n"
     ]
    },
    {
     "data": {
      "application/vnd.plotly.v1+json": {
       "config": {
        "plotlyServerURL": "https://plot.ly"
       },
       "data": [
        {
         "hovertemplate": "city=%{x}<br>temp=%{y}<extra></extra>",
         "legendgroup": "",
         "marker": {
          "color": "#636efa",
          "pattern": {
           "shape": ""
          }
         },
         "name": "",
         "orientation": "v",
         "showlegend": false,
         "textposition": "auto",
         "type": "bar",
         "x": [
          "Vigo",
          "Pontevedra",
          "Coruña",
          "Ourense",
          "Santiago de Compostela",
          "Lugo"
         ],
         "xaxis": "x",
         "y": {
          "bdata": "TVqYDXZDMECOdruy3mUvQNAuE7YiRS9ANLlbHjZhLUAy4I11S5YrQF131klgOClA",
          "dtype": "f8"
         },
         "yaxis": "y"
        }
       ],
       "layout": {
        "autosize": true,
        "barmode": "relative",
        "font": {
         "color": "white"
        },
        "legend": {
         "font": {
          "color": "white"
         },
         "tracegroupgap": 0
        },
        "margin": {
         "b": 40,
         "l": 20,
         "r": 20,
         "t": 40
        },
        "paper_bgcolor": "rgba(0, 0, 0, 0)",
        "plot_bgcolor": "rgba(0, 0, 0, 0)",
        "template": {
         "data": {
          "bar": [
           {
            "error_x": {
             "color": "#2a3f5f"
            },
            "error_y": {
             "color": "#2a3f5f"
            },
            "marker": {
             "line": {
              "color": "#E5ECF6",
              "width": 0.5
             },
             "pattern": {
              "fillmode": "overlay",
              "size": 10,
              "solidity": 0.2
             }
            },
            "type": "bar"
           }
          ],
          "barpolar": [
           {
            "marker": {
             "line": {
              "color": "#E5ECF6",
              "width": 0.5
             },
             "pattern": {
              "fillmode": "overlay",
              "size": 10,
              "solidity": 0.2
             }
            },
            "type": "barpolar"
           }
          ],
          "carpet": [
           {
            "aaxis": {
             "endlinecolor": "#2a3f5f",
             "gridcolor": "white",
             "linecolor": "white",
             "minorgridcolor": "white",
             "startlinecolor": "#2a3f5f"
            },
            "baxis": {
             "endlinecolor": "#2a3f5f",
             "gridcolor": "white",
             "linecolor": "white",
             "minorgridcolor": "white",
             "startlinecolor": "#2a3f5f"
            },
            "type": "carpet"
           }
          ],
          "choropleth": [
           {
            "colorbar": {
             "outlinewidth": 0,
             "ticks": ""
            },
            "type": "choropleth"
           }
          ],
          "contour": [
           {
            "colorbar": {
             "outlinewidth": 0,
             "ticks": ""
            },
            "colorscale": [
             [
              0,
              "#0d0887"
             ],
             [
              0.1111111111111111,
              "#46039f"
             ],
             [
              0.2222222222222222,
              "#7201a8"
             ],
             [
              0.3333333333333333,
              "#9c179e"
             ],
             [
              0.4444444444444444,
              "#bd3786"
             ],
             [
              0.5555555555555556,
              "#d8576b"
             ],
             [
              0.6666666666666666,
              "#ed7953"
             ],
             [
              0.7777777777777778,
              "#fb9f3a"
             ],
             [
              0.8888888888888888,
              "#fdca26"
             ],
             [
              1,
              "#f0f921"
             ]
            ],
            "type": "contour"
           }
          ],
          "contourcarpet": [
           {
            "colorbar": {
             "outlinewidth": 0,
             "ticks": ""
            },
            "type": "contourcarpet"
           }
          ],
          "heatmap": [
           {
            "colorbar": {
             "outlinewidth": 0,
             "ticks": ""
            },
            "colorscale": [
             [
              0,
              "#0d0887"
             ],
             [
              0.1111111111111111,
              "#46039f"
             ],
             [
              0.2222222222222222,
              "#7201a8"
             ],
             [
              0.3333333333333333,
              "#9c179e"
             ],
             [
              0.4444444444444444,
              "#bd3786"
             ],
             [
              0.5555555555555556,
              "#d8576b"
             ],
             [
              0.6666666666666666,
              "#ed7953"
             ],
             [
              0.7777777777777778,
              "#fb9f3a"
             ],
             [
              0.8888888888888888,
              "#fdca26"
             ],
             [
              1,
              "#f0f921"
             ]
            ],
            "type": "heatmap"
           }
          ],
          "histogram": [
           {
            "marker": {
             "pattern": {
              "fillmode": "overlay",
              "size": 10,
              "solidity": 0.2
             }
            },
            "type": "histogram"
           }
          ],
          "histogram2d": [
           {
            "colorbar": {
             "outlinewidth": 0,
             "ticks": ""
            },
            "colorscale": [
             [
              0,
              "#0d0887"
             ],
             [
              0.1111111111111111,
              "#46039f"
             ],
             [
              0.2222222222222222,
              "#7201a8"
             ],
             [
              0.3333333333333333,
              "#9c179e"
             ],
             [
              0.4444444444444444,
              "#bd3786"
             ],
             [
              0.5555555555555556,
              "#d8576b"
             ],
             [
              0.6666666666666666,
              "#ed7953"
             ],
             [
              0.7777777777777778,
              "#fb9f3a"
             ],
             [
              0.8888888888888888,
              "#fdca26"
             ],
             [
              1,
              "#f0f921"
             ]
            ],
            "type": "histogram2d"
           }
          ],
          "histogram2dcontour": [
           {
            "colorbar": {
             "outlinewidth": 0,
             "ticks": ""
            },
            "colorscale": [
             [
              0,
              "#0d0887"
             ],
             [
              0.1111111111111111,
              "#46039f"
             ],
             [
              0.2222222222222222,
              "#7201a8"
             ],
             [
              0.3333333333333333,
              "#9c179e"
             ],
             [
              0.4444444444444444,
              "#bd3786"
             ],
             [
              0.5555555555555556,
              "#d8576b"
             ],
             [
              0.6666666666666666,
              "#ed7953"
             ],
             [
              0.7777777777777778,
              "#fb9f3a"
             ],
             [
              0.8888888888888888,
              "#fdca26"
             ],
             [
              1,
              "#f0f921"
             ]
            ],
            "type": "histogram2dcontour"
           }
          ],
          "mesh3d": [
           {
            "colorbar": {
             "outlinewidth": 0,
             "ticks": ""
            },
            "type": "mesh3d"
           }
          ],
          "parcoords": [
           {
            "line": {
             "colorbar": {
              "outlinewidth": 0,
              "ticks": ""
             }
            },
            "type": "parcoords"
           }
          ],
          "pie": [
           {
            "automargin": true,
            "type": "pie"
           }
          ],
          "scatter": [
           {
            "fillpattern": {
             "fillmode": "overlay",
             "size": 10,
             "solidity": 0.2
            },
            "type": "scatter"
           }
          ],
          "scatter3d": [
           {
            "line": {
             "colorbar": {
              "outlinewidth": 0,
              "ticks": ""
             }
            },
            "marker": {
             "colorbar": {
              "outlinewidth": 0,
              "ticks": ""
             }
            },
            "type": "scatter3d"
           }
          ],
          "scattercarpet": [
           {
            "marker": {
             "colorbar": {
              "outlinewidth": 0,
              "ticks": ""
             }
            },
            "type": "scattercarpet"
           }
          ],
          "scattergeo": [
           {
            "marker": {
             "colorbar": {
              "outlinewidth": 0,
              "ticks": ""
             }
            },
            "type": "scattergeo"
           }
          ],
          "scattergl": [
           {
            "marker": {
             "colorbar": {
              "outlinewidth": 0,
              "ticks": ""
             }
            },
            "type": "scattergl"
           }
          ],
          "scattermap": [
           {
            "marker": {
             "colorbar": {
              "outlinewidth": 0,
              "ticks": ""
             }
            },
            "type": "scattermap"
           }
          ],
          "scattermapbox": [
           {
            "marker": {
             "colorbar": {
              "outlinewidth": 0,
              "ticks": ""
             }
            },
            "type": "scattermapbox"
           }
          ],
          "scatterpolar": [
           {
            "marker": {
             "colorbar": {
              "outlinewidth": 0,
              "ticks": ""
             }
            },
            "type": "scatterpolar"
           }
          ],
          "scatterpolargl": [
           {
            "marker": {
             "colorbar": {
              "outlinewidth": 0,
              "ticks": ""
             }
            },
            "type": "scatterpolargl"
           }
          ],
          "scatterternary": [
           {
            "marker": {
             "colorbar": {
              "outlinewidth": 0,
              "ticks": ""
             }
            },
            "type": "scatterternary"
           }
          ],
          "surface": [
           {
            "colorbar": {
             "outlinewidth": 0,
             "ticks": ""
            },
            "colorscale": [
             [
              0,
              "#0d0887"
             ],
             [
              0.1111111111111111,
              "#46039f"
             ],
             [
              0.2222222222222222,
              "#7201a8"
             ],
             [
              0.3333333333333333,
              "#9c179e"
             ],
             [
              0.4444444444444444,
              "#bd3786"
             ],
             [
              0.5555555555555556,
              "#d8576b"
             ],
             [
              0.6666666666666666,
              "#ed7953"
             ],
             [
              0.7777777777777778,
              "#fb9f3a"
             ],
             [
              0.8888888888888888,
              "#fdca26"
             ],
             [
              1,
              "#f0f921"
             ]
            ],
            "type": "surface"
           }
          ],
          "table": [
           {
            "cells": {
             "fill": {
              "color": "#EBF0F8"
             },
             "line": {
              "color": "white"
             }
            },
            "header": {
             "fill": {
              "color": "#C8D4E3"
             },
             "line": {
              "color": "white"
             }
            },
            "type": "table"
           }
          ]
         },
         "layout": {
          "annotationdefaults": {
           "arrowcolor": "#2a3f5f",
           "arrowhead": 0,
           "arrowwidth": 1
          },
          "autotypenumbers": "strict",
          "coloraxis": {
           "colorbar": {
            "outlinewidth": 0,
            "ticks": ""
           }
          },
          "colorscale": {
           "diverging": [
            [
             0,
             "#8e0152"
            ],
            [
             0.1,
             "#c51b7d"
            ],
            [
             0.2,
             "#de77ae"
            ],
            [
             0.3,
             "#f1b6da"
            ],
            [
             0.4,
             "#fde0ef"
            ],
            [
             0.5,
             "#f7f7f7"
            ],
            [
             0.6,
             "#e6f5d0"
            ],
            [
             0.7,
             "#b8e186"
            ],
            [
             0.8,
             "#7fbc41"
            ],
            [
             0.9,
             "#4d9221"
            ],
            [
             1,
             "#276419"
            ]
           ],
           "sequential": [
            [
             0,
             "#0d0887"
            ],
            [
             0.1111111111111111,
             "#46039f"
            ],
            [
             0.2222222222222222,
             "#7201a8"
            ],
            [
             0.3333333333333333,
             "#9c179e"
            ],
            [
             0.4444444444444444,
             "#bd3786"
            ],
            [
             0.5555555555555556,
             "#d8576b"
            ],
            [
             0.6666666666666666,
             "#ed7953"
            ],
            [
             0.7777777777777778,
             "#fb9f3a"
            ],
            [
             0.8888888888888888,
             "#fdca26"
            ],
            [
             1,
             "#f0f921"
            ]
           ],
           "sequentialminus": [
            [
             0,
             "#0d0887"
            ],
            [
             0.1111111111111111,
             "#46039f"
            ],
            [
             0.2222222222222222,
             "#7201a8"
            ],
            [
             0.3333333333333333,
             "#9c179e"
            ],
            [
             0.4444444444444444,
             "#bd3786"
            ],
            [
             0.5555555555555556,
             "#d8576b"
            ],
            [
             0.6666666666666666,
             "#ed7953"
            ],
            [
             0.7777777777777778,
             "#fb9f3a"
            ],
            [
             0.8888888888888888,
             "#fdca26"
            ],
            [
             1,
             "#f0f921"
            ]
           ]
          },
          "colorway": [
           "#636efa",
           "#EF553B",
           "#00cc96",
           "#ab63fa",
           "#FFA15A",
           "#19d3f3",
           "#FF6692",
           "#B6E880",
           "#FF97FF",
           "#FECB52"
          ],
          "font": {
           "color": "#2a3f5f"
          },
          "geo": {
           "bgcolor": "white",
           "lakecolor": "white",
           "landcolor": "#E5ECF6",
           "showlakes": true,
           "showland": true,
           "subunitcolor": "white"
          },
          "hoverlabel": {
           "align": "left"
          },
          "hovermode": "closest",
          "mapbox": {
           "style": "light"
          },
          "paper_bgcolor": "white",
          "plot_bgcolor": "#E5ECF6",
          "polar": {
           "angularaxis": {
            "gridcolor": "white",
            "linecolor": "white",
            "ticks": ""
           },
           "bgcolor": "#E5ECF6",
           "radialaxis": {
            "gridcolor": "white",
            "linecolor": "white",
            "ticks": ""
           }
          },
          "scene": {
           "xaxis": {
            "backgroundcolor": "#E5ECF6",
            "gridcolor": "white",
            "gridwidth": 2,
            "linecolor": "white",
            "showbackground": true,
            "ticks": "",
            "zerolinecolor": "white"
           },
           "yaxis": {
            "backgroundcolor": "#E5ECF6",
            "gridcolor": "white",
            "gridwidth": 2,
            "linecolor": "white",
            "showbackground": true,
            "ticks": "",
            "zerolinecolor": "white"
           },
           "zaxis": {
            "backgroundcolor": "#E5ECF6",
            "gridcolor": "white",
            "gridwidth": 2,
            "linecolor": "white",
            "showbackground": true,
            "ticks": "",
            "zerolinecolor": "white"
           }
          },
          "shapedefaults": {
           "line": {
            "color": "#2a3f5f"
           }
          },
          "ternary": {
           "aaxis": {
            "gridcolor": "white",
            "linecolor": "white",
            "ticks": ""
           },
           "baxis": {
            "gridcolor": "white",
            "linecolor": "white",
            "ticks": ""
           },
           "bgcolor": "#E5ECF6",
           "caxis": {
            "gridcolor": "white",
            "linecolor": "white",
            "ticks": ""
           }
          },
          "title": {
           "x": 0.05
          },
          "xaxis": {
           "automargin": true,
           "gridcolor": "white",
           "linecolor": "white",
           "ticks": "",
           "title": {
            "standoff": 15
           },
           "zerolinecolor": "white",
           "zerolinewidth": 2
          },
          "yaxis": {
           "automargin": true,
           "gridcolor": "white",
           "linecolor": "white",
           "ticks": "",
           "title": {
            "standoff": 15
           },
           "zerolinecolor": "white",
           "zerolinewidth": 2
          }
         }
        },
        "title": {
         "font": {
          "color": "white"
         },
         "text": "         Average Temperature about city"
        },
        "xaxis": {
         "anchor": "y",
         "color": "white",
         "domain": [
          0,
          1
         ],
         "title": {
          "text": "cities"
         }
        },
        "yaxis": {
         "anchor": "x",
         "color": "white",
         "domain": [
          0,
          1
         ],
         "gridcolor": "rgba(255, 255, 255, 0.4)",
         "title": {
          "text": "rainy days"
         }
        }
       }
      }
     },
     "metadata": {},
     "output_type": "display_data"
    }
   ],
   "source": [
    "temp_list = prom_temp.sort_values(ascending=False).reset_index().rename(columns={0:\"temp\"})\n",
    "print(temp_list)\n",
    "fig = px.bar(temp_list, x=\"city\", y=\"temp\", \n",
    "                        title=f\"         Average Temperature about city\")\n",
    "fig.update_layout(\n",
    "        plot_bgcolor='rgba(0, 0, 0, 0)',\n",
    "        paper_bgcolor='rgba(0, 0, 0, 0)',\n",
    "        font=dict(color='white'),\n",
    "        title_font=dict(color='white'),\n",
    "        legend=dict(font=dict(color='white')),\n",
    "        xaxis=dict(title='cities', color='white'),\n",
    "        yaxis=dict(title='rainy days', color='white', gridcolor='rgba(255, 255, 255, 0.4)'),\n",
    "        autosize=True,\n",
    "        margin=dict(l=20, r=20, t=40, b=40)\n",
    "    )\n",
    "fig.show()"
   ]
  },
  {
   "cell_type": "code",
   "execution_count": 17,
   "id": "c02449cc",
   "metadata": {},
   "outputs": [
    {
     "data": {
      "text/html": [
       "<div>\n",
       "<style scoped>\n",
       "    .dataframe tbody tr th:only-of-type {\n",
       "        vertical-align: middle;\n",
       "    }\n",
       "\n",
       "    .dataframe tbody tr th {\n",
       "        vertical-align: top;\n",
       "    }\n",
       "\n",
       "    .dataframe thead th {\n",
       "        text-align: right;\n",
       "    }\n",
       "</style>\n",
       "<table border=\"1\" class=\"dataframe\">\n",
       "  <thead>\n",
       "    <tr style=\"text-align: right;\">\n",
       "      <th></th>\n",
       "      <th>city</th>\n",
       "      <th>temp</th>\n",
       "    </tr>\n",
       "  </thead>\n",
       "  <tbody>\n",
       "    <tr>\n",
       "      <th>0</th>\n",
       "      <td>Ourense</td>\n",
       "      <td>31.00</td>\n",
       "    </tr>\n",
       "    <tr>\n",
       "      <th>1</th>\n",
       "      <td>Lugo</td>\n",
       "      <td>27.80</td>\n",
       "    </tr>\n",
       "    <tr>\n",
       "      <th>2</th>\n",
       "      <td>Pontevedra</td>\n",
       "      <td>26.69</td>\n",
       "    </tr>\n",
       "    <tr>\n",
       "      <th>3</th>\n",
       "      <td>Santiago de Compostela</td>\n",
       "      <td>26.61</td>\n",
       "    </tr>\n",
       "    <tr>\n",
       "      <th>4</th>\n",
       "      <td>Vigo</td>\n",
       "      <td>26.03</td>\n",
       "    </tr>\n",
       "    <tr>\n",
       "      <th>5</th>\n",
       "      <td>Coruña</td>\n",
       "      <td>24.56</td>\n",
       "    </tr>\n",
       "  </tbody>\n",
       "</table>\n",
       "</div>"
      ],
      "text/plain": [
       "                     city   temp\n",
       "0                 Ourense  31.00\n",
       "1                    Lugo  27.80\n",
       "2              Pontevedra  26.69\n",
       "3  Santiago de Compostela  26.61\n",
       "4                    Vigo  26.03\n",
       "5                  Coruña  24.56"
      ]
     },
     "execution_count": 17,
     "metadata": {},
     "output_type": "execute_result"
    }
   ],
   "source": [
    "df.groupby(\"city\")[\"temp\"].max().sort_values(ascending=False).reset_index().rename(columns={0:\"temp\"})"
   ]
  },
  {
   "cell_type": "code",
   "execution_count": 18,
   "id": "758caad0",
   "metadata": {},
   "outputs": [
    {
     "data": {
      "text/html": [
       "<div>\n",
       "<style scoped>\n",
       "    .dataframe tbody tr th:only-of-type {\n",
       "        vertical-align: middle;\n",
       "    }\n",
       "\n",
       "    .dataframe tbody tr th {\n",
       "        vertical-align: top;\n",
       "    }\n",
       "\n",
       "    .dataframe thead th {\n",
       "        text-align: right;\n",
       "    }\n",
       "</style>\n",
       "<table border=\"1\" class=\"dataframe\">\n",
       "  <thead>\n",
       "    <tr style=\"text-align: right;\">\n",
       "      <th></th>\n",
       "      <th>city</th>\n",
       "      <th>temp</th>\n",
       "    </tr>\n",
       "  </thead>\n",
       "  <tbody>\n",
       "    <tr>\n",
       "      <th>0</th>\n",
       "      <td>Vigo</td>\n",
       "      <td>6.67</td>\n",
       "    </tr>\n",
       "    <tr>\n",
       "      <th>1</th>\n",
       "      <td>Coruña</td>\n",
       "      <td>6.42</td>\n",
       "    </tr>\n",
       "    <tr>\n",
       "      <th>2</th>\n",
       "      <td>Pontevedra</td>\n",
       "      <td>4.80</td>\n",
       "    </tr>\n",
       "    <tr>\n",
       "      <th>3</th>\n",
       "      <td>Santiago de Compostela</td>\n",
       "      <td>3.40</td>\n",
       "    </tr>\n",
       "    <tr>\n",
       "      <th>4</th>\n",
       "      <td>Ourense</td>\n",
       "      <td>1.04</td>\n",
       "    </tr>\n",
       "    <tr>\n",
       "      <th>5</th>\n",
       "      <td>Lugo</td>\n",
       "      <td>0.56</td>\n",
       "    </tr>\n",
       "  </tbody>\n",
       "</table>\n",
       "</div>"
      ],
      "text/plain": [
       "                     city  temp\n",
       "0                    Vigo  6.67\n",
       "1                  Coruña  6.42\n",
       "2              Pontevedra  4.80\n",
       "3  Santiago de Compostela  3.40\n",
       "4                 Ourense  1.04\n",
       "5                    Lugo  0.56"
      ]
     },
     "execution_count": 18,
     "metadata": {},
     "output_type": "execute_result"
    }
   ],
   "source": [
    "df.groupby(\"city\")[\"temp\"].min().sort_values(ascending=False).reset_index().rename(columns={0:\"temp\"})"
   ]
  },
  {
   "cell_type": "markdown",
   "id": "02daa3d7",
   "metadata": {},
   "source": [
    "The distribution for **average temperature** per city:  \n",
    "**Vigo > Pontevedra > Coruña > Ourense > Santiago de Compostela > Lugo**  \n",
    "  \n",
    "The distribution for **MAX temperature** per city:  \n",
    "**Ourense > Lugo > Pontevedra > Santiago de Compostela > Vigo > Coruña**  \n",
    "  \n",
    "The distribution for **MIN temperature** per city:  \n",
    "**Vigo > Coruña > Pontevedra > Santiago de Compostela > Ourense > Lugo**  \n",
    "    \n",
    "These statistics are very important because, if you look at the average temperature, the city with the highest value is Vigo (16.2°C). However, it is the second-to-last city when ordered by absolute maximum temperatures, while it has the highest value for absolute minimum temperatures. The important conclusion here is Vigo's low temperature variability, in addition to having a good climate, as it doesn't get too hot and it's not the coldest city either.  \n",
    "  \n",
    "So, we'll look for the standard deviation to consider the variability data."
   ]
  },
  {
   "cell_type": "code",
   "execution_count": 19,
   "id": "a21107cc",
   "metadata": {},
   "outputs": [
    {
     "data": {
      "text/html": [
       "<div>\n",
       "<style scoped>\n",
       "    .dataframe tbody tr th:only-of-type {\n",
       "        vertical-align: middle;\n",
       "    }\n",
       "\n",
       "    .dataframe tbody tr th {\n",
       "        vertical-align: top;\n",
       "    }\n",
       "\n",
       "    .dataframe thead th {\n",
       "        text-align: right;\n",
       "    }\n",
       "</style>\n",
       "<table border=\"1\" class=\"dataframe\">\n",
       "  <thead>\n",
       "    <tr style=\"text-align: right;\">\n",
       "      <th></th>\n",
       "      <th>city</th>\n",
       "      <th>temp</th>\n",
       "    </tr>\n",
       "  </thead>\n",
       "  <tbody>\n",
       "    <tr>\n",
       "      <th>0</th>\n",
       "      <td>Ourense</td>\n",
       "      <td>6.100568</td>\n",
       "    </tr>\n",
       "    <tr>\n",
       "      <th>1</th>\n",
       "      <td>Lugo</td>\n",
       "      <td>5.378767</td>\n",
       "    </tr>\n",
       "    <tr>\n",
       "      <th>2</th>\n",
       "      <td>Pontevedra</td>\n",
       "      <td>4.707399</td>\n",
       "    </tr>\n",
       "    <tr>\n",
       "      <th>3</th>\n",
       "      <td>Santiago de Compostela</td>\n",
       "      <td>4.503681</td>\n",
       "    </tr>\n",
       "    <tr>\n",
       "      <th>4</th>\n",
       "      <td>Vigo</td>\n",
       "      <td>3.865587</td>\n",
       "    </tr>\n",
       "    <tr>\n",
       "      <th>5</th>\n",
       "      <td>Coruña</td>\n",
       "      <td>3.647277</td>\n",
       "    </tr>\n",
       "  </tbody>\n",
       "</table>\n",
       "</div>"
      ],
      "text/plain": [
       "                     city      temp\n",
       "0                 Ourense  6.100568\n",
       "1                    Lugo  5.378767\n",
       "2              Pontevedra  4.707399\n",
       "3  Santiago de Compostela  4.503681\n",
       "4                    Vigo  3.865587\n",
       "5                  Coruña  3.647277"
      ]
     },
     "execution_count": 19,
     "metadata": {},
     "output_type": "execute_result"
    }
   ],
   "source": [
    "df.groupby(\"city\")[\"temp\"].std().sort_values(ascending=False).reset_index().rename(columns={0:\"temp\"})"
   ]
  },
  {
   "cell_type": "markdown",
   "id": "067942aa",
   "metadata": {},
   "source": [
    "The distribution for standard deviation per city:  \n",
    "**Ourense > Lugo > Pontevedra > Santiago de Compostela > Vigo > Coruña**  \n",
    "  \n",
    "Once again, Vigo is second to last, which is very important, as the temperature in Vigo is comfortable and hovers around **16°C (+/-6.1°C)**. The other cities have the lowest temperatures and the greatest variation (with the exception of A Coruña)."
   ]
  },
  {
   "cell_type": "markdown",
   "id": "1a4c7ed6",
   "metadata": {},
   "source": [
    "\n",
    "#### Temperature about dates:\n",
    "This section shows the monthly temperature distribution within the Galician region. This helps to understand the variability in temperature across the different seasons."
   ]
  },
  {
   "cell_type": "code",
   "execution_count": 20,
   "id": "8e960c6e",
   "metadata": {},
   "outputs": [
    {
     "name": "stdout",
     "output_type": "stream",
     "text": [
      "Average temperature by Month\n",
      "         temp month_name\n",
      "7   21.340833     august\n",
      "6   20.470430       july\n",
      "5   19.021639       june\n",
      "8   18.366111  september\n",
      "9   17.081882    october\n",
      "4   15.857366        may\n",
      "3   14.538861      april\n",
      "10  13.979389   november\n",
      "2   11.694677      march\n",
      "1   10.637235   february\n",
      "0   10.153674    january\n",
      "11   9.853817   december\n",
      "----------------------------------------------------------------\n",
      "Max temperature by Month\n",
      "     temp month_name\n",
      "7   31.00     august\n",
      "6   28.34       july\n",
      "5   27.12       june\n",
      "9   24.56    october\n",
      "8   24.41  september\n",
      "4   22.39        may\n",
      "2   21.53      march\n",
      "10  21.25   november\n",
      "3   20.84      april\n",
      "1   19.16   february\n",
      "11  18.51   december\n",
      "0   17.52    january\n",
      "----------------------------------------------------------------\n",
      "Min temperature by Month\n",
      "     temp month_name\n",
      "11   0.56   december\n",
      "0    1.11    january\n",
      "1    2.23   february\n",
      "2    2.30      march\n",
      "10   5.47   november\n",
      "3    6.52      april\n",
      "4    6.73        may\n",
      "9    9.27    october\n",
      "8   11.22  september\n",
      "5   13.73       june\n",
      "6   15.32       july\n",
      "7   15.59     august\n"
     ]
    },
    {
     "data": {
      "application/vnd.plotly.v1+json": {
       "config": {
        "plotlyServerURL": "https://plot.ly"
       },
       "data": [
        {
         "alignmentgroup": "True",
         "hovertemplate": "month_name=%{x}<br>temp=%{y}<extra></extra>",
         "legendgroup": "",
         "marker": {
          "color": "#636efa"
         },
         "name": "",
         "notched": false,
         "offsetgroup": "",
         "orientation": "v",
         "showlegend": false,
         "type": "box",
         "x": [
          "january",
          "january",
          "january",
          "january",
          "january",
          "january",
          "january",
          "january",
          "january",
          "january",
          "january",
          "january",
          "january",
          "january",
          "january",
          "january",
          "january",
          "january",
          "january",
          "january",
          "january",
          "january",
          "january",
          "january",
          "january",
          "january",
          "january",
          "january",
          "january",
          "january",
          "january",
          "february",
          "february",
          "february",
          "february",
          "february",
          "february",
          "february",
          "february",
          "february",
          "february",
          "february",
          "february",
          "february",
          "february",
          "february",
          "february",
          "february",
          "february",
          "february",
          "february",
          "february",
          "february",
          "february",
          "february",
          "february",
          "february",
          "february",
          "february",
          "march",
          "march",
          "march",
          "march",
          "march",
          "march",
          "march",
          "march",
          "march",
          "march",
          "march",
          "march",
          "march",
          "march",
          "march",
          "march",
          "march",
          "march",
          "march",
          "march",
          "march",
          "march",
          "march",
          "march",
          "march",
          "march",
          "march",
          "march",
          "march",
          "march",
          "march",
          "april",
          "april",
          "april",
          "april",
          "april",
          "april",
          "april",
          "april",
          "april",
          "april",
          "april",
          "april",
          "april",
          "april",
          "april",
          "april",
          "april",
          "april",
          "april",
          "april",
          "april",
          "april",
          "april",
          "april",
          "april",
          "april",
          "april",
          "april",
          "april",
          "april",
          "may",
          "may",
          "may",
          "may",
          "may",
          "may",
          "may",
          "may",
          "may",
          "may",
          "may",
          "may",
          "may",
          "may",
          "may",
          "may",
          "may",
          "may",
          "may",
          "may",
          "may",
          "may",
          "may",
          "may",
          "may",
          "may",
          "may",
          "may",
          "may",
          "may",
          "may",
          "june",
          "june",
          "june",
          "june",
          "june",
          "june",
          "june",
          "june",
          "june",
          "june",
          "june",
          "june",
          "june",
          "june",
          "june",
          "june",
          "june",
          "june",
          "june",
          "june",
          "june",
          "june",
          "june",
          "june",
          "june",
          "june",
          "june",
          "june",
          "june",
          "june",
          "july",
          "july",
          "july",
          "july",
          "july",
          "july",
          "july",
          "july",
          "july",
          "july",
          "july",
          "july",
          "july",
          "july",
          "july",
          "july",
          "july",
          "july",
          "july",
          "july",
          "july",
          "july",
          "july",
          "july",
          "july",
          "july",
          "july",
          "july",
          "july",
          "july",
          "july",
          "august",
          "august",
          "august",
          "august",
          "august",
          "august",
          "august",
          "august",
          "august",
          "august",
          "august",
          "august",
          "august",
          "august",
          "august",
          "august",
          "august",
          "august",
          "august",
          "august",
          "august",
          "august",
          "august",
          "august",
          "august",
          "august",
          "august",
          "august",
          "august",
          "august",
          "august",
          "september",
          "september",
          "september",
          "september",
          "september",
          "september",
          "september",
          "september",
          "september",
          "september",
          "september",
          "september",
          "september",
          "september",
          "september",
          "september",
          "september",
          "september",
          "september",
          "september",
          "september",
          "september",
          "september",
          "september",
          "september",
          "september",
          "september",
          "september",
          "september",
          "september",
          "october",
          "october",
          "october",
          "october",
          "october",
          "october",
          "october",
          "october",
          "october",
          "october",
          "october",
          "october",
          "october",
          "october",
          "october",
          "october",
          "october",
          "october",
          "october",
          "october",
          "october",
          "october",
          "october",
          "october",
          "october",
          "october",
          "october",
          "october",
          "october",
          "october",
          "october",
          "november",
          "november",
          "november",
          "november",
          "november",
          "november",
          "november",
          "november",
          "november",
          "november",
          "november",
          "november",
          "november",
          "november",
          "november",
          "november",
          "november",
          "november",
          "november",
          "november",
          "november",
          "november",
          "november",
          "november",
          "november",
          "november",
          "november",
          "november",
          "november",
          "november",
          "december",
          "december",
          "december",
          "december",
          "december",
          "december",
          "december",
          "december",
          "december",
          "december",
          "december",
          "december",
          "december",
          "december",
          "december",
          "december",
          "december",
          "december",
          "december",
          "december",
          "december",
          "december",
          "december",
          "december",
          "december",
          "december",
          "december",
          "december",
          "december",
          "december",
          "december",
          "january",
          "january",
          "january",
          "january",
          "january",
          "january",
          "january",
          "january",
          "january",
          "january",
          "january",
          "january",
          "january",
          "january",
          "january",
          "january",
          "january",
          "january",
          "january",
          "january",
          "january",
          "january",
          "january",
          "january",
          "january",
          "january",
          "january",
          "january",
          "january",
          "january",
          "january",
          "february",
          "february",
          "february",
          "february",
          "february",
          "february",
          "february",
          "february",
          "february",
          "february",
          "february",
          "february",
          "february",
          "february",
          "february",
          "february",
          "february",
          "february",
          "february",
          "february",
          "february",
          "february",
          "february",
          "february",
          "february",
          "february",
          "february",
          "february",
          "february",
          "march",
          "march",
          "march",
          "march",
          "march",
          "march",
          "march",
          "march",
          "march",
          "march",
          "march",
          "march",
          "march",
          "march",
          "march",
          "march",
          "march",
          "march",
          "march",
          "march",
          "march",
          "march",
          "march",
          "march",
          "march",
          "march",
          "march",
          "march",
          "march",
          "march",
          "march",
          "april",
          "april",
          "april",
          "april",
          "april",
          "april",
          "april",
          "april",
          "april",
          "april",
          "april",
          "april",
          "april",
          "april",
          "april",
          "april",
          "april",
          "april",
          "april",
          "april",
          "april",
          "april",
          "april",
          "april",
          "april",
          "april",
          "april",
          "april",
          "april",
          "april",
          "may",
          "may",
          "may",
          "may",
          "may",
          "may",
          "may",
          "may",
          "may",
          "may",
          "may",
          "may",
          "may",
          "may",
          "may",
          "may",
          "may",
          "may",
          "may",
          "may",
          "may",
          "may",
          "may",
          "may",
          "may",
          "may",
          "may",
          "may",
          "may",
          "may",
          "may",
          "june",
          "june",
          "june",
          "june",
          "june",
          "june",
          "june",
          "june",
          "june",
          "june",
          "june",
          "june",
          "june",
          "june",
          "june",
          "june",
          "june",
          "june",
          "june",
          "june",
          "june",
          "june",
          "june",
          "june",
          "june",
          "june",
          "june",
          "june",
          "june",
          "june",
          "july",
          "july",
          "july",
          "july",
          "july",
          "july",
          "july",
          "july",
          "july",
          "july",
          "july",
          "july",
          "july",
          "july",
          "july",
          "july",
          "july",
          "july",
          "july",
          "july",
          "july",
          "july",
          "july",
          "july",
          "july",
          "july",
          "july",
          "july",
          "july",
          "july",
          "july",
          "august",
          "august",
          "august",
          "august",
          "august",
          "august",
          "august",
          "august",
          "august",
          "august",
          "august",
          "august",
          "august",
          "august",
          "august",
          "august",
          "august",
          "august",
          "august",
          "august",
          "august",
          "august",
          "august",
          "august",
          "august",
          "august",
          "august",
          "august",
          "august",
          "august",
          "august",
          "september",
          "september",
          "september",
          "september",
          "september",
          "september",
          "september",
          "september",
          "september",
          "september",
          "september",
          "september",
          "september",
          "september",
          "september",
          "september",
          "september",
          "september",
          "september",
          "september",
          "september",
          "september",
          "september",
          "september",
          "september",
          "september",
          "september",
          "september",
          "september",
          "september",
          "october",
          "october",
          "october",
          "october",
          "october",
          "october",
          "october",
          "october",
          "october",
          "october",
          "october",
          "october",
          "october",
          "october",
          "october",
          "october",
          "october",
          "october",
          "october",
          "october",
          "october",
          "october",
          "october",
          "october",
          "october",
          "october",
          "october",
          "october",
          "october",
          "october",
          "october",
          "november",
          "november",
          "november",
          "november",
          "november",
          "november",
          "november",
          "november",
          "november",
          "november",
          "november",
          "november",
          "november",
          "november",
          "november",
          "november",
          "november",
          "november",
          "november",
          "november",
          "november",
          "november",
          "november",
          "november",
          "november",
          "november",
          "november",
          "november",
          "november",
          "november",
          "december",
          "december",
          "december",
          "december",
          "december",
          "december",
          "december",
          "december",
          "december",
          "december",
          "december",
          "december",
          "december",
          "december",
          "december",
          "december",
          "december",
          "december",
          "december",
          "december",
          "december",
          "december",
          "december",
          "december",
          "december",
          "december",
          "december",
          "december",
          "december",
          "december",
          "december",
          "january",
          "january",
          "january",
          "january",
          "january",
          "january",
          "january",
          "january",
          "january",
          "january",
          "january",
          "january",
          "january",
          "january",
          "january",
          "january",
          "january",
          "january",
          "january",
          "january",
          "january",
          "january",
          "january",
          "january",
          "january",
          "january",
          "january",
          "january",
          "january",
          "january",
          "january",
          "february",
          "february",
          "february",
          "february",
          "february",
          "february",
          "february",
          "february",
          "february",
          "february",
          "february",
          "february",
          "february",
          "february",
          "february",
          "february",
          "february",
          "february",
          "february",
          "february",
          "february",
          "february",
          "february",
          "february",
          "february",
          "february",
          "february",
          "february",
          "march",
          "march",
          "march",
          "march",
          "march",
          "march",
          "march",
          "march",
          "march",
          "march",
          "march",
          "march",
          "march",
          "march",
          "march",
          "march",
          "march",
          "march",
          "march",
          "march",
          "march",
          "march",
          "march",
          "march",
          "march",
          "march",
          "march",
          "march",
          "march",
          "march",
          "march",
          "january",
          "january",
          "january",
          "january",
          "january",
          "january",
          "january",
          "january",
          "january",
          "january",
          "january",
          "january",
          "january",
          "january",
          "january",
          "january",
          "january",
          "january",
          "january",
          "january",
          "january",
          "january",
          "january",
          "january",
          "january",
          "january",
          "january",
          "january",
          "january",
          "january",
          "january",
          "february",
          "february",
          "february",
          "february",
          "february",
          "february",
          "february",
          "february",
          "february",
          "february",
          "february",
          "february",
          "february",
          "february",
          "february",
          "february",
          "february",
          "february",
          "february",
          "february",
          "february",
          "february",
          "february",
          "february",
          "february",
          "february",
          "february",
          "february",
          "march",
          "march",
          "march",
          "march",
          "march",
          "march",
          "march",
          "march",
          "march",
          "march",
          "march",
          "march",
          "march",
          "march",
          "march",
          "march",
          "march",
          "march",
          "march",
          "march",
          "march",
          "march",
          "march",
          "march",
          "march",
          "march",
          "march",
          "march",
          "march",
          "march",
          "march",
          "april",
          "april",
          "april",
          "april",
          "april",
          "april",
          "april",
          "april",
          "april",
          "april",
          "april",
          "april",
          "april",
          "april",
          "april",
          "april",
          "april",
          "april",
          "april",
          "april",
          "april",
          "april",
          "april",
          "april",
          "april",
          "april",
          "april",
          "april",
          "april",
          "april",
          "may",
          "may",
          "may",
          "may",
          "may",
          "may",
          "may",
          "may",
          "may",
          "may",
          "may",
          "may",
          "may",
          "may",
          "may",
          "may",
          "may",
          "may",
          "may",
          "may",
          "may",
          "may",
          "may",
          "may",
          "may",
          "may",
          "may",
          "may",
          "may",
          "may",
          "may",
          "june",
          "june",
          "june",
          "june",
          "june",
          "june",
          "june",
          "june",
          "june",
          "june",
          "june",
          "june",
          "june",
          "june",
          "june",
          "june",
          "june",
          "june",
          "june",
          "june",
          "june",
          "june",
          "june",
          "june",
          "june",
          "june",
          "june",
          "june",
          "june",
          "june",
          "july",
          "july",
          "july",
          "july",
          "july",
          "july",
          "july",
          "july",
          "july",
          "july",
          "july",
          "july",
          "july",
          "july",
          "july",
          "july",
          "july",
          "july",
          "july",
          "july",
          "july",
          "july",
          "july",
          "july",
          "july",
          "july",
          "july",
          "july",
          "july",
          "july",
          "july",
          "august",
          "august",
          "august",
          "august",
          "august",
          "august",
          "august",
          "august",
          "august",
          "august",
          "august",
          "august",
          "august",
          "august",
          "august",
          "august",
          "august",
          "august",
          "august",
          "august",
          "august",
          "august",
          "august",
          "august",
          "august",
          "august",
          "august",
          "august",
          "august",
          "august",
          "august",
          "september",
          "september",
          "september",
          "september",
          "september",
          "september",
          "september",
          "september",
          "september",
          "september",
          "september",
          "september",
          "september",
          "september",
          "september",
          "september",
          "september",
          "september",
          "september",
          "september",
          "september",
          "september",
          "september",
          "september",
          "september",
          "september",
          "september",
          "september",
          "september",
          "september",
          "october",
          "october",
          "october",
          "october",
          "october",
          "october",
          "october",
          "october",
          "october",
          "october",
          "october",
          "october",
          "october",
          "october",
          "october",
          "october",
          "october",
          "october",
          "october",
          "october",
          "october",
          "october",
          "october",
          "october",
          "october",
          "october",
          "october",
          "october",
          "october",
          "october",
          "october",
          "november",
          "november",
          "november",
          "november",
          "november",
          "november",
          "november",
          "november",
          "november",
          "november",
          "november",
          "november",
          "november",
          "november",
          "november",
          "november",
          "november",
          "november",
          "november",
          "november",
          "november",
          "november",
          "november",
          "november",
          "november",
          "november",
          "november",
          "november",
          "november",
          "november",
          "december",
          "december",
          "december",
          "december",
          "december",
          "december",
          "december",
          "december",
          "december",
          "december",
          "december",
          "december",
          "december",
          "december",
          "december",
          "december",
          "december",
          "december",
          "december",
          "december",
          "december",
          "december",
          "december",
          "december",
          "december",
          "december",
          "december",
          "december",
          "december",
          "december",
          "december",
          "january",
          "january",
          "january",
          "january",
          "january",
          "january",
          "january",
          "january",
          "january",
          "january",
          "january",
          "january",
          "january",
          "january",
          "january",
          "january",
          "january",
          "january",
          "january",
          "january",
          "january",
          "january",
          "january",
          "january",
          "january",
          "january",
          "january",
          "january",
          "january",
          "january",
          "january",
          "february",
          "february",
          "february",
          "february",
          "february",
          "february",
          "february",
          "february",
          "february",
          "february",
          "february",
          "february",
          "february",
          "february",
          "february",
          "february",
          "february",
          "february",
          "february",
          "february",
          "february",
          "february",
          "february",
          "february",
          "february",
          "february",
          "february",
          "february",
          "february",
          "march",
          "march",
          "march",
          "march",
          "march",
          "march",
          "march",
          "march",
          "march",
          "march",
          "march",
          "march",
          "march",
          "march",
          "march",
          "march",
          "march",
          "march",
          "march",
          "march",
          "march",
          "march",
          "march",
          "march",
          "march",
          "march",
          "march",
          "march",
          "march",
          "march",
          "march",
          "april",
          "april",
          "april",
          "april",
          "april",
          "april",
          "april",
          "april",
          "april",
          "april",
          "april",
          "april",
          "april",
          "april",
          "april",
          "april",
          "april",
          "april",
          "april",
          "april",
          "april",
          "april",
          "april",
          "april",
          "april",
          "april",
          "april",
          "april",
          "april",
          "april",
          "may",
          "may",
          "may",
          "may",
          "may",
          "may",
          "may",
          "may",
          "may",
          "may",
          "may",
          "may",
          "may",
          "may",
          "may",
          "may",
          "may",
          "may",
          "may",
          "may",
          "may",
          "may",
          "may",
          "may",
          "may",
          "may",
          "may",
          "may",
          "may",
          "may",
          "may",
          "june",
          "june",
          "june",
          "june",
          "june",
          "june",
          "june",
          "june",
          "june",
          "june",
          "june",
          "june",
          "june",
          "june",
          "june",
          "june",
          "june",
          "june",
          "june",
          "june",
          "june",
          "june",
          "june",
          "june",
          "june",
          "june",
          "june",
          "june",
          "june",
          "june",
          "july",
          "july",
          "july",
          "july",
          "july",
          "july",
          "july",
          "july",
          "july",
          "july",
          "july",
          "july",
          "july",
          "july",
          "july",
          "july",
          "july",
          "july",
          "july",
          "july",
          "july",
          "july",
          "july",
          "july",
          "july",
          "july",
          "july",
          "july",
          "july",
          "july",
          "july",
          "august",
          "august",
          "august",
          "august",
          "august",
          "august",
          "august",
          "august",
          "august",
          "august",
          "august",
          "august",
          "august",
          "august",
          "august",
          "august",
          "august",
          "august",
          "august",
          "august",
          "august",
          "august",
          "august",
          "august",
          "august",
          "august",
          "august",
          "august",
          "august",
          "august",
          "august",
          "september",
          "september",
          "september",
          "september",
          "september",
          "september",
          "september",
          "september",
          "september",
          "september",
          "september",
          "september",
          "september",
          "september",
          "september",
          "september",
          "september",
          "september",
          "september",
          "september",
          "september",
          "september",
          "september",
          "september",
          "september",
          "september",
          "september",
          "september",
          "september",
          "september",
          "october",
          "october",
          "october",
          "october",
          "october",
          "october",
          "october",
          "october",
          "october",
          "october",
          "october",
          "october",
          "october",
          "october",
          "october",
          "october",
          "october",
          "october",
          "october",
          "october",
          "october",
          "october",
          "october",
          "october",
          "october",
          "october",
          "october",
          "october",
          "october",
          "october",
          "october",
          "november",
          "november",
          "november",
          "november",
          "november",
          "november",
          "november",
          "november",
          "november",
          "november",
          "november",
          "november",
          "november",
          "november",
          "november",
          "november",
          "november",
          "november",
          "november",
          "november",
          "november",
          "november",
          "november",
          "november",
          "november",
          "november",
          "november",
          "november",
          "november",
          "november",
          "december",
          "december",
          "december",
          "december",
          "december",
          "december",
          "december",
          "december",
          "december",
          "december",
          "december",
          "december",
          "december",
          "december",
          "december",
          "december",
          "december",
          "december",
          "december",
          "december",
          "december",
          "december",
          "december",
          "december",
          "december",
          "december",
          "december",
          "december",
          "december",
          "december",
          "december",
          "january",
          "january",
          "january",
          "january",
          "january",
          "january",
          "january",
          "january",
          "january",
          "january",
          "january",
          "january",
          "january",
          "january",
          "january",
          "january",
          "january",
          "january",
          "january",
          "january",
          "january",
          "january",
          "january",
          "january",
          "january",
          "january",
          "january",
          "january",
          "january",
          "january",
          "january",
          "february",
          "february",
          "february",
          "february",
          "february",
          "february",
          "february",
          "february",
          "february",
          "february",
          "february",
          "february",
          "february",
          "february",
          "february",
          "february",
          "february",
          "february",
          "february",
          "february",
          "february",
          "february",
          "february",
          "february",
          "february",
          "february",
          "february",
          "february",
          "march",
          "march",
          "march",
          "march",
          "march",
          "march",
          "march",
          "march",
          "march",
          "march",
          "march",
          "march",
          "march",
          "march",
          "march",
          "march",
          "march",
          "march",
          "march",
          "march",
          "march",
          "march",
          "march",
          "march",
          "march",
          "march",
          "march",
          "march",
          "march",
          "march",
          "march",
          "january",
          "january",
          "january",
          "january",
          "january",
          "january",
          "january",
          "january",
          "january",
          "january",
          "january",
          "january",
          "january",
          "january",
          "january",
          "january",
          "january",
          "january",
          "january",
          "january",
          "january",
          "january",
          "january",
          "january",
          "january",
          "january",
          "january",
          "january",
          "january",
          "january",
          "january",
          "february",
          "february",
          "february",
          "february",
          "february",
          "february",
          "february",
          "february",
          "february",
          "february",
          "february",
          "february",
          "february",
          "february",
          "february",
          "february",
          "february",
          "february",
          "february",
          "february",
          "february",
          "february",
          "february",
          "february",
          "february",
          "february",
          "february",
          "february",
          "march",
          "march",
          "march",
          "march",
          "march",
          "march",
          "march",
          "march",
          "march",
          "march",
          "march",
          "march",
          "march",
          "march",
          "march",
          "march",
          "march",
          "march",
          "march",
          "march",
          "march",
          "march",
          "march",
          "march",
          "march",
          "march",
          "march",
          "march",
          "march",
          "march",
          "march",
          "april",
          "april",
          "april",
          "april",
          "april",
          "april",
          "april",
          "april",
          "april",
          "april",
          "april",
          "april",
          "april",
          "april",
          "april",
          "april",
          "april",
          "april",
          "april",
          "april",
          "april",
          "april",
          "april",
          "april",
          "april",
          "april",
          "april",
          "april",
          "april",
          "april",
          "may",
          "may",
          "may",
          "may",
          "may",
          "may",
          "may",
          "may",
          "may",
          "may",
          "may",
          "may",
          "may",
          "may",
          "may",
          "may",
          "may",
          "may",
          "may",
          "may",
          "may",
          "may",
          "may",
          "may",
          "may",
          "may",
          "may",
          "may",
          "may",
          "may",
          "may",
          "june",
          "june",
          "june",
          "june",
          "june",
          "june",
          "june",
          "june",
          "june",
          "june",
          "june",
          "june",
          "june",
          "june",
          "june",
          "june",
          "june",
          "june",
          "june",
          "june",
          "june",
          "june",
          "june",
          "june",
          "june",
          "june",
          "june",
          "june",
          "june",
          "june",
          "july",
          "july",
          "july",
          "july",
          "july",
          "july",
          "july",
          "july",
          "july",
          "july",
          "july",
          "july",
          "july",
          "july",
          "july",
          "july",
          "july",
          "july",
          "july",
          "july",
          "july",
          "july",
          "july",
          "july",
          "july",
          "july",
          "july",
          "july",
          "july",
          "july",
          "july",
          "august",
          "august",
          "august",
          "august",
          "august",
          "august",
          "august",
          "august",
          "august",
          "august",
          "august",
          "august",
          "august",
          "august",
          "august",
          "august",
          "august",
          "august",
          "august",
          "august",
          "august",
          "august",
          "august",
          "august",
          "august",
          "august",
          "august",
          "august",
          "august",
          "august",
          "august",
          "september",
          "september",
          "september",
          "september",
          "september",
          "september",
          "september",
          "september",
          "september",
          "september",
          "september",
          "september",
          "september",
          "september",
          "september",
          "september",
          "september",
          "september",
          "september",
          "september",
          "september",
          "september",
          "september",
          "september",
          "september",
          "september",
          "september",
          "september",
          "september",
          "september",
          "october",
          "october",
          "october",
          "october",
          "october",
          "october",
          "october",
          "october",
          "october",
          "october",
          "october",
          "october",
          "october",
          "october",
          "october",
          "october",
          "october",
          "october",
          "october",
          "october",
          "october",
          "october",
          "october",
          "october",
          "october",
          "october",
          "october",
          "october",
          "october",
          "october",
          "october",
          "november",
          "november",
          "november",
          "november",
          "november",
          "november",
          "november",
          "november",
          "november",
          "november",
          "november",
          "november",
          "november",
          "november",
          "november",
          "november",
          "november",
          "november",
          "november",
          "november",
          "november",
          "november",
          "november",
          "november",
          "november",
          "november",
          "november",
          "november",
          "november",
          "november",
          "december",
          "december",
          "december",
          "december",
          "december",
          "december",
          "december",
          "december",
          "december",
          "december",
          "december",
          "december",
          "december",
          "december",
          "december",
          "december",
          "december",
          "december",
          "december",
          "december",
          "december",
          "december",
          "december",
          "december",
          "december",
          "december",
          "december",
          "december",
          "december",
          "december",
          "december",
          "january",
          "january",
          "january",
          "january",
          "january",
          "january",
          "january",
          "january",
          "january",
          "january",
          "january",
          "january",
          "january",
          "january",
          "january",
          "january",
          "january",
          "january",
          "january",
          "january",
          "january",
          "january",
          "january",
          "january",
          "january",
          "january",
          "january",
          "january",
          "january",
          "january",
          "january",
          "february",
          "february",
          "february",
          "february",
          "february",
          "february",
          "february",
          "february",
          "february",
          "february",
          "february",
          "february",
          "february",
          "february",
          "february",
          "february",
          "february",
          "february",
          "february",
          "february",
          "february",
          "february",
          "february",
          "february",
          "february",
          "february",
          "february",
          "february",
          "february",
          "march",
          "march",
          "march",
          "march",
          "march",
          "march",
          "march",
          "march",
          "march",
          "march",
          "march",
          "march",
          "march",
          "march",
          "march",
          "march",
          "march",
          "march",
          "march",
          "march",
          "march",
          "march",
          "march",
          "march",
          "march",
          "march",
          "march",
          "march",
          "march",
          "march",
          "march",
          "april",
          "april",
          "april",
          "april",
          "april",
          "april",
          "april",
          "april",
          "april",
          "april",
          "april",
          "april",
          "april",
          "april",
          "april",
          "april",
          "april",
          "april",
          "april",
          "april",
          "april",
          "april",
          "april",
          "april",
          "april",
          "april",
          "april",
          "april",
          "april",
          "april",
          "may",
          "may",
          "may",
          "may",
          "may",
          "may",
          "may",
          "may",
          "may",
          "may",
          "may",
          "may",
          "may",
          "may",
          "may",
          "may",
          "may",
          "may",
          "may",
          "may",
          "may",
          "may",
          "may",
          "may",
          "may",
          "may",
          "may",
          "may",
          "may",
          "may",
          "may",
          "june",
          "june",
          "june",
          "june",
          "june",
          "june",
          "june",
          "june",
          "june",
          "june",
          "june",
          "june",
          "june",
          "june",
          "june",
          "june",
          "june",
          "june",
          "june",
          "june",
          "june",
          "june",
          "june",
          "june",
          "june",
          "june",
          "june",
          "june",
          "june",
          "june",
          "july",
          "july",
          "july",
          "july",
          "july",
          "july",
          "july",
          "july",
          "july",
          "july",
          "july",
          "july",
          "july",
          "july",
          "july",
          "july",
          "july",
          "july",
          "july",
          "july",
          "july",
          "july",
          "july",
          "july",
          "july",
          "july",
          "july",
          "july",
          "july",
          "july",
          "july",
          "august",
          "august",
          "august",
          "august",
          "august",
          "august",
          "august",
          "august",
          "august",
          "august",
          "august",
          "august",
          "august",
          "august",
          "august",
          "august",
          "august",
          "august",
          "august",
          "august",
          "august",
          "august",
          "august",
          "august",
          "august",
          "august",
          "august",
          "august",
          "august",
          "august",
          "august",
          "september",
          "september",
          "september",
          "september",
          "september",
          "september",
          "september",
          "september",
          "september",
          "september",
          "september",
          "september",
          "september",
          "september",
          "september",
          "september",
          "september",
          "september",
          "september",
          "september",
          "september",
          "september",
          "september",
          "september",
          "september",
          "september",
          "september",
          "september",
          "september",
          "september",
          "october",
          "october",
          "october",
          "october",
          "october",
          "october",
          "october",
          "october",
          "october",
          "october",
          "october",
          "october",
          "october",
          "october",
          "october",
          "october",
          "october",
          "october",
          "october",
          "october",
          "october",
          "october",
          "october",
          "october",
          "october",
          "october",
          "october",
          "october",
          "october",
          "october",
          "october",
          "november",
          "november",
          "november",
          "november",
          "november",
          "november",
          "november",
          "november",
          "november",
          "november",
          "november",
          "november",
          "november",
          "november",
          "november",
          "november",
          "november",
          "november",
          "november",
          "november",
          "november",
          "november",
          "november",
          "november",
          "november",
          "november",
          "november",
          "november",
          "november",
          "november",
          "december",
          "december",
          "december",
          "december",
          "december",
          "december",
          "december",
          "december",
          "december",
          "december",
          "december",
          "december",
          "december",
          "december",
          "december",
          "december",
          "december",
          "december",
          "december",
          "december",
          "december",
          "december",
          "december",
          "december",
          "december",
          "december",
          "december",
          "december",
          "december",
          "december",
          "december",
          "january",
          "january",
          "january",
          "january",
          "january",
          "january",
          "january",
          "january",
          "january",
          "january",
          "january",
          "january",
          "january",
          "january",
          "january",
          "january",
          "january",
          "january",
          "january",
          "january",
          "january",
          "january",
          "january",
          "january",
          "january",
          "january",
          "january",
          "january",
          "january",
          "january",
          "january",
          "february",
          "february",
          "february",
          "february",
          "february",
          "february",
          "february",
          "february",
          "february",
          "february",
          "february",
          "february",
          "february",
          "february",
          "february",
          "february",
          "february",
          "february",
          "february",
          "february",
          "february",
          "february",
          "february",
          "february",
          "february",
          "february",
          "february",
          "february",
          "march",
          "march",
          "march",
          "march",
          "march",
          "march",
          "march",
          "march",
          "march",
          "march",
          "march",
          "march",
          "march",
          "march",
          "march",
          "march",
          "march",
          "march",
          "march",
          "march",
          "march",
          "march",
          "march",
          "march",
          "march",
          "march",
          "march",
          "march",
          "march",
          "march",
          "march",
          "january",
          "january",
          "january",
          "january",
          "january",
          "january",
          "january",
          "january",
          "january",
          "january",
          "january",
          "january",
          "january",
          "january",
          "january",
          "january",
          "january",
          "january",
          "january",
          "january",
          "january",
          "january",
          "january",
          "january",
          "january",
          "january",
          "january",
          "january",
          "january",
          "january",
          "january",
          "february",
          "february",
          "february",
          "february",
          "february",
          "february",
          "february",
          "february",
          "february",
          "february",
          "february",
          "february",
          "february",
          "february",
          "february",
          "february",
          "february",
          "february",
          "february",
          "february",
          "february",
          "february",
          "february",
          "february",
          "february",
          "february",
          "february",
          "february",
          "march",
          "march",
          "march",
          "march",
          "march",
          "march",
          "march",
          "march",
          "march",
          "march",
          "march",
          "march",
          "march",
          "march",
          "march",
          "march",
          "march",
          "march",
          "march",
          "march",
          "march",
          "march",
          "march",
          "march",
          "march",
          "march",
          "march",
          "march",
          "march",
          "march",
          "march",
          "april",
          "april",
          "april",
          "april",
          "april",
          "april",
          "april",
          "april",
          "april",
          "april",
          "april",
          "april",
          "april",
          "april",
          "april",
          "april",
          "april",
          "april",
          "april",
          "april",
          "april",
          "april",
          "april",
          "april",
          "april",
          "april",
          "april",
          "april",
          "april",
          "april",
          "may",
          "may",
          "may",
          "may",
          "may",
          "may",
          "may",
          "may",
          "may",
          "may",
          "may",
          "may",
          "may",
          "may",
          "may",
          "may",
          "may",
          "may",
          "may",
          "may",
          "may",
          "may",
          "may",
          "may",
          "may",
          "may",
          "may",
          "may",
          "may",
          "may",
          "may",
          "june",
          "june",
          "june",
          "june",
          "june",
          "june",
          "june",
          "june",
          "june",
          "june",
          "june",
          "june",
          "june",
          "june",
          "june",
          "june",
          "june",
          "june",
          "june",
          "june",
          "june",
          "june",
          "june",
          "june",
          "june",
          "june",
          "june",
          "june",
          "june",
          "june",
          "july",
          "july",
          "july",
          "july",
          "july",
          "july",
          "july",
          "july",
          "july",
          "july",
          "july",
          "july",
          "july",
          "july",
          "july",
          "july",
          "july",
          "july",
          "july",
          "july",
          "july",
          "july",
          "july",
          "july",
          "july",
          "july",
          "july",
          "july",
          "july",
          "july",
          "july",
          "august",
          "august",
          "august",
          "august",
          "august",
          "august",
          "august",
          "august",
          "august",
          "august",
          "august",
          "august",
          "august",
          "august",
          "august",
          "august",
          "august",
          "august",
          "august",
          "august",
          "august",
          "august",
          "august",
          "august",
          "august",
          "august",
          "august",
          "august",
          "august",
          "august",
          "august",
          "september",
          "september",
          "september",
          "september",
          "september",
          "september",
          "september",
          "september",
          "september",
          "september",
          "september",
          "september",
          "september",
          "september",
          "september",
          "september",
          "september",
          "september",
          "september",
          "september",
          "september",
          "september",
          "september",
          "september",
          "september",
          "september",
          "september",
          "september",
          "september",
          "september",
          "october",
          "october",
          "october",
          "october",
          "october",
          "october",
          "october",
          "october",
          "october",
          "october",
          "october",
          "october",
          "october",
          "october",
          "october",
          "october",
          "october",
          "october",
          "october",
          "october",
          "october",
          "october",
          "october",
          "october",
          "october",
          "october",
          "october",
          "october",
          "october",
          "october",
          "october",
          "november",
          "november",
          "november",
          "november",
          "november",
          "november",
          "november",
          "november",
          "november",
          "november",
          "november",
          "november",
          "november",
          "november",
          "november",
          "november",
          "november",
          "november",
          "november",
          "november",
          "november",
          "november",
          "november",
          "november",
          "november",
          "november",
          "november",
          "november",
          "november",
          "november",
          "december",
          "december",
          "december",
          "december",
          "december",
          "december",
          "december",
          "december",
          "december",
          "december",
          "december",
          "december",
          "december",
          "december",
          "december",
          "december",
          "december",
          "december",
          "december",
          "december",
          "december",
          "december",
          "december",
          "december",
          "december",
          "december",
          "december",
          "december",
          "december",
          "december",
          "december",
          "january",
          "january",
          "january",
          "january",
          "january",
          "january",
          "january",
          "january",
          "january",
          "january",
          "january",
          "january",
          "january",
          "january",
          "january",
          "january",
          "january",
          "january",
          "january",
          "january",
          "january",
          "january",
          "january",
          "january",
          "january",
          "january",
          "january",
          "january",
          "january",
          "january",
          "january",
          "february",
          "february",
          "february",
          "february",
          "february",
          "february",
          "february",
          "february",
          "february",
          "february",
          "february",
          "february",
          "february",
          "february",
          "february",
          "february",
          "february",
          "february",
          "february",
          "february",
          "february",
          "february",
          "february",
          "february",
          "february",
          "february",
          "february",
          "february",
          "february",
          "march",
          "march",
          "march",
          "march",
          "march",
          "march",
          "march",
          "march",
          "march",
          "march",
          "march",
          "march",
          "march",
          "march",
          "march",
          "march",
          "march",
          "march",
          "march",
          "march",
          "march",
          "march",
          "march",
          "march",
          "march",
          "march",
          "march",
          "march",
          "march",
          "march",
          "march",
          "april",
          "april",
          "april",
          "april",
          "april",
          "april",
          "april",
          "april",
          "april",
          "april",
          "april",
          "april",
          "april",
          "april",
          "april",
          "april",
          "april",
          "april",
          "april",
          "april",
          "april",
          "april",
          "april",
          "april",
          "april",
          "april",
          "april",
          "april",
          "april",
          "april",
          "may",
          "may",
          "may",
          "may",
          "may",
          "may",
          "may",
          "may",
          "may",
          "may",
          "may",
          "may",
          "may",
          "may",
          "may",
          "may",
          "may",
          "may",
          "may",
          "may",
          "may",
          "may",
          "may",
          "may",
          "may",
          "may",
          "may",
          "may",
          "may",
          "may",
          "may",
          "june",
          "june",
          "june",
          "june",
          "june",
          "june",
          "june",
          "june",
          "june",
          "june",
          "june",
          "june",
          "june",
          "june",
          "june",
          "june",
          "june",
          "june",
          "june",
          "june",
          "june",
          "june",
          "june",
          "june",
          "june",
          "june",
          "june",
          "june",
          "june",
          "june",
          "july",
          "july",
          "july",
          "july",
          "july",
          "july",
          "july",
          "july",
          "july",
          "july",
          "july",
          "july",
          "july",
          "july",
          "july",
          "july",
          "july",
          "july",
          "july",
          "july",
          "july",
          "july",
          "july",
          "july",
          "july",
          "july",
          "july",
          "july",
          "july",
          "july",
          "july",
          "august",
          "august",
          "august",
          "august",
          "august",
          "august",
          "august",
          "august",
          "august",
          "august",
          "august",
          "august",
          "august",
          "august",
          "august",
          "august",
          "august",
          "august",
          "august",
          "august",
          "august",
          "august",
          "august",
          "august",
          "august",
          "august",
          "august",
          "august",
          "august",
          "august",
          "august",
          "september",
          "september",
          "september",
          "september",
          "september",
          "september",
          "september",
          "september",
          "september",
          "september",
          "september",
          "september",
          "september",
          "september",
          "september",
          "september",
          "september",
          "september",
          "september",
          "september",
          "september",
          "september",
          "september",
          "september",
          "september",
          "september",
          "september",
          "september",
          "september",
          "september",
          "october",
          "october",
          "october",
          "october",
          "october",
          "october",
          "october",
          "october",
          "october",
          "october",
          "october",
          "october",
          "october",
          "october",
          "october",
          "october",
          "october",
          "october",
          "october",
          "october",
          "october",
          "october",
          "october",
          "october",
          "october",
          "october",
          "october",
          "october",
          "october",
          "october",
          "october",
          "november",
          "november",
          "november",
          "november",
          "november",
          "november",
          "november",
          "november",
          "november",
          "november",
          "november",
          "november",
          "november",
          "november",
          "november",
          "november",
          "november",
          "november",
          "november",
          "november",
          "november",
          "november",
          "november",
          "november",
          "november",
          "november",
          "november",
          "november",
          "november",
          "november",
          "december",
          "december",
          "december",
          "december",
          "december",
          "december",
          "december",
          "december",
          "december",
          "december",
          "december",
          "december",
          "december",
          "december",
          "december",
          "december",
          "december",
          "december",
          "december",
          "december",
          "december",
          "december",
          "december",
          "december",
          "december",
          "december",
          "december",
          "december",
          "december",
          "december",
          "december",
          "january",
          "january",
          "january",
          "january",
          "january",
          "january",
          "january",
          "january",
          "january",
          "january",
          "january",
          "january",
          "january",
          "january",
          "january",
          "january",
          "january",
          "january",
          "january",
          "january",
          "january",
          "january",
          "january",
          "january",
          "january",
          "january",
          "january",
          "january",
          "january",
          "january",
          "january",
          "february",
          "february",
          "february",
          "february",
          "february",
          "february",
          "february",
          "february",
          "february",
          "february",
          "february",
          "february",
          "february",
          "february",
          "february",
          "february",
          "february",
          "february",
          "february",
          "february",
          "february",
          "february",
          "february",
          "february",
          "february",
          "february",
          "february",
          "february",
          "march",
          "march",
          "march",
          "march",
          "march",
          "march",
          "march",
          "march",
          "march",
          "march",
          "march",
          "march",
          "march",
          "march",
          "march",
          "march",
          "march",
          "march",
          "march",
          "march",
          "march",
          "march",
          "march",
          "march",
          "march",
          "march",
          "march",
          "march",
          "march",
          "march",
          "march",
          "january",
          "january",
          "january",
          "january",
          "january",
          "january",
          "january",
          "january",
          "january",
          "january",
          "january",
          "january",
          "january",
          "january",
          "january",
          "january",
          "january",
          "january",
          "january",
          "january",
          "january",
          "january",
          "january",
          "january",
          "january",
          "january",
          "january",
          "january",
          "january",
          "january",
          "january",
          "february",
          "february",
          "february",
          "february",
          "february",
          "february",
          "february",
          "february",
          "february",
          "february",
          "february",
          "february",
          "february",
          "february",
          "february",
          "february",
          "february",
          "february",
          "february",
          "february",
          "february",
          "february",
          "february",
          "february",
          "february",
          "february",
          "february",
          "february",
          "march",
          "march",
          "march",
          "march",
          "march",
          "march",
          "march",
          "march",
          "march",
          "march",
          "march",
          "march",
          "march",
          "march",
          "march",
          "march",
          "march",
          "march",
          "march",
          "march",
          "march",
          "march",
          "march",
          "march",
          "march",
          "march",
          "march",
          "march",
          "march",
          "march",
          "march",
          "april",
          "april",
          "april",
          "april",
          "april",
          "april",
          "april",
          "april",
          "april",
          "april",
          "april",
          "april",
          "april",
          "april",
          "april",
          "april",
          "april",
          "april",
          "april",
          "april",
          "april",
          "april",
          "april",
          "april",
          "april",
          "april",
          "april",
          "april",
          "april",
          "april",
          "may",
          "may",
          "may",
          "may",
          "may",
          "may",
          "may",
          "may",
          "may",
          "may",
          "may",
          "may",
          "may",
          "may",
          "may",
          "may",
          "may",
          "may",
          "may",
          "may",
          "may",
          "may",
          "may",
          "may",
          "may",
          "may",
          "may",
          "may",
          "may",
          "may",
          "may",
          "june",
          "june",
          "june",
          "june",
          "june",
          "june",
          "june",
          "june",
          "june",
          "june",
          "june",
          "june",
          "june",
          "june",
          "june",
          "june",
          "june",
          "june",
          "june",
          "june",
          "june",
          "june",
          "june",
          "june",
          "june",
          "june",
          "june",
          "june",
          "june",
          "june",
          "july",
          "july",
          "july",
          "july",
          "july",
          "july",
          "july",
          "july",
          "july",
          "july",
          "july",
          "july",
          "july",
          "july",
          "july",
          "july",
          "july",
          "july",
          "july",
          "july",
          "july",
          "july",
          "july",
          "july",
          "july",
          "july",
          "july",
          "july",
          "july",
          "july",
          "july",
          "august",
          "august",
          "august",
          "august",
          "august",
          "august",
          "august",
          "august",
          "august",
          "august",
          "august",
          "august",
          "august",
          "august",
          "august",
          "august",
          "august",
          "august",
          "august",
          "august",
          "august",
          "august",
          "august",
          "august",
          "august",
          "august",
          "august",
          "august",
          "august",
          "august",
          "august",
          "september",
          "september",
          "september",
          "september",
          "september",
          "september",
          "september",
          "september",
          "september",
          "september",
          "september",
          "september",
          "september",
          "september",
          "september",
          "september",
          "september",
          "september",
          "september",
          "september",
          "september",
          "september",
          "september",
          "september",
          "september",
          "september",
          "september",
          "september",
          "september",
          "september",
          "october",
          "october",
          "october",
          "october",
          "october",
          "october",
          "october",
          "october",
          "october",
          "october",
          "october",
          "october",
          "october",
          "october",
          "october",
          "october",
          "october",
          "october",
          "october",
          "october",
          "october",
          "october",
          "october",
          "october",
          "october",
          "october",
          "october",
          "october",
          "october",
          "october",
          "october",
          "november",
          "november",
          "november",
          "november",
          "november",
          "november",
          "november",
          "november",
          "november",
          "november",
          "november",
          "november",
          "november",
          "november",
          "november",
          "november",
          "november",
          "november",
          "november",
          "november",
          "november",
          "november",
          "november",
          "november",
          "november",
          "november",
          "november",
          "november",
          "november",
          "november",
          "december",
          "december",
          "december",
          "december",
          "december",
          "december",
          "december",
          "december",
          "december",
          "december",
          "december",
          "december",
          "december",
          "december",
          "december",
          "december",
          "december",
          "december",
          "december",
          "december",
          "december",
          "december",
          "december",
          "december",
          "december",
          "december",
          "december",
          "december",
          "december",
          "december",
          "december",
          "january",
          "january",
          "january",
          "january",
          "january",
          "january",
          "january",
          "january",
          "january",
          "january",
          "january",
          "january",
          "january",
          "january",
          "january",
          "january",
          "january",
          "january",
          "january",
          "january",
          "january",
          "january",
          "january",
          "january",
          "january",
          "january",
          "january",
          "january",
          "january",
          "january",
          "january",
          "february",
          "february",
          "february",
          "february",
          "february",
          "february",
          "february",
          "february",
          "february",
          "february",
          "february",
          "february",
          "february",
          "february",
          "february",
          "february",
          "february",
          "february",
          "february",
          "february",
          "february",
          "february",
          "february",
          "february",
          "february",
          "february",
          "february",
          "february",
          "february",
          "march",
          "march",
          "march",
          "march",
          "march",
          "march",
          "march",
          "march",
          "march",
          "march",
          "march",
          "march",
          "march",
          "march",
          "march",
          "march",
          "march",
          "march",
          "march",
          "march",
          "march",
          "march",
          "march",
          "march",
          "march",
          "march",
          "march",
          "march",
          "march",
          "march",
          "march",
          "april",
          "april",
          "april",
          "april",
          "april",
          "april",
          "april",
          "april",
          "april",
          "april",
          "april",
          "april",
          "april",
          "april",
          "april",
          "april",
          "april",
          "april",
          "april",
          "april",
          "april",
          "april",
          "april",
          "april",
          "april",
          "april",
          "april",
          "april",
          "april",
          "april",
          "may",
          "may",
          "may",
          "may",
          "may",
          "may",
          "may",
          "may",
          "may",
          "may",
          "may",
          "may",
          "may",
          "may",
          "may",
          "may",
          "may",
          "may",
          "may",
          "may",
          "may",
          "may",
          "may",
          "may",
          "may",
          "may",
          "may",
          "may",
          "may",
          "may",
          "may",
          "june",
          "june",
          "june",
          "june",
          "june",
          "june",
          "june",
          "june",
          "june",
          "june",
          "june",
          "june",
          "june",
          "june",
          "june",
          "june",
          "june",
          "june",
          "june",
          "june",
          "june",
          "june",
          "june",
          "june",
          "june",
          "june",
          "june",
          "june",
          "june",
          "june",
          "july",
          "july",
          "july",
          "july",
          "july",
          "july",
          "july",
          "july",
          "july",
          "july",
          "july",
          "july",
          "july",
          "july",
          "july",
          "july",
          "july",
          "july",
          "july",
          "july",
          "july",
          "july",
          "july",
          "july",
          "july",
          "july",
          "july",
          "july",
          "july",
          "july",
          "july",
          "august",
          "august",
          "august",
          "august",
          "august",
          "august",
          "august",
          "august",
          "august",
          "august",
          "august",
          "august",
          "august",
          "august",
          "august",
          "august",
          "august",
          "august",
          "august",
          "august",
          "august",
          "august",
          "august",
          "august",
          "august",
          "august",
          "august",
          "august",
          "august",
          "august",
          "august",
          "september",
          "september",
          "september",
          "september",
          "september",
          "september",
          "september",
          "september",
          "september",
          "september",
          "september",
          "september",
          "september",
          "september",
          "september",
          "september",
          "september",
          "september",
          "september",
          "september",
          "september",
          "september",
          "september",
          "september",
          "september",
          "september",
          "september",
          "september",
          "september",
          "september",
          "october",
          "october",
          "october",
          "october",
          "october",
          "october",
          "october",
          "october",
          "october",
          "october",
          "october",
          "october",
          "october",
          "october",
          "october",
          "october",
          "october",
          "october",
          "october",
          "october",
          "october",
          "october",
          "october",
          "october",
          "october",
          "october",
          "october",
          "october",
          "october",
          "october",
          "october",
          "november",
          "november",
          "november",
          "november",
          "november",
          "november",
          "november",
          "november",
          "november",
          "november",
          "november",
          "november",
          "november",
          "november",
          "november",
          "november",
          "november",
          "november",
          "november",
          "november",
          "november",
          "november",
          "november",
          "november",
          "november",
          "november",
          "november",
          "november",
          "november",
          "november",
          "december",
          "december",
          "december",
          "december",
          "december",
          "december",
          "december",
          "december",
          "december",
          "december",
          "december",
          "december",
          "december",
          "december",
          "december",
          "december",
          "december",
          "december",
          "december",
          "december",
          "december",
          "december",
          "december",
          "december",
          "december",
          "december",
          "december",
          "december",
          "december",
          "december",
          "december",
          "january",
          "january",
          "january",
          "january",
          "january",
          "january",
          "january",
          "january",
          "january",
          "january",
          "january",
          "january",
          "january",
          "january",
          "january",
          "january",
          "january",
          "january",
          "january",
          "january",
          "january",
          "january",
          "january",
          "january",
          "january",
          "january",
          "january",
          "january",
          "january",
          "january",
          "january",
          "february",
          "february",
          "february",
          "february",
          "february",
          "february",
          "february",
          "february",
          "february",
          "february",
          "february",
          "february",
          "february",
          "february",
          "february",
          "february",
          "february",
          "february",
          "february",
          "february",
          "february",
          "february",
          "february",
          "february",
          "february",
          "february",
          "february",
          "february",
          "march",
          "march",
          "march",
          "march",
          "march",
          "march",
          "march",
          "march",
          "march",
          "march",
          "march",
          "march",
          "march",
          "march",
          "march",
          "march",
          "march",
          "march",
          "march",
          "march",
          "march",
          "march",
          "march",
          "march",
          "march",
          "march",
          "march",
          "march",
          "march",
          "march",
          "march",
          "january",
          "january",
          "january",
          "january",
          "january",
          "january",
          "january",
          "january",
          "january",
          "january",
          "january",
          "january",
          "january",
          "january",
          "january",
          "january",
          "january",
          "january",
          "january",
          "january",
          "january",
          "january",
          "january",
          "january",
          "january",
          "january",
          "january",
          "january",
          "january",
          "january",
          "january",
          "february",
          "february",
          "february",
          "february",
          "february",
          "february",
          "february",
          "february",
          "february",
          "february",
          "february",
          "february",
          "february",
          "february",
          "february",
          "february",
          "february",
          "february",
          "february",
          "february",
          "february",
          "february",
          "february",
          "february",
          "february",
          "february",
          "february",
          "february",
          "march",
          "march",
          "march",
          "march",
          "march",
          "march",
          "march",
          "march",
          "march",
          "march",
          "march",
          "march",
          "march",
          "march",
          "march",
          "march",
          "march",
          "march",
          "march",
          "march",
          "march",
          "march",
          "march",
          "march",
          "march",
          "march",
          "march",
          "march",
          "march",
          "march",
          "march",
          "april",
          "april",
          "april",
          "april",
          "april",
          "april",
          "april",
          "april",
          "april",
          "april",
          "april",
          "april",
          "april",
          "april",
          "april",
          "april",
          "april",
          "april",
          "april",
          "april",
          "april",
          "april",
          "april",
          "april",
          "april",
          "april",
          "april",
          "april",
          "april",
          "april",
          "may",
          "may",
          "may",
          "may",
          "may",
          "may",
          "may",
          "may",
          "may",
          "may",
          "may",
          "may",
          "may",
          "may",
          "may",
          "may",
          "may",
          "may",
          "may",
          "may",
          "may",
          "may",
          "may",
          "may",
          "may",
          "may",
          "may",
          "may",
          "may",
          "may",
          "may",
          "june",
          "june",
          "june",
          "june",
          "june",
          "june",
          "june",
          "june",
          "june",
          "june",
          "june",
          "june",
          "june",
          "june",
          "june",
          "june",
          "june",
          "june",
          "june",
          "june",
          "june",
          "june",
          "june",
          "june",
          "june",
          "june",
          "june",
          "june",
          "june",
          "june",
          "july",
          "july",
          "july",
          "july",
          "july",
          "july",
          "july",
          "july",
          "july",
          "july",
          "july",
          "july",
          "july",
          "july",
          "july",
          "july",
          "july",
          "july",
          "july",
          "july",
          "july",
          "july",
          "july",
          "july",
          "july",
          "july",
          "july",
          "july",
          "july",
          "july",
          "july",
          "august",
          "august",
          "august",
          "august",
          "august",
          "august",
          "august",
          "august",
          "august",
          "august",
          "august",
          "august",
          "august",
          "august",
          "august",
          "august",
          "august",
          "august",
          "august",
          "august",
          "august",
          "august",
          "august",
          "august",
          "august",
          "august",
          "august",
          "august",
          "august",
          "august",
          "august",
          "september",
          "september",
          "september",
          "september",
          "september",
          "september",
          "september",
          "september",
          "september",
          "september",
          "september",
          "september",
          "september",
          "september",
          "september",
          "september",
          "september",
          "september",
          "september",
          "september",
          "september",
          "september",
          "september",
          "september",
          "september",
          "september",
          "september",
          "september",
          "september",
          "september",
          "october",
          "october",
          "october",
          "october",
          "october",
          "october",
          "october",
          "october",
          "october",
          "october",
          "october",
          "october",
          "october",
          "october",
          "october",
          "october",
          "october",
          "october",
          "october",
          "october",
          "october",
          "october",
          "october",
          "october",
          "october",
          "october",
          "october",
          "october",
          "october",
          "october",
          "october",
          "november",
          "november",
          "november",
          "november",
          "november",
          "november",
          "november",
          "november",
          "november",
          "november",
          "november",
          "november",
          "november",
          "november",
          "november",
          "november",
          "november",
          "november",
          "november",
          "november",
          "november",
          "november",
          "november",
          "november",
          "november",
          "november",
          "november",
          "november",
          "november",
          "november",
          "december",
          "december",
          "december",
          "december",
          "december",
          "december",
          "december",
          "december",
          "december",
          "december",
          "december",
          "december",
          "december",
          "december",
          "december",
          "december",
          "december",
          "december",
          "december",
          "december",
          "december",
          "december",
          "december",
          "december",
          "december",
          "december",
          "december",
          "december",
          "december",
          "december",
          "december",
          "january",
          "january",
          "january",
          "january",
          "january",
          "january",
          "january",
          "january",
          "january",
          "january",
          "january",
          "january",
          "january",
          "january",
          "january",
          "january",
          "january",
          "january",
          "january",
          "january",
          "january",
          "january",
          "january",
          "january",
          "january",
          "january",
          "january",
          "january",
          "january",
          "january",
          "january",
          "february",
          "february",
          "february",
          "february",
          "february",
          "february",
          "february",
          "february",
          "february",
          "february",
          "february",
          "february",
          "february",
          "february",
          "february",
          "february",
          "february",
          "february",
          "february",
          "february",
          "february",
          "february",
          "february",
          "february",
          "february",
          "february",
          "february",
          "february",
          "february",
          "march",
          "march",
          "march",
          "march",
          "march",
          "march",
          "march",
          "march",
          "march",
          "march",
          "march",
          "march",
          "march",
          "march",
          "march",
          "march",
          "march",
          "march",
          "march",
          "march",
          "march",
          "march",
          "march",
          "march",
          "march",
          "march",
          "march",
          "march",
          "march",
          "march",
          "march",
          "april",
          "april",
          "april",
          "april",
          "april",
          "april",
          "april",
          "april",
          "april",
          "april",
          "april",
          "april",
          "april",
          "april",
          "april",
          "april",
          "april",
          "april",
          "april",
          "april",
          "april",
          "april",
          "april",
          "april",
          "april",
          "april",
          "april",
          "april",
          "april",
          "april",
          "may",
          "may",
          "may",
          "may",
          "may",
          "may",
          "may",
          "may",
          "may",
          "may",
          "may",
          "may",
          "may",
          "may",
          "may",
          "may",
          "may",
          "may",
          "may",
          "may",
          "may",
          "may",
          "may",
          "may",
          "may",
          "may",
          "may",
          "may",
          "may",
          "may",
          "may",
          "june",
          "june",
          "june",
          "june",
          "june",
          "june",
          "june",
          "june",
          "june",
          "june",
          "june",
          "june",
          "june",
          "june",
          "june",
          "june",
          "june",
          "june",
          "june",
          "june",
          "june",
          "june",
          "june",
          "june",
          "june",
          "june",
          "june",
          "june",
          "june",
          "june",
          "july",
          "july",
          "july",
          "july",
          "july",
          "july",
          "july",
          "july",
          "july",
          "july",
          "july",
          "july",
          "july",
          "july",
          "july",
          "july",
          "july",
          "july",
          "july",
          "july",
          "july",
          "july",
          "july",
          "july",
          "july",
          "july",
          "july",
          "july",
          "july",
          "july",
          "july",
          "august",
          "august",
          "august",
          "august",
          "august",
          "august",
          "august",
          "august",
          "august",
          "august",
          "august",
          "august",
          "august",
          "august",
          "august",
          "august",
          "august",
          "august",
          "august",
          "august",
          "august",
          "august",
          "august",
          "august",
          "august",
          "august",
          "august",
          "august",
          "august",
          "august",
          "august",
          "september",
          "september",
          "september",
          "september",
          "september",
          "september",
          "september",
          "september",
          "september",
          "september",
          "september",
          "september",
          "september",
          "september",
          "september",
          "september",
          "september",
          "september",
          "september",
          "september",
          "september",
          "september",
          "september",
          "september",
          "september",
          "september",
          "september",
          "september",
          "september",
          "september",
          "october",
          "october",
          "october",
          "october",
          "october",
          "october",
          "october",
          "october",
          "october",
          "october",
          "october",
          "october",
          "october",
          "october",
          "october",
          "october",
          "october",
          "october",
          "october",
          "october",
          "october",
          "october",
          "october",
          "october",
          "october",
          "october",
          "october",
          "october",
          "october",
          "october",
          "october",
          "november",
          "november",
          "november",
          "november",
          "november",
          "november",
          "november",
          "november",
          "november",
          "november",
          "november",
          "november",
          "november",
          "november",
          "november",
          "november",
          "november",
          "november",
          "november",
          "november",
          "november",
          "november",
          "november",
          "november",
          "november",
          "november",
          "november",
          "november",
          "november",
          "november",
          "december",
          "december",
          "december",
          "december",
          "december",
          "december",
          "december",
          "december",
          "december",
          "december",
          "december",
          "december",
          "december",
          "december",
          "december",
          "december",
          "december",
          "december",
          "december",
          "december",
          "december",
          "december",
          "december",
          "december",
          "december",
          "december",
          "december",
          "december",
          "december",
          "december",
          "december",
          "january",
          "january",
          "january",
          "january",
          "january",
          "january",
          "january",
          "january",
          "january",
          "january",
          "january",
          "january",
          "january",
          "january",
          "january",
          "january",
          "january",
          "january",
          "january",
          "january",
          "january",
          "january",
          "january",
          "january",
          "january",
          "january",
          "january",
          "january",
          "january",
          "january",
          "january",
          "february",
          "february",
          "february",
          "february",
          "february",
          "february",
          "february",
          "february",
          "february",
          "february",
          "february",
          "february",
          "february",
          "february",
          "february",
          "february",
          "february",
          "february",
          "february",
          "february",
          "february",
          "february",
          "february",
          "february",
          "february",
          "february",
          "february",
          "february",
          "march",
          "march",
          "march",
          "march",
          "march",
          "march",
          "march",
          "march",
          "march",
          "march",
          "march",
          "march",
          "march",
          "march",
          "march",
          "march",
          "march",
          "march",
          "march",
          "march",
          "march",
          "march",
          "march",
          "march",
          "march",
          "march",
          "march",
          "march",
          "march",
          "march",
          "march"
         ],
         "x0": " ",
         "xaxis": "x",
         "y": {
          "bdata": "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",
          "dtype": "f8"
         },
         "y0": " ",
         "yaxis": "y"
        }
       ],
       "layout": {
        "autosize": true,
        "boxmode": "group",
        "font": {
         "color": "white"
        },
        "legend": {
         "font": {
          "color": "white"
         },
         "tracegroupgap": 0
        },
        "margin": {
         "b": 40,
         "l": 20,
         "r": 20,
         "t": 40
        },
        "paper_bgcolor": "rgba(0, 0, 0, 0)",
        "plot_bgcolor": "rgba(0, 0, 0, 0)",
        "template": {
         "data": {
          "bar": [
           {
            "error_x": {
             "color": "#2a3f5f"
            },
            "error_y": {
             "color": "#2a3f5f"
            },
            "marker": {
             "line": {
              "color": "#E5ECF6",
              "width": 0.5
             },
             "pattern": {
              "fillmode": "overlay",
              "size": 10,
              "solidity": 0.2
             }
            },
            "type": "bar"
           }
          ],
          "barpolar": [
           {
            "marker": {
             "line": {
              "color": "#E5ECF6",
              "width": 0.5
             },
             "pattern": {
              "fillmode": "overlay",
              "size": 10,
              "solidity": 0.2
             }
            },
            "type": "barpolar"
           }
          ],
          "carpet": [
           {
            "aaxis": {
             "endlinecolor": "#2a3f5f",
             "gridcolor": "white",
             "linecolor": "white",
             "minorgridcolor": "white",
             "startlinecolor": "#2a3f5f"
            },
            "baxis": {
             "endlinecolor": "#2a3f5f",
             "gridcolor": "white",
             "linecolor": "white",
             "minorgridcolor": "white",
             "startlinecolor": "#2a3f5f"
            },
            "type": "carpet"
           }
          ],
          "choropleth": [
           {
            "colorbar": {
             "outlinewidth": 0,
             "ticks": ""
            },
            "type": "choropleth"
           }
          ],
          "contour": [
           {
            "colorbar": {
             "outlinewidth": 0,
             "ticks": ""
            },
            "colorscale": [
             [
              0,
              "#0d0887"
             ],
             [
              0.1111111111111111,
              "#46039f"
             ],
             [
              0.2222222222222222,
              "#7201a8"
             ],
             [
              0.3333333333333333,
              "#9c179e"
             ],
             [
              0.4444444444444444,
              "#bd3786"
             ],
             [
              0.5555555555555556,
              "#d8576b"
             ],
             [
              0.6666666666666666,
              "#ed7953"
             ],
             [
              0.7777777777777778,
              "#fb9f3a"
             ],
             [
              0.8888888888888888,
              "#fdca26"
             ],
             [
              1,
              "#f0f921"
             ]
            ],
            "type": "contour"
           }
          ],
          "contourcarpet": [
           {
            "colorbar": {
             "outlinewidth": 0,
             "ticks": ""
            },
            "type": "contourcarpet"
           }
          ],
          "heatmap": [
           {
            "colorbar": {
             "outlinewidth": 0,
             "ticks": ""
            },
            "colorscale": [
             [
              0,
              "#0d0887"
             ],
             [
              0.1111111111111111,
              "#46039f"
             ],
             [
              0.2222222222222222,
              "#7201a8"
             ],
             [
              0.3333333333333333,
              "#9c179e"
             ],
             [
              0.4444444444444444,
              "#bd3786"
             ],
             [
              0.5555555555555556,
              "#d8576b"
             ],
             [
              0.6666666666666666,
              "#ed7953"
             ],
             [
              0.7777777777777778,
              "#fb9f3a"
             ],
             [
              0.8888888888888888,
              "#fdca26"
             ],
             [
              1,
              "#f0f921"
             ]
            ],
            "type": "heatmap"
           }
          ],
          "histogram": [
           {
            "marker": {
             "pattern": {
              "fillmode": "overlay",
              "size": 10,
              "solidity": 0.2
             }
            },
            "type": "histogram"
           }
          ],
          "histogram2d": [
           {
            "colorbar": {
             "outlinewidth": 0,
             "ticks": ""
            },
            "colorscale": [
             [
              0,
              "#0d0887"
             ],
             [
              0.1111111111111111,
              "#46039f"
             ],
             [
              0.2222222222222222,
              "#7201a8"
             ],
             [
              0.3333333333333333,
              "#9c179e"
             ],
             [
              0.4444444444444444,
              "#bd3786"
             ],
             [
              0.5555555555555556,
              "#d8576b"
             ],
             [
              0.6666666666666666,
              "#ed7953"
             ],
             [
              0.7777777777777778,
              "#fb9f3a"
             ],
             [
              0.8888888888888888,
              "#fdca26"
             ],
             [
              1,
              "#f0f921"
             ]
            ],
            "type": "histogram2d"
           }
          ],
          "histogram2dcontour": [
           {
            "colorbar": {
             "outlinewidth": 0,
             "ticks": ""
            },
            "colorscale": [
             [
              0,
              "#0d0887"
             ],
             [
              0.1111111111111111,
              "#46039f"
             ],
             [
              0.2222222222222222,
              "#7201a8"
             ],
             [
              0.3333333333333333,
              "#9c179e"
             ],
             [
              0.4444444444444444,
              "#bd3786"
             ],
             [
              0.5555555555555556,
              "#d8576b"
             ],
             [
              0.6666666666666666,
              "#ed7953"
             ],
             [
              0.7777777777777778,
              "#fb9f3a"
             ],
             [
              0.8888888888888888,
              "#fdca26"
             ],
             [
              1,
              "#f0f921"
             ]
            ],
            "type": "histogram2dcontour"
           }
          ],
          "mesh3d": [
           {
            "colorbar": {
             "outlinewidth": 0,
             "ticks": ""
            },
            "type": "mesh3d"
           }
          ],
          "parcoords": [
           {
            "line": {
             "colorbar": {
              "outlinewidth": 0,
              "ticks": ""
             }
            },
            "type": "parcoords"
           }
          ],
          "pie": [
           {
            "automargin": true,
            "type": "pie"
           }
          ],
          "scatter": [
           {
            "fillpattern": {
             "fillmode": "overlay",
             "size": 10,
             "solidity": 0.2
            },
            "type": "scatter"
           }
          ],
          "scatter3d": [
           {
            "line": {
             "colorbar": {
              "outlinewidth": 0,
              "ticks": ""
             }
            },
            "marker": {
             "colorbar": {
              "outlinewidth": 0,
              "ticks": ""
             }
            },
            "type": "scatter3d"
           }
          ],
          "scattercarpet": [
           {
            "marker": {
             "colorbar": {
              "outlinewidth": 0,
              "ticks": ""
             }
            },
            "type": "scattercarpet"
           }
          ],
          "scattergeo": [
           {
            "marker": {
             "colorbar": {
              "outlinewidth": 0,
              "ticks": ""
             }
            },
            "type": "scattergeo"
           }
          ],
          "scattergl": [
           {
            "marker": {
             "colorbar": {
              "outlinewidth": 0,
              "ticks": ""
             }
            },
            "type": "scattergl"
           }
          ],
          "scattermap": [
           {
            "marker": {
             "colorbar": {
              "outlinewidth": 0,
              "ticks": ""
             }
            },
            "type": "scattermap"
           }
          ],
          "scattermapbox": [
           {
            "marker": {
             "colorbar": {
              "outlinewidth": 0,
              "ticks": ""
             }
            },
            "type": "scattermapbox"
           }
          ],
          "scatterpolar": [
           {
            "marker": {
             "colorbar": {
              "outlinewidth": 0,
              "ticks": ""
             }
            },
            "type": "scatterpolar"
           }
          ],
          "scatterpolargl": [
           {
            "marker": {
             "colorbar": {
              "outlinewidth": 0,
              "ticks": ""
             }
            },
            "type": "scatterpolargl"
           }
          ],
          "scatterternary": [
           {
            "marker": {
             "colorbar": {
              "outlinewidth": 0,
              "ticks": ""
             }
            },
            "type": "scatterternary"
           }
          ],
          "surface": [
           {
            "colorbar": {
             "outlinewidth": 0,
             "ticks": ""
            },
            "colorscale": [
             [
              0,
              "#0d0887"
             ],
             [
              0.1111111111111111,
              "#46039f"
             ],
             [
              0.2222222222222222,
              "#7201a8"
             ],
             [
              0.3333333333333333,
              "#9c179e"
             ],
             [
              0.4444444444444444,
              "#bd3786"
             ],
             [
              0.5555555555555556,
              "#d8576b"
             ],
             [
              0.6666666666666666,
              "#ed7953"
             ],
             [
              0.7777777777777778,
              "#fb9f3a"
             ],
             [
              0.8888888888888888,
              "#fdca26"
             ],
             [
              1,
              "#f0f921"
             ]
            ],
            "type": "surface"
           }
          ],
          "table": [
           {
            "cells": {
             "fill": {
              "color": "#EBF0F8"
             },
             "line": {
              "color": "white"
             }
            },
            "header": {
             "fill": {
              "color": "#C8D4E3"
             },
             "line": {
              "color": "white"
             }
            },
            "type": "table"
           }
          ]
         },
         "layout": {
          "annotationdefaults": {
           "arrowcolor": "#2a3f5f",
           "arrowhead": 0,
           "arrowwidth": 1
          },
          "autotypenumbers": "strict",
          "coloraxis": {
           "colorbar": {
            "outlinewidth": 0,
            "ticks": ""
           }
          },
          "colorscale": {
           "diverging": [
            [
             0,
             "#8e0152"
            ],
            [
             0.1,
             "#c51b7d"
            ],
            [
             0.2,
             "#de77ae"
            ],
            [
             0.3,
             "#f1b6da"
            ],
            [
             0.4,
             "#fde0ef"
            ],
            [
             0.5,
             "#f7f7f7"
            ],
            [
             0.6,
             "#e6f5d0"
            ],
            [
             0.7,
             "#b8e186"
            ],
            [
             0.8,
             "#7fbc41"
            ],
            [
             0.9,
             "#4d9221"
            ],
            [
             1,
             "#276419"
            ]
           ],
           "sequential": [
            [
             0,
             "#0d0887"
            ],
            [
             0.1111111111111111,
             "#46039f"
            ],
            [
             0.2222222222222222,
             "#7201a8"
            ],
            [
             0.3333333333333333,
             "#9c179e"
            ],
            [
             0.4444444444444444,
             "#bd3786"
            ],
            [
             0.5555555555555556,
             "#d8576b"
            ],
            [
             0.6666666666666666,
             "#ed7953"
            ],
            [
             0.7777777777777778,
             "#fb9f3a"
            ],
            [
             0.8888888888888888,
             "#fdca26"
            ],
            [
             1,
             "#f0f921"
            ]
           ],
           "sequentialminus": [
            [
             0,
             "#0d0887"
            ],
            [
             0.1111111111111111,
             "#46039f"
            ],
            [
             0.2222222222222222,
             "#7201a8"
            ],
            [
             0.3333333333333333,
             "#9c179e"
            ],
            [
             0.4444444444444444,
             "#bd3786"
            ],
            [
             0.5555555555555556,
             "#d8576b"
            ],
            [
             0.6666666666666666,
             "#ed7953"
            ],
            [
             0.7777777777777778,
             "#fb9f3a"
            ],
            [
             0.8888888888888888,
             "#fdca26"
            ],
            [
             1,
             "#f0f921"
            ]
           ]
          },
          "colorway": [
           "#636efa",
           "#EF553B",
           "#00cc96",
           "#ab63fa",
           "#FFA15A",
           "#19d3f3",
           "#FF6692",
           "#B6E880",
           "#FF97FF",
           "#FECB52"
          ],
          "font": {
           "color": "#2a3f5f"
          },
          "geo": {
           "bgcolor": "white",
           "lakecolor": "white",
           "landcolor": "#E5ECF6",
           "showlakes": true,
           "showland": true,
           "subunitcolor": "white"
          },
          "hoverlabel": {
           "align": "left"
          },
          "hovermode": "closest",
          "mapbox": {
           "style": "light"
          },
          "paper_bgcolor": "white",
          "plot_bgcolor": "#E5ECF6",
          "polar": {
           "angularaxis": {
            "gridcolor": "white",
            "linecolor": "white",
            "ticks": ""
           },
           "bgcolor": "#E5ECF6",
           "radialaxis": {
            "gridcolor": "white",
            "linecolor": "white",
            "ticks": ""
           }
          },
          "scene": {
           "xaxis": {
            "backgroundcolor": "#E5ECF6",
            "gridcolor": "white",
            "gridwidth": 2,
            "linecolor": "white",
            "showbackground": true,
            "ticks": "",
            "zerolinecolor": "white"
           },
           "yaxis": {
            "backgroundcolor": "#E5ECF6",
            "gridcolor": "white",
            "gridwidth": 2,
            "linecolor": "white",
            "showbackground": true,
            "ticks": "",
            "zerolinecolor": "white"
           },
           "zaxis": {
            "backgroundcolor": "#E5ECF6",
            "gridcolor": "white",
            "gridwidth": 2,
            "linecolor": "white",
            "showbackground": true,
            "ticks": "",
            "zerolinecolor": "white"
           }
          },
          "shapedefaults": {
           "line": {
            "color": "#2a3f5f"
           }
          },
          "ternary": {
           "aaxis": {
            "gridcolor": "white",
            "linecolor": "white",
            "ticks": ""
           },
           "baxis": {
            "gridcolor": "white",
            "linecolor": "white",
            "ticks": ""
           },
           "bgcolor": "#E5ECF6",
           "caxis": {
            "gridcolor": "white",
            "linecolor": "white",
            "ticks": ""
           }
          },
          "title": {
           "x": 0.05
          },
          "xaxis": {
           "automargin": true,
           "gridcolor": "white",
           "linecolor": "white",
           "ticks": "",
           "title": {
            "standoff": 15
           },
           "zerolinecolor": "white",
           "zerolinewidth": 2
          },
          "yaxis": {
           "automargin": true,
           "gridcolor": "white",
           "linecolor": "white",
           "ticks": "",
           "title": {
            "standoff": 15
           },
           "zerolinecolor": "white",
           "zerolinewidth": 2
          }
         }
        },
        "title": {
         "font": {
          "color": "white"
         },
         "text": "        Monthly temperature distribution"
        },
        "xaxis": {
         "anchor": "y",
         "color": "white",
         "domain": [
          0,
          1
         ],
         "title": {
          "text": "Month"
         }
        },
        "yaxis": {
         "anchor": "x",
         "color": "white",
         "domain": [
          0,
          1
         ],
         "gridcolor": "rgba(255, 255, 255, 0.4)",
         "title": {
          "text": "Temperature (°C)"
         }
        }
       }
      }
     },
     "metadata": {},
     "output_type": "display_data"
    }
   ],
   "source": [
    "df_temp = df[[\"date\", \"temp\", \"month\"]].groupby(\"date\").mean().reset_index()\n",
    "df_temp_mean = df_temp.groupby(\"month\").mean().reset_index()\n",
    "df_temp_mean['month_name'] = df_temp_mean['month'].map(meses)\n",
    "print(\"Average temperature by Month\")\n",
    "print(df_temp_mean[[\"temp\", \"month_name\"]].sort_values(by=\"temp\", ascending=False))\n",
    "print(\"----------------------------------------------------------------\")\n",
    "\n",
    "df_temp = df[[\"date\", \"temp\", \"month\"]].groupby(\"date\").max().reset_index()\n",
    "df_temp_max = df_temp.groupby(\"month\").max().reset_index()\n",
    "df_temp_max['month_name'] = df_temp_max['month'].map(meses)\n",
    "print(\"Max temperature by Month\")\n",
    "print(df_temp_max[[\"temp\", \"month_name\"]].sort_values(by=\"temp\", ascending=False))\n",
    "print(\"----------------------------------------------------------------\")\n",
    "\n",
    "\n",
    "df_temp = df[[\"date\", \"temp\", \"month\"]].groupby(\"date\").min().reset_index()\n",
    "df_temp_min = df_temp.groupby(\"month\").min().reset_index()\n",
    "df_temp_min['month_name'] = df_temp_min['month'].map(meses)\n",
    "print(\"Min temperature by Month\")\n",
    "print(df_temp_min[[\"temp\", \"month_name\"]].sort_values(by=\"temp\", ascending=True))\n",
    "\n",
    "df[\"month_name\"] = df['month'].map(meses)\n",
    "fig = px.box(df, x='month_name', y='temp',\n",
    "                     title=f'        Monthly temperature distribution')\n",
    "    \n",
    "fig.update_layout(\n",
    "    plot_bgcolor='rgba(0, 0, 0, 0)',\n",
    "    paper_bgcolor='rgba(0, 0, 0, 0)',\n",
    "    font=dict(color='white'),\n",
    "    title_font=dict(color='white'),\n",
    "    legend=dict(font=dict(color='white')),\n",
    "    xaxis=dict(title='Month', color='white'),\n",
    "    yaxis=dict(title='Temperature (°C)', color='white', gridcolor='rgba(255, 255, 255, 0.4)'),\n",
    "    autosize=True,\n",
    "    margin=dict(l=20, r=20, t=40, b=40)\n",
    "    )\n",
    "fig.show()"
   ]
  },
  {
   "cell_type": "markdown",
   "id": "48606d0c",
   "metadata": {},
   "source": [
    "If you see, the three DataFrames (AVG, MAX and MIN) have the same info to the BoxPlot Graphs, but more explicit. In this graph we can see the estacionality in Temperature, with the highest in August and the lowest in December. The DataFrames confirm this data, because the MAX is 31°C in august and the MIN is 0.56°C in December. Well, the order of the data:  \n",
    "  \n",
    "**BY AVG: August > July > June > September > October > May > April > November > March > February > December > January**  \n",
    "  \n",
    "**BY MAX: August > July > June > October > September > May > March > Nomvember > April > February > December > January**  \n",
    "  \n",
    "**BY MIN: August > July > June > September > October > May > April > November > March > February > January > December**  \n",
    "\n",
    "The results of this order are predictable, since if we look closely, the first three months and the last three months are always the same. This is easy to explain we're talking about summer and winter, the two extremes; the remaining months are the transitions between them. There are some interesting points here, such as that December, despite not being the coldest month on average, has the coldest peak, but they won't be described because they might be a bit obvious."
   ]
  },
  {
   "cell_type": "markdown",
   "id": "c7cf7959",
   "metadata": {},
   "source": [
    "### Humidity  \n",
    "We often focus on actual temperature and how it feels. There are many other aspects that make it interesting, such as its effect on plants, objects, and even ourselves. But in this case, we'll focus on the climate, as it directly affects our perception of temperature, or what's known as the **heat index**, the formation of weather phenomena, and ecosystems. Humidity can form clouds, disrupt the evaporation of sweat, and prevent the body from cooling.\n",
    "\n",
    "Outdoors, relative humidity is typically between 30% and 50%, although ideally it should be between 40% and 60%.\n",
    "#### Humidity about cities:\n",
    "Knowing the humidity level in each city is extremely important, since the higher the humidity, the greater the difference between temperature and wind heat index. Therefore, a city with a lower relative humidity (%) will be more comfortable for people."
   ]
  },
  {
   "cell_type": "code",
   "execution_count": 21,
   "id": "eed24e56",
   "metadata": {},
   "outputs": [
    {
     "data": {
      "text/plain": [
       "city\n",
       "Coruña                    84.885505\n",
       "Lugo                      83.857491\n",
       "Ourense                   75.427527\n",
       "Pontevedra                79.224117\n",
       "Santiago de Compostela    81.449452\n",
       "Vigo                      77.014616\n",
       "Name: hum, dtype: float64"
      ]
     },
     "execution_count": 21,
     "metadata": {},
     "output_type": "execute_result"
    }
   ],
   "source": [
    "prom_hum = df.groupby(\"city\")[\"hum\"].mean()\n",
    "prom_hum"
   ]
  },
  {
   "cell_type": "code",
   "execution_count": 22,
   "id": "ac609037",
   "metadata": {},
   "outputs": [
    {
     "name": "stdout",
     "output_type": "stream",
     "text": [
      "                     city        hum\n",
      "0                  Coruña  84.885505\n",
      "1                    Lugo  83.857491\n",
      "2  Santiago de Compostela  81.449452\n",
      "3              Pontevedra  79.224117\n",
      "4                    Vigo  77.014616\n",
      "5                 Ourense  75.427527\n"
     ]
    },
    {
     "data": {
      "application/vnd.plotly.v1+json": {
       "config": {
        "plotlyServerURL": "https://plot.ly"
       },
       "data": [
        {
         "hovertemplate": "city=%{x}<br>hum=%{y}<extra></extra>",
         "legendgroup": "",
         "marker": {
          "color": "#636efa",
          "pattern": {
           "shape": ""
          }
         },
         "name": "",
         "orientation": "v",
         "showlegend": false,
         "textposition": "auto",
         "type": "bar",
         "x": [
          "Coruña",
          "Lugo",
          "Santiago de Compostela",
          "Pontevedra",
          "Vigo",
          "Ourense"
         ],
         "xaxis": "x",
         "y": {
          "bdata": "3nUuH6w4VUCOO10h4fZUQGb12dHDXFRAetKJ7lfOU0BhxUt570BTQFVN6Jtc21JA",
          "dtype": "f8"
         },
         "yaxis": "y"
        }
       ],
       "layout": {
        "autosize": true,
        "barmode": "relative",
        "font": {
         "color": "white"
        },
        "legend": {
         "font": {
          "color": "white"
         },
         "tracegroupgap": 0
        },
        "margin": {
         "b": 40,
         "l": 20,
         "r": 20,
         "t": 40
        },
        "paper_bgcolor": "rgba(0, 0, 0, 0)",
        "plot_bgcolor": "rgba(0, 0, 0, 0)",
        "template": {
         "data": {
          "bar": [
           {
            "error_x": {
             "color": "#2a3f5f"
            },
            "error_y": {
             "color": "#2a3f5f"
            },
            "marker": {
             "line": {
              "color": "#E5ECF6",
              "width": 0.5
             },
             "pattern": {
              "fillmode": "overlay",
              "size": 10,
              "solidity": 0.2
             }
            },
            "type": "bar"
           }
          ],
          "barpolar": [
           {
            "marker": {
             "line": {
              "color": "#E5ECF6",
              "width": 0.5
             },
             "pattern": {
              "fillmode": "overlay",
              "size": 10,
              "solidity": 0.2
             }
            },
            "type": "barpolar"
           }
          ],
          "carpet": [
           {
            "aaxis": {
             "endlinecolor": "#2a3f5f",
             "gridcolor": "white",
             "linecolor": "white",
             "minorgridcolor": "white",
             "startlinecolor": "#2a3f5f"
            },
            "baxis": {
             "endlinecolor": "#2a3f5f",
             "gridcolor": "white",
             "linecolor": "white",
             "minorgridcolor": "white",
             "startlinecolor": "#2a3f5f"
            },
            "type": "carpet"
           }
          ],
          "choropleth": [
           {
            "colorbar": {
             "outlinewidth": 0,
             "ticks": ""
            },
            "type": "choropleth"
           }
          ],
          "contour": [
           {
            "colorbar": {
             "outlinewidth": 0,
             "ticks": ""
            },
            "colorscale": [
             [
              0,
              "#0d0887"
             ],
             [
              0.1111111111111111,
              "#46039f"
             ],
             [
              0.2222222222222222,
              "#7201a8"
             ],
             [
              0.3333333333333333,
              "#9c179e"
             ],
             [
              0.4444444444444444,
              "#bd3786"
             ],
             [
              0.5555555555555556,
              "#d8576b"
             ],
             [
              0.6666666666666666,
              "#ed7953"
             ],
             [
              0.7777777777777778,
              "#fb9f3a"
             ],
             [
              0.8888888888888888,
              "#fdca26"
             ],
             [
              1,
              "#f0f921"
             ]
            ],
            "type": "contour"
           }
          ],
          "contourcarpet": [
           {
            "colorbar": {
             "outlinewidth": 0,
             "ticks": ""
            },
            "type": "contourcarpet"
           }
          ],
          "heatmap": [
           {
            "colorbar": {
             "outlinewidth": 0,
             "ticks": ""
            },
            "colorscale": [
             [
              0,
              "#0d0887"
             ],
             [
              0.1111111111111111,
              "#46039f"
             ],
             [
              0.2222222222222222,
              "#7201a8"
             ],
             [
              0.3333333333333333,
              "#9c179e"
             ],
             [
              0.4444444444444444,
              "#bd3786"
             ],
             [
              0.5555555555555556,
              "#d8576b"
             ],
             [
              0.6666666666666666,
              "#ed7953"
             ],
             [
              0.7777777777777778,
              "#fb9f3a"
             ],
             [
              0.8888888888888888,
              "#fdca26"
             ],
             [
              1,
              "#f0f921"
             ]
            ],
            "type": "heatmap"
           }
          ],
          "histogram": [
           {
            "marker": {
             "pattern": {
              "fillmode": "overlay",
              "size": 10,
              "solidity": 0.2
             }
            },
            "type": "histogram"
           }
          ],
          "histogram2d": [
           {
            "colorbar": {
             "outlinewidth": 0,
             "ticks": ""
            },
            "colorscale": [
             [
              0,
              "#0d0887"
             ],
             [
              0.1111111111111111,
              "#46039f"
             ],
             [
              0.2222222222222222,
              "#7201a8"
             ],
             [
              0.3333333333333333,
              "#9c179e"
             ],
             [
              0.4444444444444444,
              "#bd3786"
             ],
             [
              0.5555555555555556,
              "#d8576b"
             ],
             [
              0.6666666666666666,
              "#ed7953"
             ],
             [
              0.7777777777777778,
              "#fb9f3a"
             ],
             [
              0.8888888888888888,
              "#fdca26"
             ],
             [
              1,
              "#f0f921"
             ]
            ],
            "type": "histogram2d"
           }
          ],
          "histogram2dcontour": [
           {
            "colorbar": {
             "outlinewidth": 0,
             "ticks": ""
            },
            "colorscale": [
             [
              0,
              "#0d0887"
             ],
             [
              0.1111111111111111,
              "#46039f"
             ],
             [
              0.2222222222222222,
              "#7201a8"
             ],
             [
              0.3333333333333333,
              "#9c179e"
             ],
             [
              0.4444444444444444,
              "#bd3786"
             ],
             [
              0.5555555555555556,
              "#d8576b"
             ],
             [
              0.6666666666666666,
              "#ed7953"
             ],
             [
              0.7777777777777778,
              "#fb9f3a"
             ],
             [
              0.8888888888888888,
              "#fdca26"
             ],
             [
              1,
              "#f0f921"
             ]
            ],
            "type": "histogram2dcontour"
           }
          ],
          "mesh3d": [
           {
            "colorbar": {
             "outlinewidth": 0,
             "ticks": ""
            },
            "type": "mesh3d"
           }
          ],
          "parcoords": [
           {
            "line": {
             "colorbar": {
              "outlinewidth": 0,
              "ticks": ""
             }
            },
            "type": "parcoords"
           }
          ],
          "pie": [
           {
            "automargin": true,
            "type": "pie"
           }
          ],
          "scatter": [
           {
            "fillpattern": {
             "fillmode": "overlay",
             "size": 10,
             "solidity": 0.2
            },
            "type": "scatter"
           }
          ],
          "scatter3d": [
           {
            "line": {
             "colorbar": {
              "outlinewidth": 0,
              "ticks": ""
             }
            },
            "marker": {
             "colorbar": {
              "outlinewidth": 0,
              "ticks": ""
             }
            },
            "type": "scatter3d"
           }
          ],
          "scattercarpet": [
           {
            "marker": {
             "colorbar": {
              "outlinewidth": 0,
              "ticks": ""
             }
            },
            "type": "scattercarpet"
           }
          ],
          "scattergeo": [
           {
            "marker": {
             "colorbar": {
              "outlinewidth": 0,
              "ticks": ""
             }
            },
            "type": "scattergeo"
           }
          ],
          "scattergl": [
           {
            "marker": {
             "colorbar": {
              "outlinewidth": 0,
              "ticks": ""
             }
            },
            "type": "scattergl"
           }
          ],
          "scattermap": [
           {
            "marker": {
             "colorbar": {
              "outlinewidth": 0,
              "ticks": ""
             }
            },
            "type": "scattermap"
           }
          ],
          "scattermapbox": [
           {
            "marker": {
             "colorbar": {
              "outlinewidth": 0,
              "ticks": ""
             }
            },
            "type": "scattermapbox"
           }
          ],
          "scatterpolar": [
           {
            "marker": {
             "colorbar": {
              "outlinewidth": 0,
              "ticks": ""
             }
            },
            "type": "scatterpolar"
           }
          ],
          "scatterpolargl": [
           {
            "marker": {
             "colorbar": {
              "outlinewidth": 0,
              "ticks": ""
             }
            },
            "type": "scatterpolargl"
           }
          ],
          "scatterternary": [
           {
            "marker": {
             "colorbar": {
              "outlinewidth": 0,
              "ticks": ""
             }
            },
            "type": "scatterternary"
           }
          ],
          "surface": [
           {
            "colorbar": {
             "outlinewidth": 0,
             "ticks": ""
            },
            "colorscale": [
             [
              0,
              "#0d0887"
             ],
             [
              0.1111111111111111,
              "#46039f"
             ],
             [
              0.2222222222222222,
              "#7201a8"
             ],
             [
              0.3333333333333333,
              "#9c179e"
             ],
             [
              0.4444444444444444,
              "#bd3786"
             ],
             [
              0.5555555555555556,
              "#d8576b"
             ],
             [
              0.6666666666666666,
              "#ed7953"
             ],
             [
              0.7777777777777778,
              "#fb9f3a"
             ],
             [
              0.8888888888888888,
              "#fdca26"
             ],
             [
              1,
              "#f0f921"
             ]
            ],
            "type": "surface"
           }
          ],
          "table": [
           {
            "cells": {
             "fill": {
              "color": "#EBF0F8"
             },
             "line": {
              "color": "white"
             }
            },
            "header": {
             "fill": {
              "color": "#C8D4E3"
             },
             "line": {
              "color": "white"
             }
            },
            "type": "table"
           }
          ]
         },
         "layout": {
          "annotationdefaults": {
           "arrowcolor": "#2a3f5f",
           "arrowhead": 0,
           "arrowwidth": 1
          },
          "autotypenumbers": "strict",
          "coloraxis": {
           "colorbar": {
            "outlinewidth": 0,
            "ticks": ""
           }
          },
          "colorscale": {
           "diverging": [
            [
             0,
             "#8e0152"
            ],
            [
             0.1,
             "#c51b7d"
            ],
            [
             0.2,
             "#de77ae"
            ],
            [
             0.3,
             "#f1b6da"
            ],
            [
             0.4,
             "#fde0ef"
            ],
            [
             0.5,
             "#f7f7f7"
            ],
            [
             0.6,
             "#e6f5d0"
            ],
            [
             0.7,
             "#b8e186"
            ],
            [
             0.8,
             "#7fbc41"
            ],
            [
             0.9,
             "#4d9221"
            ],
            [
             1,
             "#276419"
            ]
           ],
           "sequential": [
            [
             0,
             "#0d0887"
            ],
            [
             0.1111111111111111,
             "#46039f"
            ],
            [
             0.2222222222222222,
             "#7201a8"
            ],
            [
             0.3333333333333333,
             "#9c179e"
            ],
            [
             0.4444444444444444,
             "#bd3786"
            ],
            [
             0.5555555555555556,
             "#d8576b"
            ],
            [
             0.6666666666666666,
             "#ed7953"
            ],
            [
             0.7777777777777778,
             "#fb9f3a"
            ],
            [
             0.8888888888888888,
             "#fdca26"
            ],
            [
             1,
             "#f0f921"
            ]
           ],
           "sequentialminus": [
            [
             0,
             "#0d0887"
            ],
            [
             0.1111111111111111,
             "#46039f"
            ],
            [
             0.2222222222222222,
             "#7201a8"
            ],
            [
             0.3333333333333333,
             "#9c179e"
            ],
            [
             0.4444444444444444,
             "#bd3786"
            ],
            [
             0.5555555555555556,
             "#d8576b"
            ],
            [
             0.6666666666666666,
             "#ed7953"
            ],
            [
             0.7777777777777778,
             "#fb9f3a"
            ],
            [
             0.8888888888888888,
             "#fdca26"
            ],
            [
             1,
             "#f0f921"
            ]
           ]
          },
          "colorway": [
           "#636efa",
           "#EF553B",
           "#00cc96",
           "#ab63fa",
           "#FFA15A",
           "#19d3f3",
           "#FF6692",
           "#B6E880",
           "#FF97FF",
           "#FECB52"
          ],
          "font": {
           "color": "#2a3f5f"
          },
          "geo": {
           "bgcolor": "white",
           "lakecolor": "white",
           "landcolor": "#E5ECF6",
           "showlakes": true,
           "showland": true,
           "subunitcolor": "white"
          },
          "hoverlabel": {
           "align": "left"
          },
          "hovermode": "closest",
          "mapbox": {
           "style": "light"
          },
          "paper_bgcolor": "white",
          "plot_bgcolor": "#E5ECF6",
          "polar": {
           "angularaxis": {
            "gridcolor": "white",
            "linecolor": "white",
            "ticks": ""
           },
           "bgcolor": "#E5ECF6",
           "radialaxis": {
            "gridcolor": "white",
            "linecolor": "white",
            "ticks": ""
           }
          },
          "scene": {
           "xaxis": {
            "backgroundcolor": "#E5ECF6",
            "gridcolor": "white",
            "gridwidth": 2,
            "linecolor": "white",
            "showbackground": true,
            "ticks": "",
            "zerolinecolor": "white"
           },
           "yaxis": {
            "backgroundcolor": "#E5ECF6",
            "gridcolor": "white",
            "gridwidth": 2,
            "linecolor": "white",
            "showbackground": true,
            "ticks": "",
            "zerolinecolor": "white"
           },
           "zaxis": {
            "backgroundcolor": "#E5ECF6",
            "gridcolor": "white",
            "gridwidth": 2,
            "linecolor": "white",
            "showbackground": true,
            "ticks": "",
            "zerolinecolor": "white"
           }
          },
          "shapedefaults": {
           "line": {
            "color": "#2a3f5f"
           }
          },
          "ternary": {
           "aaxis": {
            "gridcolor": "white",
            "linecolor": "white",
            "ticks": ""
           },
           "baxis": {
            "gridcolor": "white",
            "linecolor": "white",
            "ticks": ""
           },
           "bgcolor": "#E5ECF6",
           "caxis": {
            "gridcolor": "white",
            "linecolor": "white",
            "ticks": ""
           }
          },
          "title": {
           "x": 0.05
          },
          "xaxis": {
           "automargin": true,
           "gridcolor": "white",
           "linecolor": "white",
           "ticks": "",
           "title": {
            "standoff": 15
           },
           "zerolinecolor": "white",
           "zerolinewidth": 2
          },
          "yaxis": {
           "automargin": true,
           "gridcolor": "white",
           "linecolor": "white",
           "ticks": "",
           "title": {
            "standoff": 15
           },
           "zerolinecolor": "white",
           "zerolinewidth": 2
          }
         }
        },
        "title": {
         "font": {
          "color": "white"
         },
         "text": "         Average Humidity about city"
        },
        "xaxis": {
         "anchor": "y",
         "color": "white",
         "domain": [
          0,
          1
         ],
         "title": {
          "text": "cities"
         }
        },
        "yaxis": {
         "anchor": "x",
         "color": "white",
         "domain": [
          0,
          1
         ],
         "gridcolor": "rgba(255, 255, 255, 0.4)",
         "title": {
          "text": "rainy days"
         }
        }
       }
      }
     },
     "metadata": {},
     "output_type": "display_data"
    }
   ],
   "source": [
    "hum_list = prom_hum.sort_values(ascending=False).reset_index().rename(columns={0:\"hum\"})\n",
    "print(hum_list)\n",
    "fig = px.bar(hum_list, x=\"city\", y=\"hum\", \n",
    "                        title=f\"         Average Humidity about city\")\n",
    "fig.update_layout(\n",
    "        plot_bgcolor='rgba(0, 0, 0, 0)',\n",
    "        paper_bgcolor='rgba(0, 0, 0, 0)',\n",
    "        font=dict(color='white'),\n",
    "        title_font=dict(color='white'),\n",
    "        legend=dict(font=dict(color='white')),\n",
    "        xaxis=dict(title='cities', color='white'),\n",
    "        yaxis=dict(title='rainy days', color='white', gridcolor='rgba(255, 255, 255, 0.4)'),\n",
    "        autosize=True,\n",
    "        margin=dict(l=20, r=20, t=40, b=40)\n",
    "    )\n",
    "fig.show()"
   ]
  },
  {
   "cell_type": "code",
   "execution_count": 23,
   "id": "848bc014",
   "metadata": {},
   "outputs": [
    {
     "data": {
      "text/html": [
       "<div>\n",
       "<style scoped>\n",
       "    .dataframe tbody tr th:only-of-type {\n",
       "        vertical-align: middle;\n",
       "    }\n",
       "\n",
       "    .dataframe tbody tr th {\n",
       "        vertical-align: top;\n",
       "    }\n",
       "\n",
       "    .dataframe thead th {\n",
       "        text-align: right;\n",
       "    }\n",
       "</style>\n",
       "<table border=\"1\" class=\"dataframe\">\n",
       "  <thead>\n",
       "    <tr style=\"text-align: right;\">\n",
       "      <th></th>\n",
       "      <th>city</th>\n",
       "      <th>hum</th>\n",
       "    </tr>\n",
       "  </thead>\n",
       "  <tbody>\n",
       "    <tr>\n",
       "      <th>0</th>\n",
       "      <td>Coruña</td>\n",
       "      <td>100.0</td>\n",
       "    </tr>\n",
       "    <tr>\n",
       "      <th>1</th>\n",
       "      <td>Lugo</td>\n",
       "      <td>100.0</td>\n",
       "    </tr>\n",
       "    <tr>\n",
       "      <th>2</th>\n",
       "      <td>Ourense</td>\n",
       "      <td>100.0</td>\n",
       "    </tr>\n",
       "    <tr>\n",
       "      <th>3</th>\n",
       "      <td>Pontevedra</td>\n",
       "      <td>100.0</td>\n",
       "    </tr>\n",
       "    <tr>\n",
       "      <th>4</th>\n",
       "      <td>Vigo</td>\n",
       "      <td>100.0</td>\n",
       "    </tr>\n",
       "    <tr>\n",
       "      <th>5</th>\n",
       "      <td>Santiago de Compostela</td>\n",
       "      <td>99.0</td>\n",
       "    </tr>\n",
       "  </tbody>\n",
       "</table>\n",
       "</div>"
      ],
      "text/plain": [
       "                     city    hum\n",
       "0                  Coruña  100.0\n",
       "1                    Lugo  100.0\n",
       "2                 Ourense  100.0\n",
       "3              Pontevedra  100.0\n",
       "4                    Vigo  100.0\n",
       "5  Santiago de Compostela   99.0"
      ]
     },
     "execution_count": 23,
     "metadata": {},
     "output_type": "execute_result"
    }
   ],
   "source": [
    "df.groupby(\"city\")[\"hum\"].max().sort_values(ascending=False).reset_index().rename(columns={0:\"hum\"})"
   ]
  },
  {
   "cell_type": "code",
   "execution_count": 24,
   "id": "0c16aab1",
   "metadata": {},
   "outputs": [
    {
     "data": {
      "text/html": [
       "<div>\n",
       "<style scoped>\n",
       "    .dataframe tbody tr th:only-of-type {\n",
       "        vertical-align: middle;\n",
       "    }\n",
       "\n",
       "    .dataframe tbody tr th {\n",
       "        vertical-align: top;\n",
       "    }\n",
       "\n",
       "    .dataframe thead th {\n",
       "        text-align: right;\n",
       "    }\n",
       "</style>\n",
       "<table border=\"1\" class=\"dataframe\">\n",
       "  <thead>\n",
       "    <tr style=\"text-align: right;\">\n",
       "      <th></th>\n",
       "      <th>city</th>\n",
       "      <th>hum</th>\n",
       "    </tr>\n",
       "  </thead>\n",
       "  <tbody>\n",
       "    <tr>\n",
       "      <th>0</th>\n",
       "      <td>Lugo</td>\n",
       "      <td>48.0</td>\n",
       "    </tr>\n",
       "    <tr>\n",
       "      <th>1</th>\n",
       "      <td>Vigo</td>\n",
       "      <td>47.0</td>\n",
       "    </tr>\n",
       "    <tr>\n",
       "      <th>2</th>\n",
       "      <td>Pontevedra</td>\n",
       "      <td>42.0</td>\n",
       "    </tr>\n",
       "    <tr>\n",
       "      <th>3</th>\n",
       "      <td>Ourense</td>\n",
       "      <td>41.0</td>\n",
       "    </tr>\n",
       "    <tr>\n",
       "      <th>4</th>\n",
       "      <td>Santiago de Compostela</td>\n",
       "      <td>39.0</td>\n",
       "    </tr>\n",
       "    <tr>\n",
       "      <th>5</th>\n",
       "      <td>Coruña</td>\n",
       "      <td>30.0</td>\n",
       "    </tr>\n",
       "  </tbody>\n",
       "</table>\n",
       "</div>"
      ],
      "text/plain": [
       "                     city   hum\n",
       "0                    Lugo  48.0\n",
       "1                    Vigo  47.0\n",
       "2              Pontevedra  42.0\n",
       "3                 Ourense  41.0\n",
       "4  Santiago de Compostela  39.0\n",
       "5                  Coruña  30.0"
      ]
     },
     "execution_count": 24,
     "metadata": {},
     "output_type": "execute_result"
    }
   ],
   "source": [
    "df.groupby(\"city\")[\"hum\"].min().sort_values(ascending=False).reset_index().rename(columns={0:\"hum\"})"
   ]
  },
  {
   "cell_type": "markdown",
   "id": "0e761707",
   "metadata": {},
   "source": [
    "When viewing the graph and DataFrames written before we can see that:   \n",
    "  \n",
    "The distribution for **average humidity** per city:  \n",
    "**Coruña > Lugo > Santiago de Compostela > Pontevedra > Vigo > Ourense**  \n",
    "  \n",
    "The distribution for **MAX humidity** per city:  \n",
    "**Coruña = Lugo = Pontevedra = Vigo = Coruña > Santiago de Compostela**  \n",
    "  \n",
    "The distribution for **MIN humidity** per city:  \n",
    "**Lugo > Vigo > Pontevedra > Ourense > Santiago de Compostela > Coruña**  \n",
    "  \n",
    "The city with the highest average humidity is A Coruña, which is also the city with the lowest absolute humidity among Galician cities. This is important because, despite being a very humid city, likely due to the sea component, it can also be very dry at certain times of the year, making it the city with the greatest humidity variability in Galicia. On the other hand, the maximum doesn't really tell much, since practically all cities reach 100% humidity at some point. The most notable conclusion is that Galicia is a very humid territory.  \n",
    "\n",
    "Finally, regarding the cities with the lowest average humidity, Vigo is again the second-to-last. It's also the second-to-last in terms of minimum humidity, which is key because it again has less variation. This city tends to stray from the extremes in most cases."
   ]
  },
  {
   "cell_type": "markdown",
   "id": "e2e85820",
   "metadata": {},
   "source": [
    "\n",
    "#### Humidity about dates:\n",
    "Humidity will tell us which month has the least or most humidity. Being in a fairly humid area like Galicia, it will be difficult to observe, as there are many coastal cities, and the variation may not be significant."
   ]
  },
  {
   "cell_type": "code",
   "execution_count": 25,
   "id": "4ff8c4b3",
   "metadata": {},
   "outputs": [
    {
     "name": "stdout",
     "output_type": "stream",
     "text": [
      "Average humidity by Month\n",
      "          hum month_name\n",
      "11  87.220430   december\n",
      "9   86.233871    october\n",
      "10  85.802778   november\n",
      "0   84.342294    january\n",
      "8   80.522222  september\n",
      "1   79.900000   february\n",
      "5   79.344444       june\n",
      "2   77.487455      march\n",
      "6   76.376344       july\n",
      "7   76.365591     august\n",
      "4   76.231183        may\n",
      "3   73.366667      april\n",
      "----------------------------------------------------------------\n",
      "Max humidity by Month\n",
      "      hum month_name\n",
      "0   100.0    january\n",
      "1   100.0   february\n",
      "2   100.0      march\n",
      "3   100.0      april\n",
      "4   100.0        may\n",
      "5   100.0       june\n",
      "6   100.0       july\n",
      "7   100.0     august\n",
      "8   100.0  september\n",
      "9   100.0    october\n",
      "10  100.0   november\n",
      "11  100.0   december\n",
      "----------------------------------------------------------------\n",
      "Min humidity by Month\n",
      "     hum month_name\n",
      "2   30.0      march\n",
      "9   40.0    october\n",
      "3   41.0      april\n",
      "4   42.0        may\n",
      "1   43.0   february\n",
      "8   45.0  september\n",
      "7   46.0     august\n",
      "10  46.0   november\n",
      "11  48.0   december\n",
      "5   49.0       june\n",
      "6   51.0       july\n",
      "0   51.0    january\n"
     ]
    }
   ],
   "source": [
    "df_hum = df[[\"date\", \"hum\", \"month\"]].groupby(\"date\").mean().reset_index()\n",
    "df_hum_mean = df_hum.groupby(\"month\").mean().reset_index()\n",
    "df_hum_mean['month_name'] = df_hum_mean['month'].map(meses)\n",
    "print(\"Average humidity by Month\")\n",
    "print(df_hum_mean[[\"hum\", \"month_name\"]].sort_values(by=\"hum\", ascending=False))\n",
    "print(\"----------------------------------------------------------------\")\n",
    "\n",
    "df_hum = df[[\"date\", \"hum\", \"month\"]].groupby(\"date\").max().reset_index()\n",
    "df_hum_max = df_hum.groupby(\"month\").max().reset_index()\n",
    "df_hum_max['month_name'] = df_hum_max['month'].map(meses)\n",
    "print(\"Max humidity by Month\")\n",
    "print(df_hum_max[[\"hum\", \"month_name\"]].sort_values(by=\"hum\", ascending=False))\n",
    "print(\"----------------------------------------------------------------\")\n",
    "\n",
    "\n",
    "df_hum = df[[\"date\", \"hum\", \"month\"]].groupby(\"date\").min().reset_index()\n",
    "df_hum_min = df_hum.groupby(\"month\").min().reset_index()\n",
    "df_hum_min['month_name'] = df_hum_min['month'].map(meses)\n",
    "print(\"Min humidity by Month\")\n",
    "print(df_hum_min[[\"hum\", \"month_name\"]].sort_values(by=\"hum\", ascending=True))"
   ]
  },
  {
   "cell_type": "code",
   "execution_count": 26,
   "id": "35ca700f",
   "metadata": {},
   "outputs": [
    {
     "data": {
      "application/vnd.plotly.v1+json": {
       "config": {
        "plotlyServerURL": "https://plot.ly"
       },
       "data": [
        {
         "alignmentgroup": "True",
         "hovertemplate": "month_name=%{x}<br>hum=%{y}<extra></extra>",
         "legendgroup": "",
         "marker": {
          "color": "#636efa"
         },
         "name": "",
         "notched": false,
         "offsetgroup": "",
         "orientation": "v",
         "showlegend": false,
         "type": "box",
         "x": [
          "january",
          "january",
          "january",
          "january",
          "january",
          "january",
          "january",
          "january",
          "january",
          "january",
          "january",
          "january",
          "january",
          "january",
          "january",
          "january",
          "january",
          "january",
          "january",
          "january",
          "january",
          "january",
          "january",
          "january",
          "january",
          "january",
          "january",
          "january",
          "january",
          "january",
          "january",
          "february",
          "february",
          "february",
          "february",
          "february",
          "february",
          "february",
          "february",
          "february",
          "february",
          "february",
          "february",
          "february",
          "february",
          "february",
          "february",
          "february",
          "february",
          "february",
          "february",
          "february",
          "february",
          "february",
          "february",
          "february",
          "february",
          "february",
          "february",
          "march",
          "march",
          "march",
          "march",
          "march",
          "march",
          "march",
          "march",
          "march",
          "march",
          "march",
          "march",
          "march",
          "march",
          "march",
          "march",
          "march",
          "march",
          "march",
          "march",
          "march",
          "march",
          "march",
          "march",
          "march",
          "march",
          "march",
          "march",
          "march",
          "march",
          "march",
          "april",
          "april",
          "april",
          "april",
          "april",
          "april",
          "april",
          "april",
          "april",
          "april",
          "april",
          "april",
          "april",
          "april",
          "april",
          "april",
          "april",
          "april",
          "april",
          "april",
          "april",
          "april",
          "april",
          "april",
          "april",
          "april",
          "april",
          "april",
          "april",
          "april",
          "may",
          "may",
          "may",
          "may",
          "may",
          "may",
          "may",
          "may",
          "may",
          "may",
          "may",
          "may",
          "may",
          "may",
          "may",
          "may",
          "may",
          "may",
          "may",
          "may",
          "may",
          "may",
          "may",
          "may",
          "may",
          "may",
          "may",
          "may",
          "may",
          "may",
          "may",
          "june",
          "june",
          "june",
          "june",
          "june",
          "june",
          "june",
          "june",
          "june",
          "june",
          "june",
          "june",
          "june",
          "june",
          "june",
          "june",
          "june",
          "june",
          "june",
          "june",
          "june",
          "june",
          "june",
          "june",
          "june",
          "june",
          "june",
          "june",
          "june",
          "june",
          "july",
          "july",
          "july",
          "july",
          "july",
          "july",
          "july",
          "july",
          "july",
          "july",
          "july",
          "july",
          "july",
          "july",
          "july",
          "july",
          "july",
          "july",
          "july",
          "july",
          "july",
          "july",
          "july",
          "july",
          "july",
          "july",
          "july",
          "july",
          "july",
          "july",
          "july",
          "august",
          "august",
          "august",
          "august",
          "august",
          "august",
          "august",
          "august",
          "august",
          "august",
          "august",
          "august",
          "august",
          "august",
          "august",
          "august",
          "august",
          "august",
          "august",
          "august",
          "august",
          "august",
          "august",
          "august",
          "august",
          "august",
          "august",
          "august",
          "august",
          "august",
          "august",
          "september",
          "september",
          "september",
          "september",
          "september",
          "september",
          "september",
          "september",
          "september",
          "september",
          "september",
          "september",
          "september",
          "september",
          "september",
          "september",
          "september",
          "september",
          "september",
          "september",
          "september",
          "september",
          "september",
          "september",
          "september",
          "september",
          "september",
          "september",
          "september",
          "september",
          "october",
          "october",
          "october",
          "october",
          "october",
          "october",
          "october",
          "october",
          "october",
          "october",
          "october",
          "october",
          "october",
          "october",
          "october",
          "october",
          "october",
          "october",
          "october",
          "october",
          "october",
          "october",
          "october",
          "october",
          "october",
          "october",
          "october",
          "october",
          "october",
          "october",
          "october",
          "november",
          "november",
          "november",
          "november",
          "november",
          "november",
          "november",
          "november",
          "november",
          "november",
          "november",
          "november",
          "november",
          "november",
          "november",
          "november",
          "november",
          "november",
          "november",
          "november",
          "november",
          "november",
          "november",
          "november",
          "november",
          "november",
          "november",
          "november",
          "november",
          "november",
          "december",
          "december",
          "december",
          "december",
          "december",
          "december",
          "december",
          "december",
          "december",
          "december",
          "december",
          "december",
          "december",
          "december",
          "december",
          "december",
          "december",
          "december",
          "december",
          "december",
          "december",
          "december",
          "december",
          "december",
          "december",
          "december",
          "december",
          "december",
          "december",
          "december",
          "december",
          "january",
          "january",
          "january",
          "january",
          "january",
          "january",
          "january",
          "january",
          "january",
          "january",
          "january",
          "january",
          "january",
          "january",
          "january",
          "january",
          "january",
          "january",
          "january",
          "january",
          "january",
          "january",
          "january",
          "january",
          "january",
          "january",
          "january",
          "january",
          "january",
          "january",
          "january",
          "february",
          "february",
          "february",
          "february",
          "february",
          "february",
          "february",
          "february",
          "february",
          "february",
          "february",
          "february",
          "february",
          "february",
          "february",
          "february",
          "february",
          "february",
          "february",
          "february",
          "february",
          "february",
          "february",
          "february",
          "february",
          "february",
          "february",
          "february",
          "february",
          "march",
          "march",
          "march",
          "march",
          "march",
          "march",
          "march",
          "march",
          "march",
          "march",
          "march",
          "march",
          "march",
          "march",
          "march",
          "march",
          "march",
          "march",
          "march",
          "march",
          "march",
          "march",
          "march",
          "march",
          "march",
          "march",
          "march",
          "march",
          "march",
          "march",
          "march",
          "april",
          "april",
          "april",
          "april",
          "april",
          "april",
          "april",
          "april",
          "april",
          "april",
          "april",
          "april",
          "april",
          "april",
          "april",
          "april",
          "april",
          "april",
          "april",
          "april",
          "april",
          "april",
          "april",
          "april",
          "april",
          "april",
          "april",
          "april",
          "april",
          "april",
          "may",
          "may",
          "may",
          "may",
          "may",
          "may",
          "may",
          "may",
          "may",
          "may",
          "may",
          "may",
          "may",
          "may",
          "may",
          "may",
          "may",
          "may",
          "may",
          "may",
          "may",
          "may",
          "may",
          "may",
          "may",
          "may",
          "may",
          "may",
          "may",
          "may",
          "may",
          "june",
          "june",
          "june",
          "june",
          "june",
          "june",
          "june",
          "june",
          "june",
          "june",
          "june",
          "june",
          "june",
          "june",
          "june",
          "june",
          "june",
          "june",
          "june",
          "june",
          "june",
          "june",
          "june",
          "june",
          "june",
          "june",
          "june",
          "june",
          "june",
          "june",
          "july",
          "july",
          "july",
          "july",
          "july",
          "july",
          "july",
          "july",
          "july",
          "july",
          "july",
          "july",
          "july",
          "july",
          "july",
          "july",
          "july",
          "july",
          "july",
          "july",
          "july",
          "july",
          "july",
          "july",
          "july",
          "july",
          "july",
          "july",
          "july",
          "july",
          "july",
          "august",
          "august",
          "august",
          "august",
          "august",
          "august",
          "august",
          "august",
          "august",
          "august",
          "august",
          "august",
          "august",
          "august",
          "august",
          "august",
          "august",
          "august",
          "august",
          "august",
          "august",
          "august",
          "august",
          "august",
          "august",
          "august",
          "august",
          "august",
          "august",
          "august",
          "august",
          "september",
          "september",
          "september",
          "september",
          "september",
          "september",
          "september",
          "september",
          "september",
          "september",
          "september",
          "september",
          "september",
          "september",
          "september",
          "september",
          "september",
          "september",
          "september",
          "september",
          "september",
          "september",
          "september",
          "september",
          "september",
          "september",
          "september",
          "september",
          "september",
          "september",
          "october",
          "october",
          "october",
          "october",
          "october",
          "october",
          "october",
          "october",
          "october",
          "october",
          "october",
          "october",
          "october",
          "october",
          "october",
          "october",
          "october",
          "october",
          "october",
          "october",
          "october",
          "october",
          "october",
          "october",
          "october",
          "october",
          "october",
          "october",
          "october",
          "october",
          "october",
          "november",
          "november",
          "november",
          "november",
          "november",
          "november",
          "november",
          "november",
          "november",
          "november",
          "november",
          "november",
          "november",
          "november",
          "november",
          "november",
          "november",
          "november",
          "november",
          "november",
          "november",
          "november",
          "november",
          "november",
          "november",
          "november",
          "november",
          "november",
          "november",
          "november",
          "december",
          "december",
          "december",
          "december",
          "december",
          "december",
          "december",
          "december",
          "december",
          "december",
          "december",
          "december",
          "december",
          "december",
          "december",
          "december",
          "december",
          "december",
          "december",
          "december",
          "december",
          "december",
          "december",
          "december",
          "december",
          "december",
          "december",
          "december",
          "december",
          "december",
          "december",
          "january",
          "january",
          "january",
          "january",
          "january",
          "january",
          "january",
          "january",
          "january",
          "january",
          "january",
          "january",
          "january",
          "january",
          "january",
          "january",
          "january",
          "january",
          "january",
          "january",
          "january",
          "january",
          "january",
          "january",
          "january",
          "january",
          "january",
          "january",
          "january",
          "january",
          "january",
          "february",
          "february",
          "february",
          "february",
          "february",
          "february",
          "february",
          "february",
          "february",
          "february",
          "february",
          "february",
          "february",
          "february",
          "february",
          "february",
          "february",
          "february",
          "february",
          "february",
          "february",
          "february",
          "february",
          "february",
          "february",
          "february",
          "february",
          "february",
          "march",
          "march",
          "march",
          "march",
          "march",
          "march",
          "march",
          "march",
          "march",
          "march",
          "march",
          "march",
          "march",
          "march",
          "march",
          "march",
          "march",
          "march",
          "march",
          "march",
          "march",
          "march",
          "march",
          "march",
          "march",
          "march",
          "march",
          "march",
          "march",
          "march",
          "march",
          "january",
          "january",
          "january",
          "january",
          "january",
          "january",
          "january",
          "january",
          "january",
          "january",
          "january",
          "january",
          "january",
          "january",
          "january",
          "january",
          "january",
          "january",
          "january",
          "january",
          "january",
          "january",
          "january",
          "january",
          "january",
          "january",
          "january",
          "january",
          "january",
          "january",
          "january",
          "february",
          "february",
          "february",
          "february",
          "february",
          "february",
          "february",
          "february",
          "february",
          "february",
          "february",
          "february",
          "february",
          "february",
          "february",
          "february",
          "february",
          "february",
          "february",
          "february",
          "february",
          "february",
          "february",
          "february",
          "february",
          "february",
          "february",
          "february",
          "march",
          "march",
          "march",
          "march",
          "march",
          "march",
          "march",
          "march",
          "march",
          "march",
          "march",
          "march",
          "march",
          "march",
          "march",
          "march",
          "march",
          "march",
          "march",
          "march",
          "march",
          "march",
          "march",
          "march",
          "march",
          "march",
          "march",
          "march",
          "march",
          "march",
          "march",
          "april",
          "april",
          "april",
          "april",
          "april",
          "april",
          "april",
          "april",
          "april",
          "april",
          "april",
          "april",
          "april",
          "april",
          "april",
          "april",
          "april",
          "april",
          "april",
          "april",
          "april",
          "april",
          "april",
          "april",
          "april",
          "april",
          "april",
          "april",
          "april",
          "april",
          "may",
          "may",
          "may",
          "may",
          "may",
          "may",
          "may",
          "may",
          "may",
          "may",
          "may",
          "may",
          "may",
          "may",
          "may",
          "may",
          "may",
          "may",
          "may",
          "may",
          "may",
          "may",
          "may",
          "may",
          "may",
          "may",
          "may",
          "may",
          "may",
          "may",
          "may",
          "june",
          "june",
          "june",
          "june",
          "june",
          "june",
          "june",
          "june",
          "june",
          "june",
          "june",
          "june",
          "june",
          "june",
          "june",
          "june",
          "june",
          "june",
          "june",
          "june",
          "june",
          "june",
          "june",
          "june",
          "june",
          "june",
          "june",
          "june",
          "june",
          "june",
          "july",
          "july",
          "july",
          "july",
          "july",
          "july",
          "july",
          "july",
          "july",
          "july",
          "july",
          "july",
          "july",
          "july",
          "july",
          "july",
          "july",
          "july",
          "july",
          "july",
          "july",
          "july",
          "july",
          "july",
          "july",
          "july",
          "july",
          "july",
          "july",
          "july",
          "july",
          "august",
          "august",
          "august",
          "august",
          "august",
          "august",
          "august",
          "august",
          "august",
          "august",
          "august",
          "august",
          "august",
          "august",
          "august",
          "august",
          "august",
          "august",
          "august",
          "august",
          "august",
          "august",
          "august",
          "august",
          "august",
          "august",
          "august",
          "august",
          "august",
          "august",
          "august",
          "september",
          "september",
          "september",
          "september",
          "september",
          "september",
          "september",
          "september",
          "september",
          "september",
          "september",
          "september",
          "september",
          "september",
          "september",
          "september",
          "september",
          "september",
          "september",
          "september",
          "september",
          "september",
          "september",
          "september",
          "september",
          "september",
          "september",
          "september",
          "september",
          "september",
          "october",
          "october",
          "october",
          "october",
          "october",
          "october",
          "october",
          "october",
          "october",
          "october",
          "october",
          "october",
          "october",
          "october",
          "october",
          "october",
          "october",
          "october",
          "october",
          "october",
          "october",
          "october",
          "october",
          "october",
          "october",
          "october",
          "october",
          "october",
          "october",
          "october",
          "october",
          "november",
          "november",
          "november",
          "november",
          "november",
          "november",
          "november",
          "november",
          "november",
          "november",
          "november",
          "november",
          "november",
          "november",
          "november",
          "november",
          "november",
          "november",
          "november",
          "november",
          "november",
          "november",
          "november",
          "november",
          "november",
          "november",
          "november",
          "november",
          "november",
          "november",
          "december",
          "december",
          "december",
          "december",
          "december",
          "december",
          "december",
          "december",
          "december",
          "december",
          "december",
          "december",
          "december",
          "december",
          "december",
          "december",
          "december",
          "december",
          "december",
          "december",
          "december",
          "december",
          "december",
          "december",
          "december",
          "december",
          "december",
          "december",
          "december",
          "december",
          "december",
          "january",
          "january",
          "january",
          "january",
          "january",
          "january",
          "january",
          "january",
          "january",
          "january",
          "january",
          "january",
          "january",
          "january",
          "january",
          "january",
          "january",
          "january",
          "january",
          "january",
          "january",
          "january",
          "january",
          "january",
          "january",
          "january",
          "january",
          "january",
          "january",
          "january",
          "january",
          "february",
          "february",
          "february",
          "february",
          "february",
          "february",
          "february",
          "february",
          "february",
          "february",
          "february",
          "february",
          "february",
          "february",
          "february",
          "february",
          "february",
          "february",
          "february",
          "february",
          "february",
          "february",
          "february",
          "february",
          "february",
          "february",
          "february",
          "february",
          "february",
          "march",
          "march",
          "march",
          "march",
          "march",
          "march",
          "march",
          "march",
          "march",
          "march",
          "march",
          "march",
          "march",
          "march",
          "march",
          "march",
          "march",
          "march",
          "march",
          "march",
          "march",
          "march",
          "march",
          "march",
          "march",
          "march",
          "march",
          "march",
          "march",
          "march",
          "march",
          "april",
          "april",
          "april",
          "april",
          "april",
          "april",
          "april",
          "april",
          "april",
          "april",
          "april",
          "april",
          "april",
          "april",
          "april",
          "april",
          "april",
          "april",
          "april",
          "april",
          "april",
          "april",
          "april",
          "april",
          "april",
          "april",
          "april",
          "april",
          "april",
          "april",
          "may",
          "may",
          "may",
          "may",
          "may",
          "may",
          "may",
          "may",
          "may",
          "may",
          "may",
          "may",
          "may",
          "may",
          "may",
          "may",
          "may",
          "may",
          "may",
          "may",
          "may",
          "may",
          "may",
          "may",
          "may",
          "may",
          "may",
          "may",
          "may",
          "may",
          "may",
          "june",
          "june",
          "june",
          "june",
          "june",
          "june",
          "june",
          "june",
          "june",
          "june",
          "june",
          "june",
          "june",
          "june",
          "june",
          "june",
          "june",
          "june",
          "june",
          "june",
          "june",
          "june",
          "june",
          "june",
          "june",
          "june",
          "june",
          "june",
          "june",
          "june",
          "july",
          "july",
          "july",
          "july",
          "july",
          "july",
          "july",
          "july",
          "july",
          "july",
          "july",
          "july",
          "july",
          "july",
          "july",
          "july",
          "july",
          "july",
          "july",
          "july",
          "july",
          "july",
          "july",
          "july",
          "july",
          "july",
          "july",
          "july",
          "july",
          "july",
          "july",
          "august",
          "august",
          "august",
          "august",
          "august",
          "august",
          "august",
          "august",
          "august",
          "august",
          "august",
          "august",
          "august",
          "august",
          "august",
          "august",
          "august",
          "august",
          "august",
          "august",
          "august",
          "august",
          "august",
          "august",
          "august",
          "august",
          "august",
          "august",
          "august",
          "august",
          "august",
          "september",
          "september",
          "september",
          "september",
          "september",
          "september",
          "september",
          "september",
          "september",
          "september",
          "september",
          "september",
          "september",
          "september",
          "september",
          "september",
          "september",
          "september",
          "september",
          "september",
          "september",
          "september",
          "september",
          "september",
          "september",
          "september",
          "september",
          "september",
          "september",
          "september",
          "october",
          "october",
          "october",
          "october",
          "october",
          "october",
          "october",
          "october",
          "october",
          "october",
          "october",
          "october",
          "october",
          "october",
          "october",
          "october",
          "october",
          "october",
          "october",
          "october",
          "october",
          "october",
          "october",
          "october",
          "october",
          "october",
          "october",
          "october",
          "october",
          "october",
          "october",
          "november",
          "november",
          "november",
          "november",
          "november",
          "november",
          "november",
          "november",
          "november",
          "november",
          "november",
          "november",
          "november",
          "november",
          "november",
          "november",
          "november",
          "november",
          "november",
          "november",
          "november",
          "november",
          "november",
          "november",
          "november",
          "november",
          "november",
          "november",
          "november",
          "november",
          "december",
          "december",
          "december",
          "december",
          "december",
          "december",
          "december",
          "december",
          "december",
          "december",
          "december",
          "december",
          "december",
          "december",
          "december",
          "december",
          "december",
          "december",
          "december",
          "december",
          "december",
          "december",
          "december",
          "december",
          "december",
          "december",
          "december",
          "december",
          "december",
          "december",
          "december",
          "january",
          "january",
          "january",
          "january",
          "january",
          "january",
          "january",
          "january",
          "january",
          "january",
          "january",
          "january",
          "january",
          "january",
          "january",
          "january",
          "january",
          "january",
          "january",
          "january",
          "january",
          "january",
          "january",
          "january",
          "january",
          "january",
          "january",
          "january",
          "january",
          "january",
          "january",
          "february",
          "february",
          "february",
          "february",
          "february",
          "february",
          "february",
          "february",
          "february",
          "february",
          "february",
          "february",
          "february",
          "february",
          "february",
          "february",
          "february",
          "february",
          "february",
          "february",
          "february",
          "february",
          "february",
          "february",
          "february",
          "february",
          "february",
          "february",
          "march",
          "march",
          "march",
          "march",
          "march",
          "march",
          "march",
          "march",
          "march",
          "march",
          "march",
          "march",
          "march",
          "march",
          "march",
          "march",
          "march",
          "march",
          "march",
          "march",
          "march",
          "march",
          "march",
          "march",
          "march",
          "march",
          "march",
          "march",
          "march",
          "march",
          "march",
          "january",
          "january",
          "january",
          "january",
          "january",
          "january",
          "january",
          "january",
          "january",
          "january",
          "january",
          "january",
          "january",
          "january",
          "january",
          "january",
          "january",
          "january",
          "january",
          "january",
          "january",
          "january",
          "january",
          "january",
          "january",
          "january",
          "january",
          "january",
          "january",
          "january",
          "january",
          "february",
          "february",
          "february",
          "february",
          "february",
          "february",
          "february",
          "february",
          "february",
          "february",
          "february",
          "february",
          "february",
          "february",
          "february",
          "february",
          "february",
          "february",
          "february",
          "february",
          "february",
          "february",
          "february",
          "february",
          "february",
          "february",
          "february",
          "february",
          "march",
          "march",
          "march",
          "march",
          "march",
          "march",
          "march",
          "march",
          "march",
          "march",
          "march",
          "march",
          "march",
          "march",
          "march",
          "march",
          "march",
          "march",
          "march",
          "march",
          "march",
          "march",
          "march",
          "march",
          "march",
          "march",
          "march",
          "march",
          "march",
          "march",
          "march",
          "april",
          "april",
          "april",
          "april",
          "april",
          "april",
          "april",
          "april",
          "april",
          "april",
          "april",
          "april",
          "april",
          "april",
          "april",
          "april",
          "april",
          "april",
          "april",
          "april",
          "april",
          "april",
          "april",
          "april",
          "april",
          "april",
          "april",
          "april",
          "april",
          "april",
          "may",
          "may",
          "may",
          "may",
          "may",
          "may",
          "may",
          "may",
          "may",
          "may",
          "may",
          "may",
          "may",
          "may",
          "may",
          "may",
          "may",
          "may",
          "may",
          "may",
          "may",
          "may",
          "may",
          "may",
          "may",
          "may",
          "may",
          "may",
          "may",
          "may",
          "may",
          "june",
          "june",
          "june",
          "june",
          "june",
          "june",
          "june",
          "june",
          "june",
          "june",
          "june",
          "june",
          "june",
          "june",
          "june",
          "june",
          "june",
          "june",
          "june",
          "june",
          "june",
          "june",
          "june",
          "june",
          "june",
          "june",
          "june",
          "june",
          "june",
          "june",
          "july",
          "july",
          "july",
          "july",
          "july",
          "july",
          "july",
          "july",
          "july",
          "july",
          "july",
          "july",
          "july",
          "july",
          "july",
          "july",
          "july",
          "july",
          "july",
          "july",
          "july",
          "july",
          "july",
          "july",
          "july",
          "july",
          "july",
          "july",
          "july",
          "july",
          "july",
          "august",
          "august",
          "august",
          "august",
          "august",
          "august",
          "august",
          "august",
          "august",
          "august",
          "august",
          "august",
          "august",
          "august",
          "august",
          "august",
          "august",
          "august",
          "august",
          "august",
          "august",
          "august",
          "august",
          "august",
          "august",
          "august",
          "august",
          "august",
          "august",
          "august",
          "august",
          "september",
          "september",
          "september",
          "september",
          "september",
          "september",
          "september",
          "september",
          "september",
          "september",
          "september",
          "september",
          "september",
          "september",
          "september",
          "september",
          "september",
          "september",
          "september",
          "september",
          "september",
          "september",
          "september",
          "september",
          "september",
          "september",
          "september",
          "september",
          "september",
          "september",
          "october",
          "october",
          "october",
          "october",
          "october",
          "october",
          "october",
          "october",
          "october",
          "october",
          "october",
          "october",
          "october",
          "october",
          "october",
          "october",
          "october",
          "october",
          "october",
          "october",
          "october",
          "october",
          "october",
          "october",
          "october",
          "october",
          "october",
          "october",
          "october",
          "october",
          "october",
          "november",
          "november",
          "november",
          "november",
          "november",
          "november",
          "november",
          "november",
          "november",
          "november",
          "november",
          "november",
          "november",
          "november",
          "november",
          "november",
          "november",
          "november",
          "november",
          "november",
          "november",
          "november",
          "november",
          "november",
          "november",
          "november",
          "november",
          "november",
          "november",
          "november",
          "december",
          "december",
          "december",
          "december",
          "december",
          "december",
          "december",
          "december",
          "december",
          "december",
          "december",
          "december",
          "december",
          "december",
          "december",
          "december",
          "december",
          "december",
          "december",
          "december",
          "december",
          "december",
          "december",
          "december",
          "december",
          "december",
          "december",
          "december",
          "december",
          "december",
          "december",
          "january",
          "january",
          "january",
          "january",
          "january",
          "january",
          "january",
          "january",
          "january",
          "january",
          "january",
          "january",
          "january",
          "january",
          "january",
          "january",
          "january",
          "january",
          "january",
          "january",
          "january",
          "january",
          "january",
          "january",
          "january",
          "january",
          "january",
          "january",
          "january",
          "january",
          "january",
          "february",
          "february",
          "february",
          "february",
          "february",
          "february",
          "february",
          "february",
          "february",
          "february",
          "february",
          "february",
          "february",
          "february",
          "february",
          "february",
          "february",
          "february",
          "february",
          "february",
          "february",
          "february",
          "february",
          "february",
          "february",
          "february",
          "february",
          "february",
          "february",
          "march",
          "march",
          "march",
          "march",
          "march",
          "march",
          "march",
          "march",
          "march",
          "march",
          "march",
          "march",
          "march",
          "march",
          "march",
          "march",
          "march",
          "march",
          "march",
          "march",
          "march",
          "march",
          "march",
          "march",
          "march",
          "march",
          "march",
          "march",
          "march",
          "march",
          "march",
          "april",
          "april",
          "april",
          "april",
          "april",
          "april",
          "april",
          "april",
          "april",
          "april",
          "april",
          "april",
          "april",
          "april",
          "april",
          "april",
          "april",
          "april",
          "april",
          "april",
          "april",
          "april",
          "april",
          "april",
          "april",
          "april",
          "april",
          "april",
          "april",
          "april",
          "may",
          "may",
          "may",
          "may",
          "may",
          "may",
          "may",
          "may",
          "may",
          "may",
          "may",
          "may",
          "may",
          "may",
          "may",
          "may",
          "may",
          "may",
          "may",
          "may",
          "may",
          "may",
          "may",
          "may",
          "may",
          "may",
          "may",
          "may",
          "may",
          "may",
          "may",
          "june",
          "june",
          "june",
          "june",
          "june",
          "june",
          "june",
          "june",
          "june",
          "june",
          "june",
          "june",
          "june",
          "june",
          "june",
          "june",
          "june",
          "june",
          "june",
          "june",
          "june",
          "june",
          "june",
          "june",
          "june",
          "june",
          "june",
          "june",
          "june",
          "june",
          "july",
          "july",
          "july",
          "july",
          "july",
          "july",
          "july",
          "july",
          "july",
          "july",
          "july",
          "july",
          "july",
          "july",
          "july",
          "july",
          "july",
          "july",
          "july",
          "july",
          "july",
          "july",
          "july",
          "july",
          "july",
          "july",
          "july",
          "july",
          "july",
          "july",
          "july",
          "august",
          "august",
          "august",
          "august",
          "august",
          "august",
          "august",
          "august",
          "august",
          "august",
          "august",
          "august",
          "august",
          "august",
          "august",
          "august",
          "august",
          "august",
          "august",
          "august",
          "august",
          "august",
          "august",
          "august",
          "august",
          "august",
          "august",
          "august",
          "august",
          "august",
          "august",
          "september",
          "september",
          "september",
          "september",
          "september",
          "september",
          "september",
          "september",
          "september",
          "september",
          "september",
          "september",
          "september",
          "september",
          "september",
          "september",
          "september",
          "september",
          "september",
          "september",
          "september",
          "september",
          "september",
          "september",
          "september",
          "september",
          "september",
          "september",
          "september",
          "september",
          "october",
          "october",
          "october",
          "october",
          "october",
          "october",
          "october",
          "october",
          "october",
          "october",
          "october",
          "october",
          "october",
          "october",
          "october",
          "october",
          "october",
          "october",
          "october",
          "october",
          "october",
          "october",
          "october",
          "october",
          "october",
          "october",
          "october",
          "october",
          "october",
          "october",
          "october",
          "november",
          "november",
          "november",
          "november",
          "november",
          "november",
          "november",
          "november",
          "november",
          "november",
          "november",
          "november",
          "november",
          "november",
          "november",
          "november",
          "november",
          "november",
          "november",
          "november",
          "november",
          "november",
          "november",
          "november",
          "november",
          "november",
          "november",
          "november",
          "november",
          "november",
          "december",
          "december",
          "december",
          "december",
          "december",
          "december",
          "december",
          "december",
          "december",
          "december",
          "december",
          "december",
          "december",
          "december",
          "december",
          "december",
          "december",
          "december",
          "december",
          "december",
          "december",
          "december",
          "december",
          "december",
          "december",
          "december",
          "december",
          "december",
          "december",
          "december",
          "december",
          "january",
          "january",
          "january",
          "january",
          "january",
          "january",
          "january",
          "january",
          "january",
          "january",
          "january",
          "january",
          "january",
          "january",
          "january",
          "january",
          "january",
          "january",
          "january",
          "january",
          "january",
          "january",
          "january",
          "january",
          "january",
          "january",
          "january",
          "january",
          "january",
          "january",
          "january",
          "february",
          "february",
          "february",
          "february",
          "february",
          "february",
          "february",
          "february",
          "february",
          "february",
          "february",
          "february",
          "february",
          "february",
          "february",
          "february",
          "february",
          "february",
          "february",
          "february",
          "february",
          "february",
          "february",
          "february",
          "february",
          "february",
          "february",
          "february",
          "march",
          "march",
          "march",
          "march",
          "march",
          "march",
          "march",
          "march",
          "march",
          "march",
          "march",
          "march",
          "march",
          "march",
          "march",
          "march",
          "march",
          "march",
          "march",
          "march",
          "march",
          "march",
          "march",
          "march",
          "march",
          "march",
          "march",
          "march",
          "march",
          "march",
          "march",
          "january",
          "january",
          "january",
          "january",
          "january",
          "january",
          "january",
          "january",
          "january",
          "january",
          "january",
          "january",
          "january",
          "january",
          "january",
          "january",
          "january",
          "january",
          "january",
          "january",
          "january",
          "january",
          "january",
          "january",
          "january",
          "january",
          "january",
          "january",
          "january",
          "january",
          "january",
          "february",
          "february",
          "february",
          "february",
          "february",
          "february",
          "february",
          "february",
          "february",
          "february",
          "february",
          "february",
          "february",
          "february",
          "february",
          "february",
          "february",
          "february",
          "february",
          "february",
          "february",
          "february",
          "february",
          "february",
          "february",
          "february",
          "february",
          "february",
          "march",
          "march",
          "march",
          "march",
          "march",
          "march",
          "march",
          "march",
          "march",
          "march",
          "march",
          "march",
          "march",
          "march",
          "march",
          "march",
          "march",
          "march",
          "march",
          "march",
          "march",
          "march",
          "march",
          "march",
          "march",
          "march",
          "march",
          "march",
          "march",
          "march",
          "march",
          "april",
          "april",
          "april",
          "april",
          "april",
          "april",
          "april",
          "april",
          "april",
          "april",
          "april",
          "april",
          "april",
          "april",
          "april",
          "april",
          "april",
          "april",
          "april",
          "april",
          "april",
          "april",
          "april",
          "april",
          "april",
          "april",
          "april",
          "april",
          "april",
          "april",
          "may",
          "may",
          "may",
          "may",
          "may",
          "may",
          "may",
          "may",
          "may",
          "may",
          "may",
          "may",
          "may",
          "may",
          "may",
          "may",
          "may",
          "may",
          "may",
          "may",
          "may",
          "may",
          "may",
          "may",
          "may",
          "may",
          "may",
          "may",
          "may",
          "may",
          "may",
          "june",
          "june",
          "june",
          "june",
          "june",
          "june",
          "june",
          "june",
          "june",
          "june",
          "june",
          "june",
          "june",
          "june",
          "june",
          "june",
          "june",
          "june",
          "june",
          "june",
          "june",
          "june",
          "june",
          "june",
          "june",
          "june",
          "june",
          "june",
          "june",
          "june",
          "july",
          "july",
          "july",
          "july",
          "july",
          "july",
          "july",
          "july",
          "july",
          "july",
          "july",
          "july",
          "july",
          "july",
          "july",
          "july",
          "july",
          "july",
          "july",
          "july",
          "july",
          "july",
          "july",
          "july",
          "july",
          "july",
          "july",
          "july",
          "july",
          "july",
          "july",
          "august",
          "august",
          "august",
          "august",
          "august",
          "august",
          "august",
          "august",
          "august",
          "august",
          "august",
          "august",
          "august",
          "august",
          "august",
          "august",
          "august",
          "august",
          "august",
          "august",
          "august",
          "august",
          "august",
          "august",
          "august",
          "august",
          "august",
          "august",
          "august",
          "august",
          "august",
          "september",
          "september",
          "september",
          "september",
          "september",
          "september",
          "september",
          "september",
          "september",
          "september",
          "september",
          "september",
          "september",
          "september",
          "september",
          "september",
          "september",
          "september",
          "september",
          "september",
          "september",
          "september",
          "september",
          "september",
          "september",
          "september",
          "september",
          "september",
          "september",
          "september",
          "october",
          "october",
          "october",
          "october",
          "october",
          "october",
          "october",
          "october",
          "october",
          "october",
          "october",
          "october",
          "october",
          "october",
          "october",
          "october",
          "october",
          "october",
          "october",
          "october",
          "october",
          "october",
          "october",
          "october",
          "october",
          "october",
          "october",
          "october",
          "october",
          "october",
          "october",
          "november",
          "november",
          "november",
          "november",
          "november",
          "november",
          "november",
          "november",
          "november",
          "november",
          "november",
          "november",
          "november",
          "november",
          "november",
          "november",
          "november",
          "november",
          "november",
          "november",
          "november",
          "november",
          "november",
          "november",
          "november",
          "november",
          "november",
          "november",
          "november",
          "november",
          "december",
          "december",
          "december",
          "december",
          "december",
          "december",
          "december",
          "december",
          "december",
          "december",
          "december",
          "december",
          "december",
          "december",
          "december",
          "december",
          "december",
          "december",
          "december",
          "december",
          "december",
          "december",
          "december",
          "december",
          "december",
          "december",
          "december",
          "december",
          "december",
          "december",
          "december",
          "january",
          "january",
          "january",
          "january",
          "january",
          "january",
          "january",
          "january",
          "january",
          "january",
          "january",
          "january",
          "january",
          "january",
          "january",
          "january",
          "january",
          "january",
          "january",
          "january",
          "january",
          "january",
          "january",
          "january",
          "january",
          "january",
          "january",
          "january",
          "january",
          "january",
          "january",
          "february",
          "february",
          "february",
          "february",
          "february",
          "february",
          "february",
          "february",
          "february",
          "february",
          "february",
          "february",
          "february",
          "february",
          "february",
          "february",
          "february",
          "february",
          "february",
          "february",
          "february",
          "february",
          "february",
          "february",
          "february",
          "february",
          "february",
          "february",
          "february",
          "march",
          "march",
          "march",
          "march",
          "march",
          "march",
          "march",
          "march",
          "march",
          "march",
          "march",
          "march",
          "march",
          "march",
          "march",
          "march",
          "march",
          "march",
          "march",
          "march",
          "march",
          "march",
          "march",
          "march",
          "march",
          "march",
          "march",
          "march",
          "march",
          "march",
          "march",
          "april",
          "april",
          "april",
          "april",
          "april",
          "april",
          "april",
          "april",
          "april",
          "april",
          "april",
          "april",
          "april",
          "april",
          "april",
          "april",
          "april",
          "april",
          "april",
          "april",
          "april",
          "april",
          "april",
          "april",
          "april",
          "april",
          "april",
          "april",
          "april",
          "april",
          "may",
          "may",
          "may",
          "may",
          "may",
          "may",
          "may",
          "may",
          "may",
          "may",
          "may",
          "may",
          "may",
          "may",
          "may",
          "may",
          "may",
          "may",
          "may",
          "may",
          "may",
          "may",
          "may",
          "may",
          "may",
          "may",
          "may",
          "may",
          "may",
          "may",
          "may",
          "june",
          "june",
          "june",
          "june",
          "june",
          "june",
          "june",
          "june",
          "june",
          "june",
          "june",
          "june",
          "june",
          "june",
          "june",
          "june",
          "june",
          "june",
          "june",
          "june",
          "june",
          "june",
          "june",
          "june",
          "june",
          "june",
          "june",
          "june",
          "june",
          "june",
          "july",
          "july",
          "july",
          "july",
          "july",
          "july",
          "july",
          "july",
          "july",
          "july",
          "july",
          "july",
          "july",
          "july",
          "july",
          "july",
          "july",
          "july",
          "july",
          "july",
          "july",
          "july",
          "july",
          "july",
          "july",
          "july",
          "july",
          "july",
          "july",
          "july",
          "july",
          "august",
          "august",
          "august",
          "august",
          "august",
          "august",
          "august",
          "august",
          "august",
          "august",
          "august",
          "august",
          "august",
          "august",
          "august",
          "august",
          "august",
          "august",
          "august",
          "august",
          "august",
          "august",
          "august",
          "august",
          "august",
          "august",
          "august",
          "august",
          "august",
          "august",
          "august",
          "september",
          "september",
          "september",
          "september",
          "september",
          "september",
          "september",
          "september",
          "september",
          "september",
          "september",
          "september",
          "september",
          "september",
          "september",
          "september",
          "september",
          "september",
          "september",
          "september",
          "september",
          "september",
          "september",
          "september",
          "september",
          "september",
          "september",
          "september",
          "september",
          "september",
          "october",
          "october",
          "october",
          "october",
          "october",
          "october",
          "october",
          "october",
          "october",
          "october",
          "october",
          "october",
          "october",
          "october",
          "october",
          "october",
          "october",
          "october",
          "october",
          "october",
          "october",
          "october",
          "october",
          "october",
          "october",
          "october",
          "october",
          "october",
          "october",
          "october",
          "october",
          "november",
          "november",
          "november",
          "november",
          "november",
          "november",
          "november",
          "november",
          "november",
          "november",
          "november",
          "november",
          "november",
          "november",
          "november",
          "november",
          "november",
          "november",
          "november",
          "november",
          "november",
          "november",
          "november",
          "november",
          "november",
          "november",
          "november",
          "november",
          "november",
          "november",
          "december",
          "december",
          "december",
          "december",
          "december",
          "december",
          "december",
          "december",
          "december",
          "december",
          "december",
          "december",
          "december",
          "december",
          "december",
          "december",
          "december",
          "december",
          "december",
          "december",
          "december",
          "december",
          "december",
          "december",
          "december",
          "december",
          "december",
          "december",
          "december",
          "december",
          "december",
          "january",
          "january",
          "january",
          "january",
          "january",
          "january",
          "january",
          "january",
          "january",
          "january",
          "january",
          "january",
          "january",
          "january",
          "january",
          "january",
          "january",
          "january",
          "january",
          "january",
          "january",
          "january",
          "january",
          "january",
          "january",
          "january",
          "january",
          "january",
          "january",
          "january",
          "january",
          "february",
          "february",
          "february",
          "february",
          "february",
          "february",
          "february",
          "february",
          "february",
          "february",
          "february",
          "february",
          "february",
          "february",
          "february",
          "february",
          "february",
          "february",
          "february",
          "february",
          "february",
          "february",
          "february",
          "february",
          "february",
          "february",
          "february",
          "february",
          "march",
          "march",
          "march",
          "march",
          "march",
          "march",
          "march",
          "march",
          "march",
          "march",
          "march",
          "march",
          "march",
          "march",
          "march",
          "march",
          "march",
          "march",
          "march",
          "march",
          "march",
          "march",
          "march",
          "march",
          "march",
          "march",
          "march",
          "march",
          "march",
          "march",
          "march",
          "january",
          "january",
          "january",
          "january",
          "january",
          "january",
          "january",
          "january",
          "january",
          "january",
          "january",
          "january",
          "january",
          "january",
          "january",
          "january",
          "january",
          "january",
          "january",
          "january",
          "january",
          "january",
          "january",
          "january",
          "january",
          "january",
          "january",
          "january",
          "january",
          "january",
          "january",
          "february",
          "february",
          "february",
          "february",
          "february",
          "february",
          "february",
          "february",
          "february",
          "february",
          "february",
          "february",
          "february",
          "february",
          "february",
          "february",
          "february",
          "february",
          "february",
          "february",
          "february",
          "february",
          "february",
          "february",
          "february",
          "february",
          "february",
          "february",
          "march",
          "march",
          "march",
          "march",
          "march",
          "march",
          "march",
          "march",
          "march",
          "march",
          "march",
          "march",
          "march",
          "march",
          "march",
          "march",
          "march",
          "march",
          "march",
          "march",
          "march",
          "march",
          "march",
          "march",
          "march",
          "march",
          "march",
          "march",
          "march",
          "march",
          "march",
          "april",
          "april",
          "april",
          "april",
          "april",
          "april",
          "april",
          "april",
          "april",
          "april",
          "april",
          "april",
          "april",
          "april",
          "april",
          "april",
          "april",
          "april",
          "april",
          "april",
          "april",
          "april",
          "april",
          "april",
          "april",
          "april",
          "april",
          "april",
          "april",
          "april",
          "may",
          "may",
          "may",
          "may",
          "may",
          "may",
          "may",
          "may",
          "may",
          "may",
          "may",
          "may",
          "may",
          "may",
          "may",
          "may",
          "may",
          "may",
          "may",
          "may",
          "may",
          "may",
          "may",
          "may",
          "may",
          "may",
          "may",
          "may",
          "may",
          "may",
          "may",
          "june",
          "june",
          "june",
          "june",
          "june",
          "june",
          "june",
          "june",
          "june",
          "june",
          "june",
          "june",
          "june",
          "june",
          "june",
          "june",
          "june",
          "june",
          "june",
          "june",
          "june",
          "june",
          "june",
          "june",
          "june",
          "june",
          "june",
          "june",
          "june",
          "june",
          "july",
          "july",
          "july",
          "july",
          "july",
          "july",
          "july",
          "july",
          "july",
          "july",
          "july",
          "july",
          "july",
          "july",
          "july",
          "july",
          "july",
          "july",
          "july",
          "july",
          "july",
          "july",
          "july",
          "july",
          "july",
          "july",
          "july",
          "july",
          "july",
          "july",
          "july",
          "august",
          "august",
          "august",
          "august",
          "august",
          "august",
          "august",
          "august",
          "august",
          "august",
          "august",
          "august",
          "august",
          "august",
          "august",
          "august",
          "august",
          "august",
          "august",
          "august",
          "august",
          "august",
          "august",
          "august",
          "august",
          "august",
          "august",
          "august",
          "august",
          "august",
          "august",
          "september",
          "september",
          "september",
          "september",
          "september",
          "september",
          "september",
          "september",
          "september",
          "september",
          "september",
          "september",
          "september",
          "september",
          "september",
          "september",
          "september",
          "september",
          "september",
          "september",
          "september",
          "september",
          "september",
          "september",
          "september",
          "september",
          "september",
          "september",
          "september",
          "september",
          "october",
          "october",
          "october",
          "october",
          "october",
          "october",
          "october",
          "october",
          "october",
          "october",
          "october",
          "october",
          "october",
          "october",
          "october",
          "october",
          "october",
          "october",
          "october",
          "october",
          "october",
          "october",
          "october",
          "october",
          "october",
          "october",
          "october",
          "october",
          "october",
          "october",
          "october",
          "november",
          "november",
          "november",
          "november",
          "november",
          "november",
          "november",
          "november",
          "november",
          "november",
          "november",
          "november",
          "november",
          "november",
          "november",
          "november",
          "november",
          "november",
          "november",
          "november",
          "november",
          "november",
          "november",
          "november",
          "november",
          "november",
          "november",
          "november",
          "november",
          "november",
          "december",
          "december",
          "december",
          "december",
          "december",
          "december",
          "december",
          "december",
          "december",
          "december",
          "december",
          "december",
          "december",
          "december",
          "december",
          "december",
          "december",
          "december",
          "december",
          "december",
          "december",
          "december",
          "december",
          "december",
          "december",
          "december",
          "december",
          "december",
          "december",
          "december",
          "december",
          "january",
          "january",
          "january",
          "january",
          "january",
          "january",
          "january",
          "january",
          "january",
          "january",
          "january",
          "january",
          "january",
          "january",
          "january",
          "january",
          "january",
          "january",
          "january",
          "january",
          "january",
          "january",
          "january",
          "january",
          "january",
          "january",
          "january",
          "january",
          "january",
          "january",
          "january",
          "february",
          "february",
          "february",
          "february",
          "february",
          "february",
          "february",
          "february",
          "february",
          "february",
          "february",
          "february",
          "february",
          "february",
          "february",
          "february",
          "february",
          "february",
          "february",
          "february",
          "february",
          "february",
          "february",
          "february",
          "february",
          "february",
          "february",
          "february",
          "february",
          "march",
          "march",
          "march",
          "march",
          "march",
          "march",
          "march",
          "march",
          "march",
          "march",
          "march",
          "march",
          "march",
          "march",
          "march",
          "march",
          "march",
          "march",
          "march",
          "march",
          "march",
          "march",
          "march",
          "march",
          "march",
          "march",
          "march",
          "march",
          "march",
          "march",
          "march",
          "april",
          "april",
          "april",
          "april",
          "april",
          "april",
          "april",
          "april",
          "april",
          "april",
          "april",
          "april",
          "april",
          "april",
          "april",
          "april",
          "april",
          "april",
          "april",
          "april",
          "april",
          "april",
          "april",
          "april",
          "april",
          "april",
          "april",
          "april",
          "april",
          "april",
          "may",
          "may",
          "may",
          "may",
          "may",
          "may",
          "may",
          "may",
          "may",
          "may",
          "may",
          "may",
          "may",
          "may",
          "may",
          "may",
          "may",
          "may",
          "may",
          "may",
          "may",
          "may",
          "may",
          "may",
          "may",
          "may",
          "may",
          "may",
          "may",
          "may",
          "may",
          "june",
          "june",
          "june",
          "june",
          "june",
          "june",
          "june",
          "june",
          "june",
          "june",
          "june",
          "june",
          "june",
          "june",
          "june",
          "june",
          "june",
          "june",
          "june",
          "june",
          "june",
          "june",
          "june",
          "june",
          "june",
          "june",
          "june",
          "june",
          "june",
          "june",
          "july",
          "july",
          "july",
          "july",
          "july",
          "july",
          "july",
          "july",
          "july",
          "july",
          "july",
          "july",
          "july",
          "july",
          "july",
          "july",
          "july",
          "july",
          "july",
          "july",
          "july",
          "july",
          "july",
          "july",
          "july",
          "july",
          "july",
          "july",
          "july",
          "july",
          "july",
          "august",
          "august",
          "august",
          "august",
          "august",
          "august",
          "august",
          "august",
          "august",
          "august",
          "august",
          "august",
          "august",
          "august",
          "august",
          "august",
          "august",
          "august",
          "august",
          "august",
          "august",
          "august",
          "august",
          "august",
          "august",
          "august",
          "august",
          "august",
          "august",
          "august",
          "august",
          "september",
          "september",
          "september",
          "september",
          "september",
          "september",
          "september",
          "september",
          "september",
          "september",
          "september",
          "september",
          "september",
          "september",
          "september",
          "september",
          "september",
          "september",
          "september",
          "september",
          "september",
          "september",
          "september",
          "september",
          "september",
          "september",
          "september",
          "september",
          "september",
          "september",
          "october",
          "october",
          "october",
          "october",
          "october",
          "october",
          "october",
          "october",
          "october",
          "october",
          "october",
          "october",
          "october",
          "october",
          "october",
          "october",
          "october",
          "october",
          "october",
          "october",
          "october",
          "october",
          "october",
          "october",
          "october",
          "october",
          "october",
          "october",
          "october",
          "october",
          "october",
          "november",
          "november",
          "november",
          "november",
          "november",
          "november",
          "november",
          "november",
          "november",
          "november",
          "november",
          "november",
          "november",
          "november",
          "november",
          "november",
          "november",
          "november",
          "november",
          "november",
          "november",
          "november",
          "november",
          "november",
          "november",
          "november",
          "november",
          "november",
          "november",
          "november",
          "december",
          "december",
          "december",
          "december",
          "december",
          "december",
          "december",
          "december",
          "december",
          "december",
          "december",
          "december",
          "december",
          "december",
          "december",
          "december",
          "december",
          "december",
          "december",
          "december",
          "december",
          "december",
          "december",
          "december",
          "december",
          "december",
          "december",
          "december",
          "december",
          "december",
          "december",
          "january",
          "january",
          "january",
          "january",
          "january",
          "january",
          "january",
          "january",
          "january",
          "january",
          "january",
          "january",
          "january",
          "january",
          "january",
          "january",
          "january",
          "january",
          "january",
          "january",
          "january",
          "january",
          "january",
          "january",
          "january",
          "january",
          "january",
          "january",
          "january",
          "january",
          "january",
          "february",
          "february",
          "february",
          "february",
          "february",
          "february",
          "february",
          "february",
          "february",
          "february",
          "february",
          "february",
          "february",
          "february",
          "february",
          "february",
          "february",
          "february",
          "february",
          "february",
          "february",
          "february",
          "february",
          "february",
          "february",
          "february",
          "february",
          "february",
          "march",
          "march",
          "march",
          "march",
          "march",
          "march",
          "march",
          "march",
          "march",
          "march",
          "march",
          "march",
          "march",
          "march",
          "march",
          "march",
          "march",
          "march",
          "march",
          "march",
          "march",
          "march",
          "march",
          "march",
          "march",
          "march",
          "march",
          "march",
          "march",
          "march",
          "march",
          "january",
          "january",
          "january",
          "january",
          "january",
          "january",
          "january",
          "january",
          "january",
          "january",
          "january",
          "january",
          "january",
          "january",
          "january",
          "january",
          "january",
          "january",
          "january",
          "january",
          "january",
          "january",
          "january",
          "january",
          "january",
          "january",
          "january",
          "january",
          "january",
          "january",
          "january",
          "february",
          "february",
          "february",
          "february",
          "february",
          "february",
          "february",
          "february",
          "february",
          "february",
          "february",
          "february",
          "february",
          "february",
          "february",
          "february",
          "february",
          "february",
          "february",
          "february",
          "february",
          "february",
          "february",
          "february",
          "february",
          "february",
          "february",
          "february",
          "march",
          "march",
          "march",
          "march",
          "march",
          "march",
          "march",
          "march",
          "march",
          "march",
          "march",
          "march",
          "march",
          "march",
          "march",
          "march",
          "march",
          "march",
          "march",
          "march",
          "march",
          "march",
          "march",
          "march",
          "march",
          "march",
          "march",
          "march",
          "march",
          "march",
          "march",
          "april",
          "april",
          "april",
          "april",
          "april",
          "april",
          "april",
          "april",
          "april",
          "april",
          "april",
          "april",
          "april",
          "april",
          "april",
          "april",
          "april",
          "april",
          "april",
          "april",
          "april",
          "april",
          "april",
          "april",
          "april",
          "april",
          "april",
          "april",
          "april",
          "april",
          "may",
          "may",
          "may",
          "may",
          "may",
          "may",
          "may",
          "may",
          "may",
          "may",
          "may",
          "may",
          "may",
          "may",
          "may",
          "may",
          "may",
          "may",
          "may",
          "may",
          "may",
          "may",
          "may",
          "may",
          "may",
          "may",
          "may",
          "may",
          "may",
          "may",
          "may",
          "june",
          "june",
          "june",
          "june",
          "june",
          "june",
          "june",
          "june",
          "june",
          "june",
          "june",
          "june",
          "june",
          "june",
          "june",
          "june",
          "june",
          "june",
          "june",
          "june",
          "june",
          "june",
          "june",
          "june",
          "june",
          "june",
          "june",
          "june",
          "june",
          "june",
          "july",
          "july",
          "july",
          "july",
          "july",
          "july",
          "july",
          "july",
          "july",
          "july",
          "july",
          "july",
          "july",
          "july",
          "july",
          "july",
          "july",
          "july",
          "july",
          "july",
          "july",
          "july",
          "july",
          "july",
          "july",
          "july",
          "july",
          "july",
          "july",
          "july",
          "july",
          "august",
          "august",
          "august",
          "august",
          "august",
          "august",
          "august",
          "august",
          "august",
          "august",
          "august",
          "august",
          "august",
          "august",
          "august",
          "august",
          "august",
          "august",
          "august",
          "august",
          "august",
          "august",
          "august",
          "august",
          "august",
          "august",
          "august",
          "august",
          "august",
          "august",
          "august",
          "september",
          "september",
          "september",
          "september",
          "september",
          "september",
          "september",
          "september",
          "september",
          "september",
          "september",
          "september",
          "september",
          "september",
          "september",
          "september",
          "september",
          "september",
          "september",
          "september",
          "september",
          "september",
          "september",
          "september",
          "september",
          "september",
          "september",
          "september",
          "september",
          "september",
          "october",
          "october",
          "october",
          "october",
          "october",
          "october",
          "october",
          "october",
          "october",
          "october",
          "october",
          "october",
          "october",
          "october",
          "october",
          "october",
          "october",
          "october",
          "october",
          "october",
          "october",
          "october",
          "october",
          "october",
          "october",
          "october",
          "october",
          "october",
          "october",
          "october",
          "october",
          "november",
          "november",
          "november",
          "november",
          "november",
          "november",
          "november",
          "november",
          "november",
          "november",
          "november",
          "november",
          "november",
          "november",
          "november",
          "november",
          "november",
          "november",
          "november",
          "november",
          "november",
          "november",
          "november",
          "november",
          "november",
          "november",
          "november",
          "november",
          "november",
          "november",
          "december",
          "december",
          "december",
          "december",
          "december",
          "december",
          "december",
          "december",
          "december",
          "december",
          "december",
          "december",
          "december",
          "december",
          "december",
          "december",
          "december",
          "december",
          "december",
          "december",
          "december",
          "december",
          "december",
          "december",
          "december",
          "december",
          "december",
          "december",
          "december",
          "december",
          "december",
          "january",
          "january",
          "january",
          "january",
          "january",
          "january",
          "january",
          "january",
          "january",
          "january",
          "january",
          "january",
          "january",
          "january",
          "january",
          "january",
          "january",
          "january",
          "january",
          "january",
          "january",
          "january",
          "january",
          "january",
          "january",
          "january",
          "january",
          "january",
          "january",
          "january",
          "january",
          "february",
          "february",
          "february",
          "february",
          "february",
          "february",
          "february",
          "february",
          "february",
          "february",
          "february",
          "february",
          "february",
          "february",
          "february",
          "february",
          "february",
          "february",
          "february",
          "february",
          "february",
          "february",
          "february",
          "february",
          "february",
          "february",
          "february",
          "february",
          "february",
          "march",
          "march",
          "march",
          "march",
          "march",
          "march",
          "march",
          "march",
          "march",
          "march",
          "march",
          "march",
          "march",
          "march",
          "march",
          "march",
          "march",
          "march",
          "march",
          "march",
          "march",
          "march",
          "march",
          "march",
          "march",
          "march",
          "march",
          "march",
          "march",
          "march",
          "march",
          "april",
          "april",
          "april",
          "april",
          "april",
          "april",
          "april",
          "april",
          "april",
          "april",
          "april",
          "april",
          "april",
          "april",
          "april",
          "april",
          "april",
          "april",
          "april",
          "april",
          "april",
          "april",
          "april",
          "april",
          "april",
          "april",
          "april",
          "april",
          "april",
          "april",
          "may",
          "may",
          "may",
          "may",
          "may",
          "may",
          "may",
          "may",
          "may",
          "may",
          "may",
          "may",
          "may",
          "may",
          "may",
          "may",
          "may",
          "may",
          "may",
          "may",
          "may",
          "may",
          "may",
          "may",
          "may",
          "may",
          "may",
          "may",
          "may",
          "may",
          "may",
          "june",
          "june",
          "june",
          "june",
          "june",
          "june",
          "june",
          "june",
          "june",
          "june",
          "june",
          "june",
          "june",
          "june",
          "june",
          "june",
          "june",
          "june",
          "june",
          "june",
          "june",
          "june",
          "june",
          "june",
          "june",
          "june",
          "june",
          "june",
          "june",
          "june",
          "july",
          "july",
          "july",
          "july",
          "july",
          "july",
          "july",
          "july",
          "july",
          "july",
          "july",
          "july",
          "july",
          "july",
          "july",
          "july",
          "july",
          "july",
          "july",
          "july",
          "july",
          "july",
          "july",
          "july",
          "july",
          "july",
          "july",
          "july",
          "july",
          "july",
          "july",
          "august",
          "august",
          "august",
          "august",
          "august",
          "august",
          "august",
          "august",
          "august",
          "august",
          "august",
          "august",
          "august",
          "august",
          "august",
          "august",
          "august",
          "august",
          "august",
          "august",
          "august",
          "august",
          "august",
          "august",
          "august",
          "august",
          "august",
          "august",
          "august",
          "august",
          "august",
          "september",
          "september",
          "september",
          "september",
          "september",
          "september",
          "september",
          "september",
          "september",
          "september",
          "september",
          "september",
          "september",
          "september",
          "september",
          "september",
          "september",
          "september",
          "september",
          "september",
          "september",
          "september",
          "september",
          "september",
          "september",
          "september",
          "september",
          "september",
          "september",
          "september",
          "october",
          "october",
          "october",
          "october",
          "october",
          "october",
          "october",
          "october",
          "october",
          "october",
          "october",
          "october",
          "october",
          "october",
          "october",
          "october",
          "october",
          "october",
          "october",
          "october",
          "october",
          "october",
          "october",
          "october",
          "october",
          "october",
          "october",
          "october",
          "october",
          "october",
          "october",
          "november",
          "november",
          "november",
          "november",
          "november",
          "november",
          "november",
          "november",
          "november",
          "november",
          "november",
          "november",
          "november",
          "november",
          "november",
          "november",
          "november",
          "november",
          "november",
          "november",
          "november",
          "november",
          "november",
          "november",
          "november",
          "november",
          "november",
          "november",
          "november",
          "november",
          "december",
          "december",
          "december",
          "december",
          "december",
          "december",
          "december",
          "december",
          "december",
          "december",
          "december",
          "december",
          "december",
          "december",
          "december",
          "december",
          "december",
          "december",
          "december",
          "december",
          "december",
          "december",
          "december",
          "december",
          "december",
          "december",
          "december",
          "december",
          "december",
          "december",
          "december",
          "january",
          "january",
          "january",
          "january",
          "january",
          "january",
          "january",
          "january",
          "january",
          "january",
          "january",
          "january",
          "january",
          "january",
          "january",
          "january",
          "january",
          "january",
          "january",
          "january",
          "january",
          "january",
          "january",
          "january",
          "january",
          "january",
          "january",
          "january",
          "january",
          "january",
          "january",
          "february",
          "february",
          "february",
          "february",
          "february",
          "february",
          "february",
          "february",
          "february",
          "february",
          "february",
          "february",
          "february",
          "february",
          "february",
          "february",
          "february",
          "february",
          "february",
          "february",
          "february",
          "february",
          "february",
          "february",
          "february",
          "february",
          "february",
          "february",
          "march",
          "march",
          "march",
          "march",
          "march",
          "march",
          "march",
          "march",
          "march",
          "march",
          "march",
          "march",
          "march",
          "march",
          "march",
          "march",
          "march",
          "march",
          "march",
          "march",
          "march",
          "march",
          "march",
          "march",
          "march",
          "march",
          "march",
          "march",
          "march",
          "march",
          "march"
         ],
         "x0": " ",
         "xaxis": "x",
         "y": {
          "bdata": "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",
          "dtype": "f8"
         },
         "y0": " ",
         "yaxis": "y"
        }
       ],
       "layout": {
        "autosize": true,
        "boxmode": "group",
        "font": {
         "color": "white"
        },
        "legend": {
         "font": {
          "color": "white"
         },
         "tracegroupgap": 0
        },
        "margin": {
         "b": 40,
         "l": 20,
         "r": 20,
         "t": 40
        },
        "paper_bgcolor": "rgba(0, 0, 0, 0)",
        "plot_bgcolor": "rgba(0, 0, 0, 0)",
        "template": {
         "data": {
          "bar": [
           {
            "error_x": {
             "color": "#2a3f5f"
            },
            "error_y": {
             "color": "#2a3f5f"
            },
            "marker": {
             "line": {
              "color": "#E5ECF6",
              "width": 0.5
             },
             "pattern": {
              "fillmode": "overlay",
              "size": 10,
              "solidity": 0.2
             }
            },
            "type": "bar"
           }
          ],
          "barpolar": [
           {
            "marker": {
             "line": {
              "color": "#E5ECF6",
              "width": 0.5
             },
             "pattern": {
              "fillmode": "overlay",
              "size": 10,
              "solidity": 0.2
             }
            },
            "type": "barpolar"
           }
          ],
          "carpet": [
           {
            "aaxis": {
             "endlinecolor": "#2a3f5f",
             "gridcolor": "white",
             "linecolor": "white",
             "minorgridcolor": "white",
             "startlinecolor": "#2a3f5f"
            },
            "baxis": {
             "endlinecolor": "#2a3f5f",
             "gridcolor": "white",
             "linecolor": "white",
             "minorgridcolor": "white",
             "startlinecolor": "#2a3f5f"
            },
            "type": "carpet"
           }
          ],
          "choropleth": [
           {
            "colorbar": {
             "outlinewidth": 0,
             "ticks": ""
            },
            "type": "choropleth"
           }
          ],
          "contour": [
           {
            "colorbar": {
             "outlinewidth": 0,
             "ticks": ""
            },
            "colorscale": [
             [
              0,
              "#0d0887"
             ],
             [
              0.1111111111111111,
              "#46039f"
             ],
             [
              0.2222222222222222,
              "#7201a8"
             ],
             [
              0.3333333333333333,
              "#9c179e"
             ],
             [
              0.4444444444444444,
              "#bd3786"
             ],
             [
              0.5555555555555556,
              "#d8576b"
             ],
             [
              0.6666666666666666,
              "#ed7953"
             ],
             [
              0.7777777777777778,
              "#fb9f3a"
             ],
             [
              0.8888888888888888,
              "#fdca26"
             ],
             [
              1,
              "#f0f921"
             ]
            ],
            "type": "contour"
           }
          ],
          "contourcarpet": [
           {
            "colorbar": {
             "outlinewidth": 0,
             "ticks": ""
            },
            "type": "contourcarpet"
           }
          ],
          "heatmap": [
           {
            "colorbar": {
             "outlinewidth": 0,
             "ticks": ""
            },
            "colorscale": [
             [
              0,
              "#0d0887"
             ],
             [
              0.1111111111111111,
              "#46039f"
             ],
             [
              0.2222222222222222,
              "#7201a8"
             ],
             [
              0.3333333333333333,
              "#9c179e"
             ],
             [
              0.4444444444444444,
              "#bd3786"
             ],
             [
              0.5555555555555556,
              "#d8576b"
             ],
             [
              0.6666666666666666,
              "#ed7953"
             ],
             [
              0.7777777777777778,
              "#fb9f3a"
             ],
             [
              0.8888888888888888,
              "#fdca26"
             ],
             [
              1,
              "#f0f921"
             ]
            ],
            "type": "heatmap"
           }
          ],
          "histogram": [
           {
            "marker": {
             "pattern": {
              "fillmode": "overlay",
              "size": 10,
              "solidity": 0.2
             }
            },
            "type": "histogram"
           }
          ],
          "histogram2d": [
           {
            "colorbar": {
             "outlinewidth": 0,
             "ticks": ""
            },
            "colorscale": [
             [
              0,
              "#0d0887"
             ],
             [
              0.1111111111111111,
              "#46039f"
             ],
             [
              0.2222222222222222,
              "#7201a8"
             ],
             [
              0.3333333333333333,
              "#9c179e"
             ],
             [
              0.4444444444444444,
              "#bd3786"
             ],
             [
              0.5555555555555556,
              "#d8576b"
             ],
             [
              0.6666666666666666,
              "#ed7953"
             ],
             [
              0.7777777777777778,
              "#fb9f3a"
             ],
             [
              0.8888888888888888,
              "#fdca26"
             ],
             [
              1,
              "#f0f921"
             ]
            ],
            "type": "histogram2d"
           }
          ],
          "histogram2dcontour": [
           {
            "colorbar": {
             "outlinewidth": 0,
             "ticks": ""
            },
            "colorscale": [
             [
              0,
              "#0d0887"
             ],
             [
              0.1111111111111111,
              "#46039f"
             ],
             [
              0.2222222222222222,
              "#7201a8"
             ],
             [
              0.3333333333333333,
              "#9c179e"
             ],
             [
              0.4444444444444444,
              "#bd3786"
             ],
             [
              0.5555555555555556,
              "#d8576b"
             ],
             [
              0.6666666666666666,
              "#ed7953"
             ],
             [
              0.7777777777777778,
              "#fb9f3a"
             ],
             [
              0.8888888888888888,
              "#fdca26"
             ],
             [
              1,
              "#f0f921"
             ]
            ],
            "type": "histogram2dcontour"
           }
          ],
          "mesh3d": [
           {
            "colorbar": {
             "outlinewidth": 0,
             "ticks": ""
            },
            "type": "mesh3d"
           }
          ],
          "parcoords": [
           {
            "line": {
             "colorbar": {
              "outlinewidth": 0,
              "ticks": ""
             }
            },
            "type": "parcoords"
           }
          ],
          "pie": [
           {
            "automargin": true,
            "type": "pie"
           }
          ],
          "scatter": [
           {
            "fillpattern": {
             "fillmode": "overlay",
             "size": 10,
             "solidity": 0.2
            },
            "type": "scatter"
           }
          ],
          "scatter3d": [
           {
            "line": {
             "colorbar": {
              "outlinewidth": 0,
              "ticks": ""
             }
            },
            "marker": {
             "colorbar": {
              "outlinewidth": 0,
              "ticks": ""
             }
            },
            "type": "scatter3d"
           }
          ],
          "scattercarpet": [
           {
            "marker": {
             "colorbar": {
              "outlinewidth": 0,
              "ticks": ""
             }
            },
            "type": "scattercarpet"
           }
          ],
          "scattergeo": [
           {
            "marker": {
             "colorbar": {
              "outlinewidth": 0,
              "ticks": ""
             }
            },
            "type": "scattergeo"
           }
          ],
          "scattergl": [
           {
            "marker": {
             "colorbar": {
              "outlinewidth": 0,
              "ticks": ""
             }
            },
            "type": "scattergl"
           }
          ],
          "scattermap": [
           {
            "marker": {
             "colorbar": {
              "outlinewidth": 0,
              "ticks": ""
             }
            },
            "type": "scattermap"
           }
          ],
          "scattermapbox": [
           {
            "marker": {
             "colorbar": {
              "outlinewidth": 0,
              "ticks": ""
             }
            },
            "type": "scattermapbox"
           }
          ],
          "scatterpolar": [
           {
            "marker": {
             "colorbar": {
              "outlinewidth": 0,
              "ticks": ""
             }
            },
            "type": "scatterpolar"
           }
          ],
          "scatterpolargl": [
           {
            "marker": {
             "colorbar": {
              "outlinewidth": 0,
              "ticks": ""
             }
            },
            "type": "scatterpolargl"
           }
          ],
          "scatterternary": [
           {
            "marker": {
             "colorbar": {
              "outlinewidth": 0,
              "ticks": ""
             }
            },
            "type": "scatterternary"
           }
          ],
          "surface": [
           {
            "colorbar": {
             "outlinewidth": 0,
             "ticks": ""
            },
            "colorscale": [
             [
              0,
              "#0d0887"
             ],
             [
              0.1111111111111111,
              "#46039f"
             ],
             [
              0.2222222222222222,
              "#7201a8"
             ],
             [
              0.3333333333333333,
              "#9c179e"
             ],
             [
              0.4444444444444444,
              "#bd3786"
             ],
             [
              0.5555555555555556,
              "#d8576b"
             ],
             [
              0.6666666666666666,
              "#ed7953"
             ],
             [
              0.7777777777777778,
              "#fb9f3a"
             ],
             [
              0.8888888888888888,
              "#fdca26"
             ],
             [
              1,
              "#f0f921"
             ]
            ],
            "type": "surface"
           }
          ],
          "table": [
           {
            "cells": {
             "fill": {
              "color": "#EBF0F8"
             },
             "line": {
              "color": "white"
             }
            },
            "header": {
             "fill": {
              "color": "#C8D4E3"
             },
             "line": {
              "color": "white"
             }
            },
            "type": "table"
           }
          ]
         },
         "layout": {
          "annotationdefaults": {
           "arrowcolor": "#2a3f5f",
           "arrowhead": 0,
           "arrowwidth": 1
          },
          "autotypenumbers": "strict",
          "coloraxis": {
           "colorbar": {
            "outlinewidth": 0,
            "ticks": ""
           }
          },
          "colorscale": {
           "diverging": [
            [
             0,
             "#8e0152"
            ],
            [
             0.1,
             "#c51b7d"
            ],
            [
             0.2,
             "#de77ae"
            ],
            [
             0.3,
             "#f1b6da"
            ],
            [
             0.4,
             "#fde0ef"
            ],
            [
             0.5,
             "#f7f7f7"
            ],
            [
             0.6,
             "#e6f5d0"
            ],
            [
             0.7,
             "#b8e186"
            ],
            [
             0.8,
             "#7fbc41"
            ],
            [
             0.9,
             "#4d9221"
            ],
            [
             1,
             "#276419"
            ]
           ],
           "sequential": [
            [
             0,
             "#0d0887"
            ],
            [
             0.1111111111111111,
             "#46039f"
            ],
            [
             0.2222222222222222,
             "#7201a8"
            ],
            [
             0.3333333333333333,
             "#9c179e"
            ],
            [
             0.4444444444444444,
             "#bd3786"
            ],
            [
             0.5555555555555556,
             "#d8576b"
            ],
            [
             0.6666666666666666,
             "#ed7953"
            ],
            [
             0.7777777777777778,
             "#fb9f3a"
            ],
            [
             0.8888888888888888,
             "#fdca26"
            ],
            [
             1,
             "#f0f921"
            ]
           ],
           "sequentialminus": [
            [
             0,
             "#0d0887"
            ],
            [
             0.1111111111111111,
             "#46039f"
            ],
            [
             0.2222222222222222,
             "#7201a8"
            ],
            [
             0.3333333333333333,
             "#9c179e"
            ],
            [
             0.4444444444444444,
             "#bd3786"
            ],
            [
             0.5555555555555556,
             "#d8576b"
            ],
            [
             0.6666666666666666,
             "#ed7953"
            ],
            [
             0.7777777777777778,
             "#fb9f3a"
            ],
            [
             0.8888888888888888,
             "#fdca26"
            ],
            [
             1,
             "#f0f921"
            ]
           ]
          },
          "colorway": [
           "#636efa",
           "#EF553B",
           "#00cc96",
           "#ab63fa",
           "#FFA15A",
           "#19d3f3",
           "#FF6692",
           "#B6E880",
           "#FF97FF",
           "#FECB52"
          ],
          "font": {
           "color": "#2a3f5f"
          },
          "geo": {
           "bgcolor": "white",
           "lakecolor": "white",
           "landcolor": "#E5ECF6",
           "showlakes": true,
           "showland": true,
           "subunitcolor": "white"
          },
          "hoverlabel": {
           "align": "left"
          },
          "hovermode": "closest",
          "mapbox": {
           "style": "light"
          },
          "paper_bgcolor": "white",
          "plot_bgcolor": "#E5ECF6",
          "polar": {
           "angularaxis": {
            "gridcolor": "white",
            "linecolor": "white",
            "ticks": ""
           },
           "bgcolor": "#E5ECF6",
           "radialaxis": {
            "gridcolor": "white",
            "linecolor": "white",
            "ticks": ""
           }
          },
          "scene": {
           "xaxis": {
            "backgroundcolor": "#E5ECF6",
            "gridcolor": "white",
            "gridwidth": 2,
            "linecolor": "white",
            "showbackground": true,
            "ticks": "",
            "zerolinecolor": "white"
           },
           "yaxis": {
            "backgroundcolor": "#E5ECF6",
            "gridcolor": "white",
            "gridwidth": 2,
            "linecolor": "white",
            "showbackground": true,
            "ticks": "",
            "zerolinecolor": "white"
           },
           "zaxis": {
            "backgroundcolor": "#E5ECF6",
            "gridcolor": "white",
            "gridwidth": 2,
            "linecolor": "white",
            "showbackground": true,
            "ticks": "",
            "zerolinecolor": "white"
           }
          },
          "shapedefaults": {
           "line": {
            "color": "#2a3f5f"
           }
          },
          "ternary": {
           "aaxis": {
            "gridcolor": "white",
            "linecolor": "white",
            "ticks": ""
           },
           "baxis": {
            "gridcolor": "white",
            "linecolor": "white",
            "ticks": ""
           },
           "bgcolor": "#E5ECF6",
           "caxis": {
            "gridcolor": "white",
            "linecolor": "white",
            "ticks": ""
           }
          },
          "title": {
           "x": 0.05
          },
          "xaxis": {
           "automargin": true,
           "gridcolor": "white",
           "linecolor": "white",
           "ticks": "",
           "title": {
            "standoff": 15
           },
           "zerolinecolor": "white",
           "zerolinewidth": 2
          },
          "yaxis": {
           "automargin": true,
           "gridcolor": "white",
           "linecolor": "white",
           "ticks": "",
           "title": {
            "standoff": 15
           },
           "zerolinecolor": "white",
           "zerolinewidth": 2
          }
         }
        },
        "title": {
         "font": {
          "color": "white"
         },
         "text": "        Monthly temperature distribution"
        },
        "xaxis": {
         "anchor": "y",
         "color": "white",
         "domain": [
          0,
          1
         ],
         "title": {
          "text": "Month"
         }
        },
        "yaxis": {
         "anchor": "x",
         "color": "white",
         "domain": [
          0,
          1
         ],
         "gridcolor": "rgba(255, 255, 255, 0.4)",
         "title": {
          "text": "Humidity (%)"
         }
        }
       }
      }
     },
     "metadata": {},
     "output_type": "display_data"
    }
   ],
   "source": [
    "df[\"month_name\"] = df['month'].map(meses)\n",
    "fig = px.box(df, x='month_name', y='hum',\n",
    "                     title=f'        Monthly temperature distribution')\n",
    "    \n",
    "fig.update_layout(\n",
    "    plot_bgcolor='rgba(0, 0, 0, 0)',\n",
    "    paper_bgcolor='rgba(0, 0, 0, 0)',\n",
    "    font=dict(color='white'),\n",
    "    title_font=dict(color='white'),\n",
    "    legend=dict(font=dict(color='white')),\n",
    "    xaxis=dict(title='Month', color='white'),\n",
    "    yaxis=dict(title='Humidity (%)', color='white', gridcolor='rgba(255, 255, 255, 0.4)'),\n",
    "    autosize=True,\n",
    "    margin=dict(l=20, r=20, t=40, b=40)\n",
    "    )\n",
    "fig.show()"
   ]
  },
  {
   "cell_type": "markdown",
   "id": "474b4c6c",
   "metadata": {},
   "source": [
    "This variable is particularly difficult to identify because, as it is located in a very humid area, it also lacks significant variability. The data is sorted by AVG/MAX/MIN as follows\n",
    "\n",
    "**BY AVG: December > October > November > January > September > February > June > March > July > August > May > April**\n",
    "\n",
    "**BY MAX: 100% ALL**\n",
    "\n",
    "**BY MIN: January > July > June > December > November > August > September > February > May > April > October > March**\n",
    "  \n",
    "It is true that the autumn and winter months tend to have higher average humidity levels, but while the lowest levels are in April, just as the season is changing, this phenomenon is similar to the amount of rainfall and number of rainy days in this same month, which also has one of the lowest levels. The data frames confirmed this data, as all the highs are at 100% humidity, and the low is in March (30%), which is an anomalous value within its distribution. "
   ]
  },
  {
   "cell_type": "markdown",
   "id": "7bbf49f4",
   "metadata": {},
   "source": [
    "## Precipitation vs Temperature vs Humidity"
   ]
  },
  {
   "cell_type": "code",
   "execution_count": 27,
   "id": "cc7c9a16",
   "metadata": {},
   "outputs": [],
   "source": [
    "df3 = df.drop([\"month\", \"month_name\", \"city\"], axis=1)\n",
    "df3 = df3.groupby(\"date\").mean().reset_index()"
   ]
  },
  {
   "cell_type": "code",
   "execution_count": 28,
   "id": "0d4446fa",
   "metadata": {},
   "outputs": [
    {
     "data": {
      "image/png": "[encoded data removed]",
      "text/plain": [
       "<Figure size 600x500 with 2 Axes>"
      ]
     },
     "metadata": {},
     "output_type": "display_data"
    }
   ],
   "source": [
    "# Calcular matriz de correlación\n",
    "corr = df3[['prep', 'hum', 'temp']].corr()\n",
    "\n",
    "# Crear el heatmap\n",
    "plt.figure(figsize=(6, 5))\n",
    "sns.heatmap(corr, annot=True, cmap='coolwarm', vmin=-1, vmax=1, linewidths=0.5)\n",
    "plt.title('Correlación entre variables climáticas')\n",
    "plt.show()"
   ]
  },
  {
   "cell_type": "markdown",
   "id": "6a17f3ea",
   "metadata": {},
   "source": [
    "If you look at this graph, we can only consider the relationship between humidity and precipitation to be important, since the other two are very close to zero with precipitation. This means that temperature is not linked to either; that is, it can be very hot and rain, or very cold and rain, or the opposite, since they are basically independent variables. On the other hand, the strongest relationship is between humidity and precipitation, reaching over 0.4 on the Pearson coefficient, something worth taking into account, so that will be the next step to consider.  \n",
    "### Precipitation vs Humidity"
   ]
  },
  {
   "cell_type": "code",
   "execution_count": 29,
   "id": "e813e299",
   "metadata": {},
   "outputs": [
    {
     "data": {
      "image/png": "[encoded data removed]",
      "text/plain": [
       "<Figure size 800x600 with 1 Axes>"
      ]
     },
     "metadata": {},
     "output_type": "display_data"
    }
   ],
   "source": [
    "plt.figure(figsize=(8, 6))\n",
    "sns.regplot(data=df3, x='hum', y='prep', scatter_kws={'alpha': 0.6}, line_kws={'color': 'red'})\n",
    "plt.title('Relación entre Humedad y Precipitación con línea de tendencia')\n",
    "plt.xlabel('Humedad (%)')\n",
    "plt.ylabel('Precipitación (mm)')\n",
    "plt.grid(True)\n",
    "plt.tight_layout()\n",
    "plt.show()"
   ]
  },
  {
   "cell_type": "markdown",
   "id": "16939f4f",
   "metadata": {},
   "source": [
    "It can be observed that when humidity is low, the probability of precipitation is practically zero. This makes sense from a physical perspective, since rain requires a minimum amount of water vapor in the air for clouds capable of condensing and precipitating to form.  \n",
    "\n",
    "However, high humidity does not guarantee the occurrence of rain, which explains why the relationship between the two variables is not strong across the entire range. Still, there is a clear connection: the presence of clouds, which is usually associated with high humidity values, increases the probability of rain. Therefore, although the relationship is neither linear nor deterministic, it can be stated that there is a partial dependence between humidity and precipitation."
   ]
  },
  {
   "cell_type": "code",
   "execution_count": null,
   "id": "394ff7b8",
   "metadata": {},
   "outputs": [
    {
     "data": {
      "image/png": "[encoded data removed]",
      "text/plain": [
       "<Figure size 800x600 with 1 Axes>"
      ]
     },
     "metadata": {},
     "output_type": "display_data"
    }
   ],
   "source": [
    "plt.figure(figsize=(8, 6))\n",
    "sns.regplot(data=df3, x='hum', y='prep', \n",
    "            scatter_kws={'alpha': 0.4}, \n",
    "            line_kws={'color': 'red'}, \n",
    "            lowess=True)\n",
    "plt.yscale('log')\n",
    "plt.title('Relación suavizada: Humedad vs Precipitación')\n",
    "plt.grid(True)\n",
    "plt.tight_layout()\n",
    "plt.show()\n"
   ]
  },
  {
   "cell_type": "markdown",
   "id": "189884b2",
   "metadata": {},
   "source": [
    "This graph uses the logarithm of the variable Precipitation. It's worth noting that the logarithm of 0 is undefined, so days without rain (0 L/m²) are NOT PRESENTED IN THE GRAPH.\n",
    "This is extremely useful, as it allows us to observe that most precipitation values occur after a 70% humidity level. Therefore, we can conclude that high humidity and rainfall are related. This likely stems from the need for clouds for the growth of both variables, both for the increase in humidity and for the presence of rain."
   ]
  },
  {
   "cell_type": "markdown",
   "id": "d5a4c867",
   "metadata": {},
   "source": [
    "## Conclusions\n",
    "- **Santiago de Compostela** is the city with the highest average rainfall and the highest number of rainy days.\n",
    "- Month with the most rain: **October**.\n",
    "- Months usually have between 11 and 22 rainy days, that is, at least one third (1/3) of the month it rains and at most two thirds (2/3).  \n",
    "- Galicia have 203 days with rain per year, this is the 56% of the year.\n",
    "- Cities by average temperature: **Vigo > Pontevedra > Coruña > Ourense > Santiago de Compostela > Lugo**.\n",
    "- City with the highest peak temperature Temperature: **Ourense**.\n",
    "- City with the lowest peak temperature: **Lugo**.\n",
    "- Months of the year by average temperature: **August > July > June > September > October > May > April > November > March > February > December > January**.\n",
    "- Month with the highest peak temperature: **August**.\n",
    "- Month with the lowest peak temperature: **December**.  \n",
    "- **Vigo** is the city with the most stable climate (smallest range of variation).\n",
    "- **Ourense** is the city with the most extreme climate (greatest range of variation).  \n",
    "\n",
    "- The wettest city in Galicia is **A Coruña**, followed by **Lugo**. However, A Coruña has the greatest range of variation, and Lugo the least.  \n",
    "- The wettest months are Winter and Autumn, with **December** being the wettest.\n",
    "- Precipitation and humidity have a Pearson coefficient of 0.42."
   ]
  },
  {
   "cell_type": "markdown",
   "id": "3527241e",
   "metadata": {},
   "source": [
    "## Share  \n",
    "To share these findings and metrics, a Streamlit page was created: [Morriña en Galicia (Galizia Weather)](https://galiziaweather.streamlit.app)  \n",
    "Where the report for all of Galicia can be divided into different graphs and explanations, covering each variable separately and with small general observations that are repeated throughout the variables. A comprehensive section is needed to add to this, where one variable can be related to another and their relationship seen.\n",
    "One of the most important findings is that, based on climate, the best city to live in is Vigo, as it has a smaller range of temperature variation, is one of the cities with the fewest rainy days, and is not one of the most humid cities. This latter aspect is a problem throughout Galicia, as all cities are humid."
   ]
  },
  {
   "cell_type": "markdown",
   "id": "a46a0863",
   "metadata": {},
   "source": [
    "## Next Steps  \n",
    "- It would be very interesting to see some of these cities compared to others with a different distribution, since, since these are all in Galicia, their behavior is somewhat \"similar.\" While comparing them with Madrid, which is more continental, or Barcelona, ​​which faces the coast but is a sea, not an ocean, the differences will surely be greater. So, for a next step, adding these two cities would be very valuable.\n",
    "- On the other hand, when we're talking about climate, it's impossible not to think about creating a predictive model, so something of great interest for this would be to generate a model based on the collected climate data."
   ]
  }
 ],
 "metadata": {
  "kernelspec": {
   "display_name": "Python 3",
   "language": "python",
   "name": "python3"
  },
  "language_info": {
   "codemirror_mode": {
    "name": "ipython",
    "version": 3
   },
   "file_extension": ".py",
   "mimetype": "text/x-python",
   "name": "python",
   "nbconvert_exporter": "python",
   "pygments_lexer": "ipython3",
   "version": "3.11.9"
  }
 },
 "nbformat": 4,
 "nbformat_minor": 5
}
